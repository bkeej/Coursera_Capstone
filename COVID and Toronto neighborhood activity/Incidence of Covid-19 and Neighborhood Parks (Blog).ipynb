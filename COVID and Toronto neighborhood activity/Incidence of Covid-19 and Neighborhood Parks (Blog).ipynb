{
 "cells": [
  {
   "cell_type": "markdown",
   "metadata": {},
   "source": [
    "# Incidence of COVID-19 and Neighborhood Parks in Toronto\n",
    "\n",
    "The world is currently in the grip of a global pandemic of SARS-CoV-2. Countries, and public health departments in particular, have been fairly open about infection data in order to give the public the information necessary to make behavioral choices to protect themselves and their communities. One question community members (and health department officials, as well) may have is whether parks are dangerous. That is, do parks increase the amount of COVID-19 in a neighborhood? We show, using Foursquare API data that, no, **neighborhoods with more easily accessible parks do not show increased SARS-CoV2 transmission.**\n",
    "\n",
    "The Public Health Department in the city of Toronto gives fairly robust data on the number of COVID-19 cases by neighborhood (see https://www.toronto.ca/home/covid-19/covid-19-latest-city-of-toronto-news/covid-19-status-of-cases-in-toronto/). We grabbed that data and queried the Foursquare API to retrieve the number of parks within 2000m (walking distance) of the center of each neighborhood. Below you see a map of the neighborhoods considered in this study.\n",
    "\n",
    "![Toronto Neighborhoods Included in Study](toronto_data.png \"Toronto Neighborhoods Included in Study\")\n",
    "\n",
    "We plotted of case counts by number of walkable parks. \n",
    "\n",
    "![COVID Case Counts by Walkable Parks](case_count_parks.png \"COVID Case Counts by Walkable Parks\")\n",
    "\n",
    "We see there is not clearly a positive relationship. To sharpen our understand of this data we fit a variety of models. Our best fits a 3rd-degree polynomial to the data. The r-squared is .35. This is low, but, we don't actually expect parks to be a predictor of most of the variance in COVID-19 cases between neighborhoods. If we had found a super high r-squared we might have been suspicious. Most importantly for the question at hand, we found some predictive value and that correlation is not positive.\n",
    "\n",
    "![3rd Degree Polynomial](3degree_poly.png \"3rd Degree Polynomial Predicting COVID-19 Case Count by Number of Accessible Parks\")\n",
    "\n",
    "Finally, we give the residual plot below, which looks reasonable and support the polynomial assumption over the residual plot for a linear model.\n",
    "\n",
    "![3rd Degree Polynomial Residuals](3_degree_res.png \"Residual Plot for Polynomial Model\")\n",
    "\n",
    "In conclusion, we have no evidence that parks are particularly dangerous. We do not see a positive correlation between COVID case counts and the number of parks in a neighborhood. There is definitely more work to do, though. First, while the lack of a positive correlation between parks and COVID is reassuring, we might wonder what accounts for the negative correlation we see? That is, why does access to parks appear to lower the amount of COVID-19 in a community? There are a couple of hypotheses that immediately come to mind. First, neighborhoods with lots of parks are often desirable places to live, and so more expensive. We could be seeing an effect of wealth, that is richer people are less likely to contract COVID, and they live near parks. At the tail end, where there are many accessible parks and very low COVID incidence, we could be seeing the effect of density. That is, if there are so many parks nearby perhaps there just aren't that many people who permanently live in the neighborhood, and so not that many people to get ill. Teasing apart these confounds will require more data for controls, but we can at least say at this point that access to parks is not causing such an increase in COVID cases that it is overwhelming other sources of variance."
   ]
  }
 ],
 "metadata": {
  "kernelspec": {
   "display_name": "Python 3",
   "language": "python",
   "name": "python3"
  },
  "language_info": {
   "codemirror_mode": {
    "name": "ipython",
    "version": 3
   },
   "file_extension": ".py",
   "mimetype": "text/x-python",
   "name": "python",
   "nbconvert_exporter": "python",
   "pygments_lexer": "ipython3",
   "version": "3.7.4"
  }
 },
 "nbformat": 4,
 "nbformat_minor": 4
}
