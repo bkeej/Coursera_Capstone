{
 "cells": [
  {
   "cell_type": "markdown",
   "metadata": {},
   "source": [
    "# Incidence of Covid-19 and Neighborhood Parks\n",
    "\n",
    "The world is currently in the grip of a global pandemic of SARS-CoV-2. Countries, and public health departments in particular, have been fairly open about infection data in order to give the public the information necessary to make behavioral choices to protect themselves and their communities. One question community members (and health department officials, as well) may have is whether parks are dangerous. That is, do parks increase the amount of COVID-19 in a neighborhood. The proposed project will explore this question using location-tagged COVID-19 infection data paired with Foursquare trending venue data. We ask, is the level of COVID-19 infection in a neighborhood correlated with the kinds of activity available in that neighborhood? \n",
    "\n",
    "For instance, if we find the number of parks in walking distance of a neighborhood increases the amount of COVID-19 cases, we evidence (though not proof!) for some causal link, and perhaps health officials and community members should take a further look at parks a vector for disease.\n",
    "\n",
    "The results of this study will help public health stakeholders calibrate their public stances. For instance, if we find a positive or no correlation, the public health department may choose to take specific interventions (e.g., increased targeted advertising) so that the residents are aware of the heighten risk in their neighborhood. If we find a negative correlation because COVID-19 case count and activity, then stakeholders will know that the current strategy is currently working, and for instance, certain restrictions could be relaxed---e.g., lessening restrictions on park access.\n",
    "\n",
    "\n",
    "## Introducing the data\n",
    "\n",
    "We will explore the incidence of COVID-19 and the accessibility of parks in the city of Toronto. The Toronto public health department publishes comprehensive data about COVID-19, including data about number of positive cases by neighborhood (see https://www.toronto.ca/home/covid-19/covid-19-latest-city-of-toronto-news/covid-19-status-of-cases-in-toronto/). We will be able to take the raw COVID-19 cases by neighborhood data and pair it with venue data using the Foursquare API (documented here: https://developer.foursquare.com/docs/api-reference/venues/trending). We can then ask a variety of questions that will get at the larger question at hand, for instance, is the number of parks with walking distance of a neighborhood predictive of the prevalence of COVID-19 in that neighborhood."
   ]
  },
  {
   "cell_type": "markdown",
   "metadata": {},
   "source": [
    "### Constructing a Toronto case count dataset\n",
    "We retrieved the COVID-19 case count by neighborhood data for the day of June 5th, 2020, which we show below. We need to add geospatial data to this set, which is what we will do in this section. For readers no interested in the process of data construction, skip to end of the section to see the resulting dataset."
   ]
  },
  {
   "cell_type": "code",
   "execution_count": 18,
   "metadata": {},
   "outputs": [
    {
     "data": {
      "text/html": [
       "<div>\n",
       "<style scoped>\n",
       "    .dataframe tbody tr th:only-of-type {\n",
       "        vertical-align: middle;\n",
       "    }\n",
       "\n",
       "    .dataframe tbody tr th {\n",
       "        vertical-align: top;\n",
       "    }\n",
       "\n",
       "    .dataframe thead th {\n",
       "        text-align: right;\n",
       "    }\n",
       "</style>\n",
       "<table border=\"1\" class=\"dataframe\">\n",
       "  <thead>\n",
       "    <tr style=\"text-align: right;\">\n",
       "      <th></th>\n",
       "      <th>Neighbourhood Name</th>\n",
       "      <th>Case Count</th>\n",
       "    </tr>\n",
       "  </thead>\n",
       "  <tbody>\n",
       "    <tr>\n",
       "      <th>0</th>\n",
       "      <td>Yorkdale-Glen Park</td>\n",
       "      <td>120</td>\n",
       "    </tr>\n",
       "    <tr>\n",
       "      <th>1</th>\n",
       "      <td>York University Heights</td>\n",
       "      <td>286</td>\n",
       "    </tr>\n",
       "    <tr>\n",
       "      <th>2</th>\n",
       "      <td>Yonge-St.Clair</td>\n",
       "      <td>19</td>\n",
       "    </tr>\n",
       "    <tr>\n",
       "      <th>3</th>\n",
       "      <td>Yonge-Eglinton</td>\n",
       "      <td>12</td>\n",
       "    </tr>\n",
       "    <tr>\n",
       "      <th>4</th>\n",
       "      <td>Wychwood</td>\n",
       "      <td>68</td>\n",
       "    </tr>\n",
       "    <tr>\n",
       "      <th>5</th>\n",
       "      <td>Woodbine-Lumsden</td>\n",
       "      <td>19</td>\n",
       "    </tr>\n",
       "    <tr>\n",
       "      <th>6</th>\n",
       "      <td>Woodbine Corridor</td>\n",
       "      <td>17</td>\n",
       "    </tr>\n",
       "    <tr>\n",
       "      <th>7</th>\n",
       "      <td>Woburn</td>\n",
       "      <td>231</td>\n",
       "    </tr>\n",
       "    <tr>\n",
       "      <th>8</th>\n",
       "      <td>Willowridge-Martingrove-Richview</td>\n",
       "      <td>61</td>\n",
       "    </tr>\n",
       "    <tr>\n",
       "      <th>9</th>\n",
       "      <td>Willowdale West</td>\n",
       "      <td>35</td>\n",
       "    </tr>\n",
       "    <tr>\n",
       "      <th>10</th>\n",
       "      <td>Willowdale East</td>\n",
       "      <td>54</td>\n",
       "    </tr>\n",
       "    <tr>\n",
       "      <th>11</th>\n",
       "      <td>Wexford/Maryvale</td>\n",
       "      <td>58</td>\n",
       "    </tr>\n",
       "    <tr>\n",
       "      <th>12</th>\n",
       "      <td>Weston-Pellam Park</td>\n",
       "      <td>20</td>\n",
       "    </tr>\n",
       "    <tr>\n",
       "      <th>13</th>\n",
       "      <td>Weston</td>\n",
       "      <td>205</td>\n",
       "    </tr>\n",
       "    <tr>\n",
       "      <th>14</th>\n",
       "      <td>Westminster-Branson</td>\n",
       "      <td>141</td>\n",
       "    </tr>\n",
       "    <tr>\n",
       "      <th>15</th>\n",
       "      <td>West Humber-Clairville</td>\n",
       "      <td>306</td>\n",
       "    </tr>\n",
       "    <tr>\n",
       "      <th>16</th>\n",
       "      <td>West Hill</td>\n",
       "      <td>87</td>\n",
       "    </tr>\n",
       "    <tr>\n",
       "      <th>17</th>\n",
       "      <td>Waterfront Communities-The Island</td>\n",
       "      <td>110</td>\n",
       "    </tr>\n",
       "    <tr>\n",
       "      <th>18</th>\n",
       "      <td>Victoria Village</td>\n",
       "      <td>37</td>\n",
       "    </tr>\n",
       "    <tr>\n",
       "      <th>19</th>\n",
       "      <td>University</td>\n",
       "      <td>19</td>\n",
       "    </tr>\n",
       "  </tbody>\n",
       "</table>\n",
       "</div>"
      ],
      "text/plain": [
       "                   Neighbourhood Name  Case Count\n",
       "0                  Yorkdale-Glen Park         120\n",
       "1             York University Heights         286\n",
       "2                      Yonge-St.Clair          19\n",
       "3                      Yonge-Eglinton          12\n",
       "4                            Wychwood          68\n",
       "5                    Woodbine-Lumsden          19\n",
       "6                   Woodbine Corridor          17\n",
       "7                              Woburn         231\n",
       "8    Willowridge-Martingrove-Richview          61\n",
       "9                     Willowdale West          35\n",
       "10                    Willowdale East          54\n",
       "11                   Wexford/Maryvale          58\n",
       "12                 Weston-Pellam Park          20\n",
       "13                             Weston         205\n",
       "14                Westminster-Branson         141\n",
       "15             West Humber-Clairville         306\n",
       "16                          West Hill          87\n",
       "17  Waterfront Communities-The Island         110\n",
       "18                   Victoria Village          37\n",
       "19                         University          19"
      ]
     },
     "execution_count": 18,
     "metadata": {},
     "output_type": "execute_result"
    }
   ],
   "source": [
    "import pandas as pd\n",
    "\n",
    "covid_df = pd.read_csv('toronto_covid_by_neighborhood_6-5-20.csv')\n",
    "covid_df.head(20)"
   ]
  },
  {
   "cell_type": "markdown",
   "metadata": {},
   "source": [
    "We need to pair these data with geospatial coordinates in order to query the Foursquare API. To do this, we start by scraping Wikipedia for the postal codes of each borough and neighborhood, and then crossreferencing the postal codes with a CSV of postal code coordinates."
   ]
  },
  {
   "cell_type": "code",
   "execution_count": 19,
   "metadata": {},
   "outputs": [
    {
     "data": {
      "text/html": [
       "<div>\n",
       "<style scoped>\n",
       "    .dataframe tbody tr th:only-of-type {\n",
       "        vertical-align: middle;\n",
       "    }\n",
       "\n",
       "    .dataframe tbody tr th {\n",
       "        vertical-align: top;\n",
       "    }\n",
       "\n",
       "    .dataframe thead th {\n",
       "        text-align: right;\n",
       "    }\n",
       "</style>\n",
       "<table border=\"1\" class=\"dataframe\">\n",
       "  <thead>\n",
       "    <tr style=\"text-align: right;\">\n",
       "      <th></th>\n",
       "      <th>Postal Code</th>\n",
       "      <th>Borough</th>\n",
       "      <th>Neighborhood</th>\n",
       "    </tr>\n",
       "  </thead>\n",
       "  <tbody>\n",
       "    <tr>\n",
       "      <th>0</th>\n",
       "      <td>M1A</td>\n",
       "      <td>Not assigned</td>\n",
       "      <td>Not assigned</td>\n",
       "    </tr>\n",
       "    <tr>\n",
       "      <th>1</th>\n",
       "      <td>M2A</td>\n",
       "      <td>Not assigned</td>\n",
       "      <td>Not assigned</td>\n",
       "    </tr>\n",
       "    <tr>\n",
       "      <th>2</th>\n",
       "      <td>M3A</td>\n",
       "      <td>North York</td>\n",
       "      <td>Parkwoods</td>\n",
       "    </tr>\n",
       "    <tr>\n",
       "      <th>3</th>\n",
       "      <td>M4A</td>\n",
       "      <td>North York</td>\n",
       "      <td>Victoria Village</td>\n",
       "    </tr>\n",
       "    <tr>\n",
       "      <th>4</th>\n",
       "      <td>M5A</td>\n",
       "      <td>Downtown Toronto</td>\n",
       "      <td>Regent Park, Harbourfront</td>\n",
       "    </tr>\n",
       "  </tbody>\n",
       "</table>\n",
       "</div>"
      ],
      "text/plain": [
       "  Postal Code           Borough               Neighborhood\n",
       "0         M1A      Not assigned               Not assigned\n",
       "1         M2A      Not assigned               Not assigned\n",
       "2         M3A        North York                  Parkwoods\n",
       "3         M4A        North York           Victoria Village\n",
       "4         M5A  Downtown Toronto  Regent Park, Harbourfront"
      ]
     },
     "execution_count": 19,
     "metadata": {},
     "output_type": "execute_result"
    }
   ],
   "source": [
    "dfs = pd.read_html('https://en.wikipedia.org/wiki/List_of_postal_codes_of_Canada:_M')\n",
    "df = dfs[0]\n",
    "df.head()"
   ]
  },
  {
   "cell_type": "markdown",
   "metadata": {},
   "source": [
    "We have to do a bit of cleaning the data in order to join our these data with our COVID neighborhood data."
   ]
  },
  {
   "cell_type": "code",
   "execution_count": 20,
   "metadata": {},
   "outputs": [],
   "source": [
    "# Toss rows with unassigned Borough\n",
    "df = df[df.Borough != 'Not assigned']\n",
    "\n",
    "# Explode df so that Neighborhoods under the same postal code get their own row.\n",
    "\n",
    "df = df.assign(Neighborhood=df.Neighborhood.str.split(',')).explode('Neighborhood')"
   ]
  },
  {
   "cell_type": "code",
   "execution_count": 21,
   "metadata": {},
   "outputs": [],
   "source": [
    "# Join covid data frame and our neighborhood data on Neighborhood\n",
    "covid_df.rename(columns={\"Neighbourhood Name\":\"Neighborhood\"}, inplace=True)\n",
    "\n",
    "df = df.join(covid_df.set_index('Neighborhood'), on='Neighborhood')"
   ]
  },
  {
   "cell_type": "code",
   "execution_count": 22,
   "metadata": {},
   "outputs": [
    {
     "data": {
      "text/html": [
       "<div>\n",
       "<style scoped>\n",
       "    .dataframe tbody tr th:only-of-type {\n",
       "        vertical-align: middle;\n",
       "    }\n",
       "\n",
       "    .dataframe tbody tr th {\n",
       "        vertical-align: top;\n",
       "    }\n",
       "\n",
       "    .dataframe thead th {\n",
       "        text-align: right;\n",
       "    }\n",
       "</style>\n",
       "<table border=\"1\" class=\"dataframe\">\n",
       "  <thead>\n",
       "    <tr style=\"text-align: right;\">\n",
       "      <th></th>\n",
       "      <th>Postal Code</th>\n",
       "      <th>Borough</th>\n",
       "      <th>Neighborhood</th>\n",
       "      <th>Case Count</th>\n",
       "    </tr>\n",
       "  </thead>\n",
       "  <tbody>\n",
       "    <tr>\n",
       "      <th>3</th>\n",
       "      <td>M4A</td>\n",
       "      <td>North York</td>\n",
       "      <td>Victoria Village</td>\n",
       "      <td>37.0</td>\n",
       "    </tr>\n",
       "    <tr>\n",
       "      <th>4</th>\n",
       "      <td>M5A</td>\n",
       "      <td>Downtown Toronto</td>\n",
       "      <td>Regent Park</td>\n",
       "      <td>23.0</td>\n",
       "    </tr>\n",
       "    <tr>\n",
       "      <th>9</th>\n",
       "      <td>M1B</td>\n",
       "      <td>Scarborough</td>\n",
       "      <td>Malvern</td>\n",
       "      <td>158.0</td>\n",
       "    </tr>\n",
       "    <tr>\n",
       "      <th>23</th>\n",
       "      <td>M6C</td>\n",
       "      <td>York</td>\n",
       "      <td>Humewood-Cedarvale</td>\n",
       "      <td>20.0</td>\n",
       "    </tr>\n",
       "    <tr>\n",
       "      <th>27</th>\n",
       "      <td>M1E</td>\n",
       "      <td>Scarborough</td>\n",
       "      <td>Guildwood</td>\n",
       "      <td>101.0</td>\n",
       "    </tr>\n",
       "  </tbody>\n",
       "</table>\n",
       "</div>"
      ],
      "text/plain": [
       "   Postal Code           Borough        Neighborhood  Case Count\n",
       "3          M4A        North York    Victoria Village        37.0\n",
       "4          M5A  Downtown Toronto         Regent Park        23.0\n",
       "9          M1B       Scarborough             Malvern       158.0\n",
       "23         M6C              York  Humewood-Cedarvale        20.0\n",
       "27         M1E       Scarborough           Guildwood       101.0"
      ]
     },
     "execution_count": 22,
     "metadata": {},
     "output_type": "execute_result"
    }
   ],
   "source": [
    "df = df.dropna()\n",
    "df.head()"
   ]
  },
  {
   "cell_type": "markdown",
   "metadata": {},
   "source": [
    "We combine our case count data by neighborhood with spatial coordinates, which will allow us to plot our data and crossreference different kinds of venues on Foursquare."
   ]
  },
  {
   "cell_type": "code",
   "execution_count": 23,
   "metadata": {},
   "outputs": [],
   "source": [
    "df2 = pd.read_csv(\"Geospatial_Coordinates.csv\")"
   ]
  },
  {
   "cell_type": "code",
   "execution_count": 24,
   "metadata": {},
   "outputs": [
    {
     "data": {
      "text/html": [
       "<div>\n",
       "<style scoped>\n",
       "    .dataframe tbody tr th:only-of-type {\n",
       "        vertical-align: middle;\n",
       "    }\n",
       "\n",
       "    .dataframe tbody tr th {\n",
       "        vertical-align: top;\n",
       "    }\n",
       "\n",
       "    .dataframe thead th {\n",
       "        text-align: right;\n",
       "    }\n",
       "</style>\n",
       "<table border=\"1\" class=\"dataframe\">\n",
       "  <thead>\n",
       "    <tr style=\"text-align: right;\">\n",
       "      <th></th>\n",
       "      <th>Postal Code</th>\n",
       "      <th>Borough</th>\n",
       "      <th>Neighborhood</th>\n",
       "      <th>Case Count</th>\n",
       "      <th>Latitude</th>\n",
       "      <th>Longitude</th>\n",
       "    </tr>\n",
       "  </thead>\n",
       "  <tbody>\n",
       "    <tr>\n",
       "      <th>3</th>\n",
       "      <td>M4A</td>\n",
       "      <td>North York</td>\n",
       "      <td>Victoria Village</td>\n",
       "      <td>37.0</td>\n",
       "      <td>43.725882</td>\n",
       "      <td>-79.315572</td>\n",
       "    </tr>\n",
       "    <tr>\n",
       "      <th>4</th>\n",
       "      <td>M5A</td>\n",
       "      <td>Downtown Toronto</td>\n",
       "      <td>Regent Park</td>\n",
       "      <td>23.0</td>\n",
       "      <td>43.654260</td>\n",
       "      <td>-79.360636</td>\n",
       "    </tr>\n",
       "    <tr>\n",
       "      <th>9</th>\n",
       "      <td>M1B</td>\n",
       "      <td>Scarborough</td>\n",
       "      <td>Malvern</td>\n",
       "      <td>158.0</td>\n",
       "      <td>43.806686</td>\n",
       "      <td>-79.194353</td>\n",
       "    </tr>\n",
       "    <tr>\n",
       "      <th>23</th>\n",
       "      <td>M6C</td>\n",
       "      <td>York</td>\n",
       "      <td>Humewood-Cedarvale</td>\n",
       "      <td>20.0</td>\n",
       "      <td>43.693781</td>\n",
       "      <td>-79.428191</td>\n",
       "    </tr>\n",
       "    <tr>\n",
       "      <th>27</th>\n",
       "      <td>M1E</td>\n",
       "      <td>Scarborough</td>\n",
       "      <td>Guildwood</td>\n",
       "      <td>101.0</td>\n",
       "      <td>43.763573</td>\n",
       "      <td>-79.188711</td>\n",
       "    </tr>\n",
       "    <tr>\n",
       "      <th>30</th>\n",
       "      <td>M4E</td>\n",
       "      <td>East Toronto</td>\n",
       "      <td>The Beaches</td>\n",
       "      <td>13.0</td>\n",
       "      <td>43.676357</td>\n",
       "      <td>-79.293031</td>\n",
       "    </tr>\n",
       "    <tr>\n",
       "      <th>36</th>\n",
       "      <td>M1G</td>\n",
       "      <td>Scarborough</td>\n",
       "      <td>Woburn</td>\n",
       "      <td>231.0</td>\n",
       "      <td>43.770992</td>\n",
       "      <td>-79.216917</td>\n",
       "    </tr>\n",
       "    <tr>\n",
       "      <th>46</th>\n",
       "      <td>M2H</td>\n",
       "      <td>North York</td>\n",
       "      <td>Hillcrest Village</td>\n",
       "      <td>58.0</td>\n",
       "      <td>43.803762</td>\n",
       "      <td>-79.363452</td>\n",
       "    </tr>\n",
       "    <tr>\n",
       "      <th>47</th>\n",
       "      <td>M3H</td>\n",
       "      <td>North York</td>\n",
       "      <td>Bathurst Manor</td>\n",
       "      <td>98.0</td>\n",
       "      <td>43.754328</td>\n",
       "      <td>-79.442259</td>\n",
       "    </tr>\n",
       "    <tr>\n",
       "      <th>48</th>\n",
       "      <td>M4H</td>\n",
       "      <td>East York</td>\n",
       "      <td>Thorncliffe Park</td>\n",
       "      <td>85.0</td>\n",
       "      <td>43.705369</td>\n",
       "      <td>-79.349372</td>\n",
       "    </tr>\n",
       "    <tr>\n",
       "      <th>54</th>\n",
       "      <td>M1J</td>\n",
       "      <td>Scarborough</td>\n",
       "      <td>Scarborough Village</td>\n",
       "      <td>92.0</td>\n",
       "      <td>43.744734</td>\n",
       "      <td>-79.239476</td>\n",
       "    </tr>\n",
       "    <tr>\n",
       "      <th>59</th>\n",
       "      <td>M6J</td>\n",
       "      <td>West Toronto</td>\n",
       "      <td>Little Portugal</td>\n",
       "      <td>30.0</td>\n",
       "      <td>43.647927</td>\n",
       "      <td>-79.419750</td>\n",
       "    </tr>\n",
       "    <tr>\n",
       "      <th>63</th>\n",
       "      <td>M1K</td>\n",
       "      <td>Scarborough</td>\n",
       "      <td>Kennedy Park</td>\n",
       "      <td>73.0</td>\n",
       "      <td>43.727929</td>\n",
       "      <td>-79.262029</td>\n",
       "    </tr>\n",
       "    <tr>\n",
       "      <th>64</th>\n",
       "      <td>M2K</td>\n",
       "      <td>North York</td>\n",
       "      <td>Bayview Village</td>\n",
       "      <td>24.0</td>\n",
       "      <td>43.786947</td>\n",
       "      <td>-79.385975</td>\n",
       "    </tr>\n",
       "    <tr>\n",
       "      <th>80</th>\n",
       "      <td>M9L</td>\n",
       "      <td>North York</td>\n",
       "      <td>Humber Summit</td>\n",
       "      <td>89.0</td>\n",
       "      <td>43.756303</td>\n",
       "      <td>-79.565963</td>\n",
       "    </tr>\n",
       "    <tr>\n",
       "      <th>98</th>\n",
       "      <td>M9N</td>\n",
       "      <td>York</td>\n",
       "      <td>Weston</td>\n",
       "      <td>205.0</td>\n",
       "      <td>43.706876</td>\n",
       "      <td>-79.518188</td>\n",
       "    </tr>\n",
       "    <tr>\n",
       "      <th>99</th>\n",
       "      <td>M1P</td>\n",
       "      <td>Scarborough</td>\n",
       "      <td>Dorset Park</td>\n",
       "      <td>107.0</td>\n",
       "      <td>43.757410</td>\n",
       "      <td>-79.273304</td>\n",
       "    </tr>\n",
       "    <tr>\n",
       "      <th>135</th>\n",
       "      <td>M1V</td>\n",
       "      <td>Scarborough</td>\n",
       "      <td>Milliken</td>\n",
       "      <td>24.0</td>\n",
       "      <td>43.815252</td>\n",
       "      <td>-79.284577</td>\n",
       "    </tr>\n",
       "    <tr>\n",
       "      <th>142</th>\n",
       "      <td>M8V</td>\n",
       "      <td>Etobicoke</td>\n",
       "      <td>New Toronto</td>\n",
       "      <td>69.0</td>\n",
       "      <td>43.605647</td>\n",
       "      <td>-79.501321</td>\n",
       "    </tr>\n",
       "    <tr>\n",
       "      <th>151</th>\n",
       "      <td>M8W</td>\n",
       "      <td>Etobicoke</td>\n",
       "      <td>Alderwood</td>\n",
       "      <td>32.0</td>\n",
       "      <td>43.602414</td>\n",
       "      <td>-79.543484</td>\n",
       "    </tr>\n",
       "  </tbody>\n",
       "</table>\n",
       "</div>"
      ],
      "text/plain": [
       "    Postal Code           Borough         Neighborhood  Case Count   Latitude  \\\n",
       "3           M4A        North York     Victoria Village        37.0  43.725882   \n",
       "4           M5A  Downtown Toronto          Regent Park        23.0  43.654260   \n",
       "9           M1B       Scarborough              Malvern       158.0  43.806686   \n",
       "23          M6C              York   Humewood-Cedarvale        20.0  43.693781   \n",
       "27          M1E       Scarborough            Guildwood       101.0  43.763573   \n",
       "30          M4E      East Toronto          The Beaches        13.0  43.676357   \n",
       "36          M1G       Scarborough               Woburn       231.0  43.770992   \n",
       "46          M2H        North York    Hillcrest Village        58.0  43.803762   \n",
       "47          M3H        North York       Bathurst Manor        98.0  43.754328   \n",
       "48          M4H         East York     Thorncliffe Park        85.0  43.705369   \n",
       "54          M1J       Scarborough  Scarborough Village        92.0  43.744734   \n",
       "59          M6J      West Toronto      Little Portugal        30.0  43.647927   \n",
       "63          M1K       Scarborough         Kennedy Park        73.0  43.727929   \n",
       "64          M2K        North York      Bayview Village        24.0  43.786947   \n",
       "80          M9L        North York        Humber Summit        89.0  43.756303   \n",
       "98          M9N              York               Weston       205.0  43.706876   \n",
       "99          M1P       Scarborough          Dorset Park       107.0  43.757410   \n",
       "135         M1V       Scarborough             Milliken        24.0  43.815252   \n",
       "142         M8V         Etobicoke          New Toronto        69.0  43.605647   \n",
       "151         M8W         Etobicoke            Alderwood        32.0  43.602414   \n",
       "\n",
       "     Longitude  \n",
       "3   -79.315572  \n",
       "4   -79.360636  \n",
       "9   -79.194353  \n",
       "23  -79.428191  \n",
       "27  -79.188711  \n",
       "30  -79.293031  \n",
       "36  -79.216917  \n",
       "46  -79.363452  \n",
       "47  -79.442259  \n",
       "48  -79.349372  \n",
       "54  -79.239476  \n",
       "59  -79.419750  \n",
       "63  -79.262029  \n",
       "64  -79.385975  \n",
       "80  -79.565963  \n",
       "98  -79.518188  \n",
       "99  -79.273304  \n",
       "135 -79.284577  \n",
       "142 -79.501321  \n",
       "151 -79.543484  "
      ]
     },
     "execution_count": 24,
     "metadata": {},
     "output_type": "execute_result"
    }
   ],
   "source": [
    "df = df.join(df2.set_index('Postal Code'), on='Postal Code')\n",
    "df.to_csv('casecount_latlong.csv', encoding='utf-8', index = False)\n",
    "df.head(20)"
   ]
  },
  {
   "cell_type": "markdown",
   "metadata": {},
   "source": [
    "Now that we have our final case cound dataset, we can extend that data with data about activity in those neighborhoods using Foursquare trending venue data."
   ]
  },
  {
   "cell_type": "markdown",
   "metadata": {},
   "source": [
    "### Adding Foursquare trending venue data"
   ]
  },
  {
   "cell_type": "markdown",
   "metadata": {},
   "source": [
    "Foursquare provides an API endpoint allowing us to search for venues with X distance of a point that bear a particular category. For each neighborhood for which we have case count data, we will ask how many parks are within 2000m (roughly walking distance) of the center of that neighborhood. We can then crossreference this data with the COVID data we constructed above."
   ]
  },
  {
   "cell_type": "markdown",
   "metadata": {},
   "source": [
    "First, we set our Foursquare credentials."
   ]
  },
  {
   "cell_type": "code",
   "execution_count": 246,
   "metadata": {},
   "outputs": [
    {
     "name": "stdout",
     "output_type": "stream",
     "text": [
      "Your credentails:\n",
      "CLIENT_ID: \n",
      "CLIENT_SECRET:\n"
     ]
    }
   ],
   "source": [
    "CLIENT_ID = '' # your Foursquare ID\n",
    "CLIENT_SECRET = '' # your Foursquare Secret\n",
    "VERSION = '20180605' # Foursquare API version\n",
    "\n",
    "print('Your credentails:')\n",
    "print('CLIENT_ID: ' + CLIENT_ID)\n",
    "print('CLIENT_SECRET:' + CLIENT_SECRET)"
   ]
  },
  {
   "cell_type": "markdown",
   "metadata": {},
   "source": [
    "We define a function that will retrieve the number of parks within 2000m of the given neighborhood, writing that data to a new DataFrame."
   ]
  },
  {
   "cell_type": "code",
   "execution_count": 28,
   "metadata": {},
   "outputs": [],
   "source": [
    "import requests\n",
    "\n",
    "def getParkCount(names, latitudes, longitudes, radius=2000):\n",
    "    \n",
    "    LIMIT = 100\n",
    "    parks = []\n",
    "    CATEGORY = '4bf58dd8d48988d163941735' #Park\n",
    "    for name, lat, lng in zip(names, latitudes, longitudes):\n",
    "        print(name)\n",
    "            \n",
    "        # create the API request URL\n",
    "        url = 'https://api.foursquare.com/v2/venues/explore?&client_id={}&client_secret={}&v={}&ll={},{}&radius={}&limit={}&categoryId={}'.format(\n",
    "            CLIENT_ID, \n",
    "            CLIENT_SECRET, \n",
    "            VERSION, \n",
    "            lat, \n",
    "            lng, \n",
    "            radius, \n",
    "            LIMIT,\n",
    "            CATEGORY)\n",
    "            \n",
    "    \n",
    "        # make the GET request\n",
    "        result = requests.get(url).json()['response']['totalResults']\n",
    "        \n",
    "        parks.append([(\n",
    "            name, \n",
    "            #lat, \n",
    "            #lng, \n",
    "            result)])\n",
    "    \n",
    "\n",
    "    parks_df = pd.DataFrame([item for parks in parks for item in parks])\n",
    "    parks_df.columns = ['Neighborhood', \n",
    "                  #'Neighborhood Latitude', \n",
    "                  #'Neighborhood Longitude', \n",
    "                  'Parks']\n",
    "    \n",
    "    return(parks_df)"
   ]
  },
  {
   "cell_type": "code",
   "execution_count": 29,
   "metadata": {},
   "outputs": [
    {
     "name": "stdout",
     "output_type": "stream",
     "text": [
      "Victoria Village\n",
      "Regent Park\n",
      "Malvern\n",
      "Humewood-Cedarvale\n",
      "Guildwood\n",
      "The Beaches\n",
      "Woburn\n",
      "Hillcrest Village\n",
      "Bathurst Manor\n",
      "Thorncliffe Park\n",
      "Scarborough Village\n",
      "Little Portugal\n",
      "Kennedy Park\n",
      "Bayview Village\n",
      "Humber Summit\n",
      "Weston\n",
      "Dorset Park\n",
      "Milliken\n",
      "New Toronto\n",
      "Alderwood\n"
     ]
    }
   ],
   "source": [
    "parks_df = getParkCount(names=df['Neighborhood'],\n",
    "                                   latitudes=df['Latitude'],\n",
    "                                   longitudes=df['Longitude']\n",
    "                                  )"
   ]
  },
  {
   "cell_type": "code",
   "execution_count": 30,
   "metadata": {},
   "outputs": [
    {
     "data": {
      "text/html": [
       "<div>\n",
       "<style scoped>\n",
       "    .dataframe tbody tr th:only-of-type {\n",
       "        vertical-align: middle;\n",
       "    }\n",
       "\n",
       "    .dataframe tbody tr th {\n",
       "        vertical-align: top;\n",
       "    }\n",
       "\n",
       "    .dataframe thead th {\n",
       "        text-align: right;\n",
       "    }\n",
       "</style>\n",
       "<table border=\"1\" class=\"dataframe\">\n",
       "  <thead>\n",
       "    <tr style=\"text-align: right;\">\n",
       "      <th></th>\n",
       "      <th>Neighborhood</th>\n",
       "      <th>Parks</th>\n",
       "    </tr>\n",
       "  </thead>\n",
       "  <tbody>\n",
       "    <tr>\n",
       "      <th>0</th>\n",
       "      <td>Victoria Village</td>\n",
       "      <td>11</td>\n",
       "    </tr>\n",
       "    <tr>\n",
       "      <th>1</th>\n",
       "      <td>Regent Park</td>\n",
       "      <td>48</td>\n",
       "    </tr>\n",
       "    <tr>\n",
       "      <th>2</th>\n",
       "      <td>Malvern</td>\n",
       "      <td>4</td>\n",
       "    </tr>\n",
       "    <tr>\n",
       "      <th>3</th>\n",
       "      <td>Humewood-Cedarvale</td>\n",
       "      <td>19</td>\n",
       "    </tr>\n",
       "    <tr>\n",
       "      <th>4</th>\n",
       "      <td>Guildwood</td>\n",
       "      <td>5</td>\n",
       "    </tr>\n",
       "  </tbody>\n",
       "</table>\n",
       "</div>"
      ],
      "text/plain": [
       "         Neighborhood  Parks\n",
       "0    Victoria Village     11\n",
       "1         Regent Park     48\n",
       "2             Malvern      4\n",
       "3  Humewood-Cedarvale     19\n",
       "4           Guildwood      5"
      ]
     },
     "execution_count": 30,
     "metadata": {},
     "output_type": "execute_result"
    }
   ],
   "source": [
    "parks_df.to_csv('parkcount.csv', encoding='utf-8', index = False)\n",
    "parks_df.head()"
   ]
  },
  {
   "cell_type": "markdown",
   "metadata": {},
   "source": [
    "Combine park count data with our COVID count data."
   ]
  },
  {
   "cell_type": "code",
   "execution_count": 31,
   "metadata": {},
   "outputs": [],
   "source": [
    "df = df.join(parks_df.set_index('Neighborhood'), on='Neighborhood')"
   ]
  },
  {
   "cell_type": "code",
   "execution_count": 32,
   "metadata": {},
   "outputs": [
    {
     "data": {
      "text/html": [
       "<div>\n",
       "<style scoped>\n",
       "    .dataframe tbody tr th:only-of-type {\n",
       "        vertical-align: middle;\n",
       "    }\n",
       "\n",
       "    .dataframe tbody tr th {\n",
       "        vertical-align: top;\n",
       "    }\n",
       "\n",
       "    .dataframe thead th {\n",
       "        text-align: right;\n",
       "    }\n",
       "</style>\n",
       "<table border=\"1\" class=\"dataframe\">\n",
       "  <thead>\n",
       "    <tr style=\"text-align: right;\">\n",
       "      <th></th>\n",
       "      <th>Postal Code</th>\n",
       "      <th>Borough</th>\n",
       "      <th>Neighborhood</th>\n",
       "      <th>Case Count</th>\n",
       "      <th>Latitude</th>\n",
       "      <th>Longitude</th>\n",
       "      <th>Parks</th>\n",
       "    </tr>\n",
       "  </thead>\n",
       "  <tbody>\n",
       "    <tr>\n",
       "      <th>3</th>\n",
       "      <td>M4A</td>\n",
       "      <td>North York</td>\n",
       "      <td>Victoria Village</td>\n",
       "      <td>37.0</td>\n",
       "      <td>43.725882</td>\n",
       "      <td>-79.315572</td>\n",
       "      <td>11</td>\n",
       "    </tr>\n",
       "    <tr>\n",
       "      <th>4</th>\n",
       "      <td>M5A</td>\n",
       "      <td>Downtown Toronto</td>\n",
       "      <td>Regent Park</td>\n",
       "      <td>23.0</td>\n",
       "      <td>43.654260</td>\n",
       "      <td>-79.360636</td>\n",
       "      <td>48</td>\n",
       "    </tr>\n",
       "    <tr>\n",
       "      <th>9</th>\n",
       "      <td>M1B</td>\n",
       "      <td>Scarborough</td>\n",
       "      <td>Malvern</td>\n",
       "      <td>158.0</td>\n",
       "      <td>43.806686</td>\n",
       "      <td>-79.194353</td>\n",
       "      <td>4</td>\n",
       "    </tr>\n",
       "    <tr>\n",
       "      <th>23</th>\n",
       "      <td>M6C</td>\n",
       "      <td>York</td>\n",
       "      <td>Humewood-Cedarvale</td>\n",
       "      <td>20.0</td>\n",
       "      <td>43.693781</td>\n",
       "      <td>-79.428191</td>\n",
       "      <td>19</td>\n",
       "    </tr>\n",
       "    <tr>\n",
       "      <th>27</th>\n",
       "      <td>M1E</td>\n",
       "      <td>Scarborough</td>\n",
       "      <td>Guildwood</td>\n",
       "      <td>101.0</td>\n",
       "      <td>43.763573</td>\n",
       "      <td>-79.188711</td>\n",
       "      <td>5</td>\n",
       "    </tr>\n",
       "  </tbody>\n",
       "</table>\n",
       "</div>"
      ],
      "text/plain": [
       "   Postal Code           Borough        Neighborhood  Case Count   Latitude  \\\n",
       "3          M4A        North York    Victoria Village        37.0  43.725882   \n",
       "4          M5A  Downtown Toronto         Regent Park        23.0  43.654260   \n",
       "9          M1B       Scarborough             Malvern       158.0  43.806686   \n",
       "23         M6C              York  Humewood-Cedarvale        20.0  43.693781   \n",
       "27         M1E       Scarborough           Guildwood       101.0  43.763573   \n",
       "\n",
       "    Longitude  Parks  \n",
       "3  -79.315572     11  \n",
       "4  -79.360636     48  \n",
       "9  -79.194353      4  \n",
       "23 -79.428191     19  \n",
       "27 -79.188711      5  "
      ]
     },
     "execution_count": 32,
     "metadata": {},
     "output_type": "execute_result"
    }
   ],
   "source": [
    "df.head()"
   ]
  },
  {
   "cell_type": "markdown",
   "metadata": {},
   "source": [
    "We now have our final DataFrame, with neighborhoods, their spatial locations, their number of COIVD-19 cases, and the number of parks within walking distance (2000m). In the next section we analyse these data to determine if there are correlations between access to public spaces, like parks, and SARS-CoV2 transmission."
   ]
  },
  {
   "cell_type": "code",
   "execution_count": 33,
   "metadata": {},
   "outputs": [],
   "source": [
    "df.to_csv('total_data.csv', encoding='utf-8', index = False)"
   ]
  },
  {
   "cell_type": "markdown",
   "metadata": {},
   "source": [
    "## Methodology"
   ]
  },
  {
   "cell_type": "code",
   "execution_count": 34,
   "metadata": {},
   "outputs": [
    {
     "data": {
      "text/html": [
       "<div>\n",
       "<style scoped>\n",
       "    .dataframe tbody tr th:only-of-type {\n",
       "        vertical-align: middle;\n",
       "    }\n",
       "\n",
       "    .dataframe tbody tr th {\n",
       "        vertical-align: top;\n",
       "    }\n",
       "\n",
       "    .dataframe thead th {\n",
       "        text-align: right;\n",
       "    }\n",
       "</style>\n",
       "<table border=\"1\" class=\"dataframe\">\n",
       "  <thead>\n",
       "    <tr style=\"text-align: right;\">\n",
       "      <th></th>\n",
       "      <th>Postal Code</th>\n",
       "      <th>Borough</th>\n",
       "      <th>Neighborhood</th>\n",
       "      <th>Case Count</th>\n",
       "      <th>Latitude</th>\n",
       "      <th>Longitude</th>\n",
       "      <th>Parks</th>\n",
       "    </tr>\n",
       "  </thead>\n",
       "  <tbody>\n",
       "    <tr>\n",
       "      <th>0</th>\n",
       "      <td>M4A</td>\n",
       "      <td>North York</td>\n",
       "      <td>Victoria Village</td>\n",
       "      <td>37.0</td>\n",
       "      <td>43.725882</td>\n",
       "      <td>-79.315572</td>\n",
       "      <td>11</td>\n",
       "    </tr>\n",
       "    <tr>\n",
       "      <th>1</th>\n",
       "      <td>M5A</td>\n",
       "      <td>Downtown Toronto</td>\n",
       "      <td>Regent Park</td>\n",
       "      <td>23.0</td>\n",
       "      <td>43.654260</td>\n",
       "      <td>-79.360636</td>\n",
       "      <td>48</td>\n",
       "    </tr>\n",
       "    <tr>\n",
       "      <th>2</th>\n",
       "      <td>M1B</td>\n",
       "      <td>Scarborough</td>\n",
       "      <td>Malvern</td>\n",
       "      <td>158.0</td>\n",
       "      <td>43.806686</td>\n",
       "      <td>-79.194353</td>\n",
       "      <td>4</td>\n",
       "    </tr>\n",
       "    <tr>\n",
       "      <th>3</th>\n",
       "      <td>M6C</td>\n",
       "      <td>York</td>\n",
       "      <td>Humewood-Cedarvale</td>\n",
       "      <td>20.0</td>\n",
       "      <td>43.693781</td>\n",
       "      <td>-79.428191</td>\n",
       "      <td>19</td>\n",
       "    </tr>\n",
       "    <tr>\n",
       "      <th>4</th>\n",
       "      <td>M1E</td>\n",
       "      <td>Scarborough</td>\n",
       "      <td>Guildwood</td>\n",
       "      <td>101.0</td>\n",
       "      <td>43.763573</td>\n",
       "      <td>-79.188711</td>\n",
       "      <td>5</td>\n",
       "    </tr>\n",
       "  </tbody>\n",
       "</table>\n",
       "</div>"
      ],
      "text/plain": [
       "  Postal Code           Borough        Neighborhood  Case Count   Latitude  \\\n",
       "0         M4A        North York    Victoria Village        37.0  43.725882   \n",
       "1         M5A  Downtown Toronto         Regent Park        23.0  43.654260   \n",
       "2         M1B       Scarborough             Malvern       158.0  43.806686   \n",
       "3         M6C              York  Humewood-Cedarvale        20.0  43.693781   \n",
       "4         M1E       Scarborough           Guildwood       101.0  43.763573   \n",
       "\n",
       "   Longitude  Parks  \n",
       "0 -79.315572     11  \n",
       "1 -79.360636     48  \n",
       "2 -79.194353      4  \n",
       "3 -79.428191     19  \n",
       "4 -79.188711      5  "
      ]
     },
     "execution_count": 34,
     "metadata": {},
     "output_type": "execute_result"
    }
   ],
   "source": [
    "df = pd.read_csv('total_data.csv')\n",
    "df.head()"
   ]
  },
  {
   "cell_type": "markdown",
   "metadata": {},
   "source": [
    "We do a few visual checks on our data. First, we see that our neighborhoods cover the city quite well, which which means we will have a representative sample of the city. This is important because the virus could vary across the city quite a lot. Second, we see that our sample is not too clumpy. This is good because if points were too close together, then the number of parks within walking distance could be correlated between neighborhoods because they would overlap.  Here we find they are nicely spread out."
   ]
  },
  {
   "cell_type": "code",
   "execution_count": 240,
   "metadata": {},
   "outputs": [
    {
     "data": {
      "text/html": [
       "<div style=\"width:100%;\"><div style=\"position:relative;width:100%;height:0;padding-bottom:60%;\"><span style=\"color:#565656\">Make this Notebook Trusted to load map: File -> Trust Notebook</span><iframe src=\"about:blank\" style=\"position:absolute;width:100%;height:100%;left:0;top:0;border:none !important;\" data-html=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 onload=\"this.contentDocument.open();this.contentDocument.write(atob(this.getAttribute('data-html')));this.contentDocument.close();\" allowfullscreen webkitallowfullscreen mozallowfullscreen></iframe></div></div>"
      ],
      "text/plain": [
       "<folium.folium.Map at 0x131c838d0>"
      ]
     },
     "execution_count": 240,
     "metadata": {},
     "output_type": "execute_result"
    }
   ],
   "source": [
    "import folium\n",
    "\n",
    "map_toronto = folium.Map(location=[43.753259, -79.329656], zoom_start=10)\n",
    "\n",
    "# add markers to map\n",
    "for lat, lng, borough, neighborhood in zip(df['Latitude'], df['Longitude'], df['Borough'], df['Neighborhood']):\n",
    "    label = '{}, {}'.format(neighborhood, borough)\n",
    "    label = folium.Popup(label, parse_html=True)\n",
    "    folium.CircleMarker(\n",
    "        [lat, lng],\n",
    "        radius=5,\n",
    "        popup=label,\n",
    "        color='blue',\n",
    "        fill=True,\n",
    "        fill_color='#3186cc',\n",
    "        fill_opacity=0.7,\n",
    "        parse_html=False).add_to(map_toronto)  \n",
    "    \n",
    "map_toronto"
   ]
  },
  {
   "cell_type": "markdown",
   "metadata": {},
   "source": [
    "Let's visually inspect our case count data plotted against the park count data."
   ]
  },
  {
   "cell_type": "code",
   "execution_count": 36,
   "metadata": {},
   "outputs": [],
   "source": [
    "# Matplotlib and associated plotting modules\n",
    "import matplotlib.pyplot as plt"
   ]
  },
  {
   "cell_type": "code",
   "execution_count": 37,
   "metadata": {},
   "outputs": [
    {
     "data": {
      "text/plain": [
       "<matplotlib.axes._subplots.AxesSubplot at 0x121365190>"
      ]
     },
     "execution_count": 37,
     "metadata": {},
     "output_type": "execute_result"
    },
    {
     "data": {
      "image/png": "[encoded data removed]",
      "text/plain": [
       "<Figure size 432x288 with 1 Axes>"
      ]
     },
     "metadata": {
      "needs_background": "light"
     },
     "output_type": "display_data"
    }
   ],
   "source": [
    "df.plot.scatter(x='Parks', y='Case Count')"
   ]
  },
  {
   "cell_type": "markdown",
   "metadata": {},
   "source": [
    "On visual inspection it does look, roughly, like we have a negative correlation between accessible parks and COVID-19 case counts. In particular, it looks like a negative exponential function. We will fit both a linear and non-linear regression for comparision in which we see whether the number of close parks to a neighborhood affects the incidence of COVID-19."
   ]
  },
  {
   "cell_type": "markdown",
   "metadata": {},
   "source": [
    "### Linear Regression\n",
    "\n",
    "We start by fitting a linear model with number of accessible parks as the independent variable and COVID case count as the dependent variable."
   ]
  },
  {
   "cell_type": "code",
   "execution_count": 234,
   "metadata": {},
   "outputs": [],
   "source": [
    "from sklearn.linear_model import LinearRegression\n",
    "from sklearn.metrics import mean_squared_error, r2_score\n",
    "\n",
    "lm = LinearRegression()\n",
    "\n",
    "df = df.sort_values(by='Parks')\n",
    "\n",
    "X = df[['Parks']]\n",
    "Y = df['Case Count']"
   ]
  },
  {
   "cell_type": "code",
   "execution_count": 235,
   "metadata": {},
   "outputs": [
    {
     "data": {
      "text/plain": [
       "LinearRegression(copy_X=True, fit_intercept=True, n_jobs=None, normalize=False)"
      ]
     },
     "execution_count": 235,
     "metadata": {},
     "output_type": "execute_result"
    }
   ],
   "source": [
    "lm.fit(X,Y)"
   ]
  },
  {
   "cell_type": "markdown",
   "metadata": {},
   "source": [
    "The regression line roughly follows the negative trend of the data."
   ]
  },
  {
   "cell_type": "code",
   "execution_count": 197,
   "metadata": {},
   "outputs": [
    {
     "data": {
      "image/png": "[encoded data removed]",
      "text/plain": [
       "<Figure size 432x288 with 1 Axes>"
      ]
     },
     "metadata": {},
     "output_type": "display_data"
    }
   ],
   "source": [
    "plt.scatter(X, Y,  color='black')\n",
    "plt.plot(X, lm.predict(X), color='blue', linewidth=3)\n",
    "\n",
    "plt.xticks(())\n",
    "plt.yticks(())\n",
    "\n",
    "plt.show()"
   ]
  },
  {
   "cell_type": "markdown",
   "metadata": {},
   "source": [
    "The r-square value for the model is low, but perhaps that is to be expect. There is no way that we should expect that park locations to account for most of the variation in COVID cases by neighborhood. We mostly care about the positive or negative correlation. Here we find a negative correlation that accounts for some of the variation."
   ]
  },
  {
   "cell_type": "code",
   "execution_count": 236,
   "metadata": {},
   "outputs": [
    {
     "name": "stdout",
     "output_type": "stream",
     "text": [
      "Coefficients: \n",
      " [-2.05606963]\n",
      "R2: \n",
      " 0.20554929037065095\n"
     ]
    }
   ],
   "source": [
    "# The coefficients\n",
    "print('Coefficients: \\n', lm.coef_)\n",
    "\n",
    "print('R2: \\n', r2_score(Y, lm.predict(X)))"
   ]
  },
  {
   "cell_type": "markdown",
   "metadata": {},
   "source": [
    "We have fit a linear model, but is the linear assumption warranted? Below we have a plot of the residuals. They do not look evenly distributed around the 0 point. We have two clumps and more points below the line than above. This suggests that we should not fit linear model. In response to this plot, we fit a polynomial model below."
   ]
  },
  {
   "cell_type": "code",
   "execution_count": 198,
   "metadata": {},
   "outputs": [
    {
     "data": {
      "text/plain": [
       "<matplotlib.collections.LineCollection at 0x1315fe110>"
      ]
     },
     "execution_count": 198,
     "metadata": {},
     "output_type": "execute_result"
    },
    {
     "data": {
      "image/png": "[encoded data removed]",
      "text/plain": [
       "<Figure size 432x288 with 1 Axes>"
      ]
     },
     "metadata": {
      "needs_background": "light"
     },
     "output_type": "display_data"
    }
   ],
   "source": [
    "plt.scatter(lm.predict(X), lm.predict(X) - Y, s=40)\n",
    "plt.hlines(y=0,xmin=0,xmax=100)"
   ]
  },
  {
   "cell_type": "markdown",
   "metadata": {},
   "source": [
    "### The polynomial model\n",
    "\n",
    "We start by fitting a low-degree polynomial model of degree 3. We do not have a lot of data, and so higher degree models will be prone to overfitting."
   ]
  },
  {
   "cell_type": "code",
   "execution_count": 237,
   "metadata": {},
   "outputs": [
    {
     "data": {
      "text/plain": [
       "LinearRegression(copy_X=True, fit_intercept=True, n_jobs=None, normalize=False)"
      ]
     },
     "execution_count": 237,
     "metadata": {},
     "output_type": "execute_result"
    }
   ],
   "source": [
    "from sklearn.preprocessing import PolynomialFeatures\n",
    "\n",
    "poly = PolynomialFeatures(degree=3)\n",
    "X_ = poly.fit_transform(X)\n",
    "\n",
    "polm = LinearRegression()\n",
    "polm.fit(X_,Y)"
   ]
  },
  {
   "cell_type": "markdown",
   "metadata": {},
   "source": [
    "The regression line looks more resonable here, tracking the curvilinear structure of the data---e.g., relatively more mass below 10, relatively less mass above 40"
   ]
  },
  {
   "cell_type": "code",
   "execution_count": 241,
   "metadata": {},
   "outputs": [
    {
     "data": {
      "image/png": "[encoded data removed]",
      "text/plain": [
       "<Figure size 432x288 with 1 Axes>"
      ]
     },
     "metadata": {
      "needs_background": "light"
     },
     "output_type": "display_data"
    }
   ],
   "source": [
    "plt.scatter(X,Y,color='red')\n",
    "plt.plot(X,polm.predict(poly.fit_transform(X)),color='blue')"
   ]
  },
  {
   "cell_type": "markdown",
   "metadata": {},
   "source": [
    "The r-squared value shows better fit than the linear model. Once again, it is quite low, but we don't expect for this variable to actual predict most of the variance."
   ]
  },
  {
   "cell_type": "code",
   "execution_count": 239,
   "metadata": {},
   "outputs": [
    {
     "name": "stdout",
     "output_type": "stream",
     "text": [
      "Coefficients: \n",
      " [ 0.00000000e+00 -1.41986155e+01  4.71859158e-01 -4.89992742e-03]\n",
      "R2: \n",
      " 0.35131685928085743\n"
     ]
    }
   ],
   "source": [
    "# The coefficients\n",
    "print('Coefficients: \\n', polm.coef_)\n",
    "\n",
    "print('R2: \\n', r2_score(Y, polm.predict(poly.fit_transform(X))))"
   ]
  },
  {
   "cell_type": "markdown",
   "metadata": {},
   "source": [
    "Finally, we plot the residuals again. What we find is a much more satisfying plot, with residuals evenly distributed around possible values with no clear structure. This suggests the polynomial assumption is reasonable."
   ]
  },
  {
   "cell_type": "code",
   "execution_count": 232,
   "metadata": {},
   "outputs": [
    {
     "data": {
      "text/plain": [
       "<matplotlib.collections.LineCollection at 0x1317fe0d0>"
      ]
     },
     "execution_count": 232,
     "metadata": {},
     "output_type": "execute_result"
    },
    {
     "data": {
      "image/png": "[encoded data removed]",
      "text/plain": [
       "<Figure size 432x288 with 1 Axes>"
      ]
     },
     "metadata": {
      "needs_background": "light"
     },
     "output_type": "display_data"
    }
   ],
   "source": [
    "plt.scatter(polm.predict(poly.fit_transform(X)), polm.predict(poly.fit_transform(X)) - Y, s=40)\n",
    "plt.hlines(y=0,xmin=0,xmax=140)"
   ]
  },
  {
   "cell_type": "markdown",
   "metadata": {},
   "source": [
    "## Discussion\n",
    "\n",
    "We began with a critical and pointed public health question. Are parks dangerous? That is, does easy access to public spaces where people can congregate increase the incidence of COVID-19 in a neighborhood. Based on the data we collected, the our core chat, below, **answers the question negatively. That is, there is not a positive relationship between accessible parks and the prevalence of COVID cases in a neighborhood.**"
   ]
  },
  {
   "cell_type": "code",
   "execution_count": 245,
   "metadata": {},
   "outputs": [
    {
     "data": {
      "text/plain": [
       "[<matplotlib.lines.Line2D at 0x13109e110>]"
      ]
     },
     "execution_count": 245,
     "metadata": {},
     "output_type": "execute_result"
    },
    {
     "data": {
      "image/png": "[encoded data removed]",
      "text/plain": [
       "<Figure size 432x288 with 1 Axes>"
      ]
     },
     "metadata": {
      "needs_background": "light"
     },
     "output_type": "display_data"
    }
   ],
   "source": [
    "plt.scatter(X,Y,color='red')\n",
    "plt.plot(X,polm.predict(poly.fit_transform(X)),color='blue')"
   ]
  },
  {
   "cell_type": "markdown",
   "metadata": {},
   "source": [
    "## Conclusion"
   ]
  },
  {
   "cell_type": "markdown",
   "metadata": {},
   "source": [
    "We have given a proof of concept that the venue-geography of a region (as given by Foursquare) can reveal structure in the the prevalence of COVID-19 across a city. More narrowly, we have shown that parks are at least not clearly dangerous. There is definitely more work to do. First, we might wonder what accounts for the negative correlation we see? That is, why does access to parks appear to lower the amount of COVID-19 in a community? There are a couple hypothesis. First, neighborhoods with lots of parks are often desirable places to live, and so more expensive. We could be seeing an effect of wealth, that is richer people are less likely to contract COVID, and they live near parks. At the tail end, where there are many accessible parks and very low COVID incidence, we could be seeing the effect of density. That is, if there are so many parks nearby perhaps there just aren't that many people who permanently live in the neighborhood, and so not that many people to get ill. Teasing apart these confounds will require more data for controls, but we can at least say at this point that access to parks is not causing such an increase in COVID cases that it is overwhelming other sources of variance."
   ]
  }
 ],
 "metadata": {
  "kernelspec": {
   "display_name": "Python 3",
   "language": "python",
   "name": "python3"
  },
  "language_info": {
   "codemirror_mode": {
    "name": "ipython",
    "version": 3
   },
   "file_extension": ".py",
   "mimetype": "text/x-python",
   "name": "python",
   "nbconvert_exporter": "python",
   "pygments_lexer": "ipython3",
   "version": "3.7.4"
  }
 },
 "nbformat": 4,
 "nbformat_minor": 4
}
