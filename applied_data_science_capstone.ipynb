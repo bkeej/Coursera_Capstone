{
 "cells": [
  {
   "cell_type": "markdown",
   "metadata": {},
   "source": [
    "# Applied Data Science Capstone\n",
    "This notebook employs various data science techniques to explore location data as part of the IBM Applied Data Science Capstone coursera course. It is a mix of posed problem as well as novel explorations of the location data."
   ]
  },
  {
   "cell_type": "code",
   "execution_count": 188,
   "metadata": {},
   "outputs": [],
   "source": [
    "import pandas as pd\n",
    "from pandas.io.json import json_normalize # tranform JSON file into a pandas dataframe\n",
    "\n",
    "import numpy as np\n",
    "\n",
    "import requests # library to handle requests\n",
    "\n",
    "# Matplotlib and associated plotting modules\n",
    "import matplotlib.cm as cm\n",
    "import matplotlib.colors as colors\n",
    "\n",
    "# import k-means from clustering stage\n",
    "from sklearn.cluster import KMeans"
   ]
  },
  {
   "cell_type": "markdown",
   "metadata": {},
   "source": [
    "## Scrape Wikipedia for Toronto Neighborhoods"
   ]
  },
  {
   "cell_type": "code",
   "execution_count": 174,
   "metadata": {},
   "outputs": [],
   "source": [
    "dfs = pd.read_html('https://en.wikipedia.org/wiki/List_of_postal_codes_of_Canada:_M')"
   ]
  },
  {
   "cell_type": "markdown",
   "metadata": {},
   "source": [
    "Pandas read_html returns a list of tables parsed as DataFrames. We extract the table of interest."
   ]
  },
  {
   "cell_type": "code",
   "execution_count": 175,
   "metadata": {},
   "outputs": [
    {
     "data": {
      "text/html": [
       "<div>\n",
       "<style scoped>\n",
       "    .dataframe tbody tr th:only-of-type {\n",
       "        vertical-align: middle;\n",
       "    }\n",
       "\n",
       "    .dataframe tbody tr th {\n",
       "        vertical-align: top;\n",
       "    }\n",
       "\n",
       "    .dataframe thead th {\n",
       "        text-align: right;\n",
       "    }\n",
       "</style>\n",
       "<table border=\"1\" class=\"dataframe\">\n",
       "  <thead>\n",
       "    <tr style=\"text-align: right;\">\n",
       "      <th></th>\n",
       "      <th>Postal Code</th>\n",
       "      <th>Borough</th>\n",
       "      <th>Neighborhood</th>\n",
       "    </tr>\n",
       "  </thead>\n",
       "  <tbody>\n",
       "    <tr>\n",
       "      <th>0</th>\n",
       "      <td>M1A</td>\n",
       "      <td>Not assigned</td>\n",
       "      <td>Not assigned</td>\n",
       "    </tr>\n",
       "    <tr>\n",
       "      <th>1</th>\n",
       "      <td>M2A</td>\n",
       "      <td>Not assigned</td>\n",
       "      <td>Not assigned</td>\n",
       "    </tr>\n",
       "    <tr>\n",
       "      <th>2</th>\n",
       "      <td>M3A</td>\n",
       "      <td>North York</td>\n",
       "      <td>Parkwoods</td>\n",
       "    </tr>\n",
       "    <tr>\n",
       "      <th>3</th>\n",
       "      <td>M4A</td>\n",
       "      <td>North York</td>\n",
       "      <td>Victoria Village</td>\n",
       "    </tr>\n",
       "    <tr>\n",
       "      <th>4</th>\n",
       "      <td>M5A</td>\n",
       "      <td>Downtown Toronto</td>\n",
       "      <td>Regent Park, Harbourfront</td>\n",
       "    </tr>\n",
       "  </tbody>\n",
       "</table>\n",
       "</div>"
      ],
      "text/plain": [
       "  Postal Code           Borough               Neighborhood\n",
       "0         M1A      Not assigned               Not assigned\n",
       "1         M2A      Not assigned               Not assigned\n",
       "2         M3A        North York                  Parkwoods\n",
       "3         M4A        North York           Victoria Village\n",
       "4         M5A  Downtown Toronto  Regent Park, Harbourfront"
      ]
     },
     "execution_count": 175,
     "metadata": {},
     "output_type": "execute_result"
    }
   ],
   "source": [
    "df = dfs[0]\n",
    "df.head()"
   ]
  },
  {
   "cell_type": "markdown",
   "metadata": {},
   "source": [
    "We ignore cells with a borough that is Not assigned."
   ]
  },
  {
   "cell_type": "code",
   "execution_count": 176,
   "metadata": {},
   "outputs": [
    {
     "data": {
      "text/plain": [
       "(103, 3)"
      ]
     },
     "execution_count": 176,
     "metadata": {},
     "output_type": "execute_result"
    }
   ],
   "source": [
    "df = df[df.Borough != 'Not assigned']\n",
    "df.shape"
   ]
  },
  {
   "cell_type": "markdown",
   "metadata": {},
   "source": [
    "We confirm that there are no duplicate postal codes."
   ]
  },
  {
   "cell_type": "code",
   "execution_count": 177,
   "metadata": {},
   "outputs": [
    {
     "data": {
      "text/plain": [
       "(103,)"
      ]
     },
     "execution_count": 177,
     "metadata": {},
     "output_type": "execute_result"
    }
   ],
   "source": [
    "df['Postal Code'].unique().shape"
   ]
  },
  {
   "cell_type": "markdown",
   "metadata": {},
   "source": [
    "We check that there are no boroughs 'Not assigned'."
   ]
  },
  {
   "cell_type": "code",
   "execution_count": 178,
   "metadata": {
    "scrolled": true
   },
   "outputs": [
    {
     "data": {
      "text/html": [
       "<div>\n",
       "<style scoped>\n",
       "    .dataframe tbody tr th:only-of-type {\n",
       "        vertical-align: middle;\n",
       "    }\n",
       "\n",
       "    .dataframe tbody tr th {\n",
       "        vertical-align: top;\n",
       "    }\n",
       "\n",
       "    .dataframe thead th {\n",
       "        text-align: right;\n",
       "    }\n",
       "</style>\n",
       "<table border=\"1\" class=\"dataframe\">\n",
       "  <thead>\n",
       "    <tr style=\"text-align: right;\">\n",
       "      <th></th>\n",
       "      <th>Postal Code</th>\n",
       "      <th>Borough</th>\n",
       "      <th>Neighborhood</th>\n",
       "    </tr>\n",
       "  </thead>\n",
       "  <tbody>\n",
       "  </tbody>\n",
       "</table>\n",
       "</div>"
      ],
      "text/plain": [
       "Empty DataFrame\n",
       "Columns: [Postal Code, Borough, Neighborhood]\n",
       "Index: []"
      ]
     },
     "execution_count": 178,
     "metadata": {},
     "output_type": "execute_result"
    }
   ],
   "source": [
    "df.loc[df['Neighborhood'] == 'Not assigned']"
   ]
  },
  {
   "cell_type": "code",
   "execution_count": 179,
   "metadata": {},
   "outputs": [
    {
     "data": {
      "text/plain": [
       "(103, 3)"
      ]
     },
     "execution_count": 179,
     "metadata": {},
     "output_type": "execute_result"
    }
   ],
   "source": [
    "df.shape"
   ]
  },
  {
   "cell_type": "markdown",
   "metadata": {},
   "source": [
    "## Extend Neighborhoods DataFrame with Coordinates"
   ]
  },
  {
   "cell_type": "code",
   "execution_count": 180,
   "metadata": {},
   "outputs": [
    {
     "data": {
      "text/html": [
       "<div>\n",
       "<style scoped>\n",
       "    .dataframe tbody tr th:only-of-type {\n",
       "        vertical-align: middle;\n",
       "    }\n",
       "\n",
       "    .dataframe tbody tr th {\n",
       "        vertical-align: top;\n",
       "    }\n",
       "\n",
       "    .dataframe thead th {\n",
       "        text-align: right;\n",
       "    }\n",
       "</style>\n",
       "<table border=\"1\" class=\"dataframe\">\n",
       "  <thead>\n",
       "    <tr style=\"text-align: right;\">\n",
       "      <th></th>\n",
       "      <th>Postal Code</th>\n",
       "      <th>Latitude</th>\n",
       "      <th>Longitude</th>\n",
       "    </tr>\n",
       "  </thead>\n",
       "  <tbody>\n",
       "    <tr>\n",
       "      <th>0</th>\n",
       "      <td>M1B</td>\n",
       "      <td>43.806686</td>\n",
       "      <td>-79.194353</td>\n",
       "    </tr>\n",
       "    <tr>\n",
       "      <th>1</th>\n",
       "      <td>M1C</td>\n",
       "      <td>43.784535</td>\n",
       "      <td>-79.160497</td>\n",
       "    </tr>\n",
       "    <tr>\n",
       "      <th>2</th>\n",
       "      <td>M1E</td>\n",
       "      <td>43.763573</td>\n",
       "      <td>-79.188711</td>\n",
       "    </tr>\n",
       "    <tr>\n",
       "      <th>3</th>\n",
       "      <td>M1G</td>\n",
       "      <td>43.770992</td>\n",
       "      <td>-79.216917</td>\n",
       "    </tr>\n",
       "    <tr>\n",
       "      <th>4</th>\n",
       "      <td>M1H</td>\n",
       "      <td>43.773136</td>\n",
       "      <td>-79.239476</td>\n",
       "    </tr>\n",
       "  </tbody>\n",
       "</table>\n",
       "</div>"
      ],
      "text/plain": [
       "  Postal Code   Latitude  Longitude\n",
       "0         M1B  43.806686 -79.194353\n",
       "1         M1C  43.784535 -79.160497\n",
       "2         M1E  43.763573 -79.188711\n",
       "3         M1G  43.770992 -79.216917\n",
       "4         M1H  43.773136 -79.239476"
      ]
     },
     "execution_count": 180,
     "metadata": {},
     "output_type": "execute_result"
    }
   ],
   "source": [
    "df2 = pd.read_csv(\"Geospatial_Coordinates.csv\")\n",
    "df2.head()"
   ]
  },
  {
   "cell_type": "markdown",
   "metadata": {},
   "source": [
    "We now join the two dataframes on the 'Postal Code' column."
   ]
  },
  {
   "cell_type": "code",
   "execution_count": 181,
   "metadata": {},
   "outputs": [
    {
     "data": {
      "text/html": [
       "<div>\n",
       "<style scoped>\n",
       "    .dataframe tbody tr th:only-of-type {\n",
       "        vertical-align: middle;\n",
       "    }\n",
       "\n",
       "    .dataframe tbody tr th {\n",
       "        vertical-align: top;\n",
       "    }\n",
       "\n",
       "    .dataframe thead th {\n",
       "        text-align: right;\n",
       "    }\n",
       "</style>\n",
       "<table border=\"1\" class=\"dataframe\">\n",
       "  <thead>\n",
       "    <tr style=\"text-align: right;\">\n",
       "      <th></th>\n",
       "      <th>Postal Code</th>\n",
       "      <th>Borough</th>\n",
       "      <th>Neighborhood</th>\n",
       "      <th>Latitude</th>\n",
       "      <th>Longitude</th>\n",
       "    </tr>\n",
       "  </thead>\n",
       "  <tbody>\n",
       "    <tr>\n",
       "      <th>2</th>\n",
       "      <td>M3A</td>\n",
       "      <td>North York</td>\n",
       "      <td>Parkwoods</td>\n",
       "      <td>43.753259</td>\n",
       "      <td>-79.329656</td>\n",
       "    </tr>\n",
       "    <tr>\n",
       "      <th>3</th>\n",
       "      <td>M4A</td>\n",
       "      <td>North York</td>\n",
       "      <td>Victoria Village</td>\n",
       "      <td>43.725882</td>\n",
       "      <td>-79.315572</td>\n",
       "    </tr>\n",
       "    <tr>\n",
       "      <th>4</th>\n",
       "      <td>M5A</td>\n",
       "      <td>Downtown Toronto</td>\n",
       "      <td>Regent Park, Harbourfront</td>\n",
       "      <td>43.654260</td>\n",
       "      <td>-79.360636</td>\n",
       "    </tr>\n",
       "    <tr>\n",
       "      <th>5</th>\n",
       "      <td>M6A</td>\n",
       "      <td>North York</td>\n",
       "      <td>Lawrence Manor, Lawrence Heights</td>\n",
       "      <td>43.718518</td>\n",
       "      <td>-79.464763</td>\n",
       "    </tr>\n",
       "    <tr>\n",
       "      <th>6</th>\n",
       "      <td>M7A</td>\n",
       "      <td>Downtown Toronto</td>\n",
       "      <td>Queen's Park, Ontario Provincial Government</td>\n",
       "      <td>43.662301</td>\n",
       "      <td>-79.389494</td>\n",
       "    </tr>\n",
       "  </tbody>\n",
       "</table>\n",
       "</div>"
      ],
      "text/plain": [
       "  Postal Code           Borough                                 Neighborhood  \\\n",
       "2         M3A        North York                                    Parkwoods   \n",
       "3         M4A        North York                             Victoria Village   \n",
       "4         M5A  Downtown Toronto                    Regent Park, Harbourfront   \n",
       "5         M6A        North York             Lawrence Manor, Lawrence Heights   \n",
       "6         M7A  Downtown Toronto  Queen's Park, Ontario Provincial Government   \n",
       "\n",
       "    Latitude  Longitude  \n",
       "2  43.753259 -79.329656  \n",
       "3  43.725882 -79.315572  \n",
       "4  43.654260 -79.360636  \n",
       "5  43.718518 -79.464763  \n",
       "6  43.662301 -79.389494  "
      ]
     },
     "execution_count": 181,
     "metadata": {},
     "output_type": "execute_result"
    }
   ],
   "source": [
    "df = df.join(df2.set_index('Postal Code'), on='Postal Code')\n",
    "df.head()"
   ]
  },
  {
   "cell_type": "markdown",
   "metadata": {},
   "source": [
    "## Exploration and Clustering of Toronto Neighborhoods"
   ]
  },
  {
   "cell_type": "markdown",
   "metadata": {},
   "source": [
    "We plot neighborhoods on a map of toronto using the folium package."
   ]
  },
  {
   "cell_type": "code",
   "execution_count": 182,
   "metadata": {},
   "outputs": [],
   "source": [
    "import folium"
   ]
  },
  {
   "cell_type": "code",
   "execution_count": 183,
   "metadata": {},
   "outputs": [
    {
     "data": {
      "text/html": [
       "<div style=\"width:100%;\"><div style=\"position:relative;width:100%;height:0;padding-bottom:60%;\"><span style=\"color:#565656\">Make this Notebook Trusted to load map: File -> Trust Notebook</span><iframe src=\"about:blank\" style=\"position:absolute;width:100%;height:100%;left:0;top:0;border:none !important;\" data-html=PCFET0NUWVBFIGh0bWw+CjxoZWFkPiAgICAKICAgIDxtZXRhIGh0dHAtZXF1aXY9ImNvbnRlbnQtdHlwZSIgY29udGVudD0idGV4dC9odG1sOyBjaGFyc2V0PVVURi04IiAvPgogICAgCiAgICAgICAgPHNjcmlwdD4KICAgICAgICAgICAgTF9OT19UT1VDSCA9IGZhbHNlOwogICAgICAgICAgICBMX0RJU0FCTEVfM0QgPSBmYWxzZTsKICAgICAgICA8L3NjcmlwdD4KICAgIAogICAgPHNjcmlwdCBzcmM9Imh0dHBzOi8vY2RuLmpzZGVsaXZyLm5ldC9ucG0vbGVhZmxldEAxLjYuMC9kaXN0L2xlYWZsZXQuanMiPjwvc2NyaXB0PgogICAgPHNjcmlwdCBzcmM9Imh0dHBzOi8vY29kZS5qcXVlcnkuY29tL2pxdWVyeS0xLjEyLjQubWluLmpzIj48L3NjcmlwdD4KICAgIDxzY3JpcHQgc3JjPSJodHRwczovL21heGNkbi5ib290c3RyYXBjZG4uY29tL2Jvb3RzdHJhcC8zLjIuMC9qcy9ib290c3RyYXAubWluLmpzIj48L3NjcmlwdD4KICAgIDxzY3JpcHQgc3JjPSJodHRwczovL2NkbmpzLmNsb3VkZmxhcmUuY29tL2FqYXgvbGlicy9MZWFmbGV0LmF3ZXNvbWUtbWFya2Vycy8yLjAuMi9sZWFmbGV0LmF3ZXNvbWUtbWFya2Vycy5qcyI+PC9zY3JpcHQ+CiAgICA8bGluayByZWw9InN0eWxlc2hlZXQiIGhyZWY9Imh0dHBzOi8vY2RuLmpzZGVsaXZyLm5ldC9ucG0vbGVhZmxldEAxLjYuMC9kaXN0L2xlYWZsZXQuY3NzIi8+CiAgICA8bGluayByZWw9InN0eWxlc2hlZXQiIGhyZWY9Imh0dHBzOi8vbWF4Y2RuLmJvb3RzdHJhcGNkbi5jb20vYm9vdHN0cmFwLzMuMi4wL2Nzcy9ib290c3RyYXAubWluLmNzcyIvPgogICAgPGxpbmsgcmVsPSJzdHlsZXNoZWV0IiBocmVmPSJodHRwczovL21heGNkbi5ib290c3RyYXBjZG4uY29tL2Jvb3RzdHJhcC8zLjIuMC9jc3MvYm9vdHN0cmFwLXRoZW1lLm1pbi5jc3MiLz4KICAgIDxsaW5rIHJlbD0ic3R5bGVzaGVldCIgaHJlZj0iaHR0cHM6Ly9tYXhjZG4uYm9vdHN0cmFwY2RuLmNvbS9mb250LWF3ZXNvbWUvNC42LjMvY3NzL2ZvbnQtYXdlc29tZS5taW4uY3NzIi8+CiAgICA8bGluayByZWw9InN0eWxlc2hlZXQiIGhyZWY9Imh0dHBzOi8vY2RuanMuY2xvdWRmbGFyZS5jb20vYWpheC9saWJzL0xlYWZsZXQuYXdlc29tZS1tYXJrZXJzLzIuMC4yL2xlYWZsZXQuYXdlc29tZS1tYXJrZXJzLmNzcyIvPgogICAgPGxpbmsgcmVsPSJzdHlsZXNoZWV0IiBocmVmPSJodHRwczovL3Jhd2Nkbi5naXRoYWNrLmNvbS9weXRob24tdmlzdWFsaXphdGlvbi9mb2xpdW0vbWFzdGVyL2ZvbGl1bS90ZW1wbGF0ZXMvbGVhZmxldC5hd2Vzb21lLnJvdGF0ZS5jc3MiLz4KICAgIDxzdHlsZT5odG1sLCBib2R5IHt3aWR0aDogMTAwJTtoZWlnaHQ6IDEwMCU7bWFyZ2luOiAwO3BhZGRpbmc6IDA7fTwvc3R5bGU+CiAgICA8c3R5bGU+I21hcCB7cG9zaXRpb246YWJzb2x1dGU7dG9wOjA7Ym90dG9tOjA7cmlnaHQ6MDtsZWZ0OjA7fTwvc3R5bGU+CiAgICAKICAgICAgICAgICAgPG1ldGEgbmFtZT0idmlld3BvcnQiIGNvbnRlbnQ9IndpZHRoPWRldmljZS13aWR0aCwKICAgICAgICAgICAgICAgIGluaXRpYWwtc2NhbGU9MS4wLCBtYXhpbXVtLXNjYWxlPTEuMCwgdXNlci1zY2FsYWJsZT1ubyIgLz4KICAgICAgICAgICAgPHN0eWxlPgogICAgICAgICAgICAgICAgI21hcF83YjlhNjkzMGFjYTA0NjUzYjIzMjVlZDQ5ODkzMzQxZiB7CiAgICAgICAgICAgICAgICAgICAgcG9zaXRpb246IHJlbGF0aXZlOwogICAgICAgICAgICAgICAgICAgIHdpZHRoOiAxMDAuMCU7CiAgICAgICAgICAgICAgICAgICAgaGVpZ2h0OiAxMDAuMCU7CiAgICAgICAgICAgICAgICAgICAgbGVmdDogMC4wJTsKICAgICAgICAgICAgICAgICAgICB0b3A6IDAuMCU7CiAgICAgICAgICAgICAgICB9CiAgICAgICAgICAgIDwvc3R5bGU+CiAgICAgICAgCjwvaGVhZD4KPGJvZHk+ICAgIAogICAgCiAgICAgICAgICAgIDxkaXYgY2xhc3M9ImZvbGl1bS1tYXAiIGlkPSJtYXBfN2I5YTY5MzBhY2EwNDY1M2IyMzI1ZWQ0OTg5MzM0MWYiID48L2Rpdj4KICAgICAgICAKPC9ib2R5Pgo8c2NyaXB0PiAgICAKICAgIAogICAgICAgICAgICB2YXIgbWFwXzdiOWE2OTMwYWNhMDQ2NTNiMjMyNWVkNDk4OTMzNDFmID0gTC5tYXAoCiAgICAgICAgICAgICAgICAibWFwXzdiOWE2OTMwYWNhMDQ2NTNiMjMyNWVkNDk4OTMzNDFmIiwKICAgICAgICAgICAgICAgIHsKICAgICAgICAgICAgICAgICAgICBjZW50ZXI6IFs0My43NTMyNTksIC03OS4zMjk2NTZdLAogICAgICAgICAgICAgICAgICAgIGNyczogTC5DUlMuRVBTRzM4NTcsCiAgICAgICAgICAgICAgICAgICAgem9vbTogMTAsCiAgICAgICAgICAgICAgICAgICAgem9vbUNvbnRyb2w6IHRydWUsCiAgICAgICAgICAgICAgICAgICAgcHJlZmVyQ2FudmFzOiBmYWxzZSwKICAgICAgICAgICAgICAgIH0KICAgICAgICAgICAgKTsKCiAgICAgICAgICAgIAoKICAgICAgICAKICAgIAogICAgICAgICAgICB2YXIgdGlsZV9sYXllcl83NDRiZjRkZjAzMDM0OWI5OWQ2MTBiNTg1ZGFlOTVhZiA9IEwudGlsZUxheWVyKAogICAgICAgICAgICAgICAgImh0dHBzOi8ve3N9LnRpbGUub3BlbnN0cmVldG1hcC5vcmcve3p9L3t4fS97eX0ucG5nIiwKICAgICAgICAgICAgICAgIHsiYXR0cmlidXRpb24iOiAiRGF0YSBieSBcdTAwMjZjb3B5OyBcdTAwM2NhIGhyZWY9XCJodHRwOi8vb3BlbnN0cmVldG1hcC5vcmdcIlx1MDAzZU9wZW5TdHJlZXRNYXBcdTAwM2MvYVx1MDAzZSwgdW5kZXIgXHUwMDNjYSBocmVmPVwiaHR0cDovL3d3dy5vcGVuc3RyZWV0bWFwLm9yZy9jb3B5cmlnaHRcIlx1MDAzZU9EYkxcdTAwM2MvYVx1MDAzZS4iLCAiZGV0ZWN0UmV0aW5hIjogZmFsc2UsICJtYXhOYXRpdmVab29tIjogMTgsICJtYXhab29tIjogMTgsICJtaW5ab29tIjogMCwgIm5vV3JhcCI6IGZhbHNlLCAib3BhY2l0eSI6IDEsICJzdWJkb21haW5zIjogImFiYyIsICJ0bXMiOiBmYWxzZX0KICAgICAgICAgICAgKS5hZGRUbyhtYXBfN2I5YTY5MzBhY2EwNDY1M2IyMzI1ZWQ0OTg5MzM0MWYpOwogICAgICAgIAogICAgCiAgICAgICAgICAgIHZhciBjaXJjbGVfbWFya2VyXzY5YTNhY2Y1ODJlMTQyNGNiNTQ1YzU5NTViMjBhZWMyID0gTC5jaXJjbGVNYXJrZXIoCiAgICAgICAgICAgICAgICBbNDMuNzUzMjU4NiwgLTc5LjMyOTY1NjVdLAogICAgICAgICAgICAgICAgeyJidWJibGluZ01vdXNlRXZlbnRzIjogdHJ1ZSwgImNvbG9yIjogImJsdWUiLCAiZGFzaEFycmF5IjogbnVsbCwgImRhc2hPZmZzZXQiOiBudWxsLCAiZmlsbCI6IHRydWUsICJmaWxsQ29sb3IiOiAiIzMxODZjYyIsICJmaWxsT3BhY2l0eSI6IDAuNywgImZpbGxSdWxlIjogImV2ZW5vZGQiLCAibGluZUNhcCI6ICJyb3VuZCIsICJsaW5lSm9pbiI6ICJyb3VuZCIsICJvcGFjaXR5IjogMS4wLCAicmFkaXVzIjogNSwgInN0cm9rZSI6IHRydWUsICJ3ZWlnaHQiOiAzfQogICAgICAgICAgICApLmFkZFRvKG1hcF83YjlhNjkzMGFjYTA0NjUzYjIzMjVlZDQ5ODkzMzQxZik7CiAgICAgICAgCiAgICAKICAgICAgICB2YXIgcG9wdXBfYTA1ZjdhNDgxODg1NGJiMzgzNDFjNTNmODhlZDJkMjAgPSBMLnBvcHVwKHsibWF4V2lkdGgiOiAiMTAwJSJ9KTsKCiAgICAgICAgCiAgICAgICAgICAgIHZhciBodG1sXzdlZDNlYjk3MDk5MDQ4ODBhOWJiZjQwNTM4YjJhMjA1ID0gJChgPGRpdiBpZD0iaHRtbF83ZWQzZWI5NzA5OTA0ODgwYTliYmY0MDUzOGIyYTIwNSIgc3R5bGU9IndpZHRoOiAxMDAuMCU7IGhlaWdodDogMTAwLjAlOyI+UGFya3dvb2RzLCBOb3J0aCBZb3JrPC9kaXY+YClbMF07CiAgICAgICAgICAgIHBvcHVwX2EwNWY3YTQ4MTg4NTRiYjM4MzQxYzUzZjg4ZWQyZDIwLnNldENvbnRlbnQoaHRtbF83ZWQzZWI5NzA5OTA0ODgwYTliYmY0MDUzOGIyYTIwNSk7CiAgICAgICAgCgogICAgICAgIGNpcmNsZV9tYXJrZXJfNjlhM2FjZjU4MmUxNDI0Y2I1NDVjNTk1NWIyMGFlYzIuYmluZFBvcHVwKHBvcHVwX2EwNWY3YTQ4MTg4NTRiYjM4MzQxYzUzZjg4ZWQyZDIwKQogICAgICAgIDsKCiAgICAgICAgCiAgICAKICAgIAogICAgICAgICAgICB2YXIgY2lyY2xlX21hcmtlcl9iOGU5NWYxODY3MWY0MTA3OGZkMmU1ODliYWM1NDA5NyA9IEwuY2lyY2xlTWFya2VyKAogICAgICAgICAgICAgICAgWzQzLjcyNTg4MjI5OTk5OTk5NSwgLTc5LjMxNTU3MTU5OTk5OTk4XSwKICAgICAgICAgICAgICAgIHsiYnViYmxpbmdNb3VzZUV2ZW50cyI6IHRydWUsICJjb2xvciI6ICJibHVlIiwgImRhc2hBcnJheSI6IG51bGwsICJkYXNoT2Zmc2V0IjogbnVsbCwgImZpbGwiOiB0cnVlLCAiZmlsbENvbG9yIjogIiMzMTg2Y2MiLCAiZmlsbE9wYWNpdHkiOiAwLjcsICJmaWxsUnVsZSI6ICJldmVub2RkIiwgImxpbmVDYXAiOiAicm91bmQiLCAibGluZUpvaW4iOiAicm91bmQiLCAib3BhY2l0eSI6IDEuMCwgInJhZGl1cyI6IDUsICJzdHJva2UiOiB0cnVlLCAid2VpZ2h0IjogM30KICAgICAgICAgICAgKS5hZGRUbyhtYXBfN2I5YTY5MzBhY2EwNDY1M2IyMzI1ZWQ0OTg5MzM0MWYpOwogICAgICAgIAogICAgCiAgICAgICAgdmFyIHBvcHVwX2UxMDU4MjQ1NGJhZDQwODBiMzVhZDU4OWYwNTY3MWY0ID0gTC5wb3B1cCh7Im1heFdpZHRoIjogIjEwMCUifSk7CgogICAgICAgIAogICAgICAgICAgICB2YXIgaHRtbF8wMTEzYTQyNTQxODE0ZGM4YjMyYTRlOWZkZGIyM2JjNyA9ICQoYDxkaXYgaWQ9Imh0bWxfMDExM2E0MjU0MTgxNGRjOGIzMmE0ZTlmZGRiMjNiYzciIHN0eWxlPSJ3aWR0aDogMTAwLjAlOyBoZWlnaHQ6IDEwMC4wJTsiPlZpY3RvcmlhIFZpbGxhZ2UsIE5vcnRoIFlvcms8L2Rpdj5gKVswXTsKICAgICAgICAgICAgcG9wdXBfZTEwNTgyNDU0YmFkNDA4MGIzNWFkNTg5ZjA1NjcxZjQuc2V0Q29udGVudChodG1sXzAxMTNhNDI1NDE4MTRkYzhiMzJhNGU5ZmRkYjIzYmM3KTsKICAgICAgICAKCiAgICAgICAgY2lyY2xlX21hcmtlcl9iOGU5NWYxODY3MWY0MTA3OGZkMmU1ODliYWM1NDA5Ny5iaW5kUG9wdXAocG9wdXBfZTEwNTgyNDU0YmFkNDA4MGIzNWFkNTg5ZjA1NjcxZjQpCiAgICAgICAgOwoKICAgICAgICAKICAgIAogICAgCiAgICAgICAgICAgIHZhciBjaXJjbGVfbWFya2VyXzhmMmFhY2I2MzU0NzQwMGQ4MWUwMTNjNWMxMDY3MGFiID0gTC5jaXJjbGVNYXJrZXIoCiAgICAgICAgICAgICAgICBbNDMuNjU0MjU5OSwgLTc5LjM2MDYzNTldLAogICAgICAgICAgICAgICAgeyJidWJibGluZ01vdXNlRXZlbnRzIjogdHJ1ZSwgImNvbG9yIjogImJsdWUiLCAiZGFzaEFycmF5IjogbnVsbCwgImRhc2hPZmZzZXQiOiBudWxsLCAiZmlsbCI6IHRydWUsICJmaWxsQ29sb3IiOiAiIzMxODZjYyIsICJmaWxsT3BhY2l0eSI6IDAuNywgImZpbGxSdWxlIjogImV2ZW5vZGQiLCAibGluZUNhcCI6ICJyb3VuZCIsICJsaW5lSm9pbiI6ICJyb3VuZCIsICJvcGFjaXR5IjogMS4wLCAicmFkaXVzIjogNSwgInN0cm9rZSI6IHRydWUsICJ3ZWlnaHQiOiAzfQogICAgICAgICAgICApLmFkZFRvKG1hcF83YjlhNjkzMGFjYTA0NjUzYjIzMjVlZDQ5ODkzMzQxZik7CiAgICAgICAgCiAgICAKICAgICAgICB2YXIgcG9wdXBfMTY0NDA3ODIzZjA2NGIwZjgzNmIwYThkYzdiNTI4NjEgPSBMLnBvcHVwKHsibWF4V2lkdGgiOiAiMTAwJSJ9KTsKCiAgICAgICAgCiAgICAgICAgICAgIHZhciBodG1sXzgyODExYjZjNzQ1MDRmYTY5YzRiYjk3OTI5Yzk3NDk2ID0gJChgPGRpdiBpZD0iaHRtbF84MjgxMWI2Yzc0NTA0ZmE2OWM0YmI5NzkyOWM5NzQ5NiIgc3R5bGU9IndpZHRoOiAxMDAuMCU7IGhlaWdodDogMTAwLjAlOyI+UmVnZW50IFBhcmssIEhhcmJvdXJmcm9udCwgRG93bnRvd24gVG9yb250bzwvZGl2PmApWzBdOwogICAgICAgICAgICBwb3B1cF8xNjQ0MDc4MjNmMDY0YjBmODM2YjBhOGRjN2I1Mjg2MS5zZXRDb250ZW50KGh0bWxfODI4MTFiNmM3NDUwNGZhNjljNGJiOTc5MjljOTc0OTYpOwogICAgICAgIAoKICAgICAgICBjaXJjbGVfbWFya2VyXzhmMmFhY2I2MzU0NzQwMGQ4MWUwMTNjNWMxMDY3MGFiLmJpbmRQb3B1cChwb3B1cF8xNjQ0MDc4MjNmMDY0YjBmODM2YjBhOGRjN2I1Mjg2MSkKICAgICAgICA7CgogICAgICAgIAogICAgCiAgICAKICAgICAgICAgICAgdmFyIGNpcmNsZV9tYXJrZXJfYzdiY2M0ZjdiNTI0NGJiMzhhOGRlNjUzMDllYjQ1ZGEgPSBMLmNpcmNsZU1hcmtlcigKICAgICAgICAgICAgICAgIFs0My43MTg1MTc5OTk5OTk5OTYsIC03OS40NjQ3NjMyOTk5OTk5OV0sCiAgICAgICAgICAgICAgICB7ImJ1YmJsaW5nTW91c2VFdmVudHMiOiB0cnVlLCAiY29sb3IiOiAiYmx1ZSIsICJkYXNoQXJyYXkiOiBudWxsLCAiZGFzaE9mZnNldCI6IG51bGwsICJmaWxsIjogdHJ1ZSwgImZpbGxDb2xvciI6ICIjMzE4NmNjIiwgImZpbGxPcGFjaXR5IjogMC43LCAiZmlsbFJ1bGUiOiAiZXZlbm9kZCIsICJsaW5lQ2FwIjogInJvdW5kIiwgImxpbmVKb2luIjogInJvdW5kIiwgIm9wYWNpdHkiOiAxLjAsICJyYWRpdXMiOiA1LCAic3Ryb2tlIjogdHJ1ZSwgIndlaWdodCI6IDN9CiAgICAgICAgICAgICkuYWRkVG8obWFwXzdiOWE2OTMwYWNhMDQ2NTNiMjMyNWVkNDk4OTMzNDFmKTsKICAgICAgICAKICAgIAogICAgICAgIHZhciBwb3B1cF8zODQ5MjYyZWY5YmI0ODFkOTY1M2ZjMmE3ZDc1MzAzMyA9IEwucG9wdXAoeyJtYXhXaWR0aCI6ICIxMDAlIn0pOwoKICAgICAgICAKICAgICAgICAgICAgdmFyIGh0bWxfYTYxMjI2YjliMDA4NDUwMThjMjIyNzUxYmE3YTVjYmIgPSAkKGA8ZGl2IGlkPSJodG1sX2E2MTIyNmI5YjAwODQ1MDE4YzIyMjc1MWJhN2E1Y2JiIiBzdHlsZT0id2lkdGg6IDEwMC4wJTsgaGVpZ2h0OiAxMDAuMCU7Ij5MYXdyZW5jZSBNYW5vciwgTGF3cmVuY2UgSGVpZ2h0cywgTm9ydGggWW9yazwvZGl2PmApWzBdOwogICAgICAgICAgICBwb3B1cF8zODQ5MjYyZWY5YmI0ODFkOTY1M2ZjMmE3ZDc1MzAzMy5zZXRDb250ZW50KGh0bWxfYTYxMjI2YjliMDA4NDUwMThjMjIyNzUxYmE3YTVjYmIpOwogICAgICAgIAoKICAgICAgICBjaXJjbGVfbWFya2VyX2M3YmNjNGY3YjUyNDRiYjM4YThkZTY1MzA5ZWI0NWRhLmJpbmRQb3B1cChwb3B1cF8zODQ5MjYyZWY5YmI0ODFkOTY1M2ZjMmE3ZDc1MzAzMykKICAgICAgICA7CgogICAgICAgIAogICAgCiAgICAKICAgICAgICAgICAgdmFyIGNpcmNsZV9tYXJrZXJfZjcwMWE4NGE2Mzg4NDFjMWI2NDVmYTM4ZmJkZmQyMmUgPSBMLmNpcmNsZU1hcmtlcigKICAgICAgICAgICAgICAgIFs0My42NjIzMDE1LCAtNzkuMzg5NDkzOF0sCiAgICAgICAgICAgICAgICB7ImJ1YmJsaW5nTW91c2VFdmVudHMiOiB0cnVlLCAiY29sb3IiOiAiYmx1ZSIsICJkYXNoQXJyYXkiOiBudWxsLCAiZGFzaE9mZnNldCI6IG51bGwsICJmaWxsIjogdHJ1ZSwgImZpbGxDb2xvciI6ICIjMzE4NmNjIiwgImZpbGxPcGFjaXR5IjogMC43LCAiZmlsbFJ1bGUiOiAiZXZlbm9kZCIsICJsaW5lQ2FwIjogInJvdW5kIiwgImxpbmVKb2luIjogInJvdW5kIiwgIm9wYWNpdHkiOiAxLjAsICJyYWRpdXMiOiA1LCAic3Ryb2tlIjogdHJ1ZSwgIndlaWdodCI6IDN9CiAgICAgICAgICAgICkuYWRkVG8obWFwXzdiOWE2OTMwYWNhMDQ2NTNiMjMyNWVkNDk4OTMzNDFmKTsKICAgICAgICAKICAgIAogICAgICAgIHZhciBwb3B1cF81ZTUwN2RiNzBkMGM0ZDc1OWNjOTc0YzMwOGFlOTliNSA9IEwucG9wdXAoeyJtYXhXaWR0aCI6ICIxMDAlIn0pOwoKICAgICAgICAKICAgICAgICAgICAgdmFyIGh0bWxfMjM2MjExM2MzYzI2NDM2NmJhMWFkMWNiMjk4ZTFhZDUgPSAkKGA8ZGl2IGlkPSJodG1sXzIzNjIxMTNjM2MyNjQzNjZiYTFhZDFjYjI5OGUxYWQ1IiBzdHlsZT0id2lkdGg6IDEwMC4wJTsgaGVpZ2h0OiAxMDAuMCU7Ij5RdWVlbiYjMzk7cyBQYXJrLCBPbnRhcmlvIFByb3ZpbmNpYWwgR292ZXJubWVudCwgRG93bnRvd24gVG9yb250bzwvZGl2PmApWzBdOwogICAgICAgICAgICBwb3B1cF81ZTUwN2RiNzBkMGM0ZDc1OWNjOTc0YzMwOGFlOTliNS5zZXRDb250ZW50KGh0bWxfMjM2MjExM2MzYzI2NDM2NmJhMWFkMWNiMjk4ZTFhZDUpOwogICAgICAgIAoKICAgICAgICBjaXJjbGVfbWFya2VyX2Y3MDFhODRhNjM4ODQxYzFiNjQ1ZmEzOGZiZGZkMjJlLmJpbmRQb3B1cChwb3B1cF81ZTUwN2RiNzBkMGM0ZDc1OWNjOTc0YzMwOGFlOTliNSkKICAgICAgICA7CgogICAgICAgIAogICAgCiAgICAKICAgICAgICAgICAgdmFyIGNpcmNsZV9tYXJrZXJfMGQ1ZGY5M2U2OTllNDM0MzhlOThkZWU4ZjVmNDJlZjcgPSBMLmNpcmNsZU1hcmtlcigKICAgICAgICAgICAgICAgIFs0My42Njc4NTU2LCAtNzkuNTMyMjQyNDAwMDAwMDJdLAogICAgICAgICAgICAgICAgeyJidWJibGluZ01vdXNlRXZlbnRzIjogdHJ1ZSwgImNvbG9yIjogImJsdWUiLCAiZGFzaEFycmF5IjogbnVsbCwgImRhc2hPZmZzZXQiOiBudWxsLCAiZmlsbCI6IHRydWUsICJmaWxsQ29sb3IiOiAiIzMxODZjYyIsICJmaWxsT3BhY2l0eSI6IDAuNywgImZpbGxSdWxlIjogImV2ZW5vZGQiLCAibGluZUNhcCI6ICJyb3VuZCIsICJsaW5lSm9pbiI6ICJyb3VuZCIsICJvcGFjaXR5IjogMS4wLCAicmFkaXVzIjogNSwgInN0cm9rZSI6IHRydWUsICJ3ZWlnaHQiOiAzfQogICAgICAgICAgICApLmFkZFRvKG1hcF83YjlhNjkzMGFjYTA0NjUzYjIzMjVlZDQ5ODkzMzQxZik7CiAgICAgICAgCiAgICAKICAgICAgICB2YXIgcG9wdXBfYzYwNzRjMzNhYzE1NDg4NTkyMzE3M2EwYzVlYzI2MjQgPSBMLnBvcHVwKHsibWF4V2lkdGgiOiAiMTAwJSJ9KTsKCiAgICAgICAgCiAgICAgICAgICAgIHZhciBodG1sX2QyMGU3Y2NmMGNkYzRlODI4NDU0OWY1OGNjOTA1ZGQ0ID0gJChgPGRpdiBpZD0iaHRtbF9kMjBlN2NjZjBjZGM0ZTgyODQ1NDlmNThjYzkwNWRkNCIgc3R5bGU9IndpZHRoOiAxMDAuMCU7IGhlaWdodDogMTAwLjAlOyI+SXNsaW5ndG9uIEF2ZW51ZSwgSHVtYmVyIFZhbGxleSBWaWxsYWdlLCBFdG9iaWNva2U8L2Rpdj5gKVswXTsKICAgICAgICAgICAgcG9wdXBfYzYwNzRjMzNhYzE1NDg4NTkyMzE3M2EwYzVlYzI2MjQuc2V0Q29udGVudChodG1sX2QyMGU3Y2NmMGNkYzRlODI4NDU0OWY1OGNjOTA1ZGQ0KTsKICAgICAgICAKCiAgICAgICAgY2lyY2xlX21hcmtlcl8wZDVkZjkzZTY5OWU0MzQzOGU5OGRlZThmNWY0MmVmNy5iaW5kUG9wdXAocG9wdXBfYzYwNzRjMzNhYzE1NDg4NTkyMzE3M2EwYzVlYzI2MjQpCiAgICAgICAgOwoKICAgICAgICAKICAgIAogICAgCiAgICAgICAgICAgIHZhciBjaXJjbGVfbWFya2VyX2EyMDE2Zjk3Nzk2YzRlZTViOGVjMzIwYTBmNWM4ZDU1ID0gTC5jaXJjbGVNYXJrZXIoCiAgICAgICAgICAgICAgICBbNDMuODA2Njg2Mjk5OTk5OTk2LCAtNzkuMTk0MzUzNDAwMDAwMDFdLAogICAgICAgICAgICAgICAgeyJidWJibGluZ01vdXNlRXZlbnRzIjogdHJ1ZSwgImNvbG9yIjogImJsdWUiLCAiZGFzaEFycmF5IjogbnVsbCwgImRhc2hPZmZzZXQiOiBudWxsLCAiZmlsbCI6IHRydWUsICJmaWxsQ29sb3IiOiAiIzMxODZjYyIsICJmaWxsT3BhY2l0eSI6IDAuNywgImZpbGxSdWxlIjogImV2ZW5vZGQiLCAibGluZUNhcCI6ICJyb3VuZCIsICJsaW5lSm9pbiI6ICJyb3VuZCIsICJvcGFjaXR5IjogMS4wLCAicmFkaXVzIjogNSwgInN0cm9rZSI6IHRydWUsICJ3ZWlnaHQiOiAzfQogICAgICAgICAgICApLmFkZFRvKG1hcF83YjlhNjkzMGFjYTA0NjUzYjIzMjVlZDQ5ODkzMzQxZik7CiAgICAgICAgCiAgICAKICAgICAgICB2YXIgcG9wdXBfM2M0NGU4YmEzYWVjNDVhZDg5N2EwYzUwNzg1OGFlZDggPSBMLnBvcHVwKHsibWF4V2lkdGgiOiAiMTAwJSJ9KTsKCiAgICAgICAgCiAgICAgICAgICAgIHZhciBodG1sXzQ1ZDI0MzViNzllOTRjYTY4NTFlMTNhMTRiODkyMDU0ID0gJChgPGRpdiBpZD0iaHRtbF80NWQyNDM1Yjc5ZTk0Y2E2ODUxZTEzYTE0Yjg5MjA1NCIgc3R5bGU9IndpZHRoOiAxMDAuMCU7IGhlaWdodDogMTAwLjAlOyI+TWFsdmVybiwgUm91Z2UsIFNjYXJib3JvdWdoPC9kaXY+YClbMF07CiAgICAgICAgICAgIHBvcHVwXzNjNDRlOGJhM2FlYzQ1YWQ4OTdhMGM1MDc4NThhZWQ4LnNldENvbnRlbnQoaHRtbF80NWQyNDM1Yjc5ZTk0Y2E2ODUxZTEzYTE0Yjg5MjA1NCk7CiAgICAgICAgCgogICAgICAgIGNpcmNsZV9tYXJrZXJfYTIwMTZmOTc3OTZjNGVlNWI4ZWMzMjBhMGY1YzhkNTUuYmluZFBvcHVwKHBvcHVwXzNjNDRlOGJhM2FlYzQ1YWQ4OTdhMGM1MDc4NThhZWQ4KQogICAgICAgIDsKCiAgICAgICAgCiAgICAKICAgIAogICAgICAgICAgICB2YXIgY2lyY2xlX21hcmtlcl82MGYwNTE5NTAxOTE0YzE2OTQ4Zjc3NzNlMmQzNTNhMSA9IEwuY2lyY2xlTWFya2VyKAogICAgICAgICAgICAgICAgWzQzLjc0NTkwNTc5OTk5OTk5NiwgLTc5LjM1MjE4OF0sCiAgICAgICAgICAgICAgICB7ImJ1YmJsaW5nTW91c2VFdmVudHMiOiB0cnVlLCAiY29sb3IiOiAiYmx1ZSIsICJkYXNoQXJyYXkiOiBudWxsLCAiZGFzaE9mZnNldCI6IG51bGwsICJmaWxsIjogdHJ1ZSwgImZpbGxDb2xvciI6ICIjMzE4NmNjIiwgImZpbGxPcGFjaXR5IjogMC43LCAiZmlsbFJ1bGUiOiAiZXZlbm9kZCIsICJsaW5lQ2FwIjogInJvdW5kIiwgImxpbmVKb2luIjogInJvdW5kIiwgIm9wYWNpdHkiOiAxLjAsICJyYWRpdXMiOiA1LCAic3Ryb2tlIjogdHJ1ZSwgIndlaWdodCI6IDN9CiAgICAgICAgICAgICkuYWRkVG8obWFwXzdiOWE2OTMwYWNhMDQ2NTNiMjMyNWVkNDk4OTMzNDFmKTsKICAgICAgICAKICAgIAogICAgICAgIHZhciBwb3B1cF81MWQ4OWM3NDA4M2I0M2FjYjE2ODI3MjlmZDIyODQ1YiA9IEwucG9wdXAoeyJtYXhXaWR0aCI6ICIxMDAlIn0pOwoKICAgICAgICAKICAgICAgICAgICAgdmFyIGh0bWxfMzY1ODAyNzhmZTlkNDNjNzk2MGNhNzY5NDliZjEyNjAgPSAkKGA8ZGl2IGlkPSJodG1sXzM2NTgwMjc4ZmU5ZDQzYzc5NjBjYTc2OTQ5YmYxMjYwIiBzdHlsZT0id2lkdGg6IDEwMC4wJTsgaGVpZ2h0OiAxMDAuMCU7Ij5Eb24gTWlsbHMsIE5vcnRoIFlvcms8L2Rpdj5gKVswXTsKICAgICAgICAgICAgcG9wdXBfNTFkODljNzQwODNiNDNhY2IxNjgyNzI5ZmQyMjg0NWIuc2V0Q29udGVudChodG1sXzM2NTgwMjc4ZmU5ZDQzYzc5NjBjYTc2OTQ5YmYxMjYwKTsKICAgICAgICAKCiAgICAgICAgY2lyY2xlX21hcmtlcl82MGYwNTE5NTAxOTE0YzE2OTQ4Zjc3NzNlMmQzNTNhMS5iaW5kUG9wdXAocG9wdXBfNTFkODljNzQwODNiNDNhY2IxNjgyNzI5ZmQyMjg0NWIpCiAgICAgICAgOwoKICAgICAgICAKICAgIAogICAgCiAgICAgICAgICAgIHZhciBjaXJjbGVfbWFya2VyXzFkYTQ4YmU5NjIwZjRkMjA4MzliZDQ1Nzc5NTE2ZGEzID0gTC5jaXJjbGVNYXJrZXIoCiAgICAgICAgICAgICAgICBbNDMuNzA2Mzk3MiwgLTc5LjMwOTkzN10sCiAgICAgICAgICAgICAgICB7ImJ1YmJsaW5nTW91c2VFdmVudHMiOiB0cnVlLCAiY29sb3IiOiAiYmx1ZSIsICJkYXNoQXJyYXkiOiBudWxsLCAiZGFzaE9mZnNldCI6IG51bGwsICJmaWxsIjogdHJ1ZSwgImZpbGxDb2xvciI6ICIjMzE4NmNjIiwgImZpbGxPcGFjaXR5IjogMC43LCAiZmlsbFJ1bGUiOiAiZXZlbm9kZCIsICJsaW5lQ2FwIjogInJvdW5kIiwgImxpbmVKb2luIjogInJvdW5kIiwgIm9wYWNpdHkiOiAxLjAsICJyYWRpdXMiOiA1LCAic3Ryb2tlIjogdHJ1ZSwgIndlaWdodCI6IDN9CiAgICAgICAgICAgICkuYWRkVG8obWFwXzdiOWE2OTMwYWNhMDQ2NTNiMjMyNWVkNDk4OTMzNDFmKTsKICAgICAgICAKICAgIAogICAgICAgIHZhciBwb3B1cF9lZGVjMmZhMWYyNWM0YWZkYWE1MTg5Mzg1ZGU4MDU3MiA9IEwucG9wdXAoeyJtYXhXaWR0aCI6ICIxMDAlIn0pOwoKICAgICAgICAKICAgICAgICAgICAgdmFyIGh0bWxfZjM3ZTM2ZWJkZjRiNDEzMjliNzExZDVjOWFiYmZmNTkgPSAkKGA8ZGl2IGlkPSJodG1sX2YzN2UzNmViZGY0YjQxMzI5YjcxMWQ1YzlhYmJmZjU5IiBzdHlsZT0id2lkdGg6IDEwMC4wJTsgaGVpZ2h0OiAxMDAuMCU7Ij5QYXJrdmlldyBIaWxsLCBXb29kYmluZSBHYXJkZW5zLCBFYXN0IFlvcms8L2Rpdj5gKVswXTsKICAgICAgICAgICAgcG9wdXBfZWRlYzJmYTFmMjVjNGFmZGFhNTE4OTM4NWRlODA1NzIuc2V0Q29udGVudChodG1sX2YzN2UzNmViZGY0YjQxMzI5YjcxMWQ1YzlhYmJmZjU5KTsKICAgICAgICAKCiAgICAgICAgY2lyY2xlX21hcmtlcl8xZGE0OGJlOTYyMGY0ZDIwODM5YmQ0NTc3OTUxNmRhMy5iaW5kUG9wdXAocG9wdXBfZWRlYzJmYTFmMjVjNGFmZGFhNTE4OTM4NWRlODA1NzIpCiAgICAgICAgOwoKICAgICAgICAKICAgIAogICAgCiAgICAgICAgICAgIHZhciBjaXJjbGVfbWFya2VyX2Y1YzExMTQ0YjllZjQ4NTFiM2IwNWFlYzdhZTYxODg0ID0gTC5jaXJjbGVNYXJrZXIoCiAgICAgICAgICAgICAgICBbNDMuNjU3MTYxOCwgLTc5LjM3ODkzNzA5OTk5OTk5XSwKICAgICAgICAgICAgICAgIHsiYnViYmxpbmdNb3VzZUV2ZW50cyI6IHRydWUsICJjb2xvciI6ICJibHVlIiwgImRhc2hBcnJheSI6IG51bGwsICJkYXNoT2Zmc2V0IjogbnVsbCwgImZpbGwiOiB0cnVlLCAiZmlsbENvbG9yIjogIiMzMTg2Y2MiLCAiZmlsbE9wYWNpdHkiOiAwLjcsICJmaWxsUnVsZSI6ICJldmVub2RkIiwgImxpbmVDYXAiOiAicm91bmQiLCAibGluZUpvaW4iOiAicm91bmQiLCAib3BhY2l0eSI6IDEuMCwgInJhZGl1cyI6IDUsICJzdHJva2UiOiB0cnVlLCAid2VpZ2h0IjogM30KICAgICAgICAgICAgKS5hZGRUbyhtYXBfN2I5YTY5MzBhY2EwNDY1M2IyMzI1ZWQ0OTg5MzM0MWYpOwogICAgICAgIAogICAgCiAgICAgICAgdmFyIHBvcHVwX2ZmZTFmYjQ0NWM2MDQyZTBhZmY3MzdkNzhlM2JkNjQzID0gTC5wb3B1cCh7Im1heFdpZHRoIjogIjEwMCUifSk7CgogICAgICAgIAogICAgICAgICAgICB2YXIgaHRtbF9jZGEzNjQ1Yjk0OGY0MjAyODA5ZTg3NTU5NTc1YjkxZiA9ICQoYDxkaXYgaWQ9Imh0bWxfY2RhMzY0NWI5NDhmNDIwMjgwOWU4NzU1OTU3NWI5MWYiIHN0eWxlPSJ3aWR0aDogMTAwLjAlOyBoZWlnaHQ6IDEwMC4wJTsiPkdhcmRlbiBEaXN0cmljdCwgUnllcnNvbiwgRG93bnRvd24gVG9yb250bzwvZGl2PmApWzBdOwogICAgICAgICAgICBwb3B1cF9mZmUxZmI0NDVjNjA0MmUwYWZmNzM3ZDc4ZTNiZDY0My5zZXRDb250ZW50KGh0bWxfY2RhMzY0NWI5NDhmNDIwMjgwOWU4NzU1OTU3NWI5MWYpOwogICAgICAgIAoKICAgICAgICBjaXJjbGVfbWFya2VyX2Y1YzExMTQ0YjllZjQ4NTFiM2IwNWFlYzdhZTYxODg0LmJpbmRQb3B1cChwb3B1cF9mZmUxZmI0NDVjNjA0MmUwYWZmNzM3ZDc4ZTNiZDY0MykKICAgICAgICA7CgogICAgICAgIAogICAgCiAgICAKICAgICAgICAgICAgdmFyIGNpcmNsZV9tYXJrZXJfZTkzMDI3YTQwNDNiNDRjNDhjMmUwZWYxMmRlYTg4ZjQgPSBMLmNpcmNsZU1hcmtlcigKICAgICAgICAgICAgICAgIFs0My43MDk1NzcsIC03OS40NDUwNzI1OTk5OTk5OV0sCiAgICAgICAgICAgICAgICB7ImJ1YmJsaW5nTW91c2VFdmVudHMiOiB0cnVlLCAiY29sb3IiOiAiYmx1ZSIsICJkYXNoQXJyYXkiOiBudWxsLCAiZGFzaE9mZnNldCI6IG51bGwsICJmaWxsIjogdHJ1ZSwgImZpbGxDb2xvciI6ICIjMzE4NmNjIiwgImZpbGxPcGFjaXR5IjogMC43LCAiZmlsbFJ1bGUiOiAiZXZlbm9kZCIsICJsaW5lQ2FwIjogInJvdW5kIiwgImxpbmVKb2luIjogInJvdW5kIiwgIm9wYWNpdHkiOiAxLjAsICJyYWRpdXMiOiA1LCAic3Ryb2tlIjogdHJ1ZSwgIndlaWdodCI6IDN9CiAgICAgICAgICAgICkuYWRkVG8obWFwXzdiOWE2OTMwYWNhMDQ2NTNiMjMyNWVkNDk4OTMzNDFmKTsKICAgICAgICAKICAgIAogICAgICAgIHZhciBwb3B1cF9kN2RkMzIyNjBmYjI0NmU5YjNkYjhiYzBiNWVkNDVlMyA9IEwucG9wdXAoeyJtYXhXaWR0aCI6ICIxMDAlIn0pOwoKICAgICAgICAKICAgICAgICAgICAgdmFyIGh0bWxfZDE5ZjBlNmRlZTBiNDEzODk0MzFjOGQ4Yjg4MjcwZGMgPSAkKGA8ZGl2IGlkPSJodG1sX2QxOWYwZTZkZWUwYjQxMzg5NDMxYzhkOGI4ODI3MGRjIiBzdHlsZT0id2lkdGg6IDEwMC4wJTsgaGVpZ2h0OiAxMDAuMCU7Ij5HbGVuY2Fpcm4sIE5vcnRoIFlvcms8L2Rpdj5gKVswXTsKICAgICAgICAgICAgcG9wdXBfZDdkZDMyMjYwZmIyNDZlOWIzZGI4YmMwYjVlZDQ1ZTMuc2V0Q29udGVudChodG1sX2QxOWYwZTZkZWUwYjQxMzg5NDMxYzhkOGI4ODI3MGRjKTsKICAgICAgICAKCiAgICAgICAgY2lyY2xlX21hcmtlcl9lOTMwMjdhNDA0M2I0NGM0OGMyZTBlZjEyZGVhODhmNC5iaW5kUG9wdXAocG9wdXBfZDdkZDMyMjYwZmIyNDZlOWIzZGI4YmMwYjVlZDQ1ZTMpCiAgICAgICAgOwoKICAgICAgICAKICAgIAogICAgCiAgICAgICAgICAgIHZhciBjaXJjbGVfbWFya2VyX2YwODQ1MDQzYjllYTQzYjA4NzUxMjVjMGZlYzQ1ZDQwID0gTC5jaXJjbGVNYXJrZXIoCiAgICAgICAgICAgICAgICBbNDMuNjUwOTQzMiwgLTc5LjU1NDcyNDQwMDAwMDAxXSwKICAgICAgICAgICAgICAgIHsiYnViYmxpbmdNb3VzZUV2ZW50cyI6IHRydWUsICJjb2xvciI6ICJibHVlIiwgImRhc2hBcnJheSI6IG51bGwsICJkYXNoT2Zmc2V0IjogbnVsbCwgImZpbGwiOiB0cnVlLCAiZmlsbENvbG9yIjogIiMzMTg2Y2MiLCAiZmlsbE9wYWNpdHkiOiAwLjcsICJmaWxsUnVsZSI6ICJldmVub2RkIiwgImxpbmVDYXAiOiAicm91bmQiLCAibGluZUpvaW4iOiAicm91bmQiLCAib3BhY2l0eSI6IDEuMCwgInJhZGl1cyI6IDUsICJzdHJva2UiOiB0cnVlLCAid2VpZ2h0IjogM30KICAgICAgICAgICAgKS5hZGRUbyhtYXBfN2I5YTY5MzBhY2EwNDY1M2IyMzI1ZWQ0OTg5MzM0MWYpOwogICAgICAgIAogICAgCiAgICAgICAgdmFyIHBvcHVwXzg1NjM1NzAxZDIyZjQ4NjRiNTBjMzBmY2Q5YjIxZWZmID0gTC5wb3B1cCh7Im1heFdpZHRoIjogIjEwMCUifSk7CgogICAgICAgIAogICAgICAgICAgICB2YXIgaHRtbF83NmIxZjFhMjg4MDE0ZDdhODZhMTdkYzU1YzBmMGI3MCA9ICQoYDxkaXYgaWQ9Imh0bWxfNzZiMWYxYTI4ODAxNGQ3YTg2YTE3ZGM1NWMwZjBiNzAiIHN0eWxlPSJ3aWR0aDogMTAwLjAlOyBoZWlnaHQ6IDEwMC4wJTsiPldlc3QgRGVhbmUgUGFyaywgUHJpbmNlc3MgR2FyZGVucywgTWFydGluIEdyb3ZlLCBJc2xpbmd0b24sIENsb3ZlcmRhbGUsIEV0b2JpY29rZTwvZGl2PmApWzBdOwogICAgICAgICAgICBwb3B1cF84NTYzNTcwMWQyMmY0ODY0YjUwYzMwZmNkOWIyMWVmZi5zZXRDb250ZW50KGh0bWxfNzZiMWYxYTI4ODAxNGQ3YTg2YTE3ZGM1NWMwZjBiNzApOwogICAgICAgIAoKICAgICAgICBjaXJjbGVfbWFya2VyX2YwODQ1MDQzYjllYTQzYjA4NzUxMjVjMGZlYzQ1ZDQwLmJpbmRQb3B1cChwb3B1cF84NTYzNTcwMWQyMmY0ODY0YjUwYzMwZmNkOWIyMWVmZikKICAgICAgICA7CgogICAgICAgIAogICAgCiAgICAKICAgICAgICAgICAgdmFyIGNpcmNsZV9tYXJrZXJfNGQwN2E0NzJiYzg1NGU0M2EyMDU5NGE3ODYxZjhiM2YgPSBMLmNpcmNsZU1hcmtlcigKICAgICAgICAgICAgICAgIFs0My43ODQ1MzUxLCAtNzkuMTYwNDk3MDk5OTk5OTldLAogICAgICAgICAgICAgICAgeyJidWJibGluZ01vdXNlRXZlbnRzIjogdHJ1ZSwgImNvbG9yIjogImJsdWUiLCAiZGFzaEFycmF5IjogbnVsbCwgImRhc2hPZmZzZXQiOiBudWxsLCAiZmlsbCI6IHRydWUsICJmaWxsQ29sb3IiOiAiIzMxODZjYyIsICJmaWxsT3BhY2l0eSI6IDAuNywgImZpbGxSdWxlIjogImV2ZW5vZGQiLCAibGluZUNhcCI6ICJyb3VuZCIsICJsaW5lSm9pbiI6ICJyb3VuZCIsICJvcGFjaXR5IjogMS4wLCAicmFkaXVzIjogNSwgInN0cm9rZSI6IHRydWUsICJ3ZWlnaHQiOiAzfQogICAgICAgICAgICApLmFkZFRvKG1hcF83YjlhNjkzMGFjYTA0NjUzYjIzMjVlZDQ5ODkzMzQxZik7CiAgICAgICAgCiAgICAKICAgICAgICB2YXIgcG9wdXBfYzI2MjUwZDU2MWU2NDFlMDhlYzI0YzdhYTIyODlmNDkgPSBMLnBvcHVwKHsibWF4V2lkdGgiOiAiMTAwJSJ9KTsKCiAgICAgICAgCiAgICAgICAgICAgIHZhciBodG1sXzRkNjY3MWU1Mjk0ODQ2MjRhNzk0ZWY2NmZjNDUyNmEzID0gJChgPGRpdiBpZD0iaHRtbF80ZDY2NzFlNTI5NDg0NjI0YTc5NGVmNjZmYzQ1MjZhMyIgc3R5bGU9IndpZHRoOiAxMDAuMCU7IGhlaWdodDogMTAwLjAlOyI+Um91Z2UgSGlsbCwgUG9ydCBVbmlvbiwgSGlnaGxhbmQgQ3JlZWssIFNjYXJib3JvdWdoPC9kaXY+YClbMF07CiAgICAgICAgICAgIHBvcHVwX2MyNjI1MGQ1NjFlNjQxZTA4ZWMyNGM3YWEyMjg5ZjQ5LnNldENvbnRlbnQoaHRtbF80ZDY2NzFlNTI5NDg0NjI0YTc5NGVmNjZmYzQ1MjZhMyk7CiAgICAgICAgCgogICAgICAgIGNpcmNsZV9tYXJrZXJfNGQwN2E0NzJiYzg1NGU0M2EyMDU5NGE3ODYxZjhiM2YuYmluZFBvcHVwKHBvcHVwX2MyNjI1MGQ1NjFlNjQxZTA4ZWMyNGM3YWEyMjg5ZjQ5KQogICAgICAgIDsKCiAgICAgICAgCiAgICAKICAgIAogICAgICAgICAgICB2YXIgY2lyY2xlX21hcmtlcl8zZWVmNzJmMjY4YzU0YTQ1YTYyNGI5YWNjZWI0YWYwOSA9IEwuY2lyY2xlTWFya2VyKAogICAgICAgICAgICAgICAgWzQzLjcyNTg5OTcwMDAwMDAxLCAtNzkuMzQwOTIzXSwKICAgICAgICAgICAgICAgIHsiYnViYmxpbmdNb3VzZUV2ZW50cyI6IHRydWUsICJjb2xvciI6ICJibHVlIiwgImRhc2hBcnJheSI6IG51bGwsICJkYXNoT2Zmc2V0IjogbnVsbCwgImZpbGwiOiB0cnVlLCAiZmlsbENvbG9yIjogIiMzMTg2Y2MiLCAiZmlsbE9wYWNpdHkiOiAwLjcsICJmaWxsUnVsZSI6ICJldmVub2RkIiwgImxpbmVDYXAiOiAicm91bmQiLCAibGluZUpvaW4iOiAicm91bmQiLCAib3BhY2l0eSI6IDEuMCwgInJhZGl1cyI6IDUsICJzdHJva2UiOiB0cnVlLCAid2VpZ2h0IjogM30KICAgICAgICAgICAgKS5hZGRUbyhtYXBfN2I5YTY5MzBhY2EwNDY1M2IyMzI1ZWQ0OTg5MzM0MWYpOwogICAgICAgIAogICAgCiAgICAgICAgdmFyIHBvcHVwXzMzMmU5ZWEyZmQxYzRiMDg4NDBlZjZjZjdlM2Y3Y2U4ID0gTC5wb3B1cCh7Im1heFdpZHRoIjogIjEwMCUifSk7CgogICAgICAgIAogICAgICAgICAgICB2YXIgaHRtbF9iZmU0Nzk3NDBjNTk0YTc4ODU4OGFkZDJiYWViNDJiOSA9ICQoYDxkaXYgaWQ9Imh0bWxfYmZlNDc5NzQwYzU5NGE3ODg1ODhhZGQyYmFlYjQyYjkiIHN0eWxlPSJ3aWR0aDogMTAwLjAlOyBoZWlnaHQ6IDEwMC4wJTsiPkRvbiBNaWxscywgTm9ydGggWW9yazwvZGl2PmApWzBdOwogICAgICAgICAgICBwb3B1cF8zMzJlOWVhMmZkMWM0YjA4ODQwZWY2Y2Y3ZTNmN2NlOC5zZXRDb250ZW50KGh0bWxfYmZlNDc5NzQwYzU5NGE3ODg1ODhhZGQyYmFlYjQyYjkpOwogICAgICAgIAoKICAgICAgICBjaXJjbGVfbWFya2VyXzNlZWY3MmYyNjhjNTRhNDVhNjI0YjlhY2NlYjRhZjA5LmJpbmRQb3B1cChwb3B1cF8zMzJlOWVhMmZkMWM0YjA4ODQwZWY2Y2Y3ZTNmN2NlOCkKICAgICAgICA7CgogICAgICAgIAogICAgCiAgICAKICAgICAgICAgICAgdmFyIGNpcmNsZV9tYXJrZXJfY2UxOTUwMzFmMGViNDU4M2I3ODY2ZjRmMzVjYmZkZDggPSBMLmNpcmNsZU1hcmtlcigKICAgICAgICAgICAgICAgIFs0My42OTUzNDM5MDAwMDAwMDUsIC03OS4zMTgzODg3XSwKICAgICAgICAgICAgICAgIHsiYnViYmxpbmdNb3VzZUV2ZW50cyI6IHRydWUsICJjb2xvciI6ICJibHVlIiwgImRhc2hBcnJheSI6IG51bGwsICJkYXNoT2Zmc2V0IjogbnVsbCwgImZpbGwiOiB0cnVlLCAiZmlsbENvbG9yIjogIiMzMTg2Y2MiLCAiZmlsbE9wYWNpdHkiOiAwLjcsICJmaWxsUnVsZSI6ICJldmVub2RkIiwgImxpbmVDYXAiOiAicm91bmQiLCAibGluZUpvaW4iOiAicm91bmQiLCAib3BhY2l0eSI6IDEuMCwgInJhZGl1cyI6IDUsICJzdHJva2UiOiB0cnVlLCAid2VpZ2h0IjogM30KICAgICAgICAgICAgKS5hZGRUbyhtYXBfN2I5YTY5MzBhY2EwNDY1M2IyMzI1ZWQ0OTg5MzM0MWYpOwogICAgICAgIAogICAgCiAgICAgICAgdmFyIHBvcHVwX2FlMDQ3MGRiYTFmZDRjOTdiNzBlYWY4NjA4ZmRhYjE4ID0gTC5wb3B1cCh7Im1heFdpZHRoIjogIjEwMCUifSk7CgogICAgICAgIAogICAgICAgICAgICB2YXIgaHRtbF8wNzJhZTA3NzcwMjE0M2I2YjFjYjQ4MWI5NDNmM2I5MyA9ICQoYDxkaXYgaWQ9Imh0bWxfMDcyYWUwNzc3MDIxNDNiNmIxY2I0ODFiOTQzZjNiOTMiIHN0eWxlPSJ3aWR0aDogMTAwLjAlOyBoZWlnaHQ6IDEwMC4wJTsiPldvb2RiaW5lIEhlaWdodHMsIEVhc3QgWW9yazwvZGl2PmApWzBdOwogICAgICAgICAgICBwb3B1cF9hZTA0NzBkYmExZmQ0Yzk3YjcwZWFmODYwOGZkYWIxOC5zZXRDb250ZW50KGh0bWxfMDcyYWUwNzc3MDIxNDNiNmIxY2I0ODFiOTQzZjNiOTMpOwogICAgICAgIAoKICAgICAgICBjaXJjbGVfbWFya2VyX2NlMTk1MDMxZjBlYjQ1ODNiNzg2NmY0ZjM1Y2JmZGQ4LmJpbmRQb3B1cChwb3B1cF9hZTA0NzBkYmExZmQ0Yzk3YjcwZWFmODYwOGZkYWIxOCkKICAgICAgICA7CgogICAgICAgIAogICAgCiAgICAKICAgICAgICAgICAgdmFyIGNpcmNsZV9tYXJrZXJfYjhkNDY2MWEyNjU1NDUxNDk5YzIzNjI0ZWFjMmNkMGUgPSBMLmNpcmNsZU1hcmtlcigKICAgICAgICAgICAgICAgIFs0My42NTE0OTM5LCAtNzkuMzc1NDE3OV0sCiAgICAgICAgICAgICAgICB7ImJ1YmJsaW5nTW91c2VFdmVudHMiOiB0cnVlLCAiY29sb3IiOiAiYmx1ZSIsICJkYXNoQXJyYXkiOiBudWxsLCAiZGFzaE9mZnNldCI6IG51bGwsICJmaWxsIjogdHJ1ZSwgImZpbGxDb2xvciI6ICIjMzE4NmNjIiwgImZpbGxPcGFjaXR5IjogMC43LCAiZmlsbFJ1bGUiOiAiZXZlbm9kZCIsICJsaW5lQ2FwIjogInJvdW5kIiwgImxpbmVKb2luIjogInJvdW5kIiwgIm9wYWNpdHkiOiAxLjAsICJyYWRpdXMiOiA1LCAic3Ryb2tlIjogdHJ1ZSwgIndlaWdodCI6IDN9CiAgICAgICAgICAgICkuYWRkVG8obWFwXzdiOWE2OTMwYWNhMDQ2NTNiMjMyNWVkNDk4OTMzNDFmKTsKICAgICAgICAKICAgIAogICAgICAgIHZhciBwb3B1cF8zMTk5N2QxMjZjYzE0MjUyYmQ3NWI3YTk1MDc5ZmJkZCA9IEwucG9wdXAoeyJtYXhXaWR0aCI6ICIxMDAlIn0pOwoKICAgICAgICAKICAgICAgICAgICAgdmFyIGh0bWxfMmRiMTRjMTI4NDIxNGZkYjhlMDg0ZDRmYmEwODY5OWQgPSAkKGA8ZGl2IGlkPSJodG1sXzJkYjE0YzEyODQyMTRmZGI4ZTA4NGQ0ZmJhMDg2OTlkIiBzdHlsZT0id2lkdGg6IDEwMC4wJTsgaGVpZ2h0OiAxMDAuMCU7Ij5TdC4gSmFtZXMgVG93biwgRG93bnRvd24gVG9yb250bzwvZGl2PmApWzBdOwogICAgICAgICAgICBwb3B1cF8zMTk5N2QxMjZjYzE0MjUyYmQ3NWI3YTk1MDc5ZmJkZC5zZXRDb250ZW50KGh0bWxfMmRiMTRjMTI4NDIxNGZkYjhlMDg0ZDRmYmEwODY5OWQpOwogICAgICAgIAoKICAgICAgICBjaXJjbGVfbWFya2VyX2I4ZDQ2NjFhMjY1NTQ1MTQ5OWMyMzYyNGVhYzJjZDBlLmJpbmRQb3B1cChwb3B1cF8zMTk5N2QxMjZjYzE0MjUyYmQ3NWI3YTk1MDc5ZmJkZCkKICAgICAgICA7CgogICAgICAgIAogICAgCiAgICAKICAgICAgICAgICAgdmFyIGNpcmNsZV9tYXJrZXJfOTg0MzIyZjRmZTE2NGU1NzgyMjU0MGRjZDVlMjExZjYgPSBMLmNpcmNsZU1hcmtlcigKICAgICAgICAgICAgICAgIFs0My42OTM3ODEzLCAtNzkuNDI4MTkxNDAwMDAwMDJdLAogICAgICAgICAgICAgICAgeyJidWJibGluZ01vdXNlRXZlbnRzIjogdHJ1ZSwgImNvbG9yIjogImJsdWUiLCAiZGFzaEFycmF5IjogbnVsbCwgImRhc2hPZmZzZXQiOiBudWxsLCAiZmlsbCI6IHRydWUsICJmaWxsQ29sb3IiOiAiIzMxODZjYyIsICJmaWxsT3BhY2l0eSI6IDAuNywgImZpbGxSdWxlIjogImV2ZW5vZGQiLCAibGluZUNhcCI6ICJyb3VuZCIsICJsaW5lSm9pbiI6ICJyb3VuZCIsICJvcGFjaXR5IjogMS4wLCAicmFkaXVzIjogNSwgInN0cm9rZSI6IHRydWUsICJ3ZWlnaHQiOiAzfQogICAgICAgICAgICApLmFkZFRvKG1hcF83YjlhNjkzMGFjYTA0NjUzYjIzMjVlZDQ5ODkzMzQxZik7CiAgICAgICAgCiAgICAKICAgICAgICB2YXIgcG9wdXBfMGQyMjBmYTFkZjFiNGY4OWIwNTU4YTYwMjZlNGY4YjEgPSBMLnBvcHVwKHsibWF4V2lkdGgiOiAiMTAwJSJ9KTsKCiAgICAgICAgCiAgICAgICAgICAgIHZhciBodG1sXzk1ZDJiYjE5YmFhNDQ0Njc5MzRmMzU5NjI2ZTBkODE3ID0gJChgPGRpdiBpZD0iaHRtbF85NWQyYmIxOWJhYTQ0NDY3OTM0ZjM1OTYyNmUwZDgxNyIgc3R5bGU9IndpZHRoOiAxMDAuMCU7IGhlaWdodDogMTAwLjAlOyI+SHVtZXdvb2QtQ2VkYXJ2YWxlLCBZb3JrPC9kaXY+YClbMF07CiAgICAgICAgICAgIHBvcHVwXzBkMjIwZmExZGYxYjRmODliMDU1OGE2MDI2ZTRmOGIxLnNldENvbnRlbnQoaHRtbF85NWQyYmIxOWJhYTQ0NDY3OTM0ZjM1OTYyNmUwZDgxNyk7CiAgICAgICAgCgogICAgICAgIGNpcmNsZV9tYXJrZXJfOTg0MzIyZjRmZTE2NGU1NzgyMjU0MGRjZDVlMjExZjYuYmluZFBvcHVwKHBvcHVwXzBkMjIwZmExZGYxYjRmODliMDU1OGE2MDI2ZTRmOGIxKQogICAgICAgIDsKCiAgICAgICAgCiAgICAKICAgIAogICAgICAgICAgICB2YXIgY2lyY2xlX21hcmtlcl8xMzE2NjcyYTRkNWU0MzNjODRkYzBmNmNmM2FiYzg5ZCA9IEwuY2lyY2xlTWFya2VyKAogICAgICAgICAgICAgICAgWzQzLjY0MzUxNTIsIC03OS41NzcyMDA3OTk5OTk5OV0sCiAgICAgICAgICAgICAgICB7ImJ1YmJsaW5nTW91c2VFdmVudHMiOiB0cnVlLCAiY29sb3IiOiAiYmx1ZSIsICJkYXNoQXJyYXkiOiBudWxsLCAiZGFzaE9mZnNldCI6IG51bGwsICJmaWxsIjogdHJ1ZSwgImZpbGxDb2xvciI6ICIjMzE4NmNjIiwgImZpbGxPcGFjaXR5IjogMC43LCAiZmlsbFJ1bGUiOiAiZXZlbm9kZCIsICJsaW5lQ2FwIjogInJvdW5kIiwgImxpbmVKb2luIjogInJvdW5kIiwgIm9wYWNpdHkiOiAxLjAsICJyYWRpdXMiOiA1LCAic3Ryb2tlIjogdHJ1ZSwgIndlaWdodCI6IDN9CiAgICAgICAgICAgICkuYWRkVG8obWFwXzdiOWE2OTMwYWNhMDQ2NTNiMjMyNWVkNDk4OTMzNDFmKTsKICAgICAgICAKICAgIAogICAgICAgIHZhciBwb3B1cF81MmYwNGQzYjYxNzY0MjE5ODg3MTc5MjA4ODI5NzQ2YiA9IEwucG9wdXAoeyJtYXhXaWR0aCI6ICIxMDAlIn0pOwoKICAgICAgICAKICAgICAgICAgICAgdmFyIGh0bWxfNzI5MzNlNDc3NDEzNGI0ZDg0NmIzY2ZlMDg5NTc4YmQgPSAkKGA8ZGl2IGlkPSJodG1sXzcyOTMzZTQ3NzQxMzRiNGQ4NDZiM2NmZTA4OTU3OGJkIiBzdHlsZT0id2lkdGg6IDEwMC4wJTsgaGVpZ2h0OiAxMDAuMCU7Ij5FcmluZ2F0ZSwgQmxvb3JkYWxlIEdhcmRlbnMsIE9sZCBCdXJuaGFtdGhvcnBlLCBNYXJrbGFuZCBXb29kLCBFdG9iaWNva2U8L2Rpdj5gKVswXTsKICAgICAgICAgICAgcG9wdXBfNTJmMDRkM2I2MTc2NDIxOTg4NzE3OTIwODgyOTc0NmIuc2V0Q29udGVudChodG1sXzcyOTMzZTQ3NzQxMzRiNGQ4NDZiM2NmZTA4OTU3OGJkKTsKICAgICAgICAKCiAgICAgICAgY2lyY2xlX21hcmtlcl8xMzE2NjcyYTRkNWU0MzNjODRkYzBmNmNmM2FiYzg5ZC5iaW5kUG9wdXAocG9wdXBfNTJmMDRkM2I2MTc2NDIxOTg4NzE3OTIwODgyOTc0NmIpCiAgICAgICAgOwoKICAgICAgICAKICAgIAogICAgCiAgICAgICAgICAgIHZhciBjaXJjbGVfbWFya2VyXzViMzM5NzA5NjU0OTQ2MTliMmJiNDUxZDRlMmQxMmQ1ID0gTC5jaXJjbGVNYXJrZXIoCiAgICAgICAgICAgICAgICBbNDMuNzYzNTcyNiwgLTc5LjE4ODcxMTVdLAogICAgICAgICAgICAgICAgeyJidWJibGluZ01vdXNlRXZlbnRzIjogdHJ1ZSwgImNvbG9yIjogImJsdWUiLCAiZGFzaEFycmF5IjogbnVsbCwgImRhc2hPZmZzZXQiOiBudWxsLCAiZmlsbCI6IHRydWUsICJmaWxsQ29sb3IiOiAiIzMxODZjYyIsICJmaWxsT3BhY2l0eSI6IDAuNywgImZpbGxSdWxlIjogImV2ZW5vZGQiLCAibGluZUNhcCI6ICJyb3VuZCIsICJsaW5lSm9pbiI6ICJyb3VuZCIsICJvcGFjaXR5IjogMS4wLCAicmFkaXVzIjogNSwgInN0cm9rZSI6IHRydWUsICJ3ZWlnaHQiOiAzfQogICAgICAgICAgICApLmFkZFRvKG1hcF83YjlhNjkzMGFjYTA0NjUzYjIzMjVlZDQ5ODkzMzQxZik7CiAgICAgICAgCiAgICAKICAgICAgICB2YXIgcG9wdXBfMGJlMmY4MDRkY2FkNGI2Y2JmMDM5ZTAyNjAwZjFhNWUgPSBMLnBvcHVwKHsibWF4V2lkdGgiOiAiMTAwJSJ9KTsKCiAgICAgICAgCiAgICAgICAgICAgIHZhciBodG1sXzVlOTg2ZjE2MjE3YzRiYjU4ZjQzMWY0NzJhN2MzMzBjID0gJChgPGRpdiBpZD0iaHRtbF81ZTk4NmYxNjIxN2M0YmI1OGY0MzFmNDcyYTdjMzMwYyIgc3R5bGU9IndpZHRoOiAxMDAuMCU7IGhlaWdodDogMTAwLjAlOyI+R3VpbGR3b29kLCBNb3JuaW5nc2lkZSwgV2VzdCBIaWxsLCBTY2FyYm9yb3VnaDwvZGl2PmApWzBdOwogICAgICAgICAgICBwb3B1cF8wYmUyZjgwNGRjYWQ0YjZjYmYwMzllMDI2MDBmMWE1ZS5zZXRDb250ZW50KGh0bWxfNWU5ODZmMTYyMTdjNGJiNThmNDMxZjQ3MmE3YzMzMGMpOwogICAgICAgIAoKICAgICAgICBjaXJjbGVfbWFya2VyXzViMzM5NzA5NjU0OTQ2MTliMmJiNDUxZDRlMmQxMmQ1LmJpbmRQb3B1cChwb3B1cF8wYmUyZjgwNGRjYWQ0YjZjYmYwMzllMDI2MDBmMWE1ZSkKICAgICAgICA7CgogICAgICAgIAogICAgCiAgICAKICAgICAgICAgICAgdmFyIGNpcmNsZV9tYXJrZXJfZjc4NDg0YTkzMmZjNGE3Y2EzOGU3NTQ0ZDIyNWJkYWYgPSBMLmNpcmNsZU1hcmtlcigKICAgICAgICAgICAgICAgIFs0My42NzYzNTczOTk5OTk5OSwgLTc5LjI5MzAzMTJdLAogICAgICAgICAgICAgICAgeyJidWJibGluZ01vdXNlRXZlbnRzIjogdHJ1ZSwgImNvbG9yIjogImJsdWUiLCAiZGFzaEFycmF5IjogbnVsbCwgImRhc2hPZmZzZXQiOiBudWxsLCAiZmlsbCI6IHRydWUsICJmaWxsQ29sb3IiOiAiIzMxODZjYyIsICJmaWxsT3BhY2l0eSI6IDAuNywgImZpbGxSdWxlIjogImV2ZW5vZGQiLCAibGluZUNhcCI6ICJyb3VuZCIsICJsaW5lSm9pbiI6ICJyb3VuZCIsICJvcGFjaXR5IjogMS4wLCAicmFkaXVzIjogNSwgInN0cm9rZSI6IHRydWUsICJ3ZWlnaHQiOiAzfQogICAgICAgICAgICApLmFkZFRvKG1hcF83YjlhNjkzMGFjYTA0NjUzYjIzMjVlZDQ5ODkzMzQxZik7CiAgICAgICAgCiAgICAKICAgICAgICB2YXIgcG9wdXBfYjAwZDA0YjJkMDYyNDIxMWFkNWE5NzU5MDdlMmU3NmUgPSBMLnBvcHVwKHsibWF4V2lkdGgiOiAiMTAwJSJ9KTsKCiAgICAgICAgCiAgICAgICAgICAgIHZhciBodG1sXzQ2MjQ1M2ZhNDcwNTQ0Y2RhZjA4MTk0OTE2NDFjZDMxID0gJChgPGRpdiBpZD0iaHRtbF80NjI0NTNmYTQ3MDU0NGNkYWYwODE5NDkxNjQxY2QzMSIgc3R5bGU9IndpZHRoOiAxMDAuMCU7IGhlaWdodDogMTAwLjAlOyI+VGhlIEJlYWNoZXMsIEVhc3QgVG9yb250bzwvZGl2PmApWzBdOwogICAgICAgICAgICBwb3B1cF9iMDBkMDRiMmQwNjI0MjExYWQ1YTk3NTkwN2UyZTc2ZS5zZXRDb250ZW50KGh0bWxfNDYyNDUzZmE0NzA1NDRjZGFmMDgxOTQ5MTY0MWNkMzEpOwogICAgICAgIAoKICAgICAgICBjaXJjbGVfbWFya2VyX2Y3ODQ4NGE5MzJmYzRhN2NhMzhlNzU0NGQyMjViZGFmLmJpbmRQb3B1cChwb3B1cF9iMDBkMDRiMmQwNjI0MjExYWQ1YTk3NTkwN2UyZTc2ZSkKICAgICAgICA7CgogICAgICAgIAogICAgCiAgICAKICAgICAgICAgICAgdmFyIGNpcmNsZV9tYXJrZXJfOWZkZWNlZGU1Njg0NDYyMTlkOTJlMThhMjA5NTgzNjkgPSBMLmNpcmNsZU1hcmtlcigKICAgICAgICAgICAgICAgIFs0My42NDQ3NzA3OTk5OTk5OTYsIC03OS4zNzMzMDY0XSwKICAgICAgICAgICAgICAgIHsiYnViYmxpbmdNb3VzZUV2ZW50cyI6IHRydWUsICJjb2xvciI6ICJibHVlIiwgImRhc2hBcnJheSI6IG51bGwsICJkYXNoT2Zmc2V0IjogbnVsbCwgImZpbGwiOiB0cnVlLCAiZmlsbENvbG9yIjogIiMzMTg2Y2MiLCAiZmlsbE9wYWNpdHkiOiAwLjcsICJmaWxsUnVsZSI6ICJldmVub2RkIiwgImxpbmVDYXAiOiAicm91bmQiLCAibGluZUpvaW4iOiAicm91bmQiLCAib3BhY2l0eSI6IDEuMCwgInJhZGl1cyI6IDUsICJzdHJva2UiOiB0cnVlLCAid2VpZ2h0IjogM30KICAgICAgICAgICAgKS5hZGRUbyhtYXBfN2I5YTY5MzBhY2EwNDY1M2IyMzI1ZWQ0OTg5MzM0MWYpOwogICAgICAgIAogICAgCiAgICAgICAgdmFyIHBvcHVwX2FjYjliNjkxY2YwMzQ0ZDNiMTVjMDZkMjY1NGNiNDQ0ID0gTC5wb3B1cCh7Im1heFdpZHRoIjogIjEwMCUifSk7CgogICAgICAgIAogICAgICAgICAgICB2YXIgaHRtbF9hNTdmOGM2ZDVhNDE0YzJjODhlNGJkYTZhNGJmNjNjNCA9ICQoYDxkaXYgaWQ9Imh0bWxfYTU3ZjhjNmQ1YTQxNGMyYzg4ZTRiZGE2YTRiZjYzYzQiIHN0eWxlPSJ3aWR0aDogMTAwLjAlOyBoZWlnaHQ6IDEwMC4wJTsiPkJlcmN6eSBQYXJrLCBEb3dudG93biBUb3JvbnRvPC9kaXY+YClbMF07CiAgICAgICAgICAgIHBvcHVwX2FjYjliNjkxY2YwMzQ0ZDNiMTVjMDZkMjY1NGNiNDQ0LnNldENvbnRlbnQoaHRtbF9hNTdmOGM2ZDVhNDE0YzJjODhlNGJkYTZhNGJmNjNjNCk7CiAgICAgICAgCgogICAgICAgIGNpcmNsZV9tYXJrZXJfOWZkZWNlZGU1Njg0NDYyMTlkOTJlMThhMjA5NTgzNjkuYmluZFBvcHVwKHBvcHVwX2FjYjliNjkxY2YwMzQ0ZDNiMTVjMDZkMjY1NGNiNDQ0KQogICAgICAgIDsKCiAgICAgICAgCiAgICAKICAgIAogICAgICAgICAgICB2YXIgY2lyY2xlX21hcmtlcl9kNTUxNmEyOWYxYmM0Y2I2YTBmNjg3MmYzZDYzN2U1NCA9IEwuY2lyY2xlTWFya2VyKAogICAgICAgICAgICAgICAgWzQzLjY4OTAyNTYsIC03OS40NTM1MTJdLAogICAgICAgICAgICAgICAgeyJidWJibGluZ01vdXNlRXZlbnRzIjogdHJ1ZSwgImNvbG9yIjogImJsdWUiLCAiZGFzaEFycmF5IjogbnVsbCwgImRhc2hPZmZzZXQiOiBudWxsLCAiZmlsbCI6IHRydWUsICJmaWxsQ29sb3IiOiAiIzMxODZjYyIsICJmaWxsT3BhY2l0eSI6IDAuNywgImZpbGxSdWxlIjogImV2ZW5vZGQiLCAibGluZUNhcCI6ICJyb3VuZCIsICJsaW5lSm9pbiI6ICJyb3VuZCIsICJvcGFjaXR5IjogMS4wLCAicmFkaXVzIjogNSwgInN0cm9rZSI6IHRydWUsICJ3ZWlnaHQiOiAzfQogICAgICAgICAgICApLmFkZFRvKG1hcF83YjlhNjkzMGFjYTA0NjUzYjIzMjVlZDQ5ODkzMzQxZik7CiAgICAgICAgCiAgICAKICAgICAgICB2YXIgcG9wdXBfMjdkNGIyNmFkMzdmNDM5MWIxZTUxZjczNzM5YjRiNjAgPSBMLnBvcHVwKHsibWF4V2lkdGgiOiAiMTAwJSJ9KTsKCiAgICAgICAgCiAgICAgICAgICAgIHZhciBodG1sX2E5ZDdlYjRkZDI1NjQyZTA5M2M4YmZiYzdjM2NiYzgyID0gJChgPGRpdiBpZD0iaHRtbF9hOWQ3ZWI0ZGQyNTY0MmUwOTNjOGJmYmM3YzNjYmM4MiIgc3R5bGU9IndpZHRoOiAxMDAuMCU7IGhlaWdodDogMTAwLjAlOyI+Q2FsZWRvbmlhLUZhaXJiYW5rcywgWW9yazwvZGl2PmApWzBdOwogICAgICAgICAgICBwb3B1cF8yN2Q0YjI2YWQzN2Y0MzkxYjFlNTFmNzM3MzliNGI2MC5zZXRDb250ZW50KGh0bWxfYTlkN2ViNGRkMjU2NDJlMDkzYzhiZmJjN2MzY2JjODIpOwogICAgICAgIAoKICAgICAgICBjaXJjbGVfbWFya2VyX2Q1NTE2YTI5ZjFiYzRjYjZhMGY2ODcyZjNkNjM3ZTU0LmJpbmRQb3B1cChwb3B1cF8yN2Q0YjI2YWQzN2Y0MzkxYjFlNTFmNzM3MzliNGI2MCkKICAgICAgICA7CgogICAgICAgIAogICAgCiAgICAKICAgICAgICAgICAgdmFyIGNpcmNsZV9tYXJrZXJfYmUyZTEwOTczMzg3NDhiNDhmYWEyM2JlMGQ0NWQ0ZGQgPSBMLmNpcmNsZU1hcmtlcigKICAgICAgICAgICAgICAgIFs0My43NzA5OTIxLCAtNzkuMjE2OTE3NDAwMDAwMDFdLAogICAgICAgICAgICAgICAgeyJidWJibGluZ01vdXNlRXZlbnRzIjogdHJ1ZSwgImNvbG9yIjogImJsdWUiLCAiZGFzaEFycmF5IjogbnVsbCwgImRhc2hPZmZzZXQiOiBudWxsLCAiZmlsbCI6IHRydWUsICJmaWxsQ29sb3IiOiAiIzMxODZjYyIsICJmaWxsT3BhY2l0eSI6IDAuNywgImZpbGxSdWxlIjogImV2ZW5vZGQiLCAibGluZUNhcCI6ICJyb3VuZCIsICJsaW5lSm9pbiI6ICJyb3VuZCIsICJvcGFjaXR5IjogMS4wLCAicmFkaXVzIjogNSwgInN0cm9rZSI6IHRydWUsICJ3ZWlnaHQiOiAzfQogICAgICAgICAgICApLmFkZFRvKG1hcF83YjlhNjkzMGFjYTA0NjUzYjIzMjVlZDQ5ODkzMzQxZik7CiAgICAgICAgCiAgICAKICAgICAgICB2YXIgcG9wdXBfMzQyMzc4ZDk3NGUzNDViYjk0Zjk3MjBlZDIzZmI2ZDggPSBMLnBvcHVwKHsibWF4V2lkdGgiOiAiMTAwJSJ9KTsKCiAgICAgICAgCiAgICAgICAgICAgIHZhciBodG1sXzA5ODgwYThjYTQwYzQ0MjY5MWZiZDczMzI1ZTAxYjY3ID0gJChgPGRpdiBpZD0iaHRtbF8wOTg4MGE4Y2E0MGM0NDI2OTFmYmQ3MzMyNWUwMWI2NyIgc3R5bGU9IndpZHRoOiAxMDAuMCU7IGhlaWdodDogMTAwLjAlOyI+V29idXJuLCBTY2FyYm9yb3VnaDwvZGl2PmApWzBdOwogICAgICAgICAgICBwb3B1cF8zNDIzNzhkOTc0ZTM0NWJiOTRmOTcyMGVkMjNmYjZkOC5zZXRDb250ZW50KGh0bWxfMDk4ODBhOGNhNDBjNDQyNjkxZmJkNzMzMjVlMDFiNjcpOwogICAgICAgIAoKICAgICAgICBjaXJjbGVfbWFya2VyX2JlMmUxMDk3MzM4NzQ4YjQ4ZmFhMjNiZTBkNDVkNGRkLmJpbmRQb3B1cChwb3B1cF8zNDIzNzhkOTc0ZTM0NWJiOTRmOTcyMGVkMjNmYjZkOCkKICAgICAgICA7CgogICAgICAgIAogICAgCiAgICAKICAgICAgICAgICAgdmFyIGNpcmNsZV9tYXJrZXJfNDQxYTRiNWIwOTFlNGU5MWE4ZDFmOGRiNDA3YzM1NGIgPSBMLmNpcmNsZU1hcmtlcigKICAgICAgICAgICAgICAgIFs0My43MDkwNjA0LCAtNzkuMzYzNDUxN10sCiAgICAgICAgICAgICAgICB7ImJ1YmJsaW5nTW91c2VFdmVudHMiOiB0cnVlLCAiY29sb3IiOiAiYmx1ZSIsICJkYXNoQXJyYXkiOiBudWxsLCAiZGFzaE9mZnNldCI6IG51bGwsICJmaWxsIjogdHJ1ZSwgImZpbGxDb2xvciI6ICIjMzE4NmNjIiwgImZpbGxPcGFjaXR5IjogMC43LCAiZmlsbFJ1bGUiOiAiZXZlbm9kZCIsICJsaW5lQ2FwIjogInJvdW5kIiwgImxpbmVKb2luIjogInJvdW5kIiwgIm9wYWNpdHkiOiAxLjAsICJyYWRpdXMiOiA1LCAic3Ryb2tlIjogdHJ1ZSwgIndlaWdodCI6IDN9CiAgICAgICAgICAgICkuYWRkVG8obWFwXzdiOWE2OTMwYWNhMDQ2NTNiMjMyNWVkNDk4OTMzNDFmKTsKICAgICAgICAKICAgIAogICAgICAgIHZhciBwb3B1cF9mYTYwNTY1ZWE5ZWM0ZjQ1OWMyNTM4NWVkMmVhMTg4ZiA9IEwucG9wdXAoeyJtYXhXaWR0aCI6ICIxMDAlIn0pOwoKICAgICAgICAKICAgICAgICAgICAgdmFyIGh0bWxfYTgyYTJmZGRjMDg0NDY2ZmE2ZDk3ODgxMWY0MjQwNDEgPSAkKGA8ZGl2IGlkPSJodG1sX2E4MmEyZmRkYzA4NDQ2NmZhNmQ5Nzg4MTFmNDI0MDQxIiBzdHlsZT0id2lkdGg6IDEwMC4wJTsgaGVpZ2h0OiAxMDAuMCU7Ij5MZWFzaWRlLCBFYXN0IFlvcms8L2Rpdj5gKVswXTsKICAgICAgICAgICAgcG9wdXBfZmE2MDU2NWVhOWVjNGY0NTljMjUzODVlZDJlYTE4OGYuc2V0Q29udGVudChodG1sX2E4MmEyZmRkYzA4NDQ2NmZhNmQ5Nzg4MTFmNDI0MDQxKTsKICAgICAgICAKCiAgICAgICAgY2lyY2xlX21hcmtlcl80NDFhNGI1YjA5MWU0ZTkxYThkMWY4ZGI0MDdjMzU0Yi5iaW5kUG9wdXAocG9wdXBfZmE2MDU2NWVhOWVjNGY0NTljMjUzODVlZDJlYTE4OGYpCiAgICAgICAgOwoKICAgICAgICAKICAgIAogICAgCiAgICAgICAgICAgIHZhciBjaXJjbGVfbWFya2VyXzU2MGI3MDE4MTM1NDQ5MjliNTM3OTM0MTc4MjY4ZDVkID0gTC5jaXJjbGVNYXJrZXIoCiAgICAgICAgICAgICAgICBbNDMuNjU3OTUyNCwgLTc5LjM4NzM4MjZdLAogICAgICAgICAgICAgICAgeyJidWJibGluZ01vdXNlRXZlbnRzIjogdHJ1ZSwgImNvbG9yIjogImJsdWUiLCAiZGFzaEFycmF5IjogbnVsbCwgImRhc2hPZmZzZXQiOiBudWxsLCAiZmlsbCI6IHRydWUsICJmaWxsQ29sb3IiOiAiIzMxODZjYyIsICJmaWxsT3BhY2l0eSI6IDAuNywgImZpbGxSdWxlIjogImV2ZW5vZGQiLCAibGluZUNhcCI6ICJyb3VuZCIsICJsaW5lSm9pbiI6ICJyb3VuZCIsICJvcGFjaXR5IjogMS4wLCAicmFkaXVzIjogNSwgInN0cm9rZSI6IHRydWUsICJ3ZWlnaHQiOiAzfQogICAgICAgICAgICApLmFkZFRvKG1hcF83YjlhNjkzMGFjYTA0NjUzYjIzMjVlZDQ5ODkzMzQxZik7CiAgICAgICAgCiAgICAKICAgICAgICB2YXIgcG9wdXBfNjY2MWMyNmM0MDNiNDhjZmExODFkNDI3OWMwMDYzZmYgPSBMLnBvcHVwKHsibWF4V2lkdGgiOiAiMTAwJSJ9KTsKCiAgICAgICAgCiAgICAgICAgICAgIHZhciBodG1sXzdhMDc2MzFlMWNlODQ1ZjE4N2UxOGEzZTg2ZTdjZDI4ID0gJChgPGRpdiBpZD0iaHRtbF83YTA3NjMxZTFjZTg0NWYxODdlMThhM2U4NmU3Y2QyOCIgc3R5bGU9IndpZHRoOiAxMDAuMCU7IGhlaWdodDogMTAwLjAlOyI+Q2VudHJhbCBCYXkgU3RyZWV0LCBEb3dudG93biBUb3JvbnRvPC9kaXY+YClbMF07CiAgICAgICAgICAgIHBvcHVwXzY2NjFjMjZjNDAzYjQ4Y2ZhMTgxZDQyNzljMDA2M2ZmLnNldENvbnRlbnQoaHRtbF83YTA3NjMxZTFjZTg0NWYxODdlMThhM2U4NmU3Y2QyOCk7CiAgICAgICAgCgogICAgICAgIGNpcmNsZV9tYXJrZXJfNTYwYjcwMTgxMzU0NDkyOWI1Mzc5MzQxNzgyNjhkNWQuYmluZFBvcHVwKHBvcHVwXzY2NjFjMjZjNDAzYjQ4Y2ZhMTgxZDQyNzljMDA2M2ZmKQogICAgICAgIDsKCiAgICAgICAgCiAgICAKICAgIAogICAgICAgICAgICB2YXIgY2lyY2xlX21hcmtlcl80ZGRiMDg3ZGMwMDY0YzA1YThkNTBkZWQ3MTI4OWI5ZCA9IEwuY2lyY2xlTWFya2VyKAogICAgICAgICAgICAgICAgWzQzLjY2OTU0MiwgLTc5LjQyMjU2MzddLAogICAgICAgICAgICAgICAgeyJidWJibGluZ01vdXNlRXZlbnRzIjogdHJ1ZSwgImNvbG9yIjogImJsdWUiLCAiZGFzaEFycmF5IjogbnVsbCwgImRhc2hPZmZzZXQiOiBudWxsLCAiZmlsbCI6IHRydWUsICJmaWxsQ29sb3IiOiAiIzMxODZjYyIsICJmaWxsT3BhY2l0eSI6IDAuNywgImZpbGxSdWxlIjogImV2ZW5vZGQiLCAibGluZUNhcCI6ICJyb3VuZCIsICJsaW5lSm9pbiI6ICJyb3VuZCIsICJvcGFjaXR5IjogMS4wLCAicmFkaXVzIjogNSwgInN0cm9rZSI6IHRydWUsICJ3ZWlnaHQiOiAzfQogICAgICAgICAgICApLmFkZFRvKG1hcF83YjlhNjkzMGFjYTA0NjUzYjIzMjVlZDQ5ODkzMzQxZik7CiAgICAgICAgCiAgICAKICAgICAgICB2YXIgcG9wdXBfZjNhNDI5MjBkMmY3NGQyMWEzNGYyNDY3ZDE1ZGFmZjAgPSBMLnBvcHVwKHsibWF4V2lkdGgiOiAiMTAwJSJ9KTsKCiAgICAgICAgCiAgICAgICAgICAgIHZhciBodG1sXzUzMTY0MjczYmM4MTQyYjhhNzBhZTRlOWYwNjczNWFjID0gJChgPGRpdiBpZD0iaHRtbF81MzE2NDI3M2JjODE0MmI4YTcwYWU0ZTlmMDY3MzVhYyIgc3R5bGU9IndpZHRoOiAxMDAuMCU7IGhlaWdodDogMTAwLjAlOyI+Q2hyaXN0aWUsIERvd250b3duIFRvcm9udG88L2Rpdj5gKVswXTsKICAgICAgICAgICAgcG9wdXBfZjNhNDI5MjBkMmY3NGQyMWEzNGYyNDY3ZDE1ZGFmZjAuc2V0Q29udGVudChodG1sXzUzMTY0MjczYmM4MTQyYjhhNzBhZTRlOWYwNjczNWFjKTsKICAgICAgICAKCiAgICAgICAgY2lyY2xlX21hcmtlcl80ZGRiMDg3ZGMwMDY0YzA1YThkNTBkZWQ3MTI4OWI5ZC5iaW5kUG9wdXAocG9wdXBfZjNhNDI5MjBkMmY3NGQyMWEzNGYyNDY3ZDE1ZGFmZjApCiAgICAgICAgOwoKICAgICAgICAKICAgIAogICAgCiAgICAgICAgICAgIHZhciBjaXJjbGVfbWFya2VyXzE0OWM5ZGNjNTYxMzQwNmJiYWYyYjFjYjFiN2MxMGIxID0gTC5jaXJjbGVNYXJrZXIoCiAgICAgICAgICAgICAgICBbNDMuNzczMTM2LCAtNzkuMjM5NDc2MDk5OTk5OTldLAogICAgICAgICAgICAgICAgeyJidWJibGluZ01vdXNlRXZlbnRzIjogdHJ1ZSwgImNvbG9yIjogImJsdWUiLCAiZGFzaEFycmF5IjogbnVsbCwgImRhc2hPZmZzZXQiOiBudWxsLCAiZmlsbCI6IHRydWUsICJmaWxsQ29sb3IiOiAiIzMxODZjYyIsICJmaWxsT3BhY2l0eSI6IDAuNywgImZpbGxSdWxlIjogImV2ZW5vZGQiLCAibGluZUNhcCI6ICJyb3VuZCIsICJsaW5lSm9pbiI6ICJyb3VuZCIsICJvcGFjaXR5IjogMS4wLCAicmFkaXVzIjogNSwgInN0cm9rZSI6IHRydWUsICJ3ZWlnaHQiOiAzfQogICAgICAgICAgICApLmFkZFRvKG1hcF83YjlhNjkzMGFjYTA0NjUzYjIzMjVlZDQ5ODkzMzQxZik7CiAgICAgICAgCiAgICAKICAgICAgICB2YXIgcG9wdXBfMWZiOWZhZWFiOWIyNGJkMDllYWVmZDY2NTY4N2Y3OWMgPSBMLnBvcHVwKHsibWF4V2lkdGgiOiAiMTAwJSJ9KTsKCiAgICAgICAgCiAgICAgICAgICAgIHZhciBodG1sXzY4MmQ4Zjg3NzkyODRkZTliNzZlZWNhYTcxZjE0Yjk4ID0gJChgPGRpdiBpZD0iaHRtbF82ODJkOGY4Nzc5Mjg0ZGU5Yjc2ZWVjYWE3MWYxNGI5OCIgc3R5bGU9IndpZHRoOiAxMDAuMCU7IGhlaWdodDogMTAwLjAlOyI+Q2VkYXJicmFlLCBTY2FyYm9yb3VnaDwvZGl2PmApWzBdOwogICAgICAgICAgICBwb3B1cF8xZmI5ZmFlYWI5YjI0YmQwOWVhZWZkNjY1Njg3Zjc5Yy5zZXRDb250ZW50KGh0bWxfNjgyZDhmODc3OTI4NGRlOWI3NmVlY2FhNzFmMTRiOTgpOwogICAgICAgIAoKICAgICAgICBjaXJjbGVfbWFya2VyXzE0OWM5ZGNjNTYxMzQwNmJiYWYyYjFjYjFiN2MxMGIxLmJpbmRQb3B1cChwb3B1cF8xZmI5ZmFlYWI5YjI0YmQwOWVhZWZkNjY1Njg3Zjc5YykKICAgICAgICA7CgogICAgICAgIAogICAgCiAgICAKICAgICAgICAgICAgdmFyIGNpcmNsZV9tYXJrZXJfYWYxZjliMzVjMjg0NGQ4NmE4MWYwOTAyZjQ3NTIwYTggPSBMLmNpcmNsZU1hcmtlcigKICAgICAgICAgICAgICAgIFs0My44MDM3NjIyLCAtNzkuMzYzNDUxN10sCiAgICAgICAgICAgICAgICB7ImJ1YmJsaW5nTW91c2VFdmVudHMiOiB0cnVlLCAiY29sb3IiOiAiYmx1ZSIsICJkYXNoQXJyYXkiOiBudWxsLCAiZGFzaE9mZnNldCI6IG51bGwsICJmaWxsIjogdHJ1ZSwgImZpbGxDb2xvciI6ICIjMzE4NmNjIiwgImZpbGxPcGFjaXR5IjogMC43LCAiZmlsbFJ1bGUiOiAiZXZlbm9kZCIsICJsaW5lQ2FwIjogInJvdW5kIiwgImxpbmVKb2luIjogInJvdW5kIiwgIm9wYWNpdHkiOiAxLjAsICJyYWRpdXMiOiA1LCAic3Ryb2tlIjogdHJ1ZSwgIndlaWdodCI6IDN9CiAgICAgICAgICAgICkuYWRkVG8obWFwXzdiOWE2OTMwYWNhMDQ2NTNiMjMyNWVkNDk4OTMzNDFmKTsKICAgICAgICAKICAgIAogICAgICAgIHZhciBwb3B1cF85ZThmNGJiYjM0ZWM0MzBhOTUyYjI3Y2Y4YjYxZTYwMiA9IEwucG9wdXAoeyJtYXhXaWR0aCI6ICIxMDAlIn0pOwoKICAgICAgICAKICAgICAgICAgICAgdmFyIGh0bWxfYzBiYmNmZDk1YTg3NDc0MjlkMmY1M2Y5YzhjMTJlNDYgPSAkKGA8ZGl2IGlkPSJodG1sX2MwYmJjZmQ5NWE4NzQ3NDI5ZDJmNTNmOWM4YzEyZTQ2IiBzdHlsZT0id2lkdGg6IDEwMC4wJTsgaGVpZ2h0OiAxMDAuMCU7Ij5IaWxsY3Jlc3QgVmlsbGFnZSwgTm9ydGggWW9yazwvZGl2PmApWzBdOwogICAgICAgICAgICBwb3B1cF85ZThmNGJiYjM0ZWM0MzBhOTUyYjI3Y2Y4YjYxZTYwMi5zZXRDb250ZW50KGh0bWxfYzBiYmNmZDk1YTg3NDc0MjlkMmY1M2Y5YzhjMTJlNDYpOwogICAgICAgIAoKICAgICAgICBjaXJjbGVfbWFya2VyX2FmMWY5YjM1YzI4NDRkODZhODFmMDkwMmY0NzUyMGE4LmJpbmRQb3B1cChwb3B1cF85ZThmNGJiYjM0ZWM0MzBhOTUyYjI3Y2Y4YjYxZTYwMikKICAgICAgICA7CgogICAgICAgIAogICAgCiAgICAKICAgICAgICAgICAgdmFyIGNpcmNsZV9tYXJrZXJfNGJjNzZlZDdhZGRiNDY4Yzk5MTcxOTNiNTk3MGUyOTggPSBMLmNpcmNsZU1hcmtlcigKICAgICAgICAgICAgICAgIFs0My43NTQzMjgzLCAtNzkuNDQyMjU5M10sCiAgICAgICAgICAgICAgICB7ImJ1YmJsaW5nTW91c2VFdmVudHMiOiB0cnVlLCAiY29sb3IiOiAiYmx1ZSIsICJkYXNoQXJyYXkiOiBudWxsLCAiZGFzaE9mZnNldCI6IG51bGwsICJmaWxsIjogdHJ1ZSwgImZpbGxDb2xvciI6ICIjMzE4NmNjIiwgImZpbGxPcGFjaXR5IjogMC43LCAiZmlsbFJ1bGUiOiAiZXZlbm9kZCIsICJsaW5lQ2FwIjogInJvdW5kIiwgImxpbmVKb2luIjogInJvdW5kIiwgIm9wYWNpdHkiOiAxLjAsICJyYWRpdXMiOiA1LCAic3Ryb2tlIjogdHJ1ZSwgIndlaWdodCI6IDN9CiAgICAgICAgICAgICkuYWRkVG8obWFwXzdiOWE2OTMwYWNhMDQ2NTNiMjMyNWVkNDk4OTMzNDFmKTsKICAgICAgICAKICAgIAogICAgICAgIHZhciBwb3B1cF8wMjAyMzg3Y2FmZDk0ZGM2YjY5OTJhNWI0MjNjNjg5ZiA9IEwucG9wdXAoeyJtYXhXaWR0aCI6ICIxMDAlIn0pOwoKICAgICAgICAKICAgICAgICAgICAgdmFyIGh0bWxfNDBhNzIyN2EyYWNmNGQ2OWI5ODY4YTkyZTdkZTAzOGQgPSAkKGA8ZGl2IGlkPSJodG1sXzQwYTcyMjdhMmFjZjRkNjliOTg2OGE5MmU3ZGUwMzhkIiBzdHlsZT0id2lkdGg6IDEwMC4wJTsgaGVpZ2h0OiAxMDAuMCU7Ij5CYXRodXJzdCBNYW5vciwgV2lsc29uIEhlaWdodHMsIERvd25zdmlldyBOb3J0aCwgTm9ydGggWW9yazwvZGl2PmApWzBdOwogICAgICAgICAgICBwb3B1cF8wMjAyMzg3Y2FmZDk0ZGM2YjY5OTJhNWI0MjNjNjg5Zi5zZXRDb250ZW50KGh0bWxfNDBhNzIyN2EyYWNmNGQ2OWI5ODY4YTkyZTdkZTAzOGQpOwogICAgICAgIAoKICAgICAgICBjaXJjbGVfbWFya2VyXzRiYzc2ZWQ3YWRkYjQ2OGM5OTE3MTkzYjU5NzBlMjk4LmJpbmRQb3B1cChwb3B1cF8wMjAyMzg3Y2FmZDk0ZGM2YjY5OTJhNWI0MjNjNjg5ZikKICAgICAgICA7CgogICAgICAgIAogICAgCiAgICAKICAgICAgICAgICAgdmFyIGNpcmNsZV9tYXJrZXJfYjExNGU1ZjJlZjA5NDNjMzg3ZjJlY2YzMTk0OWM5NDIgPSBMLmNpcmNsZU1hcmtlcigKICAgICAgICAgICAgICAgIFs0My43MDUzNjg5LCAtNzkuMzQ5MzcxOTAwMDAwMDFdLAogICAgICAgICAgICAgICAgeyJidWJibGluZ01vdXNlRXZlbnRzIjogdHJ1ZSwgImNvbG9yIjogImJsdWUiLCAiZGFzaEFycmF5IjogbnVsbCwgImRhc2hPZmZzZXQiOiBudWxsLCAiZmlsbCI6IHRydWUsICJmaWxsQ29sb3IiOiAiIzMxODZjYyIsICJmaWxsT3BhY2l0eSI6IDAuNywgImZpbGxSdWxlIjogImV2ZW5vZGQiLCAibGluZUNhcCI6ICJyb3VuZCIsICJsaW5lSm9pbiI6ICJyb3VuZCIsICJvcGFjaXR5IjogMS4wLCAicmFkaXVzIjogNSwgInN0cm9rZSI6IHRydWUsICJ3ZWlnaHQiOiAzfQogICAgICAgICAgICApLmFkZFRvKG1hcF83YjlhNjkzMGFjYTA0NjUzYjIzMjVlZDQ5ODkzMzQxZik7CiAgICAgICAgCiAgICAKICAgICAgICB2YXIgcG9wdXBfYzE5Y2M0NzNjYjA5NDAxN2FhNTQ3ZGQ0ZDZlY2M3ODUgPSBMLnBvcHVwKHsibWF4V2lkdGgiOiAiMTAwJSJ9KTsKCiAgICAgICAgCiAgICAgICAgICAgIHZhciBodG1sX2E1ODJiZjMzM2QyNTRmM2M5ZWUyN2I1MzIyNDEwNDgxID0gJChgPGRpdiBpZD0iaHRtbF9hNTgyYmYzMzNkMjU0ZjNjOWVlMjdiNTMyMjQxMDQ4MSIgc3R5bGU9IndpZHRoOiAxMDAuMCU7IGhlaWdodDogMTAwLjAlOyI+VGhvcm5jbGlmZmUgUGFyaywgRWFzdCBZb3JrPC9kaXY+YClbMF07CiAgICAgICAgICAgIHBvcHVwX2MxOWNjNDczY2IwOTQwMTdhYTU0N2RkNGQ2ZWNjNzg1LnNldENvbnRlbnQoaHRtbF9hNTgyYmYzMzNkMjU0ZjNjOWVlMjdiNTMyMjQxMDQ4MSk7CiAgICAgICAgCgogICAgICAgIGNpcmNsZV9tYXJrZXJfYjExNGU1ZjJlZjA5NDNjMzg3ZjJlY2YzMTk0OWM5NDIuYmluZFBvcHVwKHBvcHVwX2MxOWNjNDczY2IwOTQwMTdhYTU0N2RkNGQ2ZWNjNzg1KQogICAgICAgIDsKCiAgICAgICAgCiAgICAKICAgIAogICAgICAgICAgICB2YXIgY2lyY2xlX21hcmtlcl9jMzExMzIxZmMxNmY0YWEwOGJjMDQ0YTM5YzU3NmZhMSA9IEwuY2lyY2xlTWFya2VyKAogICAgICAgICAgICAgICAgWzQzLjY1MDU3MTIwMDAwMDAxLCAtNzkuMzg0NTY3NV0sCiAgICAgICAgICAgICAgICB7ImJ1YmJsaW5nTW91c2VFdmVudHMiOiB0cnVlLCAiY29sb3IiOiAiYmx1ZSIsICJkYXNoQXJyYXkiOiBudWxsLCAiZGFzaE9mZnNldCI6IG51bGwsICJmaWxsIjogdHJ1ZSwgImZpbGxDb2xvciI6ICIjMzE4NmNjIiwgImZpbGxPcGFjaXR5IjogMC43LCAiZmlsbFJ1bGUiOiAiZXZlbm9kZCIsICJsaW5lQ2FwIjogInJvdW5kIiwgImxpbmVKb2luIjogInJvdW5kIiwgIm9wYWNpdHkiOiAxLjAsICJyYWRpdXMiOiA1LCAic3Ryb2tlIjogdHJ1ZSwgIndlaWdodCI6IDN9CiAgICAgICAgICAgICkuYWRkVG8obWFwXzdiOWE2OTMwYWNhMDQ2NTNiMjMyNWVkNDk4OTMzNDFmKTsKICAgICAgICAKICAgIAogICAgICAgIHZhciBwb3B1cF9mMGU3NWZjYTE4ODc0ZmNiOGEzY2Y2ZmQyYzNlNDE1ZSA9IEwucG9wdXAoeyJtYXhXaWR0aCI6ICIxMDAlIn0pOwoKICAgICAgICAKICAgICAgICAgICAgdmFyIGh0bWxfNTg4ODIzOWY3OGM1NDY1NGFlZWZjYTRlODBjNjlmYWMgPSAkKGA8ZGl2IGlkPSJodG1sXzU4ODgyMzlmNzhjNTQ2NTRhZWVmY2E0ZTgwYzY5ZmFjIiBzdHlsZT0id2lkdGg6IDEwMC4wJTsgaGVpZ2h0OiAxMDAuMCU7Ij5SaWNobW9uZCwgQWRlbGFpZGUsIEtpbmcsIERvd250b3duIFRvcm9udG88L2Rpdj5gKVswXTsKICAgICAgICAgICAgcG9wdXBfZjBlNzVmY2ExODg3NGZjYjhhM2NmNmZkMmMzZTQxNWUuc2V0Q29udGVudChodG1sXzU4ODgyMzlmNzhjNTQ2NTRhZWVmY2E0ZTgwYzY5ZmFjKTsKICAgICAgICAKCiAgICAgICAgY2lyY2xlX21hcmtlcl9jMzExMzIxZmMxNmY0YWEwOGJjMDQ0YTM5YzU3NmZhMS5iaW5kUG9wdXAocG9wdXBfZjBlNzVmY2ExODg3NGZjYjhhM2NmNmZkMmMzZTQxNWUpCiAgICAgICAgOwoKICAgICAgICAKICAgIAogICAgCiAgICAgICAgICAgIHZhciBjaXJjbGVfbWFya2VyXzFkNTBmNzQ4NGJlMDQ2NjY5YWMwZjM5ZDAxOWEzOGQwID0gTC5jaXJjbGVNYXJrZXIoCiAgICAgICAgICAgICAgICBbNDMuNjY5MDA1MTAwMDAwMDEsIC03OS40NDIyNTkzXSwKICAgICAgICAgICAgICAgIHsiYnViYmxpbmdNb3VzZUV2ZW50cyI6IHRydWUsICJjb2xvciI6ICJibHVlIiwgImRhc2hBcnJheSI6IG51bGwsICJkYXNoT2Zmc2V0IjogbnVsbCwgImZpbGwiOiB0cnVlLCAiZmlsbENvbG9yIjogIiMzMTg2Y2MiLCAiZmlsbE9wYWNpdHkiOiAwLjcsICJmaWxsUnVsZSI6ICJldmVub2RkIiwgImxpbmVDYXAiOiAicm91bmQiLCAibGluZUpvaW4iOiAicm91bmQiLCAib3BhY2l0eSI6IDEuMCwgInJhZGl1cyI6IDUsICJzdHJva2UiOiB0cnVlLCAid2VpZ2h0IjogM30KICAgICAgICAgICAgKS5hZGRUbyhtYXBfN2I5YTY5MzBhY2EwNDY1M2IyMzI1ZWQ0OTg5MzM0MWYpOwogICAgICAgIAogICAgCiAgICAgICAgdmFyIHBvcHVwX2E5N2M3ZmFmZTlmZjRiZDg5NWU5OGI3YzYwMDg0ZjRkID0gTC5wb3B1cCh7Im1heFdpZHRoIjogIjEwMCUifSk7CgogICAgICAgIAogICAgICAgICAgICB2YXIgaHRtbF83YzY2ZmIxNmQ0ZjU0M2U1YjM4YTRjNzBjNDA3ZWU0MiA9ICQoYDxkaXYgaWQ9Imh0bWxfN2M2NmZiMTZkNGY1NDNlNWIzOGE0YzcwYzQwN2VlNDIiIHN0eWxlPSJ3aWR0aDogMTAwLjAlOyBoZWlnaHQ6IDEwMC4wJTsiPkR1ZmZlcmluLCBEb3ZlcmNvdXJ0IFZpbGxhZ2UsIFdlc3QgVG9yb250bzwvZGl2PmApWzBdOwogICAgICAgICAgICBwb3B1cF9hOTdjN2ZhZmU5ZmY0YmQ4OTVlOThiN2M2MDA4NGY0ZC5zZXRDb250ZW50KGh0bWxfN2M2NmZiMTZkNGY1NDNlNWIzOGE0YzcwYzQwN2VlNDIpOwogICAgICAgIAoKICAgICAgICBjaXJjbGVfbWFya2VyXzFkNTBmNzQ4NGJlMDQ2NjY5YWMwZjM5ZDAxOWEzOGQwLmJpbmRQb3B1cChwb3B1cF9hOTdjN2ZhZmU5ZmY0YmQ4OTVlOThiN2M2MDA4NGY0ZCkKICAgICAgICA7CgogICAgICAgIAogICAgCiAgICAKICAgICAgICAgICAgdmFyIGNpcmNsZV9tYXJrZXJfNzRiYzg3ZTljY2Q4NGQ3NmEwZWNlZGM2NzE0N2ZkZjMgPSBMLmNpcmNsZU1hcmtlcigKICAgICAgICAgICAgICAgIFs0My43NDQ3MzQyLCAtNzkuMjM5NDc2MDk5OTk5OTldLAogICAgICAgICAgICAgICAgeyJidWJibGluZ01vdXNlRXZlbnRzIjogdHJ1ZSwgImNvbG9yIjogImJsdWUiLCAiZGFzaEFycmF5IjogbnVsbCwgImRhc2hPZmZzZXQiOiBudWxsLCAiZmlsbCI6IHRydWUsICJmaWxsQ29sb3IiOiAiIzMxODZjYyIsICJmaWxsT3BhY2l0eSI6IDAuNywgImZpbGxSdWxlIjogImV2ZW5vZGQiLCAibGluZUNhcCI6ICJyb3VuZCIsICJsaW5lSm9pbiI6ICJyb3VuZCIsICJvcGFjaXR5IjogMS4wLCAicmFkaXVzIjogNSwgInN0cm9rZSI6IHRydWUsICJ3ZWlnaHQiOiAzfQogICAgICAgICAgICApLmFkZFRvKG1hcF83YjlhNjkzMGFjYTA0NjUzYjIzMjVlZDQ5ODkzMzQxZik7CiAgICAgICAgCiAgICAKICAgICAgICB2YXIgcG9wdXBfMTdiMzRiZjU4NDc3NDExMTk0NThkNmQ5MjQ4MGYxMGMgPSBMLnBvcHVwKHsibWF4V2lkdGgiOiAiMTAwJSJ9KTsKCiAgICAgICAgCiAgICAgICAgICAgIHZhciBodG1sXzFiOWVlNGVjNjcxMjQ0NzhiNGY5MjQ1NGU2NTJlNzdiID0gJChgPGRpdiBpZD0iaHRtbF8xYjllZTRlYzY3MTI0NDc4YjRmOTI0NTRlNjUyZTc3YiIgc3R5bGU9IndpZHRoOiAxMDAuMCU7IGhlaWdodDogMTAwLjAlOyI+U2NhcmJvcm91Z2ggVmlsbGFnZSwgU2NhcmJvcm91Z2g8L2Rpdj5gKVswXTsKICAgICAgICAgICAgcG9wdXBfMTdiMzRiZjU4NDc3NDExMTk0NThkNmQ5MjQ4MGYxMGMuc2V0Q29udGVudChodG1sXzFiOWVlNGVjNjcxMjQ0NzhiNGY5MjQ1NGU2NTJlNzdiKTsKICAgICAgICAKCiAgICAgICAgY2lyY2xlX21hcmtlcl83NGJjODdlOWNjZDg0ZDc2YTBlY2VkYzY3MTQ3ZmRmMy5iaW5kUG9wdXAocG9wdXBfMTdiMzRiZjU4NDc3NDExMTk0NThkNmQ5MjQ4MGYxMGMpCiAgICAgICAgOwoKICAgICAgICAKICAgIAogICAgCiAgICAgICAgICAgIHZhciBjaXJjbGVfbWFya2VyXzc5ZTgyN2I3MTA4ZjRlMzA4OGU5YjM1NTQyNTY4YTNlID0gTC5jaXJjbGVNYXJrZXIoCiAgICAgICAgICAgICAgICBbNDMuNzc4NTE3NSwgLTc5LjM0NjU1NTddLAogICAgICAgICAgICAgICAgeyJidWJibGluZ01vdXNlRXZlbnRzIjogdHJ1ZSwgImNvbG9yIjogImJsdWUiLCAiZGFzaEFycmF5IjogbnVsbCwgImRhc2hPZmZzZXQiOiBudWxsLCAiZmlsbCI6IHRydWUsICJmaWxsQ29sb3IiOiAiIzMxODZjYyIsICJmaWxsT3BhY2l0eSI6IDAuNywgImZpbGxSdWxlIjogImV2ZW5vZGQiLCAibGluZUNhcCI6ICJyb3VuZCIsICJsaW5lSm9pbiI6ICJyb3VuZCIsICJvcGFjaXR5IjogMS4wLCAicmFkaXVzIjogNSwgInN0cm9rZSI6IHRydWUsICJ3ZWlnaHQiOiAzfQogICAgICAgICAgICApLmFkZFRvKG1hcF83YjlhNjkzMGFjYTA0NjUzYjIzMjVlZDQ5ODkzMzQxZik7CiAgICAgICAgCiAgICAKICAgICAgICB2YXIgcG9wdXBfODE3MmU2NWFlNTg2NGU1YWI1N2Y1MzVlMTFmMDkzYTMgPSBMLnBvcHVwKHsibWF4V2lkdGgiOiAiMTAwJSJ9KTsKCiAgICAgICAgCiAgICAgICAgICAgIHZhciBodG1sXzQ0MjM2N2IzNGNiYzRjZDhiYTUyMTdiODRkNzJlNjgyID0gJChgPGRpdiBpZD0iaHRtbF80NDIzNjdiMzRjYmM0Y2Q4YmE1MjE3Yjg0ZDcyZTY4MiIgc3R5bGU9IndpZHRoOiAxMDAuMCU7IGhlaWdodDogMTAwLjAlOyI+RmFpcnZpZXcsIEhlbnJ5IEZhcm0sIE9yaW9sZSwgTm9ydGggWW9yazwvZGl2PmApWzBdOwogICAgICAgICAgICBwb3B1cF84MTcyZTY1YWU1ODY0ZTVhYjU3ZjUzNWUxMWYwOTNhMy5zZXRDb250ZW50KGh0bWxfNDQyMzY3YjM0Y2JjNGNkOGJhNTIxN2I4NGQ3MmU2ODIpOwogICAgICAgIAoKICAgICAgICBjaXJjbGVfbWFya2VyXzc5ZTgyN2I3MTA4ZjRlMzA4OGU5YjM1NTQyNTY4YTNlLmJpbmRQb3B1cChwb3B1cF84MTcyZTY1YWU1ODY0ZTVhYjU3ZjUzNWUxMWYwOTNhMykKICAgICAgICA7CgogICAgICAgIAogICAgCiAgICAKICAgICAgICAgICAgdmFyIGNpcmNsZV9tYXJrZXJfZDdjMjdmYTJhMTdlNDhjNTg0ZjA5NTEyZjRkNDhkOGUgPSBMLmNpcmNsZU1hcmtlcigKICAgICAgICAgICAgICAgIFs0My43Njc5ODAzLCAtNzkuNDg3MjYxOTAwMDAwMDFdLAogICAgICAgICAgICAgICAgeyJidWJibGluZ01vdXNlRXZlbnRzIjogdHJ1ZSwgImNvbG9yIjogImJsdWUiLCAiZGFzaEFycmF5IjogbnVsbCwgImRhc2hPZmZzZXQiOiBudWxsLCAiZmlsbCI6IHRydWUsICJmaWxsQ29sb3IiOiAiIzMxODZjYyIsICJmaWxsT3BhY2l0eSI6IDAuNywgImZpbGxSdWxlIjogImV2ZW5vZGQiLCAibGluZUNhcCI6ICJyb3VuZCIsICJsaW5lSm9pbiI6ICJyb3VuZCIsICJvcGFjaXR5IjogMS4wLCAicmFkaXVzIjogNSwgInN0cm9rZSI6IHRydWUsICJ3ZWlnaHQiOiAzfQogICAgICAgICAgICApLmFkZFRvKG1hcF83YjlhNjkzMGFjYTA0NjUzYjIzMjVlZDQ5ODkzMzQxZik7CiAgICAgICAgCiAgICAKICAgICAgICB2YXIgcG9wdXBfMDExNWNjMDE1ZWU1NDc0NGI2YjAzMGQyNjkyM2YyNGEgPSBMLnBvcHVwKHsibWF4V2lkdGgiOiAiMTAwJSJ9KTsKCiAgICAgICAgCiAgICAgICAgICAgIHZhciBodG1sXzdhMWMyMWEzMGM0ODQ5NzI5N2U5MjE4ZGI2Y2YwNTM5ID0gJChgPGRpdiBpZD0iaHRtbF83YTFjMjFhMzBjNDg0OTcyOTdlOTIxOGRiNmNmMDUzOSIgc3R5bGU9IndpZHRoOiAxMDAuMCU7IGhlaWdodDogMTAwLjAlOyI+Tm9ydGh3b29kIFBhcmssIFlvcmsgVW5pdmVyc2l0eSwgTm9ydGggWW9yazwvZGl2PmApWzBdOwogICAgICAgICAgICBwb3B1cF8wMTE1Y2MwMTVlZTU0NzQ0YjZiMDMwZDI2OTIzZjI0YS5zZXRDb250ZW50KGh0bWxfN2ExYzIxYTMwYzQ4NDk3Mjk3ZTkyMThkYjZjZjA1MzkpOwogICAgICAgIAoKICAgICAgICBjaXJjbGVfbWFya2VyX2Q3YzI3ZmEyYTE3ZTQ4YzU4NGYwOTUxMmY0ZDQ4ZDhlLmJpbmRQb3B1cChwb3B1cF8wMTE1Y2MwMTVlZTU0NzQ0YjZiMDMwZDI2OTIzZjI0YSkKICAgICAgICA7CgogICAgICAgIAogICAgCiAgICAKICAgICAgICAgICAgdmFyIGNpcmNsZV9tYXJrZXJfNjgzZGViMGEzZDFhNDk1ZmFkYWJkYzk5MTdlNzA1ZGQgPSBMLmNpcmNsZU1hcmtlcigKICAgICAgICAgICAgICAgIFs0My42ODUzNDcsIC03OS4zMzgxMDY1XSwKICAgICAgICAgICAgICAgIHsiYnViYmxpbmdNb3VzZUV2ZW50cyI6IHRydWUsICJjb2xvciI6ICJibHVlIiwgImRhc2hBcnJheSI6IG51bGwsICJkYXNoT2Zmc2V0IjogbnVsbCwgImZpbGwiOiB0cnVlLCAiZmlsbENvbG9yIjogIiMzMTg2Y2MiLCAiZmlsbE9wYWNpdHkiOiAwLjcsICJmaWxsUnVsZSI6ICJldmVub2RkIiwgImxpbmVDYXAiOiAicm91bmQiLCAibGluZUpvaW4iOiAicm91bmQiLCAib3BhY2l0eSI6IDEuMCwgInJhZGl1cyI6IDUsICJzdHJva2UiOiB0cnVlLCAid2VpZ2h0IjogM30KICAgICAgICAgICAgKS5hZGRUbyhtYXBfN2I5YTY5MzBhY2EwNDY1M2IyMzI1ZWQ0OTg5MzM0MWYpOwogICAgICAgIAogICAgCiAgICAgICAgdmFyIHBvcHVwXzU4MWIxY2NjYzQ4NjQ1ZDdhNDQwNWFmN2I5NGJiNDBiID0gTC5wb3B1cCh7Im1heFdpZHRoIjogIjEwMCUifSk7CgogICAgICAgIAogICAgICAgICAgICB2YXIgaHRtbF81NDhmYWUyNGYyOTg0OTgzODg2ODBjN2JkMjA3Yjk5YSA9ICQoYDxkaXYgaWQ9Imh0bWxfNTQ4ZmFlMjRmMjk4NDk4Mzg4NjgwYzdiZDIwN2I5OWEiIHN0eWxlPSJ3aWR0aDogMTAwLjAlOyBoZWlnaHQ6IDEwMC4wJTsiPkVhc3QgVG9yb250bywgQnJvYWR2aWV3IE5vcnRoIChPbGQgRWFzdCBZb3JrKSwgRWFzdCBZb3JrPC9kaXY+YClbMF07CiAgICAgICAgICAgIHBvcHVwXzU4MWIxY2NjYzQ4NjQ1ZDdhNDQwNWFmN2I5NGJiNDBiLnNldENvbnRlbnQoaHRtbF81NDhmYWUyNGYyOTg0OTgzODg2ODBjN2JkMjA3Yjk5YSk7CiAgICAgICAgCgogICAgICAgIGNpcmNsZV9tYXJrZXJfNjgzZGViMGEzZDFhNDk1ZmFkYWJkYzk5MTdlNzA1ZGQuYmluZFBvcHVwKHBvcHVwXzU4MWIxY2NjYzQ4NjQ1ZDdhNDQwNWFmN2I5NGJiNDBiKQogICAgICAgIDsKCiAgICAgICAgCiAgICAKICAgIAogICAgICAgICAgICB2YXIgY2lyY2xlX21hcmtlcl8wYzk5NWRhYTM5Y2Q0OTk3OTUyZTIxMmI2Yjg4NGYxZSA9IEwuY2lyY2xlTWFya2VyKAogICAgICAgICAgICAgICAgWzQzLjY0MDgxNTcsIC03OS4zODE3NTIyOTk5OTk5OV0sCiAgICAgICAgICAgICAgICB7ImJ1YmJsaW5nTW91c2VFdmVudHMiOiB0cnVlLCAiY29sb3IiOiAiYmx1ZSIsICJkYXNoQXJyYXkiOiBudWxsLCAiZGFzaE9mZnNldCI6IG51bGwsICJmaWxsIjogdHJ1ZSwgImZpbGxDb2xvciI6ICIjMzE4NmNjIiwgImZpbGxPcGFjaXR5IjogMC43LCAiZmlsbFJ1bGUiOiAiZXZlbm9kZCIsICJsaW5lQ2FwIjogInJvdW5kIiwgImxpbmVKb2luIjogInJvdW5kIiwgIm9wYWNpdHkiOiAxLjAsICJyYWRpdXMiOiA1LCAic3Ryb2tlIjogdHJ1ZSwgIndlaWdodCI6IDN9CiAgICAgICAgICAgICkuYWRkVG8obWFwXzdiOWE2OTMwYWNhMDQ2NTNiMjMyNWVkNDk4OTMzNDFmKTsKICAgICAgICAKICAgIAogICAgICAgIHZhciBwb3B1cF82NWIzMWYzM2QyNTU0ZDc0ODZiZmVlMzA2MDFjM2ViYyA9IEwucG9wdXAoeyJtYXhXaWR0aCI6ICIxMDAlIn0pOwoKICAgICAgICAKICAgICAgICAgICAgdmFyIGh0bWxfMGZmNTZlMTViOTQxNGY5MDhlMDViZDc2YzJhMmYwYmYgPSAkKGA8ZGl2IGlkPSJodG1sXzBmZjU2ZTE1Yjk0MTRmOTA4ZTA1YmQ3NmMyYTJmMGJmIiBzdHlsZT0id2lkdGg6IDEwMC4wJTsgaGVpZ2h0OiAxMDAuMCU7Ij5IYXJib3VyZnJvbnQgRWFzdCwgVW5pb24gU3RhdGlvbiwgVG9yb250byBJc2xhbmRzLCBEb3dudG93biBUb3JvbnRvPC9kaXY+YClbMF07CiAgICAgICAgICAgIHBvcHVwXzY1YjMxZjMzZDI1NTRkNzQ4NmJmZWUzMDYwMWMzZWJjLnNldENvbnRlbnQoaHRtbF8wZmY1NmUxNWI5NDE0ZjkwOGUwNWJkNzZjMmEyZjBiZik7CiAgICAgICAgCgogICAgICAgIGNpcmNsZV9tYXJrZXJfMGM5OTVkYWEzOWNkNDk5Nzk1MmUyMTJiNmI4ODRmMWUuYmluZFBvcHVwKHBvcHVwXzY1YjMxZjMzZDI1NTRkNzQ4NmJmZWUzMDYwMWMzZWJjKQogICAgICAgIDsKCiAgICAgICAgCiAgICAKICAgIAogICAgICAgICAgICB2YXIgY2lyY2xlX21hcmtlcl9jYWQ0MmZiYTBmZGQ0ZDZkYTczYWJlM2U4YTMxNmE5YyA9IEwuY2lyY2xlTWFya2VyKAogICAgICAgICAgICAgICAgWzQzLjY0NzkyNjcwMDAwMDAwNiwgLTc5LjQxOTc0OTddLAogICAgICAgICAgICAgICAgeyJidWJibGluZ01vdXNlRXZlbnRzIjogdHJ1ZSwgImNvbG9yIjogImJsdWUiLCAiZGFzaEFycmF5IjogbnVsbCwgImRhc2hPZmZzZXQiOiBudWxsLCAiZmlsbCI6IHRydWUsICJmaWxsQ29sb3IiOiAiIzMxODZjYyIsICJmaWxsT3BhY2l0eSI6IDAuNywgImZpbGxSdWxlIjogImV2ZW5vZGQiLCAibGluZUNhcCI6ICJyb3VuZCIsICJsaW5lSm9pbiI6ICJyb3VuZCIsICJvcGFjaXR5IjogMS4wLCAicmFkaXVzIjogNSwgInN0cm9rZSI6IHRydWUsICJ3ZWlnaHQiOiAzfQogICAgICAgICAgICApLmFkZFRvKG1hcF83YjlhNjkzMGFjYTA0NjUzYjIzMjVlZDQ5ODkzMzQxZik7CiAgICAgICAgCiAgICAKICAgICAgICB2YXIgcG9wdXBfOTQyZDkyMzgwNGYzNDYyMDhjNzBlNTcyMGRkYjM1YTggPSBMLnBvcHVwKHsibWF4V2lkdGgiOiAiMTAwJSJ9KTsKCiAgICAgICAgCiAgICAgICAgICAgIHZhciBodG1sXzRmMTQ1OTAyYzUxYTRlM2Q5YzQ4YjQ5YWU4YjYwOGVlID0gJChgPGRpdiBpZD0iaHRtbF80ZjE0NTkwMmM1MWE0ZTNkOWM0OGI0OWFlOGI2MDhlZSIgc3R5bGU9IndpZHRoOiAxMDAuMCU7IGhlaWdodDogMTAwLjAlOyI+TGl0dGxlIFBvcnR1Z2FsLCBUcmluaXR5LCBXZXN0IFRvcm9udG88L2Rpdj5gKVswXTsKICAgICAgICAgICAgcG9wdXBfOTQyZDkyMzgwNGYzNDYyMDhjNzBlNTcyMGRkYjM1YTguc2V0Q29udGVudChodG1sXzRmMTQ1OTAyYzUxYTRlM2Q5YzQ4YjQ5YWU4YjYwOGVlKTsKICAgICAgICAKCiAgICAgICAgY2lyY2xlX21hcmtlcl9jYWQ0MmZiYTBmZGQ0ZDZkYTczYWJlM2U4YTMxNmE5Yy5iaW5kUG9wdXAocG9wdXBfOTQyZDkyMzgwNGYzNDYyMDhjNzBlNTcyMGRkYjM1YTgpCiAgICAgICAgOwoKICAgICAgICAKICAgIAogICAgCiAgICAgICAgICAgIHZhciBjaXJjbGVfbWFya2VyX2JkNzdhZmNlN2U2ZTQwZmY5NGRjOGY4YzA3MWFjNDMxID0gTC5jaXJjbGVNYXJrZXIoCiAgICAgICAgICAgICAgICBbNDMuNzI3OTI5MiwgLTc5LjI2MjAyOTQwMDAwMDAyXSwKICAgICAgICAgICAgICAgIHsiYnViYmxpbmdNb3VzZUV2ZW50cyI6IHRydWUsICJjb2xvciI6ICJibHVlIiwgImRhc2hBcnJheSI6IG51bGwsICJkYXNoT2Zmc2V0IjogbnVsbCwgImZpbGwiOiB0cnVlLCAiZmlsbENvbG9yIjogIiMzMTg2Y2MiLCAiZmlsbE9wYWNpdHkiOiAwLjcsICJmaWxsUnVsZSI6ICJldmVub2RkIiwgImxpbmVDYXAiOiAicm91bmQiLCAibGluZUpvaW4iOiAicm91bmQiLCAib3BhY2l0eSI6IDEuMCwgInJhZGl1cyI6IDUsICJzdHJva2UiOiB0cnVlLCAid2VpZ2h0IjogM30KICAgICAgICAgICAgKS5hZGRUbyhtYXBfN2I5YTY5MzBhY2EwNDY1M2IyMzI1ZWQ0OTg5MzM0MWYpOwogICAgICAgIAogICAgCiAgICAgICAgdmFyIHBvcHVwXzUxNDk0ZjdlMjNiZDRjNmVhYjhjMjAxMjZhYjAxYmEwID0gTC5wb3B1cCh7Im1heFdpZHRoIjogIjEwMCUifSk7CgogICAgICAgIAogICAgICAgICAgICB2YXIgaHRtbF9iZDAzM2FkMDUwNjQ0MWFjOTc5OTgzZjU4ZmUzMGQ4YiA9ICQoYDxkaXYgaWQ9Imh0bWxfYmQwMzNhZDA1MDY0NDFhYzk3OTk4M2Y1OGZlMzBkOGIiIHN0eWxlPSJ3aWR0aDogMTAwLjAlOyBoZWlnaHQ6IDEwMC4wJTsiPktlbm5lZHkgUGFyaywgSW9udmlldywgRWFzdCBCaXJjaG1vdW50IFBhcmssIFNjYXJib3JvdWdoPC9kaXY+YClbMF07CiAgICAgICAgICAgIHBvcHVwXzUxNDk0ZjdlMjNiZDRjNmVhYjhjMjAxMjZhYjAxYmEwLnNldENvbnRlbnQoaHRtbF9iZDAzM2FkMDUwNjQ0MWFjOTc5OTgzZjU4ZmUzMGQ4Yik7CiAgICAgICAgCgogICAgICAgIGNpcmNsZV9tYXJrZXJfYmQ3N2FmY2U3ZTZlNDBmZjk0ZGM4ZjhjMDcxYWM0MzEuYmluZFBvcHVwKHBvcHVwXzUxNDk0ZjdlMjNiZDRjNmVhYjhjMjAxMjZhYjAxYmEwKQogICAgICAgIDsKCiAgICAgICAgCiAgICAKICAgIAogICAgICAgICAgICB2YXIgY2lyY2xlX21hcmtlcl85ODNjODc5MmFmOTc0NGY3ODBhY2ZlNmM5ZjhmYTE0NSA9IEwuY2lyY2xlTWFya2VyKAogICAgICAgICAgICAgICAgWzQzLjc4Njk0NzMsIC03OS4zODU5NzVdLAogICAgICAgICAgICAgICAgeyJidWJibGluZ01vdXNlRXZlbnRzIjogdHJ1ZSwgImNvbG9yIjogImJsdWUiLCAiZGFzaEFycmF5IjogbnVsbCwgImRhc2hPZmZzZXQiOiBudWxsLCAiZmlsbCI6IHRydWUsICJmaWxsQ29sb3IiOiAiIzMxODZjYyIsICJmaWxsT3BhY2l0eSI6IDAuNywgImZpbGxSdWxlIjogImV2ZW5vZGQiLCAibGluZUNhcCI6ICJyb3VuZCIsICJsaW5lSm9pbiI6ICJyb3VuZCIsICJvcGFjaXR5IjogMS4wLCAicmFkaXVzIjogNSwgInN0cm9rZSI6IHRydWUsICJ3ZWlnaHQiOiAzfQogICAgICAgICAgICApLmFkZFRvKG1hcF83YjlhNjkzMGFjYTA0NjUzYjIzMjVlZDQ5ODkzMzQxZik7CiAgICAgICAgCiAgICAKICAgICAgICB2YXIgcG9wdXBfMTYwNGQ2MzIwMGYwNDJkNzg4ZjQyMzQ4YTMxZTQyMjEgPSBMLnBvcHVwKHsibWF4V2lkdGgiOiAiMTAwJSJ9KTsKCiAgICAgICAgCiAgICAgICAgICAgIHZhciBodG1sXzQ3NDcyMmM4OGI1ZDQxNWJhNTExNTJlZmJkN2M4ZmIzID0gJChgPGRpdiBpZD0iaHRtbF80NzQ3MjJjODhiNWQ0MTViYTUxMTUyZWZiZDdjOGZiMyIgc3R5bGU9IndpZHRoOiAxMDAuMCU7IGhlaWdodDogMTAwLjAlOyI+QmF5dmlldyBWaWxsYWdlLCBOb3J0aCBZb3JrPC9kaXY+YClbMF07CiAgICAgICAgICAgIHBvcHVwXzE2MDRkNjMyMDBmMDQyZDc4OGY0MjM0OGEzMWU0MjIxLnNldENvbnRlbnQoaHRtbF80NzQ3MjJjODhiNWQ0MTViYTUxMTUyZWZiZDdjOGZiMyk7CiAgICAgICAgCgogICAgICAgIGNpcmNsZV9tYXJrZXJfOTgzYzg3OTJhZjk3NDRmNzgwYWNmZTZjOWY4ZmExNDUuYmluZFBvcHVwKHBvcHVwXzE2MDRkNjMyMDBmMDQyZDc4OGY0MjM0OGEzMWU0MjIxKQogICAgICAgIDsKCiAgICAgICAgCiAgICAKICAgIAogICAgICAgICAgICB2YXIgY2lyY2xlX21hcmtlcl82NDliYzliYWIzOWM0Y2NlODYxYjZlOWJkM2U0OGM4YyA9IEwuY2lyY2xlTWFya2VyKAogICAgICAgICAgICAgICAgWzQzLjczNzQ3MzIwMDAwMDAwNCwgLTc5LjQ2NDc2MzI5OTk5OTk5XSwKICAgICAgICAgICAgICAgIHsiYnViYmxpbmdNb3VzZUV2ZW50cyI6IHRydWUsICJjb2xvciI6ICJibHVlIiwgImRhc2hBcnJheSI6IG51bGwsICJkYXNoT2Zmc2V0IjogbnVsbCwgImZpbGwiOiB0cnVlLCAiZmlsbENvbG9yIjogIiMzMTg2Y2MiLCAiZmlsbE9wYWNpdHkiOiAwLjcsICJmaWxsUnVsZSI6ICJldmVub2RkIiwgImxpbmVDYXAiOiAicm91bmQiLCAibGluZUpvaW4iOiAicm91bmQiLCAib3BhY2l0eSI6IDEuMCwgInJhZGl1cyI6IDUsICJzdHJva2UiOiB0cnVlLCAid2VpZ2h0IjogM30KICAgICAgICAgICAgKS5hZGRUbyhtYXBfN2I5YTY5MzBhY2EwNDY1M2IyMzI1ZWQ0OTg5MzM0MWYpOwogICAgICAgIAogICAgCiAgICAgICAgdmFyIHBvcHVwX2MxMTA1NzQwMWI5ZDQ3NjZhZWM1N2JhMDc4ZjllYTMzID0gTC5wb3B1cCh7Im1heFdpZHRoIjogIjEwMCUifSk7CgogICAgICAgIAogICAgICAgICAgICB2YXIgaHRtbF81NDcwNTJjNTI3MzI0YWZhOGZmM2Y0MjZjZTI2ZmE0MCA9ICQoYDxkaXYgaWQ9Imh0bWxfNTQ3MDUyYzUyNzMyNGFmYThmZjNmNDI2Y2UyNmZhNDAiIHN0eWxlPSJ3aWR0aDogMTAwLjAlOyBoZWlnaHQ6IDEwMC4wJTsiPkRvd25zdmlldywgTm9ydGggWW9yazwvZGl2PmApWzBdOwogICAgICAgICAgICBwb3B1cF9jMTEwNTc0MDFiOWQ0NzY2YWVjNTdiYTA3OGY5ZWEzMy5zZXRDb250ZW50KGh0bWxfNTQ3MDUyYzUyNzMyNGFmYThmZjNmNDI2Y2UyNmZhNDApOwogICAgICAgIAoKICAgICAgICBjaXJjbGVfbWFya2VyXzY0OWJjOWJhYjM5YzRjY2U4NjFiNmU5YmQzZTQ4YzhjLmJpbmRQb3B1cChwb3B1cF9jMTEwNTc0MDFiOWQ0NzY2YWVjNTdiYTA3OGY5ZWEzMykKICAgICAgICA7CgogICAgICAgIAogICAgCiAgICAKICAgICAgICAgICAgdmFyIGNpcmNsZV9tYXJrZXJfOWYyYWE1M2QyOGRlNGY3ZGE1NDViMzI5NjNiNGFlNDggPSBMLmNpcmNsZU1hcmtlcigKICAgICAgICAgICAgICAgIFs0My42Nzk1NTcxLCAtNzkuMzUyMTg4XSwKICAgICAgICAgICAgICAgIHsiYnViYmxpbmdNb3VzZUV2ZW50cyI6IHRydWUsICJjb2xvciI6ICJibHVlIiwgImRhc2hBcnJheSI6IG51bGwsICJkYXNoT2Zmc2V0IjogbnVsbCwgImZpbGwiOiB0cnVlLCAiZmlsbENvbG9yIjogIiMzMTg2Y2MiLCAiZmlsbE9wYWNpdHkiOiAwLjcsICJmaWxsUnVsZSI6ICJldmVub2RkIiwgImxpbmVDYXAiOiAicm91bmQiLCAibGluZUpvaW4iOiAicm91bmQiLCAib3BhY2l0eSI6IDEuMCwgInJhZGl1cyI6IDUsICJzdHJva2UiOiB0cnVlLCAid2VpZ2h0IjogM30KICAgICAgICAgICAgKS5hZGRUbyhtYXBfN2I5YTY5MzBhY2EwNDY1M2IyMzI1ZWQ0OTg5MzM0MWYpOwogICAgICAgIAogICAgCiAgICAgICAgdmFyIHBvcHVwXzVkMTY0YmYwNTEyZTQ3OTliNjFkNjE1NGU2ZWM3MDEwID0gTC5wb3B1cCh7Im1heFdpZHRoIjogIjEwMCUifSk7CgogICAgICAgIAogICAgICAgICAgICB2YXIgaHRtbF9jZDJlMTYxMmIyYmI0M2FlYTc3N2Q1NTBhZDA4MDkxNCA9ICQoYDxkaXYgaWQ9Imh0bWxfY2QyZTE2MTJiMmJiNDNhZWE3NzdkNTUwYWQwODA5MTQiIHN0eWxlPSJ3aWR0aDogMTAwLjAlOyBoZWlnaHQ6IDEwMC4wJTsiPlRoZSBEYW5mb3J0aCBXZXN0LCBSaXZlcmRhbGUsIEVhc3QgVG9yb250bzwvZGl2PmApWzBdOwogICAgICAgICAgICBwb3B1cF81ZDE2NGJmMDUxMmU0Nzk5YjYxZDYxNTRlNmVjNzAxMC5zZXRDb250ZW50KGh0bWxfY2QyZTE2MTJiMmJiNDNhZWE3NzdkNTUwYWQwODA5MTQpOwogICAgICAgIAoKICAgICAgICBjaXJjbGVfbWFya2VyXzlmMmFhNTNkMjhkZTRmN2RhNTQ1YjMyOTYzYjRhZTQ4LmJpbmRQb3B1cChwb3B1cF81ZDE2NGJmMDUxMmU0Nzk5YjYxZDYxNTRlNmVjNzAxMCkKICAgICAgICA7CgogICAgICAgIAogICAgCiAgICAKICAgICAgICAgICAgdmFyIGNpcmNsZV9tYXJrZXJfYjM1NTE2NGQwMGZiNGMxMDkzMTAwNGNkYTMwODdmOGUgPSBMLmNpcmNsZU1hcmtlcigKICAgICAgICAgICAgICAgIFs0My42NDcxNzY4LCAtNzkuMzgxNTc2NDAwMDAwMDFdLAogICAgICAgICAgICAgICAgeyJidWJibGluZ01vdXNlRXZlbnRzIjogdHJ1ZSwgImNvbG9yIjogImJsdWUiLCAiZGFzaEFycmF5IjogbnVsbCwgImRhc2hPZmZzZXQiOiBudWxsLCAiZmlsbCI6IHRydWUsICJmaWxsQ29sb3IiOiAiIzMxODZjYyIsICJmaWxsT3BhY2l0eSI6IDAuNywgImZpbGxSdWxlIjogImV2ZW5vZGQiLCAibGluZUNhcCI6ICJyb3VuZCIsICJsaW5lSm9pbiI6ICJyb3VuZCIsICJvcGFjaXR5IjogMS4wLCAicmFkaXVzIjogNSwgInN0cm9rZSI6IHRydWUsICJ3ZWlnaHQiOiAzfQogICAgICAgICAgICApLmFkZFRvKG1hcF83YjlhNjkzMGFjYTA0NjUzYjIzMjVlZDQ5ODkzMzQxZik7CiAgICAgICAgCiAgICAKICAgICAgICB2YXIgcG9wdXBfMzI4YWVhZWMxZWVmNDhiZDg4OGM1OWYwY2VhZTk5NzMgPSBMLnBvcHVwKHsibWF4V2lkdGgiOiAiMTAwJSJ9KTsKCiAgICAgICAgCiAgICAgICAgICAgIHZhciBodG1sXzRkZGU1MmM4OWU3NzRlNmViYTMzYWM1NzNkZGI4NDdhID0gJChgPGRpdiBpZD0iaHRtbF80ZGRlNTJjODllNzc0ZTZlYmEzM2FjNTczZGRiODQ3YSIgc3R5bGU9IndpZHRoOiAxMDAuMCU7IGhlaWdodDogMTAwLjAlOyI+VG9yb250byBEb21pbmlvbiBDZW50cmUsIERlc2lnbiBFeGNoYW5nZSwgRG93bnRvd24gVG9yb250bzwvZGl2PmApWzBdOwogICAgICAgICAgICBwb3B1cF8zMjhhZWFlYzFlZWY0OGJkODg4YzU5ZjBjZWFlOTk3My5zZXRDb250ZW50KGh0bWxfNGRkZTUyYzg5ZTc3NGU2ZWJhMzNhYzU3M2RkYjg0N2EpOwogICAgICAgIAoKICAgICAgICBjaXJjbGVfbWFya2VyX2IzNTUxNjRkMDBmYjRjMTA5MzEwMDRjZGEzMDg3ZjhlLmJpbmRQb3B1cChwb3B1cF8zMjhhZWFlYzFlZWY0OGJkODg4YzU5ZjBjZWFlOTk3MykKICAgICAgICA7CgogICAgICAgIAogICAgCiAgICAKICAgICAgICAgICAgdmFyIGNpcmNsZV9tYXJrZXJfNTdhYWRiNmQ3MzVmNGJlOWJlOGY2MGQxN2RlMjBmMzUgPSBMLmNpcmNsZU1hcmtlcigKICAgICAgICAgICAgICAgIFs0My42MzY4NDcyLCAtNzkuNDI4MTkxNDAwMDAwMDJdLAogICAgICAgICAgICAgICAgeyJidWJibGluZ01vdXNlRXZlbnRzIjogdHJ1ZSwgImNvbG9yIjogImJsdWUiLCAiZGFzaEFycmF5IjogbnVsbCwgImRhc2hPZmZzZXQiOiBudWxsLCAiZmlsbCI6IHRydWUsICJmaWxsQ29sb3IiOiAiIzMxODZjYyIsICJmaWxsT3BhY2l0eSI6IDAuNywgImZpbGxSdWxlIjogImV2ZW5vZGQiLCAibGluZUNhcCI6ICJyb3VuZCIsICJsaW5lSm9pbiI6ICJyb3VuZCIsICJvcGFjaXR5IjogMS4wLCAicmFkaXVzIjogNSwgInN0cm9rZSI6IHRydWUsICJ3ZWlnaHQiOiAzfQogICAgICAgICAgICApLmFkZFRvKG1hcF83YjlhNjkzMGFjYTA0NjUzYjIzMjVlZDQ5ODkzMzQxZik7CiAgICAgICAgCiAgICAKICAgICAgICB2YXIgcG9wdXBfN2M3MjE3ZmU4MzQ2NGIwN2IxNDQxZDk5ZGFkNDRmZWMgPSBMLnBvcHVwKHsibWF4V2lkdGgiOiAiMTAwJSJ9KTsKCiAgICAgICAgCiAgICAgICAgICAgIHZhciBodG1sX2NhYWEzY2ZmY2E5NzQ2NTFhNDM2MmJmMTI1ZmU5N2ExID0gJChgPGRpdiBpZD0iaHRtbF9jYWFhM2NmZmNhOTc0NjUxYTQzNjJiZjEyNWZlOTdhMSIgc3R5bGU9IndpZHRoOiAxMDAuMCU7IGhlaWdodDogMTAwLjAlOyI+QnJvY2t0b24sIFBhcmtkYWxlIFZpbGxhZ2UsIEV4aGliaXRpb24gUGxhY2UsIFdlc3QgVG9yb250bzwvZGl2PmApWzBdOwogICAgICAgICAgICBwb3B1cF83YzcyMTdmZTgzNDY0YjA3YjE0NDFkOTlkYWQ0NGZlYy5zZXRDb250ZW50KGh0bWxfY2FhYTNjZmZjYTk3NDY1MWE0MzYyYmYxMjVmZTk3YTEpOwogICAgICAgIAoKICAgICAgICBjaXJjbGVfbWFya2VyXzU3YWFkYjZkNzM1ZjRiZTliZThmNjBkMTdkZTIwZjM1LmJpbmRQb3B1cChwb3B1cF83YzcyMTdmZTgzNDY0YjA3YjE0NDFkOTlkYWQ0NGZlYykKICAgICAgICA7CgogICAgICAgIAogICAgCiAgICAKICAgICAgICAgICAgdmFyIGNpcmNsZV9tYXJrZXJfNjQ4NjM4YmM3YjViNDNkOTgzYThmNjJkY2VlODBlMWUgPSBMLmNpcmNsZU1hcmtlcigKICAgICAgICAgICAgICAgIFs0My43MTExMTE3MDAwMDAwMDQsIC03OS4yODQ1NzcyXSwKICAgICAgICAgICAgICAgIHsiYnViYmxpbmdNb3VzZUV2ZW50cyI6IHRydWUsICJjb2xvciI6ICJibHVlIiwgImRhc2hBcnJheSI6IG51bGwsICJkYXNoT2Zmc2V0IjogbnVsbCwgImZpbGwiOiB0cnVlLCAiZmlsbENvbG9yIjogIiMzMTg2Y2MiLCAiZmlsbE9wYWNpdHkiOiAwLjcsICJmaWxsUnVsZSI6ICJldmVub2RkIiwgImxpbmVDYXAiOiAicm91bmQiLCAibGluZUpvaW4iOiAicm91bmQiLCAib3BhY2l0eSI6IDEuMCwgInJhZGl1cyI6IDUsICJzdHJva2UiOiB0cnVlLCAid2VpZ2h0IjogM30KICAgICAgICAgICAgKS5hZGRUbyhtYXBfN2I5YTY5MzBhY2EwNDY1M2IyMzI1ZWQ0OTg5MzM0MWYpOwogICAgICAgIAogICAgCiAgICAgICAgdmFyIHBvcHVwXzJjYmE2Zjk3OGMwMjQzNzZiYjEyMWIwODkxYmZiZjhkID0gTC5wb3B1cCh7Im1heFdpZHRoIjogIjEwMCUifSk7CgogICAgICAgIAogICAgICAgICAgICB2YXIgaHRtbF80MTVhYmJhNmUxNTI0N2NkYmU3OGQ5NmJkZDE1NmNjNiA9ICQoYDxkaXYgaWQ9Imh0bWxfNDE1YWJiYTZlMTUyNDdjZGJlNzhkOTZiZGQxNTZjYzYiIHN0eWxlPSJ3aWR0aDogMTAwLjAlOyBoZWlnaHQ6IDEwMC4wJTsiPkdvbGRlbiBNaWxlLCBDbGFpcmxlYSwgT2FrcmlkZ2UsIFNjYXJib3JvdWdoPC9kaXY+YClbMF07CiAgICAgICAgICAgIHBvcHVwXzJjYmE2Zjk3OGMwMjQzNzZiYjEyMWIwODkxYmZiZjhkLnNldENvbnRlbnQoaHRtbF80MTVhYmJhNmUxNTI0N2NkYmU3OGQ5NmJkZDE1NmNjNik7CiAgICAgICAgCgogICAgICAgIGNpcmNsZV9tYXJrZXJfNjQ4NjM4YmM3YjViNDNkOTgzYThmNjJkY2VlODBlMWUuYmluZFBvcHVwKHBvcHVwXzJjYmE2Zjk3OGMwMjQzNzZiYjEyMWIwODkxYmZiZjhkKQogICAgICAgIDsKCiAgICAgICAgCiAgICAKICAgIAogICAgICAgICAgICB2YXIgY2lyY2xlX21hcmtlcl9jMDJjYmQzYWFkYzk0ZWY3YjcwZjM2OTM5OTY4NmNjYiA9IEwuY2lyY2xlTWFya2VyKAogICAgICAgICAgICAgICAgWzQzLjc1NzQ5MDIsIC03OS4zNzQ3MTQwOTk5OTk5OV0sCiAgICAgICAgICAgICAgICB7ImJ1YmJsaW5nTW91c2VFdmVudHMiOiB0cnVlLCAiY29sb3IiOiAiYmx1ZSIsICJkYXNoQXJyYXkiOiBudWxsLCAiZGFzaE9mZnNldCI6IG51bGwsICJmaWxsIjogdHJ1ZSwgImZpbGxDb2xvciI6ICIjMzE4NmNjIiwgImZpbGxPcGFjaXR5IjogMC43LCAiZmlsbFJ1bGUiOiAiZXZlbm9kZCIsICJsaW5lQ2FwIjogInJvdW5kIiwgImxpbmVKb2luIjogInJvdW5kIiwgIm9wYWNpdHkiOiAxLjAsICJyYWRpdXMiOiA1LCAic3Ryb2tlIjogdHJ1ZSwgIndlaWdodCI6IDN9CiAgICAgICAgICAgICkuYWRkVG8obWFwXzdiOWE2OTMwYWNhMDQ2NTNiMjMyNWVkNDk4OTMzNDFmKTsKICAgICAgICAKICAgIAogICAgICAgIHZhciBwb3B1cF9mNWRiY2Q5NjQ3YmY0MmMzODg5NDFmMzY4MjZlM2Q4NiA9IEwucG9wdXAoeyJtYXhXaWR0aCI6ICIxMDAlIn0pOwoKICAgICAgICAKICAgICAgICAgICAgdmFyIGh0bWxfZjQwMTRhYWU2ZGJlNGQ5YTg5MzRjMWNiNTFmNDM3OGYgPSAkKGA8ZGl2IGlkPSJodG1sX2Y0MDE0YWFlNmRiZTRkOWE4OTM0YzFjYjUxZjQzNzhmIiBzdHlsZT0id2lkdGg6IDEwMC4wJTsgaGVpZ2h0OiAxMDAuMCU7Ij5Zb3JrIE1pbGxzLCBTaWx2ZXIgSGlsbHMsIE5vcnRoIFlvcms8L2Rpdj5gKVswXTsKICAgICAgICAgICAgcG9wdXBfZjVkYmNkOTY0N2JmNDJjMzg4OTQxZjM2ODI2ZTNkODYuc2V0Q29udGVudChodG1sX2Y0MDE0YWFlNmRiZTRkOWE4OTM0YzFjYjUxZjQzNzhmKTsKICAgICAgICAKCiAgICAgICAgY2lyY2xlX21hcmtlcl9jMDJjYmQzYWFkYzk0ZWY3YjcwZjM2OTM5OTY4NmNjYi5iaW5kUG9wdXAocG9wdXBfZjVkYmNkOTY0N2JmNDJjMzg4OTQxZjM2ODI2ZTNkODYpCiAgICAgICAgOwoKICAgICAgICAKICAgIAogICAgCiAgICAgICAgICAgIHZhciBjaXJjbGVfbWFya2VyX2Y0ZmM5MWU5OTk1MDQyZGVhOWM1MDk1YzI2NzcxNzFhID0gTC5jaXJjbGVNYXJrZXIoCiAgICAgICAgICAgICAgICBbNDMuNzM5MDE0NiwgLTc5LjUwNjk0MzZdLAogICAgICAgICAgICAgICAgeyJidWJibGluZ01vdXNlRXZlbnRzIjogdHJ1ZSwgImNvbG9yIjogImJsdWUiLCAiZGFzaEFycmF5IjogbnVsbCwgImRhc2hPZmZzZXQiOiBudWxsLCAiZmlsbCI6IHRydWUsICJmaWxsQ29sb3IiOiAiIzMxODZjYyIsICJmaWxsT3BhY2l0eSI6IDAuNywgImZpbGxSdWxlIjogImV2ZW5vZGQiLCAibGluZUNhcCI6ICJyb3VuZCIsICJsaW5lSm9pbiI6ICJyb3VuZCIsICJvcGFjaXR5IjogMS4wLCAicmFkaXVzIjogNSwgInN0cm9rZSI6IHRydWUsICJ3ZWlnaHQiOiAzfQogICAgICAgICAgICApLmFkZFRvKG1hcF83YjlhNjkzMGFjYTA0NjUzYjIzMjVlZDQ5ODkzMzQxZik7CiAgICAgICAgCiAgICAKICAgICAgICB2YXIgcG9wdXBfOTBjNWY4ZmE3YzE2NGUzMjg1OGNmZTI1MTAyMTUwNTUgPSBMLnBvcHVwKHsibWF4V2lkdGgiOiAiMTAwJSJ9KTsKCiAgICAgICAgCiAgICAgICAgICAgIHZhciBodG1sXzljOTExODkzYzQ4NzRmMGNiOGI3NWVmYjZlYjczNTljID0gJChgPGRpdiBpZD0iaHRtbF85YzkxMTg5M2M0ODc0ZjBjYjhiNzVlZmI2ZWI3MzU5YyIgc3R5bGU9IndpZHRoOiAxMDAuMCU7IGhlaWdodDogMTAwLjAlOyI+RG93bnN2aWV3LCBOb3J0aCBZb3JrPC9kaXY+YClbMF07CiAgICAgICAgICAgIHBvcHVwXzkwYzVmOGZhN2MxNjRlMzI4NThjZmUyNTEwMjE1MDU1LnNldENvbnRlbnQoaHRtbF85YzkxMTg5M2M0ODc0ZjBjYjhiNzVlZmI2ZWI3MzU5Yyk7CiAgICAgICAgCgogICAgICAgIGNpcmNsZV9tYXJrZXJfZjRmYzkxZTk5OTUwNDJkZWE5YzUwOTVjMjY3NzE3MWEuYmluZFBvcHVwKHBvcHVwXzkwYzVmOGZhN2MxNjRlMzI4NThjZmUyNTEwMjE1MDU1KQogICAgICAgIDsKCiAgICAgICAgCiAgICAKICAgIAogICAgICAgICAgICB2YXIgY2lyY2xlX21hcmtlcl9jNWFhYzEzZmFhNDA0YmY5ODA5ODY1YWE1ODc3ZjY5NCA9IEwuY2lyY2xlTWFya2VyKAogICAgICAgICAgICAgICAgWzQzLjY2ODk5ODUsIC03OS4zMTU1NzE1OTk5OTk5OF0sCiAgICAgICAgICAgICAgICB7ImJ1YmJsaW5nTW91c2VFdmVudHMiOiB0cnVlLCAiY29sb3IiOiAiYmx1ZSIsICJkYXNoQXJyYXkiOiBudWxsLCAiZGFzaE9mZnNldCI6IG51bGwsICJmaWxsIjogdHJ1ZSwgImZpbGxDb2xvciI6ICIjMzE4NmNjIiwgImZpbGxPcGFjaXR5IjogMC43LCAiZmlsbFJ1bGUiOiAiZXZlbm9kZCIsICJsaW5lQ2FwIjogInJvdW5kIiwgImxpbmVKb2luIjogInJvdW5kIiwgIm9wYWNpdHkiOiAxLjAsICJyYWRpdXMiOiA1LCAic3Ryb2tlIjogdHJ1ZSwgIndlaWdodCI6IDN9CiAgICAgICAgICAgICkuYWRkVG8obWFwXzdiOWE2OTMwYWNhMDQ2NTNiMjMyNWVkNDk4OTMzNDFmKTsKICAgICAgICAKICAgIAogICAgICAgIHZhciBwb3B1cF9hOTZhMmFkNmE1ZDc0YmNhYmVkOTQ5MzVlOTU5ODExMiA9IEwucG9wdXAoeyJtYXhXaWR0aCI6ICIxMDAlIn0pOwoKICAgICAgICAKICAgICAgICAgICAgdmFyIGh0bWxfOTJlYmUzOTAwZDZiNDE4NWE1MDA5ZTA0MDIwMGE1OTkgPSAkKGA8ZGl2IGlkPSJodG1sXzkyZWJlMzkwMGQ2YjQxODVhNTAwOWUwNDAyMDBhNTk5IiBzdHlsZT0id2lkdGg6IDEwMC4wJTsgaGVpZ2h0OiAxMDAuMCU7Ij5JbmRpYSBCYXphYXIsIFRoZSBCZWFjaGVzIFdlc3QsIEVhc3QgVG9yb250bzwvZGl2PmApWzBdOwogICAgICAgICAgICBwb3B1cF9hOTZhMmFkNmE1ZDc0YmNhYmVkOTQ5MzVlOTU5ODExMi5zZXRDb250ZW50KGh0bWxfOTJlYmUzOTAwZDZiNDE4NWE1MDA5ZTA0MDIwMGE1OTkpOwogICAgICAgIAoKICAgICAgICBjaXJjbGVfbWFya2VyX2M1YWFjMTNmYWE0MDRiZjk4MDk4NjVhYTU4NzdmNjk0LmJpbmRQb3B1cChwb3B1cF9hOTZhMmFkNmE1ZDc0YmNhYmVkOTQ5MzVlOTU5ODExMikKICAgICAgICA7CgogICAgICAgIAogICAgCiAgICAKICAgICAgICAgICAgdmFyIGNpcmNsZV9tYXJrZXJfMGQwZjI4NThjZDUzNDRiNTlmMGM2NDliYTk5ZWUxNDYgPSBMLmNpcmNsZU1hcmtlcigKICAgICAgICAgICAgICAgIFs0My42NDgxOTg1LCAtNzkuMzc5ODE2OTAwMDAwMDFdLAogICAgICAgICAgICAgICAgeyJidWJibGluZ01vdXNlRXZlbnRzIjogdHJ1ZSwgImNvbG9yIjogImJsdWUiLCAiZGFzaEFycmF5IjogbnVsbCwgImRhc2hPZmZzZXQiOiBudWxsLCAiZmlsbCI6IHRydWUsICJmaWxsQ29sb3IiOiAiIzMxODZjYyIsICJmaWxsT3BhY2l0eSI6IDAuNywgImZpbGxSdWxlIjogImV2ZW5vZGQiLCAibGluZUNhcCI6ICJyb3VuZCIsICJsaW5lSm9pbiI6ICJyb3VuZCIsICJvcGFjaXR5IjogMS4wLCAicmFkaXVzIjogNSwgInN0cm9rZSI6IHRydWUsICJ3ZWlnaHQiOiAzfQogICAgICAgICAgICApLmFkZFRvKG1hcF83YjlhNjkzMGFjYTA0NjUzYjIzMjVlZDQ5ODkzMzQxZik7CiAgICAgICAgCiAgICAKICAgICAgICB2YXIgcG9wdXBfNWEwOWZlNjk0MzQ2NDAyY2E0OGNlZDdmNzhhZDViMDUgPSBMLnBvcHVwKHsibWF4V2lkdGgiOiAiMTAwJSJ9KTsKCiAgICAgICAgCiAgICAgICAgICAgIHZhciBodG1sXzE1OGEyMzYyMTJkOTQyNjlhMjZhNGRkYWI5ZDA3YTVhID0gJChgPGRpdiBpZD0iaHRtbF8xNThhMjM2MjEyZDk0MjY5YTI2YTRkZGFiOWQwN2E1YSIgc3R5bGU9IndpZHRoOiAxMDAuMCU7IGhlaWdodDogMTAwLjAlOyI+Q29tbWVyY2UgQ291cnQsIFZpY3RvcmlhIEhvdGVsLCBEb3dudG93biBUb3JvbnRvPC9kaXY+YClbMF07CiAgICAgICAgICAgIHBvcHVwXzVhMDlmZTY5NDM0NjQwMmNhNDhjZWQ3Zjc4YWQ1YjA1LnNldENvbnRlbnQoaHRtbF8xNThhMjM2MjEyZDk0MjY5YTI2YTRkZGFiOWQwN2E1YSk7CiAgICAgICAgCgogICAgICAgIGNpcmNsZV9tYXJrZXJfMGQwZjI4NThjZDUzNDRiNTlmMGM2NDliYTk5ZWUxNDYuYmluZFBvcHVwKHBvcHVwXzVhMDlmZTY5NDM0NjQwMmNhNDhjZWQ3Zjc4YWQ1YjA1KQogICAgICAgIDsKCiAgICAgICAgCiAgICAKICAgIAogICAgICAgICAgICB2YXIgY2lyY2xlX21hcmtlcl9jMzQ3MWVmOTIyYjk0MGViYmM3Y2NiYzg5ODIyODU2MCA9IEwuY2lyY2xlTWFya2VyKAogICAgICAgICAgICAgICAgWzQzLjcxMzc1NjIwMDAwMDAwNiwgLTc5LjQ5MDA3MzhdLAogICAgICAgICAgICAgICAgeyJidWJibGluZ01vdXNlRXZlbnRzIjogdHJ1ZSwgImNvbG9yIjogImJsdWUiLCAiZGFzaEFycmF5IjogbnVsbCwgImRhc2hPZmZzZXQiOiBudWxsLCAiZmlsbCI6IHRydWUsICJmaWxsQ29sb3IiOiAiIzMxODZjYyIsICJmaWxsT3BhY2l0eSI6IDAuNywgImZpbGxSdWxlIjogImV2ZW5vZGQiLCAibGluZUNhcCI6ICJyb3VuZCIsICJsaW5lSm9pbiI6ICJyb3VuZCIsICJvcGFjaXR5IjogMS4wLCAicmFkaXVzIjogNSwgInN0cm9rZSI6IHRydWUsICJ3ZWlnaHQiOiAzfQogICAgICAgICAgICApLmFkZFRvKG1hcF83YjlhNjkzMGFjYTA0NjUzYjIzMjVlZDQ5ODkzMzQxZik7CiAgICAgICAgCiAgICAKICAgICAgICB2YXIgcG9wdXBfY2YxMmQ1OGQxNmY1NDUyMzlhZWVhMzQxNWNmYzZmNjMgPSBMLnBvcHVwKHsibWF4V2lkdGgiOiAiMTAwJSJ9KTsKCiAgICAgICAgCiAgICAgICAgICAgIHZhciBodG1sXzM1ZTE1ZjhiYjM5MzQxZjZiYjZjNDgzZjMwOTI2YmE0ID0gJChgPGRpdiBpZD0iaHRtbF8zNWUxNWY4YmIzOTM0MWY2YmI2YzQ4M2YzMDkyNmJhNCIgc3R5bGU9IndpZHRoOiAxMDAuMCU7IGhlaWdodDogMTAwLjAlOyI+Tm9ydGggUGFyaywgTWFwbGUgTGVhZiBQYXJrLCBVcHdvb2QgUGFyaywgTm9ydGggWW9yazwvZGl2PmApWzBdOwogICAgICAgICAgICBwb3B1cF9jZjEyZDU4ZDE2ZjU0NTIzOWFlZWEzNDE1Y2ZjNmY2My5zZXRDb250ZW50KGh0bWxfMzVlMTVmOGJiMzkzNDFmNmJiNmM0ODNmMzA5MjZiYTQpOwogICAgICAgIAoKICAgICAgICBjaXJjbGVfbWFya2VyX2MzNDcxZWY5MjJiOTQwZWJiYzdjY2JjODk4MjI4NTYwLmJpbmRQb3B1cChwb3B1cF9jZjEyZDU4ZDE2ZjU0NTIzOWFlZWEzNDE1Y2ZjNmY2MykKICAgICAgICA7CgogICAgICAgIAogICAgCiAgICAKICAgICAgICAgICAgdmFyIGNpcmNsZV9tYXJrZXJfNmRjYzAzOWM5NGIyNGIxMzkxN2VmY2MzMzIxZjAwZjcgPSBMLmNpcmNsZU1hcmtlcigKICAgICAgICAgICAgICAgIFs0My43NTYzMDMzLCAtNzkuNTY1OTYzMjk5OTk5OTldLAogICAgICAgICAgICAgICAgeyJidWJibGluZ01vdXNlRXZlbnRzIjogdHJ1ZSwgImNvbG9yIjogImJsdWUiLCAiZGFzaEFycmF5IjogbnVsbCwgImRhc2hPZmZzZXQiOiBudWxsLCAiZmlsbCI6IHRydWUsICJmaWxsQ29sb3IiOiAiIzMxODZjYyIsICJmaWxsT3BhY2l0eSI6IDAuNywgImZpbGxSdWxlIjogImV2ZW5vZGQiLCAibGluZUNhcCI6ICJyb3VuZCIsICJsaW5lSm9pbiI6ICJyb3VuZCIsICJvcGFjaXR5IjogMS4wLCAicmFkaXVzIjogNSwgInN0cm9rZSI6IHRydWUsICJ3ZWlnaHQiOiAzfQogICAgICAgICAgICApLmFkZFRvKG1hcF83YjlhNjkzMGFjYTA0NjUzYjIzMjVlZDQ5ODkzMzQxZik7CiAgICAgICAgCiAgICAKICAgICAgICB2YXIgcG9wdXBfM2FkMDQ3OTQ2MGFkNGEwYWE0ZGE2NDMxMDM3NGJmYzUgPSBMLnBvcHVwKHsibWF4V2lkdGgiOiAiMTAwJSJ9KTsKCiAgICAgICAgCiAgICAgICAgICAgIHZhciBodG1sXzQ1NDdhNDM0ZTZlMDQ2ZWM5YjM2YzRmZTY3M2IxYTZjID0gJChgPGRpdiBpZD0iaHRtbF80NTQ3YTQzNGU2ZTA0NmVjOWIzNmM0ZmU2NzNiMWE2YyIgc3R5bGU9IndpZHRoOiAxMDAuMCU7IGhlaWdodDogMTAwLjAlOyI+SHVtYmVyIFN1bW1pdCwgTm9ydGggWW9yazwvZGl2PmApWzBdOwogICAgICAgICAgICBwb3B1cF8zYWQwNDc5NDYwYWQ0YTBhYTRkYTY0MzEwMzc0YmZjNS5zZXRDb250ZW50KGh0bWxfNDU0N2E0MzRlNmUwNDZlYzliMzZjNGZlNjczYjFhNmMpOwogICAgICAgIAoKICAgICAgICBjaXJjbGVfbWFya2VyXzZkY2MwMzljOTRiMjRiMTM5MTdlZmNjMzMyMWYwMGY3LmJpbmRQb3B1cChwb3B1cF8zYWQwNDc5NDYwYWQ0YTBhYTRkYTY0MzEwMzc0YmZjNSkKICAgICAgICA7CgogICAgICAgIAogICAgCiAgICAKICAgICAgICAgICAgdmFyIGNpcmNsZV9tYXJrZXJfZDM4NjhiZDJkYzIwNGJmM2EyMWFmMWE1ZjU1NjcyY2QgPSBMLmNpcmNsZU1hcmtlcigKICAgICAgICAgICAgICAgIFs0My43MTYzMTYsIC03OS4yMzk0NzYwOTk5OTk5OV0sCiAgICAgICAgICAgICAgICB7ImJ1YmJsaW5nTW91c2VFdmVudHMiOiB0cnVlLCAiY29sb3IiOiAiYmx1ZSIsICJkYXNoQXJyYXkiOiBudWxsLCAiZGFzaE9mZnNldCI6IG51bGwsICJmaWxsIjogdHJ1ZSwgImZpbGxDb2xvciI6ICIjMzE4NmNjIiwgImZpbGxPcGFjaXR5IjogMC43LCAiZmlsbFJ1bGUiOiAiZXZlbm9kZCIsICJsaW5lQ2FwIjogInJvdW5kIiwgImxpbmVKb2luIjogInJvdW5kIiwgIm9wYWNpdHkiOiAxLjAsICJyYWRpdXMiOiA1LCAic3Ryb2tlIjogdHJ1ZSwgIndlaWdodCI6IDN9CiAgICAgICAgICAgICkuYWRkVG8obWFwXzdiOWE2OTMwYWNhMDQ2NTNiMjMyNWVkNDk4OTMzNDFmKTsKICAgICAgICAKICAgIAogICAgICAgIHZhciBwb3B1cF9jYTE2MGY0YThhMmY0NzM1OWY2ZDAzNTYxZGM5M2Y1NCA9IEwucG9wdXAoeyJtYXhXaWR0aCI6ICIxMDAlIn0pOwoKICAgICAgICAKICAgICAgICAgICAgdmFyIGh0bWxfMzE4OTBkMDY4MGViNGU0ZmEwMDhjZTZlYmQzNzU5NTMgPSAkKGA8ZGl2IGlkPSJodG1sXzMxODkwZDA2ODBlYjRlNGZhMDA4Y2U2ZWJkMzc1OTUzIiBzdHlsZT0id2lkdGg6IDEwMC4wJTsgaGVpZ2h0OiAxMDAuMCU7Ij5DbGlmZnNpZGUsIENsaWZmY3Jlc3QsIFNjYXJib3JvdWdoIFZpbGxhZ2UgV2VzdCwgU2NhcmJvcm91Z2g8L2Rpdj5gKVswXTsKICAgICAgICAgICAgcG9wdXBfY2ExNjBmNGE4YTJmNDczNTlmNmQwMzU2MWRjOTNmNTQuc2V0Q29udGVudChodG1sXzMxODkwZDA2ODBlYjRlNGZhMDA4Y2U2ZWJkMzc1OTUzKTsKICAgICAgICAKCiAgICAgICAgY2lyY2xlX21hcmtlcl9kMzg2OGJkMmRjMjA0YmYzYTIxYWYxYTVmNTU2NzJjZC5iaW5kUG9wdXAocG9wdXBfY2ExNjBmNGE4YTJmNDczNTlmNmQwMzU2MWRjOTNmNTQpCiAgICAgICAgOwoKICAgICAgICAKICAgIAogICAgCiAgICAgICAgICAgIHZhciBjaXJjbGVfbWFya2VyXzJkNzFjMTExNGFmOTQzN2JiMDc5ZTA4ZWM4NTkzOTY1ID0gTC5jaXJjbGVNYXJrZXIoCiAgICAgICAgICAgICAgICBbNDMuNzg5MDUzLCAtNzkuNDA4NDkyNzk5OTk5OTldLAogICAgICAgICAgICAgICAgeyJidWJibGluZ01vdXNlRXZlbnRzIjogdHJ1ZSwgImNvbG9yIjogImJsdWUiLCAiZGFzaEFycmF5IjogbnVsbCwgImRhc2hPZmZzZXQiOiBudWxsLCAiZmlsbCI6IHRydWUsICJmaWxsQ29sb3IiOiAiIzMxODZjYyIsICJmaWxsT3BhY2l0eSI6IDAuNywgImZpbGxSdWxlIjogImV2ZW5vZGQiLCAibGluZUNhcCI6ICJyb3VuZCIsICJsaW5lSm9pbiI6ICJyb3VuZCIsICJvcGFjaXR5IjogMS4wLCAicmFkaXVzIjogNSwgInN0cm9rZSI6IHRydWUsICJ3ZWlnaHQiOiAzfQogICAgICAgICAgICApLmFkZFRvKG1hcF83YjlhNjkzMGFjYTA0NjUzYjIzMjVlZDQ5ODkzMzQxZik7CiAgICAgICAgCiAgICAKICAgICAgICB2YXIgcG9wdXBfYzYwNzFiOWZmMThhNGIzZGI2Y2IyMTFkNDdhZDFkODkgPSBMLnBvcHVwKHsibWF4V2lkdGgiOiAiMTAwJSJ9KTsKCiAgICAgICAgCiAgICAgICAgICAgIHZhciBodG1sXzNlMmQ2YTAzNDA4ZjQyMjU5ZjMwNDgwYzdkNjUwYzVjID0gJChgPGRpdiBpZD0iaHRtbF8zZTJkNmEwMzQwOGY0MjI1OWYzMDQ4MGM3ZDY1MGM1YyIgc3R5bGU9IndpZHRoOiAxMDAuMCU7IGhlaWdodDogMTAwLjAlOyI+V2lsbG93ZGFsZSwgTmV3dG9uYnJvb2ssIE5vcnRoIFlvcms8L2Rpdj5gKVswXTsKICAgICAgICAgICAgcG9wdXBfYzYwNzFiOWZmMThhNGIzZGI2Y2IyMTFkNDdhZDFkODkuc2V0Q29udGVudChodG1sXzNlMmQ2YTAzNDA4ZjQyMjU5ZjMwNDgwYzdkNjUwYzVjKTsKICAgICAgICAKCiAgICAgICAgY2lyY2xlX21hcmtlcl8yZDcxYzExMTRhZjk0MzdiYjA3OWUwOGVjODU5Mzk2NS5iaW5kUG9wdXAocG9wdXBfYzYwNzFiOWZmMThhNGIzZGI2Y2IyMTFkNDdhZDFkODkpCiAgICAgICAgOwoKICAgICAgICAKICAgIAogICAgCiAgICAgICAgICAgIHZhciBjaXJjbGVfbWFya2VyXzUwMzA3NmQ1OWI2ZDRjZDFhNDRlYjI3YjkyMWNkZGM3ID0gTC5jaXJjbGVNYXJrZXIoCiAgICAgICAgICAgICAgICBbNDMuNzI4NDk2NCwgLTc5LjQ5NTY5NzQwMDAwMDAxXSwKICAgICAgICAgICAgICAgIHsiYnViYmxpbmdNb3VzZUV2ZW50cyI6IHRydWUsICJjb2xvciI6ICJibHVlIiwgImRhc2hBcnJheSI6IG51bGwsICJkYXNoT2Zmc2V0IjogbnVsbCwgImZpbGwiOiB0cnVlLCAiZmlsbENvbG9yIjogIiMzMTg2Y2MiLCAiZmlsbE9wYWNpdHkiOiAwLjcsICJmaWxsUnVsZSI6ICJldmVub2RkIiwgImxpbmVDYXAiOiAicm91bmQiLCAibGluZUpvaW4iOiAicm91bmQiLCAib3BhY2l0eSI6IDEuMCwgInJhZGl1cyI6IDUsICJzdHJva2UiOiB0cnVlLCAid2VpZ2h0IjogM30KICAgICAgICAgICAgKS5hZGRUbyhtYXBfN2I5YTY5MzBhY2EwNDY1M2IyMzI1ZWQ0OTg5MzM0MWYpOwogICAgICAgIAogICAgCiAgICAgICAgdmFyIHBvcHVwXzZiMDY4ZWE0ZGM4YjQ2YzVhNTU1NWE3MDJkMGFmODliID0gTC5wb3B1cCh7Im1heFdpZHRoIjogIjEwMCUifSk7CgogICAgICAgIAogICAgICAgICAgICB2YXIgaHRtbF9jZDczMmE5MGE3OWM0N2U3ODQ3ZjVmNjBiNTM2OTIxMiA9ICQoYDxkaXYgaWQ9Imh0bWxfY2Q3MzJhOTBhNzljNDdlNzg0N2Y1ZjYwYjUzNjkyMTIiIHN0eWxlPSJ3aWR0aDogMTAwLjAlOyBoZWlnaHQ6IDEwMC4wJTsiPkRvd25zdmlldywgTm9ydGggWW9yazwvZGl2PmApWzBdOwogICAgICAgICAgICBwb3B1cF82YjA2OGVhNGRjOGI0NmM1YTU1NTVhNzAyZDBhZjg5Yi5zZXRDb250ZW50KGh0bWxfY2Q3MzJhOTBhNzljNDdlNzg0N2Y1ZjYwYjUzNjkyMTIpOwogICAgICAgIAoKICAgICAgICBjaXJjbGVfbWFya2VyXzUwMzA3NmQ1OWI2ZDRjZDFhNDRlYjI3YjkyMWNkZGM3LmJpbmRQb3B1cChwb3B1cF82YjA2OGVhNGRjOGI0NmM1YTU1NTVhNzAyZDBhZjg5YikKICAgICAgICA7CgogICAgICAgIAogICAgCiAgICAKICAgICAgICAgICAgdmFyIGNpcmNsZV9tYXJrZXJfM2VjYjNkMTM1N2M1NDJhYzhlOTQ1ZDBkNGIzNWVhZGYgPSBMLmNpcmNsZU1hcmtlcigKICAgICAgICAgICAgICAgIFs0My42NTk1MjU1LCAtNzkuMzQwOTIzXSwKICAgICAgICAgICAgICAgIHsiYnViYmxpbmdNb3VzZUV2ZW50cyI6IHRydWUsICJjb2xvciI6ICJibHVlIiwgImRhc2hBcnJheSI6IG51bGwsICJkYXNoT2Zmc2V0IjogbnVsbCwgImZpbGwiOiB0cnVlLCAiZmlsbENvbG9yIjogIiMzMTg2Y2MiLCAiZmlsbE9wYWNpdHkiOiAwLjcsICJmaWxsUnVsZSI6ICJldmVub2RkIiwgImxpbmVDYXAiOiAicm91bmQiLCAibGluZUpvaW4iOiAicm91bmQiLCAib3BhY2l0eSI6IDEuMCwgInJhZGl1cyI6IDUsICJzdHJva2UiOiB0cnVlLCAid2VpZ2h0IjogM30KICAgICAgICAgICAgKS5hZGRUbyhtYXBfN2I5YTY5MzBhY2EwNDY1M2IyMzI1ZWQ0OTg5MzM0MWYpOwogICAgICAgIAogICAgCiAgICAgICAgdmFyIHBvcHVwXzY2ZTVkZjg1MjRjYzRmMjRhOWRlNzZjNTYxYjc1NTQyID0gTC5wb3B1cCh7Im1heFdpZHRoIjogIjEwMCUifSk7CgogICAgICAgIAogICAgICAgICAgICB2YXIgaHRtbF9mMzA3MDM4OGYyNzg0ZmMxOTczNzlmNzkwYzMyZjZkZiA9ICQoYDxkaXYgaWQ9Imh0bWxfZjMwNzAzODhmMjc4NGZjMTk3Mzc5Zjc5MGMzMmY2ZGYiIHN0eWxlPSJ3aWR0aDogMTAwLjAlOyBoZWlnaHQ6IDEwMC4wJTsiPlN0dWRpbyBEaXN0cmljdCwgRWFzdCBUb3JvbnRvPC9kaXY+YClbMF07CiAgICAgICAgICAgIHBvcHVwXzY2ZTVkZjg1MjRjYzRmMjRhOWRlNzZjNTYxYjc1NTQyLnNldENvbnRlbnQoaHRtbF9mMzA3MDM4OGYyNzg0ZmMxOTczNzlmNzkwYzMyZjZkZik7CiAgICAgICAgCgogICAgICAgIGNpcmNsZV9tYXJrZXJfM2VjYjNkMTM1N2M1NDJhYzhlOTQ1ZDBkNGIzNWVhZGYuYmluZFBvcHVwKHBvcHVwXzY2ZTVkZjg1MjRjYzRmMjRhOWRlNzZjNTYxYjc1NTQyKQogICAgICAgIDsKCiAgICAgICAgCiAgICAKICAgIAogICAgICAgICAgICB2YXIgY2lyY2xlX21hcmtlcl8zNjgzZjBhOWI3YmM0NmUzOGIwZjUwOWE5MDM2Mzc5MCA9IEwuY2lyY2xlTWFya2VyKAogICAgICAgICAgICAgICAgWzQzLjczMzI4MjUsIC03OS40MTk3NDk3XSwKICAgICAgICAgICAgICAgIHsiYnViYmxpbmdNb3VzZUV2ZW50cyI6IHRydWUsICJjb2xvciI6ICJibHVlIiwgImRhc2hBcnJheSI6IG51bGwsICJkYXNoT2Zmc2V0IjogbnVsbCwgImZpbGwiOiB0cnVlLCAiZmlsbENvbG9yIjogIiMzMTg2Y2MiLCAiZmlsbE9wYWNpdHkiOiAwLjcsICJmaWxsUnVsZSI6ICJldmVub2RkIiwgImxpbmVDYXAiOiAicm91bmQiLCAibGluZUpvaW4iOiAicm91bmQiLCAib3BhY2l0eSI6IDEuMCwgInJhZGl1cyI6IDUsICJzdHJva2UiOiB0cnVlLCAid2VpZ2h0IjogM30KICAgICAgICAgICAgKS5hZGRUbyhtYXBfN2I5YTY5MzBhY2EwNDY1M2IyMzI1ZWQ0OTg5MzM0MWYpOwogICAgICAgIAogICAgCiAgICAgICAgdmFyIHBvcHVwX2JjOTFhNDQ3N2JiYTRmNTc4ZWQyYTFlZjZmODgyMzE5ID0gTC5wb3B1cCh7Im1heFdpZHRoIjogIjEwMCUifSk7CgogICAgICAgIAogICAgICAgICAgICB2YXIgaHRtbF9iMjMzMzdiNmY3YWY0MmFlYjgzM2ZkZTQ1M2E1MjdlYiA9ICQoYDxkaXYgaWQ9Imh0bWxfYjIzMzM3YjZmN2FmNDJhZWI4MzNmZGU0NTNhNTI3ZWIiIHN0eWxlPSJ3aWR0aDogMTAwLjAlOyBoZWlnaHQ6IDEwMC4wJTsiPkJlZGZvcmQgUGFyaywgTGF3cmVuY2UgTWFub3IgRWFzdCwgTm9ydGggWW9yazwvZGl2PmApWzBdOwogICAgICAgICAgICBwb3B1cF9iYzkxYTQ0NzdiYmE0ZjU3OGVkMmExZWY2Zjg4MjMxOS5zZXRDb250ZW50KGh0bWxfYjIzMzM3YjZmN2FmNDJhZWI4MzNmZGU0NTNhNTI3ZWIpOwogICAgICAgIAoKICAgICAgICBjaXJjbGVfbWFya2VyXzM2ODNmMGE5YjdiYzQ2ZTM4YjBmNTA5YTkwMzYzNzkwLmJpbmRQb3B1cChwb3B1cF9iYzkxYTQ0NzdiYmE0ZjU3OGVkMmExZWY2Zjg4MjMxOSkKICAgICAgICA7CgogICAgICAgIAogICAgCiAgICAKICAgICAgICAgICAgdmFyIGNpcmNsZV9tYXJrZXJfMmY1ZTE5ZjA5NzFkNDY2OWI4MGJlMzY3ODdmOGI1YzIgPSBMLmNpcmNsZU1hcmtlcigKICAgICAgICAgICAgICAgIFs0My42OTExMTU4LCAtNzkuNDc2MDEzMjk5OTk5OTldLAogICAgICAgICAgICAgICAgeyJidWJibGluZ01vdXNlRXZlbnRzIjogdHJ1ZSwgImNvbG9yIjogImJsdWUiLCAiZGFzaEFycmF5IjogbnVsbCwgImRhc2hPZmZzZXQiOiBudWxsLCAiZmlsbCI6IHRydWUsICJmaWxsQ29sb3IiOiAiIzMxODZjYyIsICJmaWxsT3BhY2l0eSI6IDAuNywgImZpbGxSdWxlIjogImV2ZW5vZGQiLCAibGluZUNhcCI6ICJyb3VuZCIsICJsaW5lSm9pbiI6ICJyb3VuZCIsICJvcGFjaXR5IjogMS4wLCAicmFkaXVzIjogNSwgInN0cm9rZSI6IHRydWUsICJ3ZWlnaHQiOiAzfQogICAgICAgICAgICApLmFkZFRvKG1hcF83YjlhNjkzMGFjYTA0NjUzYjIzMjVlZDQ5ODkzMzQxZik7CiAgICAgICAgCiAgICAKICAgICAgICB2YXIgcG9wdXBfMjMwN2ViNmY4MGRkNDdjY2IyZDJiNGI0ZTY3YzUwZjIgPSBMLnBvcHVwKHsibWF4V2lkdGgiOiAiMTAwJSJ9KTsKCiAgICAgICAgCiAgICAgICAgICAgIHZhciBodG1sXzAwMzBmOTBiZWExODRmZWNiNzQzZjNiNjNiNjgyYzBkID0gJChgPGRpdiBpZD0iaHRtbF8wMDMwZjkwYmVhMTg0ZmVjYjc0M2YzYjYzYjY4MmMwZCIgc3R5bGU9IndpZHRoOiAxMDAuMCU7IGhlaWdodDogMTAwLjAlOyI+RGVsIFJheSwgTW91bnQgRGVubmlzLCBLZWVsc2RhbGUgYW5kIFNpbHZlcnRob3JuLCBZb3JrPC9kaXY+YClbMF07CiAgICAgICAgICAgIHBvcHVwXzIzMDdlYjZmODBkZDQ3Y2NiMmQyYjRiNGU2N2M1MGYyLnNldENvbnRlbnQoaHRtbF8wMDMwZjkwYmVhMTg0ZmVjYjc0M2YzYjYzYjY4MmMwZCk7CiAgICAgICAgCgogICAgICAgIGNpcmNsZV9tYXJrZXJfMmY1ZTE5ZjA5NzFkNDY2OWI4MGJlMzY3ODdmOGI1YzIuYmluZFBvcHVwKHBvcHVwXzIzMDdlYjZmODBkZDQ3Y2NiMmQyYjRiNGU2N2M1MGYyKQogICAgICAgIDsKCiAgICAgICAgCiAgICAKICAgIAogICAgICAgICAgICB2YXIgY2lyY2xlX21hcmtlcl80ZTgwMTIzZmMyNDg0YzEyODJlNzhhOTdmZDFiZDliNiA9IEwuY2lyY2xlTWFya2VyKAogICAgICAgICAgICAgICAgWzQzLjcyNDc2NTksIC03OS41MzIyNDI0MDAwMDAwMl0sCiAgICAgICAgICAgICAgICB7ImJ1YmJsaW5nTW91c2VFdmVudHMiOiB0cnVlLCAiY29sb3IiOiAiYmx1ZSIsICJkYXNoQXJyYXkiOiBudWxsLCAiZGFzaE9mZnNldCI6IG51bGwsICJmaWxsIjogdHJ1ZSwgImZpbGxDb2xvciI6ICIjMzE4NmNjIiwgImZpbGxPcGFjaXR5IjogMC43LCAiZmlsbFJ1bGUiOiAiZXZlbm9kZCIsICJsaW5lQ2FwIjogInJvdW5kIiwgImxpbmVKb2luIjogInJvdW5kIiwgIm9wYWNpdHkiOiAxLjAsICJyYWRpdXMiOiA1LCAic3Ryb2tlIjogdHJ1ZSwgIndlaWdodCI6IDN9CiAgICAgICAgICAgICkuYWRkVG8obWFwXzdiOWE2OTMwYWNhMDQ2NTNiMjMyNWVkNDk4OTMzNDFmKTsKICAgICAgICAKICAgIAogICAgICAgIHZhciBwb3B1cF80ZjUyOWZhMzA2YWE0NTM3YmYyOTNlN2NjODNhNThiZCA9IEwucG9wdXAoeyJtYXhXaWR0aCI6ICIxMDAlIn0pOwoKICAgICAgICAKICAgICAgICAgICAgdmFyIGh0bWxfY2E1NzcyMmE3MTg2NDNjNWI4YjM0Mzc0M2JmNmM2ZmEgPSAkKGA8ZGl2IGlkPSJodG1sX2NhNTc3MjJhNzE4NjQzYzViOGIzNDM3NDNiZjZjNmZhIiBzdHlsZT0id2lkdGg6IDEwMC4wJTsgaGVpZ2h0OiAxMDAuMCU7Ij5IdW1iZXJsZWEsIEVtZXJ5LCBOb3J0aCBZb3JrPC9kaXY+YClbMF07CiAgICAgICAgICAgIHBvcHVwXzRmNTI5ZmEzMDZhYTQ1MzdiZjI5M2U3Y2M4M2E1OGJkLnNldENvbnRlbnQoaHRtbF9jYTU3NzIyYTcxODY0M2M1YjhiMzQzNzQzYmY2YzZmYSk7CiAgICAgICAgCgogICAgICAgIGNpcmNsZV9tYXJrZXJfNGU4MDEyM2ZjMjQ4NGMxMjgyZTc4YTk3ZmQxYmQ5YjYuYmluZFBvcHVwKHBvcHVwXzRmNTI5ZmEzMDZhYTQ1MzdiZjI5M2U3Y2M4M2E1OGJkKQogICAgICAgIDsKCiAgICAgICAgCiAgICAKICAgIAogICAgICAgICAgICB2YXIgY2lyY2xlX21hcmtlcl82N2JlMTVlMTAwNjQ0YjUxYjU2MGM0NWZjMDFkNjAyMiA9IEwuY2lyY2xlTWFya2VyKAogICAgICAgICAgICAgICAgWzQzLjY5MjY1NzAwMDAwMDAwNCwgLTc5LjI2NDg0ODFdLAogICAgICAgICAgICAgICAgeyJidWJibGluZ01vdXNlRXZlbnRzIjogdHJ1ZSwgImNvbG9yIjogImJsdWUiLCAiZGFzaEFycmF5IjogbnVsbCwgImRhc2hPZmZzZXQiOiBudWxsLCAiZmlsbCI6IHRydWUsICJmaWxsQ29sb3IiOiAiIzMxODZjYyIsICJmaWxsT3BhY2l0eSI6IDAuNywgImZpbGxSdWxlIjogImV2ZW5vZGQiLCAibGluZUNhcCI6ICJyb3VuZCIsICJsaW5lSm9pbiI6ICJyb3VuZCIsICJvcGFjaXR5IjogMS4wLCAicmFkaXVzIjogNSwgInN0cm9rZSI6IHRydWUsICJ3ZWlnaHQiOiAzfQogICAgICAgICAgICApLmFkZFRvKG1hcF83YjlhNjkzMGFjYTA0NjUzYjIzMjVlZDQ5ODkzMzQxZik7CiAgICAgICAgCiAgICAKICAgICAgICB2YXIgcG9wdXBfNGY4NDg0Yzk3NmEzNDE3YjlkMGYyNTFjMmJkZGJmMzMgPSBMLnBvcHVwKHsibWF4V2lkdGgiOiAiMTAwJSJ9KTsKCiAgICAgICAgCiAgICAgICAgICAgIHZhciBodG1sXzNhNjBhNTMxOTYxOTQ5Mjc5YjI2NDk3MjUxNTI1ZWNjID0gJChgPGRpdiBpZD0iaHRtbF8zYTYwYTUzMTk2MTk0OTI3OWIyNjQ5NzI1MTUyNWVjYyIgc3R5bGU9IndpZHRoOiAxMDAuMCU7IGhlaWdodDogMTAwLjAlOyI+QmlyY2ggQ2xpZmYsIENsaWZmc2lkZSBXZXN0LCBTY2FyYm9yb3VnaDwvZGl2PmApWzBdOwogICAgICAgICAgICBwb3B1cF80Zjg0ODRjOTc2YTM0MTdiOWQwZjI1MWMyYmRkYmYzMy5zZXRDb250ZW50KGh0bWxfM2E2MGE1MzE5NjE5NDkyNzliMjY0OTcyNTE1MjVlY2MpOwogICAgICAgIAoKICAgICAgICBjaXJjbGVfbWFya2VyXzY3YmUxNWUxMDA2NDRiNTFiNTYwYzQ1ZmMwMWQ2MDIyLmJpbmRQb3B1cChwb3B1cF80Zjg0ODRjOTc2YTM0MTdiOWQwZjI1MWMyYmRkYmYzMykKICAgICAgICA7CgogICAgICAgIAogICAgCiAgICAKICAgICAgICAgICAgdmFyIGNpcmNsZV9tYXJrZXJfYTNmMjEzNzUyZjkyNDAzYjlkMjg5YTQ2NWUwMzUyNDUgPSBMLmNpcmNsZU1hcmtlcigKICAgICAgICAgICAgICAgIFs0My43NzAxMTk5LCAtNzkuNDA4NDkyNzk5OTk5OTldLAogICAgICAgICAgICAgICAgeyJidWJibGluZ01vdXNlRXZlbnRzIjogdHJ1ZSwgImNvbG9yIjogImJsdWUiLCAiZGFzaEFycmF5IjogbnVsbCwgImRhc2hPZmZzZXQiOiBudWxsLCAiZmlsbCI6IHRydWUsICJmaWxsQ29sb3IiOiAiIzMxODZjYyIsICJmaWxsT3BhY2l0eSI6IDAuNywgImZpbGxSdWxlIjogImV2ZW5vZGQiLCAibGluZUNhcCI6ICJyb3VuZCIsICJsaW5lSm9pbiI6ICJyb3VuZCIsICJvcGFjaXR5IjogMS4wLCAicmFkaXVzIjogNSwgInN0cm9rZSI6IHRydWUsICJ3ZWlnaHQiOiAzfQogICAgICAgICAgICApLmFkZFRvKG1hcF83YjlhNjkzMGFjYTA0NjUzYjIzMjVlZDQ5ODkzMzQxZik7CiAgICAgICAgCiAgICAKICAgICAgICB2YXIgcG9wdXBfOTcwNmVjYjYxOTAwNGQ5ZGE4NTg2MjEwZTVmNzAxZTcgPSBMLnBvcHVwKHsibWF4V2lkdGgiOiAiMTAwJSJ9KTsKCiAgICAgICAgCiAgICAgICAgICAgIHZhciBodG1sXzYyMzBlYjdhY2JlZDRhYzk5ZjQyMDdiNzMwNDk0ZWYxID0gJChgPGRpdiBpZD0iaHRtbF82MjMwZWI3YWNiZWQ0YWM5OWY0MjA3YjczMDQ5NGVmMSIgc3R5bGU9IndpZHRoOiAxMDAuMCU7IGhlaWdodDogMTAwLjAlOyI+V2lsbG93ZGFsZSwgV2lsbG93ZGFsZSBFYXN0LCBOb3J0aCBZb3JrPC9kaXY+YClbMF07CiAgICAgICAgICAgIHBvcHVwXzk3MDZlY2I2MTkwMDRkOWRhODU4NjIxMGU1ZjcwMWU3LnNldENvbnRlbnQoaHRtbF82MjMwZWI3YWNiZWQ0YWM5OWY0MjA3YjczMDQ5NGVmMSk7CiAgICAgICAgCgogICAgICAgIGNpcmNsZV9tYXJrZXJfYTNmMjEzNzUyZjkyNDAzYjlkMjg5YTQ2NWUwMzUyNDUuYmluZFBvcHVwKHBvcHVwXzk3MDZlY2I2MTkwMDRkOWRhODU4NjIxMGU1ZjcwMWU3KQogICAgICAgIDsKCiAgICAgICAgCiAgICAKICAgIAogICAgICAgICAgICB2YXIgY2lyY2xlX21hcmtlcl9lMzkzOGI0ZDVlMWY0NDYwYWUxOTY4YjVjZTk4NWQ3MCA9IEwuY2lyY2xlTWFya2VyKAogICAgICAgICAgICAgICAgWzQzLjc2MTYzMTMsIC03OS41MjA5OTk0MDAwMDAwMV0sCiAgICAgICAgICAgICAgICB7ImJ1YmJsaW5nTW91c2VFdmVudHMiOiB0cnVlLCAiY29sb3IiOiAiYmx1ZSIsICJkYXNoQXJyYXkiOiBudWxsLCAiZGFzaE9mZnNldCI6IG51bGwsICJmaWxsIjogdHJ1ZSwgImZpbGxDb2xvciI6ICIjMzE4NmNjIiwgImZpbGxPcGFjaXR5IjogMC43LCAiZmlsbFJ1bGUiOiAiZXZlbm9kZCIsICJsaW5lQ2FwIjogInJvdW5kIiwgImxpbmVKb2luIjogInJvdW5kIiwgIm9wYWNpdHkiOiAxLjAsICJyYWRpdXMiOiA1LCAic3Ryb2tlIjogdHJ1ZSwgIndlaWdodCI6IDN9CiAgICAgICAgICAgICkuYWRkVG8obWFwXzdiOWE2OTMwYWNhMDQ2NTNiMjMyNWVkNDk4OTMzNDFmKTsKICAgICAgICAKICAgIAogICAgICAgIHZhciBwb3B1cF9mMWYxZDFjOTNlODA0OTA5OWNhNTg5YzJlMTA4YTE2YiA9IEwucG9wdXAoeyJtYXhXaWR0aCI6ICIxMDAlIn0pOwoKICAgICAgICAKICAgICAgICAgICAgdmFyIGh0bWxfZTYxYmJlNDk1NGMwNDk1MmIyZjljYTQxYWE0ZTM1NWIgPSAkKGA8ZGl2IGlkPSJodG1sX2U2MWJiZTQ5NTRjMDQ5NTJiMmY5Y2E0MWFhNGUzNTViIiBzdHlsZT0id2lkdGg6IDEwMC4wJTsgaGVpZ2h0OiAxMDAuMCU7Ij5Eb3duc3ZpZXcsIE5vcnRoIFlvcms8L2Rpdj5gKVswXTsKICAgICAgICAgICAgcG9wdXBfZjFmMWQxYzkzZTgwNDkwOTljYTU4OWMyZTEwOGExNmIuc2V0Q29udGVudChodG1sX2U2MWJiZTQ5NTRjMDQ5NTJiMmY5Y2E0MWFhNGUzNTViKTsKICAgICAgICAKCiAgICAgICAgY2lyY2xlX21hcmtlcl9lMzkzOGI0ZDVlMWY0NDYwYWUxOTY4YjVjZTk4NWQ3MC5iaW5kUG9wdXAocG9wdXBfZjFmMWQxYzkzZTgwNDkwOTljYTU4OWMyZTEwOGExNmIpCiAgICAgICAgOwoKICAgICAgICAKICAgIAogICAgCiAgICAgICAgICAgIHZhciBjaXJjbGVfbWFya2VyXzQyODhhZWQzMWIzZTQ1ODI5Y2JjYTIzNDhkZmY2NzFlID0gTC5jaXJjbGVNYXJrZXIoCiAgICAgICAgICAgICAgICBbNDMuNzI4MDIwNSwgLTc5LjM4ODc5MDFdLAogICAgICAgICAgICAgICAgeyJidWJibGluZ01vdXNlRXZlbnRzIjogdHJ1ZSwgImNvbG9yIjogImJsdWUiLCAiZGFzaEFycmF5IjogbnVsbCwgImRhc2hPZmZzZXQiOiBudWxsLCAiZmlsbCI6IHRydWUsICJmaWxsQ29sb3IiOiAiIzMxODZjYyIsICJmaWxsT3BhY2l0eSI6IDAuNywgImZpbGxSdWxlIjogImV2ZW5vZGQiLCAibGluZUNhcCI6ICJyb3VuZCIsICJsaW5lSm9pbiI6ICJyb3VuZCIsICJvcGFjaXR5IjogMS4wLCAicmFkaXVzIjogNSwgInN0cm9rZSI6IHRydWUsICJ3ZWlnaHQiOiAzfQogICAgICAgICAgICApLmFkZFRvKG1hcF83YjlhNjkzMGFjYTA0NjUzYjIzMjVlZDQ5ODkzMzQxZik7CiAgICAgICAgCiAgICAKICAgICAgICB2YXIgcG9wdXBfYmY0ZTM2MTg5NmY0NDRhYjg5ODhmZTZmNTA3MWU4YjYgPSBMLnBvcHVwKHsibWF4V2lkdGgiOiAiMTAwJSJ9KTsKCiAgICAgICAgCiAgICAgICAgICAgIHZhciBodG1sXzk3Y2IxMTk0NGRiYTQzYTU5ZTkzNTIyNTI3ODM5MGU0ID0gJChgPGRpdiBpZD0iaHRtbF85N2NiMTE5NDRkYmE0M2E1OWU5MzUyMjUyNzgzOTBlNCIgc3R5bGU9IndpZHRoOiAxMDAuMCU7IGhlaWdodDogMTAwLjAlOyI+TGF3cmVuY2UgUGFyaywgQ2VudHJhbCBUb3JvbnRvPC9kaXY+YClbMF07CiAgICAgICAgICAgIHBvcHVwX2JmNGUzNjE4OTZmNDQ0YWI4OTg4ZmU2ZjUwNzFlOGI2LnNldENvbnRlbnQoaHRtbF85N2NiMTE5NDRkYmE0M2E1OWU5MzUyMjUyNzgzOTBlNCk7CiAgICAgICAgCgogICAgICAgIGNpcmNsZV9tYXJrZXJfNDI4OGFlZDMxYjNlNDU4MjljYmNhMjM0OGRmZjY3MWUuYmluZFBvcHVwKHBvcHVwX2JmNGUzNjE4OTZmNDQ0YWI4OTg4ZmU2ZjUwNzFlOGI2KQogICAgICAgIDsKCiAgICAgICAgCiAgICAKICAgIAogICAgICAgICAgICB2YXIgY2lyY2xlX21hcmtlcl8wYjgwYzk5NzExYmM0MmRiYmUyNzdmOGY3YmFiN2MzZSA9IEwuY2lyY2xlTWFya2VyKAogICAgICAgICAgICAgICAgWzQzLjcxMTY5NDgsIC03OS40MTY5MzU1OTk5OTk5OV0sCiAgICAgICAgICAgICAgICB7ImJ1YmJsaW5nTW91c2VFdmVudHMiOiB0cnVlLCAiY29sb3IiOiAiYmx1ZSIsICJkYXNoQXJyYXkiOiBudWxsLCAiZGFzaE9mZnNldCI6IG51bGwsICJmaWxsIjogdHJ1ZSwgImZpbGxDb2xvciI6ICIjMzE4NmNjIiwgImZpbGxPcGFjaXR5IjogMC43LCAiZmlsbFJ1bGUiOiAiZXZlbm9kZCIsICJsaW5lQ2FwIjogInJvdW5kIiwgImxpbmVKb2luIjogInJvdW5kIiwgIm9wYWNpdHkiOiAxLjAsICJyYWRpdXMiOiA1LCAic3Ryb2tlIjogdHJ1ZSwgIndlaWdodCI6IDN9CiAgICAgICAgICAgICkuYWRkVG8obWFwXzdiOWE2OTMwYWNhMDQ2NTNiMjMyNWVkNDk4OTMzNDFmKTsKICAgICAgICAKICAgIAogICAgICAgIHZhciBwb3B1cF80ZTIyMjBjYmJjNDk0NDkyOWE1ODU1NThkNzVkNGY1MSA9IEwucG9wdXAoeyJtYXhXaWR0aCI6ICIxMDAlIn0pOwoKICAgICAgICAKICAgICAgICAgICAgdmFyIGh0bWxfZTIxMzllYWM5NjcyNDMzZGJjMmMxODA1YTllYzM4MmYgPSAkKGA8ZGl2IGlkPSJodG1sX2UyMTM5ZWFjOTY3MjQzM2RiYzJjMTgwNWE5ZWMzODJmIiBzdHlsZT0id2lkdGg6IDEwMC4wJTsgaGVpZ2h0OiAxMDAuMCU7Ij5Sb3NlbGF3biwgQ2VudHJhbCBUb3JvbnRvPC9kaXY+YClbMF07CiAgICAgICAgICAgIHBvcHVwXzRlMjIyMGNiYmM0OTQ0OTI5YTU4NTU1OGQ3NWQ0ZjUxLnNldENvbnRlbnQoaHRtbF9lMjEzOWVhYzk2NzI0MzNkYmMyYzE4MDVhOWVjMzgyZik7CiAgICAgICAgCgogICAgICAgIGNpcmNsZV9tYXJrZXJfMGI4MGM5OTcxMWJjNDJkYmJlMjc3ZjhmN2JhYjdjM2UuYmluZFBvcHVwKHBvcHVwXzRlMjIyMGNiYmM0OTQ0OTI5YTU4NTU1OGQ3NWQ0ZjUxKQogICAgICAgIDsKCiAgICAgICAgCiAgICAKICAgIAogICAgICAgICAgICB2YXIgY2lyY2xlX21hcmtlcl9jM2Y3ZWE0MDZkOGI0ZDdmOThlOTk0Mzg1OTNlOTAyZiA9IEwuY2lyY2xlTWFya2VyKAogICAgICAgICAgICAgICAgWzQzLjY3MzE4NTI5OTk5OTk5LCAtNzkuNDg3MjYxOTAwMDAwMDFdLAogICAgICAgICAgICAgICAgeyJidWJibGluZ01vdXNlRXZlbnRzIjogdHJ1ZSwgImNvbG9yIjogImJsdWUiLCAiZGFzaEFycmF5IjogbnVsbCwgImRhc2hPZmZzZXQiOiBudWxsLCAiZmlsbCI6IHRydWUsICJmaWxsQ29sb3IiOiAiIzMxODZjYyIsICJmaWxsT3BhY2l0eSI6IDAuNywgImZpbGxSdWxlIjogImV2ZW5vZGQiLCAibGluZUNhcCI6ICJyb3VuZCIsICJsaW5lSm9pbiI6ICJyb3VuZCIsICJvcGFjaXR5IjogMS4wLCAicmFkaXVzIjogNSwgInN0cm9rZSI6IHRydWUsICJ3ZWlnaHQiOiAzfQogICAgICAgICAgICApLmFkZFRvKG1hcF83YjlhNjkzMGFjYTA0NjUzYjIzMjVlZDQ5ODkzMzQxZik7CiAgICAgICAgCiAgICAKICAgICAgICB2YXIgcG9wdXBfYmNhYzE1NzAxMzljNGNlMTk3NGQ2OGE4MzhkZTY5YmIgPSBMLnBvcHVwKHsibWF4V2lkdGgiOiAiMTAwJSJ9KTsKCiAgICAgICAgCiAgICAgICAgICAgIHZhciBodG1sXzFjMDY0YmVjMGE5NjQyOTE4NWY2OWMyZDBhMzMxZTFjID0gJChgPGRpdiBpZD0iaHRtbF8xYzA2NGJlYzBhOTY0MjkxODVmNjljMmQwYTMzMWUxYyIgc3R5bGU9IndpZHRoOiAxMDAuMCU7IGhlaWdodDogMTAwLjAlOyI+UnVubnltZWRlLCBUaGUgSnVuY3Rpb24gTm9ydGgsIFlvcms8L2Rpdj5gKVswXTsKICAgICAgICAgICAgcG9wdXBfYmNhYzE1NzAxMzljNGNlMTk3NGQ2OGE4MzhkZTY5YmIuc2V0Q29udGVudChodG1sXzFjMDY0YmVjMGE5NjQyOTE4NWY2OWMyZDBhMzMxZTFjKTsKICAgICAgICAKCiAgICAgICAgY2lyY2xlX21hcmtlcl9jM2Y3ZWE0MDZkOGI0ZDdmOThlOTk0Mzg1OTNlOTAyZi5iaW5kUG9wdXAocG9wdXBfYmNhYzE1NzAxMzljNGNlMTk3NGQ2OGE4MzhkZTY5YmIpCiAgICAgICAgOwoKICAgICAgICAKICAgIAogICAgCiAgICAgICAgICAgIHZhciBjaXJjbGVfbWFya2VyX2E4YjIwZGM1MGE4YzQxNDU4ZWZmMWRhNjdlNDVjNzI3ID0gTC5jaXJjbGVNYXJrZXIoCiAgICAgICAgICAgICAgICBbNDMuNzA2ODc2LCAtNzkuNTE4MTg4NDAwMDAwMDFdLAogICAgICAgICAgICAgICAgeyJidWJibGluZ01vdXNlRXZlbnRzIjogdHJ1ZSwgImNvbG9yIjogImJsdWUiLCAiZGFzaEFycmF5IjogbnVsbCwgImRhc2hPZmZzZXQiOiBudWxsLCAiZmlsbCI6IHRydWUsICJmaWxsQ29sb3IiOiAiIzMxODZjYyIsICJmaWxsT3BhY2l0eSI6IDAuNywgImZpbGxSdWxlIjogImV2ZW5vZGQiLCAibGluZUNhcCI6ICJyb3VuZCIsICJsaW5lSm9pbiI6ICJyb3VuZCIsICJvcGFjaXR5IjogMS4wLCAicmFkaXVzIjogNSwgInN0cm9rZSI6IHRydWUsICJ3ZWlnaHQiOiAzfQogICAgICAgICAgICApLmFkZFRvKG1hcF83YjlhNjkzMGFjYTA0NjUzYjIzMjVlZDQ5ODkzMzQxZik7CiAgICAgICAgCiAgICAKICAgICAgICB2YXIgcG9wdXBfNWYxZjk1YmVkM2VmNDc1ODkwNGEyOWQ5OTJiNTNjMmYgPSBMLnBvcHVwKHsibWF4V2lkdGgiOiAiMTAwJSJ9KTsKCiAgICAgICAgCiAgICAgICAgICAgIHZhciBodG1sXzljNTZhNTA0Zjk1ZjRlYzhiYjNhNmMzYjUzZDBlZmI5ID0gJChgPGRpdiBpZD0iaHRtbF85YzU2YTUwNGY5NWY0ZWM4YmIzYTZjM2I1M2QwZWZiOSIgc3R5bGU9IndpZHRoOiAxMDAuMCU7IGhlaWdodDogMTAwLjAlOyI+V2VzdG9uLCBZb3JrPC9kaXY+YClbMF07CiAgICAgICAgICAgIHBvcHVwXzVmMWY5NWJlZDNlZjQ3NTg5MDRhMjlkOTkyYjUzYzJmLnNldENvbnRlbnQoaHRtbF85YzU2YTUwNGY5NWY0ZWM4YmIzYTZjM2I1M2QwZWZiOSk7CiAgICAgICAgCgogICAgICAgIGNpcmNsZV9tYXJrZXJfYThiMjBkYzUwYThjNDE0NThlZmYxZGE2N2U0NWM3MjcuYmluZFBvcHVwKHBvcHVwXzVmMWY5NWJlZDNlZjQ3NTg5MDRhMjlkOTkyYjUzYzJmKQogICAgICAgIDsKCiAgICAgICAgCiAgICAKICAgIAogICAgICAgICAgICB2YXIgY2lyY2xlX21hcmtlcl9mYjgwMTNjYThjZDI0MTkyYTMyMzcyNWZiYWEzM2Y3YSA9IEwuY2lyY2xlTWFya2VyKAogICAgICAgICAgICAgICAgWzQzLjc1NzQwOTYsIC03OS4yNzMzMDQwMDAwMDAwMV0sCiAgICAgICAgICAgICAgICB7ImJ1YmJsaW5nTW91c2VFdmVudHMiOiB0cnVlLCAiY29sb3IiOiAiYmx1ZSIsICJkYXNoQXJyYXkiOiBudWxsLCAiZGFzaE9mZnNldCI6IG51bGwsICJmaWxsIjogdHJ1ZSwgImZpbGxDb2xvciI6ICIjMzE4NmNjIiwgImZpbGxPcGFjaXR5IjogMC43LCAiZmlsbFJ1bGUiOiAiZXZlbm9kZCIsICJsaW5lQ2FwIjogInJvdW5kIiwgImxpbmVKb2luIjogInJvdW5kIiwgIm9wYWNpdHkiOiAxLjAsICJyYWRpdXMiOiA1LCAic3Ryb2tlIjogdHJ1ZSwgIndlaWdodCI6IDN9CiAgICAgICAgICAgICkuYWRkVG8obWFwXzdiOWE2OTMwYWNhMDQ2NTNiMjMyNWVkNDk4OTMzNDFmKTsKICAgICAgICAKICAgIAogICAgICAgIHZhciBwb3B1cF8zOWI5ZDNhNjg0ODA0MDY0YmQ0MjVjNmRkNGQwMmVhYiA9IEwucG9wdXAoeyJtYXhXaWR0aCI6ICIxMDAlIn0pOwoKICAgICAgICAKICAgICAgICAgICAgdmFyIGh0bWxfMjg0M2ZiNDkxYmJmNGU0ODgzYTU0ZmVkNzU4ZTM3Y2YgPSAkKGA8ZGl2IGlkPSJodG1sXzI4NDNmYjQ5MWJiZjRlNDg4M2E1NGZlZDc1OGUzN2NmIiBzdHlsZT0id2lkdGg6IDEwMC4wJTsgaGVpZ2h0OiAxMDAuMCU7Ij5Eb3JzZXQgUGFyaywgV2V4Zm9yZCBIZWlnaHRzLCBTY2FyYm9yb3VnaCBUb3duIENlbnRyZSwgU2NhcmJvcm91Z2g8L2Rpdj5gKVswXTsKICAgICAgICAgICAgcG9wdXBfMzliOWQzYTY4NDgwNDA2NGJkNDI1YzZkZDRkMDJlYWIuc2V0Q29udGVudChodG1sXzI4NDNmYjQ5MWJiZjRlNDg4M2E1NGZlZDc1OGUzN2NmKTsKICAgICAgICAKCiAgICAgICAgY2lyY2xlX21hcmtlcl9mYjgwMTNjYThjZDI0MTkyYTMyMzcyNWZiYWEzM2Y3YS5iaW5kUG9wdXAocG9wdXBfMzliOWQzYTY4NDgwNDA2NGJkNDI1YzZkZDRkMDJlYWIpCiAgICAgICAgOwoKICAgICAgICAKICAgIAogICAgCiAgICAgICAgICAgIHZhciBjaXJjbGVfbWFya2VyXzYyYzg3OGY3ZWE3NjQ2ZTU5MWYyY2FkNjI5NWQ4NzkyID0gTC5jaXJjbGVNYXJrZXIoCiAgICAgICAgICAgICAgICBbNDMuNzUyNzU4Mjk5OTk5OTk2LCAtNzkuNDAwMDQ5M10sCiAgICAgICAgICAgICAgICB7ImJ1YmJsaW5nTW91c2VFdmVudHMiOiB0cnVlLCAiY29sb3IiOiAiYmx1ZSIsICJkYXNoQXJyYXkiOiBudWxsLCAiZGFzaE9mZnNldCI6IG51bGwsICJmaWxsIjogdHJ1ZSwgImZpbGxDb2xvciI6ICIjMzE4NmNjIiwgImZpbGxPcGFjaXR5IjogMC43LCAiZmlsbFJ1bGUiOiAiZXZlbm9kZCIsICJsaW5lQ2FwIjogInJvdW5kIiwgImxpbmVKb2luIjogInJvdW5kIiwgIm9wYWNpdHkiOiAxLjAsICJyYWRpdXMiOiA1LCAic3Ryb2tlIjogdHJ1ZSwgIndlaWdodCI6IDN9CiAgICAgICAgICAgICkuYWRkVG8obWFwXzdiOWE2OTMwYWNhMDQ2NTNiMjMyNWVkNDk4OTMzNDFmKTsKICAgICAgICAKICAgIAogICAgICAgIHZhciBwb3B1cF83ZWUyMGFjNmRjNGQ0MTIxYWVhMDYwY2EyYzA0ZWNlMiA9IEwucG9wdXAoeyJtYXhXaWR0aCI6ICIxMDAlIn0pOwoKICAgICAgICAKICAgICAgICAgICAgdmFyIGh0bWxfZTlhMmIyOWY0ZjZjNDEyMzgxM2FkZWNlYjU3NzlmZTkgPSAkKGA8ZGl2IGlkPSJodG1sX2U5YTJiMjlmNGY2YzQxMjM4MTNhZGVjZWI1Nzc5ZmU5IiBzdHlsZT0id2lkdGg6IDEwMC4wJTsgaGVpZ2h0OiAxMDAuMCU7Ij5Zb3JrIE1pbGxzIFdlc3QsIE5vcnRoIFlvcms8L2Rpdj5gKVswXTsKICAgICAgICAgICAgcG9wdXBfN2VlMjBhYzZkYzRkNDEyMWFlYTA2MGNhMmMwNGVjZTIuc2V0Q29udGVudChodG1sX2U5YTJiMjlmNGY2YzQxMjM4MTNhZGVjZWI1Nzc5ZmU5KTsKICAgICAgICAKCiAgICAgICAgY2lyY2xlX21hcmtlcl82MmM4NzhmN2VhNzY0NmU1OTFmMmNhZDYyOTVkODc5Mi5iaW5kUG9wdXAocG9wdXBfN2VlMjBhYzZkYzRkNDEyMWFlYTA2MGNhMmMwNGVjZTIpCiAgICAgICAgOwoKICAgICAgICAKICAgIAogICAgCiAgICAgICAgICAgIHZhciBjaXJjbGVfbWFya2VyXzdjYTk5YjU3Nzk1NDQxNTZhNTY2MjBiOTk0MWY0ZDI3ID0gTC5jaXJjbGVNYXJrZXIoCiAgICAgICAgICAgICAgICBbNDMuNzEyNzUxMSwgLTc5LjM5MDE5NzVdLAogICAgICAgICAgICAgICAgeyJidWJibGluZ01vdXNlRXZlbnRzIjogdHJ1ZSwgImNvbG9yIjogImJsdWUiLCAiZGFzaEFycmF5IjogbnVsbCwgImRhc2hPZmZzZXQiOiBudWxsLCAiZmlsbCI6IHRydWUsICJmaWxsQ29sb3IiOiAiIzMxODZjYyIsICJmaWxsT3BhY2l0eSI6IDAuNywgImZpbGxSdWxlIjogImV2ZW5vZGQiLCAibGluZUNhcCI6ICJyb3VuZCIsICJsaW5lSm9pbiI6ICJyb3VuZCIsICJvcGFjaXR5IjogMS4wLCAicmFkaXVzIjogNSwgInN0cm9rZSI6IHRydWUsICJ3ZWlnaHQiOiAzfQogICAgICAgICAgICApLmFkZFRvKG1hcF83YjlhNjkzMGFjYTA0NjUzYjIzMjVlZDQ5ODkzMzQxZik7CiAgICAgICAgCiAgICAKICAgICAgICB2YXIgcG9wdXBfMjNlMDE0NzQ0NDdkNDZmYmEzZmNjODU3ZGJmOTZhMWEgPSBMLnBvcHVwKHsibWF4V2lkdGgiOiAiMTAwJSJ9KTsKCiAgICAgICAgCiAgICAgICAgICAgIHZhciBodG1sXzZjOWU3NTEyYmEyNDQ1ZjJhNDY1Y2Y2ZDFhODhkMDBmID0gJChgPGRpdiBpZD0iaHRtbF82YzllNzUxMmJhMjQ0NWYyYTQ2NWNmNmQxYTg4ZDAwZiIgc3R5bGU9IndpZHRoOiAxMDAuMCU7IGhlaWdodDogMTAwLjAlOyI+RGF2aXN2aWxsZSBOb3J0aCwgQ2VudHJhbCBUb3JvbnRvPC9kaXY+YClbMF07CiAgICAgICAgICAgIHBvcHVwXzIzZTAxNDc0NDQ3ZDQ2ZmJhM2ZjYzg1N2RiZjk2YTFhLnNldENvbnRlbnQoaHRtbF82YzllNzUxMmJhMjQ0NWYyYTQ2NWNmNmQxYTg4ZDAwZik7CiAgICAgICAgCgogICAgICAgIGNpcmNsZV9tYXJrZXJfN2NhOTliNTc3OTU0NDE1NmE1NjYyMGI5OTQxZjRkMjcuYmluZFBvcHVwKHBvcHVwXzIzZTAxNDc0NDQ3ZDQ2ZmJhM2ZjYzg1N2RiZjk2YTFhKQogICAgICAgIDsKCiAgICAgICAgCiAgICAKICAgIAogICAgICAgICAgICB2YXIgY2lyY2xlX21hcmtlcl9iNGFhNjNhMWIzMmQ0YjQ1YTUxZDgxYmI1ZWJjMGM1YyA9IEwuY2lyY2xlTWFya2VyKAogICAgICAgICAgICAgICAgWzQzLjY5Njk0NzYsIC03OS40MTEzMDcyMDAwMDAwMV0sCiAgICAgICAgICAgICAgICB7ImJ1YmJsaW5nTW91c2VFdmVudHMiOiB0cnVlLCAiY29sb3IiOiAiYmx1ZSIsICJkYXNoQXJyYXkiOiBudWxsLCAiZGFzaE9mZnNldCI6IG51bGwsICJmaWxsIjogdHJ1ZSwgImZpbGxDb2xvciI6ICIjMzE4NmNjIiwgImZpbGxPcGFjaXR5IjogMC43LCAiZmlsbFJ1bGUiOiAiZXZlbm9kZCIsICJsaW5lQ2FwIjogInJvdW5kIiwgImxpbmVKb2luIjogInJvdW5kIiwgIm9wYWNpdHkiOiAxLjAsICJyYWRpdXMiOiA1LCAic3Ryb2tlIjogdHJ1ZSwgIndlaWdodCI6IDN9CiAgICAgICAgICAgICkuYWRkVG8obWFwXzdiOWE2OTMwYWNhMDQ2NTNiMjMyNWVkNDk4OTMzNDFmKTsKICAgICAgICAKICAgIAogICAgICAgIHZhciBwb3B1cF9jYmJiNzVkMDQwZGM0OTUzODM4NzgyZDJiZDIyMGVkNCA9IEwucG9wdXAoeyJtYXhXaWR0aCI6ICIxMDAlIn0pOwoKICAgICAgICAKICAgICAgICAgICAgdmFyIGh0bWxfZmVmYjQ4MTNmZDhlNGY1NWFlMTU1ZGI5NmRmOGEyOGEgPSAkKGA8ZGl2IGlkPSJodG1sX2ZlZmI0ODEzZmQ4ZTRmNTVhZTE1NWRiOTZkZjhhMjhhIiBzdHlsZT0id2lkdGg6IDEwMC4wJTsgaGVpZ2h0OiAxMDAuMCU7Ij5Gb3Jlc3QgSGlsbCBOb3J0aCAmYW1wOyBXZXN0LCBGb3Jlc3QgSGlsbCBSb2FkIFBhcmssIENlbnRyYWwgVG9yb250bzwvZGl2PmApWzBdOwogICAgICAgICAgICBwb3B1cF9jYmJiNzVkMDQwZGM0OTUzODM4NzgyZDJiZDIyMGVkNC5zZXRDb250ZW50KGh0bWxfZmVmYjQ4MTNmZDhlNGY1NWFlMTU1ZGI5NmRmOGEyOGEpOwogICAgICAgIAoKICAgICAgICBjaXJjbGVfbWFya2VyX2I0YWE2M2ExYjMyZDRiNDVhNTFkODFiYjVlYmMwYzVjLmJpbmRQb3B1cChwb3B1cF9jYmJiNzVkMDQwZGM0OTUzODM4NzgyZDJiZDIyMGVkNCkKICAgICAgICA7CgogICAgICAgIAogICAgCiAgICAKICAgICAgICAgICAgdmFyIGNpcmNsZV9tYXJrZXJfMDIxYmIwMDY2MTcxNGJlZmI1YjFiYzQ5ZjBhMTllYTYgPSBMLmNpcmNsZU1hcmtlcigKICAgICAgICAgICAgICAgIFs0My42NjE2MDgzLCAtNzkuNDY0NzYzMjk5OTk5OTldLAogICAgICAgICAgICAgICAgeyJidWJibGluZ01vdXNlRXZlbnRzIjogdHJ1ZSwgImNvbG9yIjogImJsdWUiLCAiZGFzaEFycmF5IjogbnVsbCwgImRhc2hPZmZzZXQiOiBudWxsLCAiZmlsbCI6IHRydWUsICJmaWxsQ29sb3IiOiAiIzMxODZjYyIsICJmaWxsT3BhY2l0eSI6IDAuNywgImZpbGxSdWxlIjogImV2ZW5vZGQiLCAibGluZUNhcCI6ICJyb3VuZCIsICJsaW5lSm9pbiI6ICJyb3VuZCIsICJvcGFjaXR5IjogMS4wLCAicmFkaXVzIjogNSwgInN0cm9rZSI6IHRydWUsICJ3ZWlnaHQiOiAzfQogICAgICAgICAgICApLmFkZFRvKG1hcF83YjlhNjkzMGFjYTA0NjUzYjIzMjVlZDQ5ODkzMzQxZik7CiAgICAgICAgCiAgICAKICAgICAgICB2YXIgcG9wdXBfZDQ2ZWEyOGNmYzI1NDZkYjljNGJiZTJkYTY5NmJkMTAgPSBMLnBvcHVwKHsibWF4V2lkdGgiOiAiMTAwJSJ9KTsKCiAgICAgICAgCiAgICAgICAgICAgIHZhciBodG1sXzVmOTgzOTgwZjljYTQxN2FiZjRlNWY3MzRkYmUyOTFlID0gJChgPGRpdiBpZD0iaHRtbF81Zjk4Mzk4MGY5Y2E0MTdhYmY0ZTVmNzM0ZGJlMjkxZSIgc3R5bGU9IndpZHRoOiAxMDAuMCU7IGhlaWdodDogMTAwLjAlOyI+SGlnaCBQYXJrLCBUaGUgSnVuY3Rpb24gU291dGgsIFdlc3QgVG9yb250bzwvZGl2PmApWzBdOwogICAgICAgICAgICBwb3B1cF9kNDZlYTI4Y2ZjMjU0NmRiOWM0YmJlMmRhNjk2YmQxMC5zZXRDb250ZW50KGh0bWxfNWY5ODM5ODBmOWNhNDE3YWJmNGU1ZjczNGRiZTI5MWUpOwogICAgICAgIAoKICAgICAgICBjaXJjbGVfbWFya2VyXzAyMWJiMDA2NjE3MTRiZWZiNWIxYmM0OWYwYTE5ZWE2LmJpbmRQb3B1cChwb3B1cF9kNDZlYTI4Y2ZjMjU0NmRiOWM0YmJlMmRhNjk2YmQxMCkKICAgICAgICA7CgogICAgICAgIAogICAgCiAgICAKICAgICAgICAgICAgdmFyIGNpcmNsZV9tYXJrZXJfNTU3NmFiMGNhOGZlNGEwZWI5MWZmYmIxMzg1ZjQyZDAgPSBMLmNpcmNsZU1hcmtlcigKICAgICAgICAgICAgICAgIFs0My42OTYzMTksIC03OS41MzIyNDI0MDAwMDAwMl0sCiAgICAgICAgICAgICAgICB7ImJ1YmJsaW5nTW91c2VFdmVudHMiOiB0cnVlLCAiY29sb3IiOiAiYmx1ZSIsICJkYXNoQXJyYXkiOiBudWxsLCAiZGFzaE9mZnNldCI6IG51bGwsICJmaWxsIjogdHJ1ZSwgImZpbGxDb2xvciI6ICIjMzE4NmNjIiwgImZpbGxPcGFjaXR5IjogMC43LCAiZmlsbFJ1bGUiOiAiZXZlbm9kZCIsICJsaW5lQ2FwIjogInJvdW5kIiwgImxpbmVKb2luIjogInJvdW5kIiwgIm9wYWNpdHkiOiAxLjAsICJyYWRpdXMiOiA1LCAic3Ryb2tlIjogdHJ1ZSwgIndlaWdodCI6IDN9CiAgICAgICAgICAgICkuYWRkVG8obWFwXzdiOWE2OTMwYWNhMDQ2NTNiMjMyNWVkNDk4OTMzNDFmKTsKICAgICAgICAKICAgIAogICAgICAgIHZhciBwb3B1cF81ZjQ2YzQ0NTE4NDI0ZDM5YmFmNjg5Y2MxMTFlZjkzMSA9IEwucG9wdXAoeyJtYXhXaWR0aCI6ICIxMDAlIn0pOwoKICAgICAgICAKICAgICAgICAgICAgdmFyIGh0bWxfOGUzMzk5NDA4Yzc3NDhhNDgwNDU0YzFkYzNmYjhjYjMgPSAkKGA8ZGl2IGlkPSJodG1sXzhlMzM5OTQwOGM3NzQ4YTQ4MDQ1NGMxZGMzZmI4Y2IzIiBzdHlsZT0id2lkdGg6IDEwMC4wJTsgaGVpZ2h0OiAxMDAuMCU7Ij5XZXN0bW91bnQsIEV0b2JpY29rZTwvZGl2PmApWzBdOwogICAgICAgICAgICBwb3B1cF81ZjQ2YzQ0NTE4NDI0ZDM5YmFmNjg5Y2MxMTFlZjkzMS5zZXRDb250ZW50KGh0bWxfOGUzMzk5NDA4Yzc3NDhhNDgwNDU0YzFkYzNmYjhjYjMpOwogICAgICAgIAoKICAgICAgICBjaXJjbGVfbWFya2VyXzU1NzZhYjBjYThmZTRhMGViOTFmZmJiMTM4NWY0MmQwLmJpbmRQb3B1cChwb3B1cF81ZjQ2YzQ0NTE4NDI0ZDM5YmFmNjg5Y2MxMTFlZjkzMSkKICAgICAgICA7CgogICAgICAgIAogICAgCiAgICAKICAgICAgICAgICAgdmFyIGNpcmNsZV9tYXJrZXJfMjRkNjZmMDA5YTQ4NDFkYjk3OTdkODViNGQ2ZTIxODQgPSBMLmNpcmNsZU1hcmtlcigKICAgICAgICAgICAgICAgIFs0My43NTAwNzE1MDAwMDAwMDQsIC03OS4yOTU4NDkxXSwKICAgICAgICAgICAgICAgIHsiYnViYmxpbmdNb3VzZUV2ZW50cyI6IHRydWUsICJjb2xvciI6ICJibHVlIiwgImRhc2hBcnJheSI6IG51bGwsICJkYXNoT2Zmc2V0IjogbnVsbCwgImZpbGwiOiB0cnVlLCAiZmlsbENvbG9yIjogIiMzMTg2Y2MiLCAiZmlsbE9wYWNpdHkiOiAwLjcsICJmaWxsUnVsZSI6ICJldmVub2RkIiwgImxpbmVDYXAiOiAicm91bmQiLCAibGluZUpvaW4iOiAicm91bmQiLCAib3BhY2l0eSI6IDEuMCwgInJhZGl1cyI6IDUsICJzdHJva2UiOiB0cnVlLCAid2VpZ2h0IjogM30KICAgICAgICAgICAgKS5hZGRUbyhtYXBfN2I5YTY5MzBhY2EwNDY1M2IyMzI1ZWQ0OTg5MzM0MWYpOwogICAgICAgIAogICAgCiAgICAgICAgdmFyIHBvcHVwX2VhNGE1YWY3YWU1ZjQzZTFhZDU0OTNjMjBjNTJkMGQ3ID0gTC5wb3B1cCh7Im1heFdpZHRoIjogIjEwMCUifSk7CgogICAgICAgIAogICAgICAgICAgICB2YXIgaHRtbF84MjNmMDMxY2E0YmU0OGIxYjFmYzRhYWNiMDZhNDFjNCA9ICQoYDxkaXYgaWQ9Imh0bWxfODIzZjAzMWNhNGJlNDhiMWIxZmM0YWFjYjA2YTQxYzQiIHN0eWxlPSJ3aWR0aDogMTAwLjAlOyBoZWlnaHQ6IDEwMC4wJTsiPldleGZvcmQsIE1hcnl2YWxlLCBTY2FyYm9yb3VnaDwvZGl2PmApWzBdOwogICAgICAgICAgICBwb3B1cF9lYTRhNWFmN2FlNWY0M2UxYWQ1NDkzYzIwYzUyZDBkNy5zZXRDb250ZW50KGh0bWxfODIzZjAzMWNhNGJlNDhiMWIxZmM0YWFjYjA2YTQxYzQpOwogICAgICAgIAoKICAgICAgICBjaXJjbGVfbWFya2VyXzI0ZDY2ZjAwOWE0ODQxZGI5Nzk3ZDg1YjRkNmUyMTg0LmJpbmRQb3B1cChwb3B1cF9lYTRhNWFmN2FlNWY0M2UxYWQ1NDkzYzIwYzUyZDBkNykKICAgICAgICA7CgogICAgICAgIAogICAgCiAgICAKICAgICAgICAgICAgdmFyIGNpcmNsZV9tYXJrZXJfOTAzOWYxOGJhZTkxNGFjMmJiM2I3NWMzYTc2OGExZTkgPSBMLmNpcmNsZU1hcmtlcigKICAgICAgICAgICAgICAgIFs0My43ODI3MzY0LCAtNzkuNDQyMjU5M10sCiAgICAgICAgICAgICAgICB7ImJ1YmJsaW5nTW91c2VFdmVudHMiOiB0cnVlLCAiY29sb3IiOiAiYmx1ZSIsICJkYXNoQXJyYXkiOiBudWxsLCAiZGFzaE9mZnNldCI6IG51bGwsICJmaWxsIjogdHJ1ZSwgImZpbGxDb2xvciI6ICIjMzE4NmNjIiwgImZpbGxPcGFjaXR5IjogMC43LCAiZmlsbFJ1bGUiOiAiZXZlbm9kZCIsICJsaW5lQ2FwIjogInJvdW5kIiwgImxpbmVKb2luIjogInJvdW5kIiwgIm9wYWNpdHkiOiAxLjAsICJyYWRpdXMiOiA1LCAic3Ryb2tlIjogdHJ1ZSwgIndlaWdodCI6IDN9CiAgICAgICAgICAgICkuYWRkVG8obWFwXzdiOWE2OTMwYWNhMDQ2NTNiMjMyNWVkNDk4OTMzNDFmKTsKICAgICAgICAKICAgIAogICAgICAgIHZhciBwb3B1cF9hMTdhMGQ4OWM2NGI0NzBkOGRjMDY1ZmI4YWFkODFjYSA9IEwucG9wdXAoeyJtYXhXaWR0aCI6ICIxMDAlIn0pOwoKICAgICAgICAKICAgICAgICAgICAgdmFyIGh0bWxfMTdhNGY1N2Q5YWNiNGUyZWJmOThlNWI4ZWM2ZGNiNzYgPSAkKGA8ZGl2IGlkPSJodG1sXzE3YTRmNTdkOWFjYjRlMmViZjk4ZTViOGVjNmRjYjc2IiBzdHlsZT0id2lkdGg6IDEwMC4wJTsgaGVpZ2h0OiAxMDAuMCU7Ij5XaWxsb3dkYWxlLCBXaWxsb3dkYWxlIFdlc3QsIE5vcnRoIFlvcms8L2Rpdj5gKVswXTsKICAgICAgICAgICAgcG9wdXBfYTE3YTBkODljNjRiNDcwZDhkYzA2NWZiOGFhZDgxY2Euc2V0Q29udGVudChodG1sXzE3YTRmNTdkOWFjYjRlMmViZjk4ZTViOGVjNmRjYjc2KTsKICAgICAgICAKCiAgICAgICAgY2lyY2xlX21hcmtlcl85MDM5ZjE4YmFlOTE0YWMyYmIzYjc1YzNhNzY4YTFlOS5iaW5kUG9wdXAocG9wdXBfYTE3YTBkODljNjRiNDcwZDhkYzA2NWZiOGFhZDgxY2EpCiAgICAgICAgOwoKICAgICAgICAKICAgIAogICAgCiAgICAgICAgICAgIHZhciBjaXJjbGVfbWFya2VyXzIzZjYyYWRjODQ5YzQzMGU5ZjFlZGU2OWY1YTZjOWE5ID0gTC5jaXJjbGVNYXJrZXIoCiAgICAgICAgICAgICAgICBbNDMuNzE1MzgzNCwgLTc5LjQwNTY3ODQwMDAwMDAxXSwKICAgICAgICAgICAgICAgIHsiYnViYmxpbmdNb3VzZUV2ZW50cyI6IHRydWUsICJjb2xvciI6ICJibHVlIiwgImRhc2hBcnJheSI6IG51bGwsICJkYXNoT2Zmc2V0IjogbnVsbCwgImZpbGwiOiB0cnVlLCAiZmlsbENvbG9yIjogIiMzMTg2Y2MiLCAiZmlsbE9wYWNpdHkiOiAwLjcsICJmaWxsUnVsZSI6ICJldmVub2RkIiwgImxpbmVDYXAiOiAicm91bmQiLCAibGluZUpvaW4iOiAicm91bmQiLCAib3BhY2l0eSI6IDEuMCwgInJhZGl1cyI6IDUsICJzdHJva2UiOiB0cnVlLCAid2VpZ2h0IjogM30KICAgICAgICAgICAgKS5hZGRUbyhtYXBfN2I5YTY5MzBhY2EwNDY1M2IyMzI1ZWQ0OTg5MzM0MWYpOwogICAgICAgIAogICAgCiAgICAgICAgdmFyIHBvcHVwXzM2OTcyYzBmYzgyZjRiYjdiZjYyYTM3MDI5NWFlYTZiID0gTC5wb3B1cCh7Im1heFdpZHRoIjogIjEwMCUifSk7CgogICAgICAgIAogICAgICAgICAgICB2YXIgaHRtbF84MWVjNTg0YjAzOTY0ZWFlYWU5MTFhOWY1OGI2MjY3ZCA9ICQoYDxkaXYgaWQ9Imh0bWxfODFlYzU4NGIwMzk2NGVhZWFlOTExYTlmNThiNjI2N2QiIHN0eWxlPSJ3aWR0aDogMTAwLjAlOyBoZWlnaHQ6IDEwMC4wJTsiPk5vcnRoIFRvcm9udG8gV2VzdCwgTGF3cmVuY2UgUGFyaywgQ2VudHJhbCBUb3JvbnRvPC9kaXY+YClbMF07CiAgICAgICAgICAgIHBvcHVwXzM2OTcyYzBmYzgyZjRiYjdiZjYyYTM3MDI5NWFlYTZiLnNldENvbnRlbnQoaHRtbF84MWVjNTg0YjAzOTY0ZWFlYWU5MTFhOWY1OGI2MjY3ZCk7CiAgICAgICAgCgogICAgICAgIGNpcmNsZV9tYXJrZXJfMjNmNjJhZGM4NDljNDMwZTlmMWVkZTY5ZjVhNmM5YTkuYmluZFBvcHVwKHBvcHVwXzM2OTcyYzBmYzgyZjRiYjdiZjYyYTM3MDI5NWFlYTZiKQogICAgICAgIDsKCiAgICAgICAgCiAgICAKICAgIAogICAgICAgICAgICB2YXIgY2lyY2xlX21hcmtlcl8xNTBhZWU4Njk4NDg0MGE2OTk1ZDY2ZGYzN2YzMjUzMCA9IEwuY2lyY2xlTWFya2VyKAogICAgICAgICAgICAgICAgWzQzLjY3MjcwOTcsIC03OS40MDU2Nzg0MDAwMDAwMV0sCiAgICAgICAgICAgICAgICB7ImJ1YmJsaW5nTW91c2VFdmVudHMiOiB0cnVlLCAiY29sb3IiOiAiYmx1ZSIsICJkYXNoQXJyYXkiOiBudWxsLCAiZGFzaE9mZnNldCI6IG51bGwsICJmaWxsIjogdHJ1ZSwgImZpbGxDb2xvciI6ICIjMzE4NmNjIiwgImZpbGxPcGFjaXR5IjogMC43LCAiZmlsbFJ1bGUiOiAiZXZlbm9kZCIsICJsaW5lQ2FwIjogInJvdW5kIiwgImxpbmVKb2luIjogInJvdW5kIiwgIm9wYWNpdHkiOiAxLjAsICJyYWRpdXMiOiA1LCAic3Ryb2tlIjogdHJ1ZSwgIndlaWdodCI6IDN9CiAgICAgICAgICAgICkuYWRkVG8obWFwXzdiOWE2OTMwYWNhMDQ2NTNiMjMyNWVkNDk4OTMzNDFmKTsKICAgICAgICAKICAgIAogICAgICAgIHZhciBwb3B1cF8xNDVmMDllNzRhNTc0Yjk5YTM4ZDVjMWU0NzkwNmI2ZCA9IEwucG9wdXAoeyJtYXhXaWR0aCI6ICIxMDAlIn0pOwoKICAgICAgICAKICAgICAgICAgICAgdmFyIGh0bWxfZjA3YjE2YTcwMTEzNDZiMTgyZTBhZjIwN2MxMTA1MjUgPSAkKGA8ZGl2IGlkPSJodG1sX2YwN2IxNmE3MDExMzQ2YjE4MmUwYWYyMDdjMTEwNTI1IiBzdHlsZT0id2lkdGg6IDEwMC4wJTsgaGVpZ2h0OiAxMDAuMCU7Ij5UaGUgQW5uZXgsIE5vcnRoIE1pZHRvd24sIFlvcmt2aWxsZSwgQ2VudHJhbCBUb3JvbnRvPC9kaXY+YClbMF07CiAgICAgICAgICAgIHBvcHVwXzE0NWYwOWU3NGE1NzRiOTlhMzhkNWMxZTQ3OTA2YjZkLnNldENvbnRlbnQoaHRtbF9mMDdiMTZhNzAxMTM0NmIxODJlMGFmMjA3YzExMDUyNSk7CiAgICAgICAgCgogICAgICAgIGNpcmNsZV9tYXJrZXJfMTUwYWVlODY5ODQ4NDBhNjk5NWQ2NmRmMzdmMzI1MzAuYmluZFBvcHVwKHBvcHVwXzE0NWYwOWU3NGE1NzRiOTlhMzhkNWMxZTQ3OTA2YjZkKQogICAgICAgIDsKCiAgICAgICAgCiAgICAKICAgIAogICAgICAgICAgICB2YXIgY2lyY2xlX21hcmtlcl9jMDY4NzBjOGZlZWY0MmY3YmJjOTM2ZWFkMGI2YTBhOCA9IEwuY2lyY2xlTWFya2VyKAogICAgICAgICAgICAgICAgWzQzLjY0ODk1OTcsIC03OS40NTYzMjVdLAogICAgICAgICAgICAgICAgeyJidWJibGluZ01vdXNlRXZlbnRzIjogdHJ1ZSwgImNvbG9yIjogImJsdWUiLCAiZGFzaEFycmF5IjogbnVsbCwgImRhc2hPZmZzZXQiOiBudWxsLCAiZmlsbCI6IHRydWUsICJmaWxsQ29sb3IiOiAiIzMxODZjYyIsICJmaWxsT3BhY2l0eSI6IDAuNywgImZpbGxSdWxlIjogImV2ZW5vZGQiLCAibGluZUNhcCI6ICJyb3VuZCIsICJsaW5lSm9pbiI6ICJyb3VuZCIsICJvcGFjaXR5IjogMS4wLCAicmFkaXVzIjogNSwgInN0cm9rZSI6IHRydWUsICJ3ZWlnaHQiOiAzfQogICAgICAgICAgICApLmFkZFRvKG1hcF83YjlhNjkzMGFjYTA0NjUzYjIzMjVlZDQ5ODkzMzQxZik7CiAgICAgICAgCiAgICAKICAgICAgICB2YXIgcG9wdXBfMmY2NmRhZjNmNzVhNGMzMzhmNTE5MTlmZDBlODk5MzAgPSBMLnBvcHVwKHsibWF4V2lkdGgiOiAiMTAwJSJ9KTsKCiAgICAgICAgCiAgICAgICAgICAgIHZhciBodG1sXzJhZjdhMDU4MDBlMDRlZGQ5ZTE2ZDY3NDYxNTczNjgwID0gJChgPGRpdiBpZD0iaHRtbF8yYWY3YTA1ODAwZTA0ZWRkOWUxNmQ2NzQ2MTU3MzY4MCIgc3R5bGU9IndpZHRoOiAxMDAuMCU7IGhlaWdodDogMTAwLjAlOyI+UGFya2RhbGUsIFJvbmNlc3ZhbGxlcywgV2VzdCBUb3JvbnRvPC9kaXY+YClbMF07CiAgICAgICAgICAgIHBvcHVwXzJmNjZkYWYzZjc1YTRjMzM4ZjUxOTE5ZmQwZTg5OTMwLnNldENvbnRlbnQoaHRtbF8yYWY3YTA1ODAwZTA0ZWRkOWUxNmQ2NzQ2MTU3MzY4MCk7CiAgICAgICAgCgogICAgICAgIGNpcmNsZV9tYXJrZXJfYzA2ODcwYzhmZWVmNDJmN2JiYzkzNmVhZDBiNmEwYTguYmluZFBvcHVwKHBvcHVwXzJmNjZkYWYzZjc1YTRjMzM4ZjUxOTE5ZmQwZTg5OTMwKQogICAgICAgIDsKCiAgICAgICAgCiAgICAKICAgIAogICAgICAgICAgICB2YXIgY2lyY2xlX21hcmtlcl83MjY2Njk1YmZjNmU0MWRmOTAyM2Y2NzczOGVjM2I4NSA9IEwuY2lyY2xlTWFya2VyKAogICAgICAgICAgICAgICAgWzQzLjYzNjk2NTYsIC03OS42MTU4MTg5OTk5OTk5OV0sCiAgICAgICAgICAgICAgICB7ImJ1YmJsaW5nTW91c2VFdmVudHMiOiB0cnVlLCAiY29sb3IiOiAiYmx1ZSIsICJkYXNoQXJyYXkiOiBudWxsLCAiZGFzaE9mZnNldCI6IG51bGwsICJmaWxsIjogdHJ1ZSwgImZpbGxDb2xvciI6ICIjMzE4NmNjIiwgImZpbGxPcGFjaXR5IjogMC43LCAiZmlsbFJ1bGUiOiAiZXZlbm9kZCIsICJsaW5lQ2FwIjogInJvdW5kIiwgImxpbmVKb2luIjogInJvdW5kIiwgIm9wYWNpdHkiOiAxLjAsICJyYWRpdXMiOiA1LCAic3Ryb2tlIjogdHJ1ZSwgIndlaWdodCI6IDN9CiAgICAgICAgICAgICkuYWRkVG8obWFwXzdiOWE2OTMwYWNhMDQ2NTNiMjMyNWVkNDk4OTMzNDFmKTsKICAgICAgICAKICAgIAogICAgICAgIHZhciBwb3B1cF9mMTZjZWM3MjI5OTY0OTUwODQ2MzU0ZGNjYWM5YTAwOSA9IEwucG9wdXAoeyJtYXhXaWR0aCI6ICIxMDAlIn0pOwoKICAgICAgICAKICAgICAgICAgICAgdmFyIGh0bWxfNDNlNjc1ZGMzODJhNDQ4YzkxNmYxODczMmE3Yzk1ODggPSAkKGA8ZGl2IGlkPSJodG1sXzQzZTY3NWRjMzgyYTQ0OGM5MTZmMTg3MzJhN2M5NTg4IiBzdHlsZT0id2lkdGg6IDEwMC4wJTsgaGVpZ2h0OiAxMDAuMCU7Ij5DYW5hZGEgUG9zdCBHYXRld2F5IFByb2Nlc3NpbmcgQ2VudHJlLCBNaXNzaXNzYXVnYTwvZGl2PmApWzBdOwogICAgICAgICAgICBwb3B1cF9mMTZjZWM3MjI5OTY0OTUwODQ2MzU0ZGNjYWM5YTAwOS5zZXRDb250ZW50KGh0bWxfNDNlNjc1ZGMzODJhNDQ4YzkxNmYxODczMmE3Yzk1ODgpOwogICAgICAgIAoKICAgICAgICBjaXJjbGVfbWFya2VyXzcyNjY2OTViZmM2ZTQxZGY5MDIzZjY3NzM4ZWMzYjg1LmJpbmRQb3B1cChwb3B1cF9mMTZjZWM3MjI5OTY0OTUwODQ2MzU0ZGNjYWM5YTAwOSkKICAgICAgICA7CgogICAgICAgIAogICAgCiAgICAKICAgICAgICAgICAgdmFyIGNpcmNsZV9tYXJrZXJfZTFkNmJhN2RiZDVjNGY5OGJkMjAyOWJhYWUyOWIzZjcgPSBMLmNpcmNsZU1hcmtlcigKICAgICAgICAgICAgICAgIFs0My42ODg5MDU0LCAtNzkuNTU0NzI0NDAwMDAwMDFdLAogICAgICAgICAgICAgICAgeyJidWJibGluZ01vdXNlRXZlbnRzIjogdHJ1ZSwgImNvbG9yIjogImJsdWUiLCAiZGFzaEFycmF5IjogbnVsbCwgImRhc2hPZmZzZXQiOiBudWxsLCAiZmlsbCI6IHRydWUsICJmaWxsQ29sb3IiOiAiIzMxODZjYyIsICJmaWxsT3BhY2l0eSI6IDAuNywgImZpbGxSdWxlIjogImV2ZW5vZGQiLCAibGluZUNhcCI6ICJyb3VuZCIsICJsaW5lSm9pbiI6ICJyb3VuZCIsICJvcGFjaXR5IjogMS4wLCAicmFkaXVzIjogNSwgInN0cm9rZSI6IHRydWUsICJ3ZWlnaHQiOiAzfQogICAgICAgICAgICApLmFkZFRvKG1hcF83YjlhNjkzMGFjYTA0NjUzYjIzMjVlZDQ5ODkzMzQxZik7CiAgICAgICAgCiAgICAKICAgICAgICB2YXIgcG9wdXBfZDI3MWYyOWNkNTBiNDZhM2FkZGNkNDllMTJjYzgzNjUgPSBMLnBvcHVwKHsibWF4V2lkdGgiOiAiMTAwJSJ9KTsKCiAgICAgICAgCiAgICAgICAgICAgIHZhciBodG1sX2U2YzMyYjBiMTBlYzRmNGRhZTg2OGY5YmU4NzczODRhID0gJChgPGRpdiBpZD0iaHRtbF9lNmMzMmIwYjEwZWM0ZjRkYWU4NjhmOWJlODc3Mzg0YSIgc3R5bGU9IndpZHRoOiAxMDAuMCU7IGhlaWdodDogMTAwLjAlOyI+S2luZ3N2aWV3IFZpbGxhZ2UsIFN0LiBQaGlsbGlwcywgTWFydGluIEdyb3ZlIEdhcmRlbnMsIFJpY2h2aWV3IEdhcmRlbnMsIEV0b2JpY29rZTwvZGl2PmApWzBdOwogICAgICAgICAgICBwb3B1cF9kMjcxZjI5Y2Q1MGI0NmEzYWRkY2Q0OWUxMmNjODM2NS5zZXRDb250ZW50KGh0bWxfZTZjMzJiMGIxMGVjNGY0ZGFlODY4ZjliZTg3NzM4NGEpOwogICAgICAgIAoKICAgICAgICBjaXJjbGVfbWFya2VyX2UxZDZiYTdkYmQ1YzRmOThiZDIwMjliYWFlMjliM2Y3LmJpbmRQb3B1cChwb3B1cF9kMjcxZjI5Y2Q1MGI0NmEzYWRkY2Q0OWUxMmNjODM2NSkKICAgICAgICA7CgogICAgICAgIAogICAgCiAgICAKICAgICAgICAgICAgdmFyIGNpcmNsZV9tYXJrZXJfMmYxZWFlMjNmMDY1NDg0YTk5MzllNzkwNjA1YjNjNDUgPSBMLmNpcmNsZU1hcmtlcigKICAgICAgICAgICAgICAgIFs0My43OTQyMDAzLCAtNzkuMjYyMDI5NDAwMDAwMDJdLAogICAgICAgICAgICAgICAgeyJidWJibGluZ01vdXNlRXZlbnRzIjogdHJ1ZSwgImNvbG9yIjogImJsdWUiLCAiZGFzaEFycmF5IjogbnVsbCwgImRhc2hPZmZzZXQiOiBudWxsLCAiZmlsbCI6IHRydWUsICJmaWxsQ29sb3IiOiAiIzMxODZjYyIsICJmaWxsT3BhY2l0eSI6IDAuNywgImZpbGxSdWxlIjogImV2ZW5vZGQiLCAibGluZUNhcCI6ICJyb3VuZCIsICJsaW5lSm9pbiI6ICJyb3VuZCIsICJvcGFjaXR5IjogMS4wLCAicmFkaXVzIjogNSwgInN0cm9rZSI6IHRydWUsICJ3ZWlnaHQiOiAzfQogICAgICAgICAgICApLmFkZFRvKG1hcF83YjlhNjkzMGFjYTA0NjUzYjIzMjVlZDQ5ODkzMzQxZik7CiAgICAgICAgCiAgICAKICAgICAgICB2YXIgcG9wdXBfN2FhZWZlZTVhZmIxNDQyZmEyNjg2OGFhYjE2MjRiYWYgPSBMLnBvcHVwKHsibWF4V2lkdGgiOiAiMTAwJSJ9KTsKCiAgICAgICAgCiAgICAgICAgICAgIHZhciBodG1sXzRkZmQ0ZDJiOThiZjQ3Mjc4MDVlOWMxYzZjMDk2ZTNlID0gJChgPGRpdiBpZD0iaHRtbF80ZGZkNGQyYjk4YmY0NzI3ODA1ZTljMWM2YzA5NmUzZSIgc3R5bGU9IndpZHRoOiAxMDAuMCU7IGhlaWdodDogMTAwLjAlOyI+QWdpbmNvdXJ0LCBTY2FyYm9yb3VnaDwvZGl2PmApWzBdOwogICAgICAgICAgICBwb3B1cF83YWFlZmVlNWFmYjE0NDJmYTI2ODY4YWFiMTYyNGJhZi5zZXRDb250ZW50KGh0bWxfNGRmZDRkMmI5OGJmNDcyNzgwNWU5YzFjNmMwOTZlM2UpOwogICAgICAgIAoKICAgICAgICBjaXJjbGVfbWFya2VyXzJmMWVhZTIzZjA2NTQ4NGE5OTM5ZTc5MDYwNWIzYzQ1LmJpbmRQb3B1cChwb3B1cF83YWFlZmVlNWFmYjE0NDJmYTI2ODY4YWFiMTYyNGJhZikKICAgICAgICA7CgogICAgICAgIAogICAgCiAgICAKICAgICAgICAgICAgdmFyIGNpcmNsZV9tYXJrZXJfYWFkYTQ3NWRkOGE4NGVlZmI0YjFiNWQ2MGNlMzk4NjEgPSBMLmNpcmNsZU1hcmtlcigKICAgICAgICAgICAgICAgIFs0My43MDQzMjQ0LCAtNzkuMzg4NzkwMV0sCiAgICAgICAgICAgICAgICB7ImJ1YmJsaW5nTW91c2VFdmVudHMiOiB0cnVlLCAiY29sb3IiOiAiYmx1ZSIsICJkYXNoQXJyYXkiOiBudWxsLCAiZGFzaE9mZnNldCI6IG51bGwsICJmaWxsIjogdHJ1ZSwgImZpbGxDb2xvciI6ICIjMzE4NmNjIiwgImZpbGxPcGFjaXR5IjogMC43LCAiZmlsbFJ1bGUiOiAiZXZlbm9kZCIsICJsaW5lQ2FwIjogInJvdW5kIiwgImxpbmVKb2luIjogInJvdW5kIiwgIm9wYWNpdHkiOiAxLjAsICJyYWRpdXMiOiA1LCAic3Ryb2tlIjogdHJ1ZSwgIndlaWdodCI6IDN9CiAgICAgICAgICAgICkuYWRkVG8obWFwXzdiOWE2OTMwYWNhMDQ2NTNiMjMyNWVkNDk4OTMzNDFmKTsKICAgICAgICAKICAgIAogICAgICAgIHZhciBwb3B1cF9jZDUyODBlNjQ4YTY0ZmNhOTM2ZTA0NmQ2NzFlNDk4MCA9IEwucG9wdXAoeyJtYXhXaWR0aCI6ICIxMDAlIn0pOwoKICAgICAgICAKICAgICAgICAgICAgdmFyIGh0bWxfMDYyNDgwNmFlODRjNGNjODgyMDdhMjlmYjA1NWU0YmMgPSAkKGA8ZGl2IGlkPSJodG1sXzA2MjQ4MDZhZTg0YzRjYzg4MjA3YTI5ZmIwNTVlNGJjIiBzdHlsZT0id2lkdGg6IDEwMC4wJTsgaGVpZ2h0OiAxMDAuMCU7Ij5EYXZpc3ZpbGxlLCBDZW50cmFsIFRvcm9udG88L2Rpdj5gKVswXTsKICAgICAgICAgICAgcG9wdXBfY2Q1MjgwZTY0OGE2NGZjYTkzNmUwNDZkNjcxZTQ5ODAuc2V0Q29udGVudChodG1sXzA2MjQ4MDZhZTg0YzRjYzg4MjA3YTI5ZmIwNTVlNGJjKTsKICAgICAgICAKCiAgICAgICAgY2lyY2xlX21hcmtlcl9hYWRhNDc1ZGQ4YTg0ZWVmYjRiMWI1ZDYwY2UzOTg2MS5iaW5kUG9wdXAocG9wdXBfY2Q1MjgwZTY0OGE2NGZjYTkzNmUwNDZkNjcxZTQ5ODApCiAgICAgICAgOwoKICAgICAgICAKICAgIAogICAgCiAgICAgICAgICAgIHZhciBjaXJjbGVfbWFya2VyXzJlZWZkNmUwYmU1NDRiZWNhOGY5ODFjM2MzNWE5NWU3ID0gTC5jaXJjbGVNYXJrZXIoCiAgICAgICAgICAgICAgICBbNDMuNjYyNjk1NiwgLTc5LjQwMDA0OTNdLAogICAgICAgICAgICAgICAgeyJidWJibGluZ01vdXNlRXZlbnRzIjogdHJ1ZSwgImNvbG9yIjogImJsdWUiLCAiZGFzaEFycmF5IjogbnVsbCwgImRhc2hPZmZzZXQiOiBudWxsLCAiZmlsbCI6IHRydWUsICJmaWxsQ29sb3IiOiAiIzMxODZjYyIsICJmaWxsT3BhY2l0eSI6IDAuNywgImZpbGxSdWxlIjogImV2ZW5vZGQiLCAibGluZUNhcCI6ICJyb3VuZCIsICJsaW5lSm9pbiI6ICJyb3VuZCIsICJvcGFjaXR5IjogMS4wLCAicmFkaXVzIjogNSwgInN0cm9rZSI6IHRydWUsICJ3ZWlnaHQiOiAzfQogICAgICAgICAgICApLmFkZFRvKG1hcF83YjlhNjkzMGFjYTA0NjUzYjIzMjVlZDQ5ODkzMzQxZik7CiAgICAgICAgCiAgICAKICAgICAgICB2YXIgcG9wdXBfYjZkZDg2YmRlNzUyNGU1MGJmOTE1M2VkZDZkNDkwNDAgPSBMLnBvcHVwKHsibWF4V2lkdGgiOiAiMTAwJSJ9KTsKCiAgICAgICAgCiAgICAgICAgICAgIHZhciBodG1sXzIyZmRkMDU0NzBhZjQwNGFhNmJiZjA1NTM4ZGQwNjg5ID0gJChgPGRpdiBpZD0iaHRtbF8yMmZkZDA1NDcwYWY0MDRhYTZiYmYwNTUzOGRkMDY4OSIgc3R5bGU9IndpZHRoOiAxMDAuMCU7IGhlaWdodDogMTAwLjAlOyI+VW5pdmVyc2l0eSBvZiBUb3JvbnRvLCBIYXJib3JkLCBEb3dudG93biBUb3JvbnRvPC9kaXY+YClbMF07CiAgICAgICAgICAgIHBvcHVwX2I2ZGQ4NmJkZTc1MjRlNTBiZjkxNTNlZGQ2ZDQ5MDQwLnNldENvbnRlbnQoaHRtbF8yMmZkZDA1NDcwYWY0MDRhYTZiYmYwNTUzOGRkMDY4OSk7CiAgICAgICAgCgogICAgICAgIGNpcmNsZV9tYXJrZXJfMmVlZmQ2ZTBiZTU0NGJlY2E4Zjk4MWMzYzM1YTk1ZTcuYmluZFBvcHVwKHBvcHVwX2I2ZGQ4NmJkZTc1MjRlNTBiZjkxNTNlZGQ2ZDQ5MDQwKQogICAgICAgIDsKCiAgICAgICAgCiAgICAKICAgIAogICAgICAgICAgICB2YXIgY2lyY2xlX21hcmtlcl9kNDRlMzNmMzc5ODg0N2ZmOGNkNzVlNDg5YTU4ZTBiNyA9IEwuY2lyY2xlTWFya2VyKAogICAgICAgICAgICAgICAgWzQzLjY1MTU3MDYsIC03OS40ODQ0NDk5XSwKICAgICAgICAgICAgICAgIHsiYnViYmxpbmdNb3VzZUV2ZW50cyI6IHRydWUsICJjb2xvciI6ICJibHVlIiwgImRhc2hBcnJheSI6IG51bGwsICJkYXNoT2Zmc2V0IjogbnVsbCwgImZpbGwiOiB0cnVlLCAiZmlsbENvbG9yIjogIiMzMTg2Y2MiLCAiZmlsbE9wYWNpdHkiOiAwLjcsICJmaWxsUnVsZSI6ICJldmVub2RkIiwgImxpbmVDYXAiOiAicm91bmQiLCAibGluZUpvaW4iOiAicm91bmQiLCAib3BhY2l0eSI6IDEuMCwgInJhZGl1cyI6IDUsICJzdHJva2UiOiB0cnVlLCAid2VpZ2h0IjogM30KICAgICAgICAgICAgKS5hZGRUbyhtYXBfN2I5YTY5MzBhY2EwNDY1M2IyMzI1ZWQ0OTg5MzM0MWYpOwogICAgICAgIAogICAgCiAgICAgICAgdmFyIHBvcHVwXzI3MTQzODZlOTYxNTQxZGM4ODcwZjg5NjUxMDczYmNjID0gTC5wb3B1cCh7Im1heFdpZHRoIjogIjEwMCUifSk7CgogICAgICAgIAogICAgICAgICAgICB2YXIgaHRtbF82YzIyOGNlNTllZmE0N2Q1ODI0ZDE3ZWU3ZDM5YWU5YyA9ICQoYDxkaXYgaWQ9Imh0bWxfNmMyMjhjZTU5ZWZhNDdkNTgyNGQxN2VlN2QzOWFlOWMiIHN0eWxlPSJ3aWR0aDogMTAwLjAlOyBoZWlnaHQ6IDEwMC4wJTsiPlJ1bm55bWVkZSwgU3dhbnNlYSwgV2VzdCBUb3JvbnRvPC9kaXY+YClbMF07CiAgICAgICAgICAgIHBvcHVwXzI3MTQzODZlOTYxNTQxZGM4ODcwZjg5NjUxMDczYmNjLnNldENvbnRlbnQoaHRtbF82YzIyOGNlNTllZmE0N2Q1ODI0ZDE3ZWU3ZDM5YWU5Yyk7CiAgICAgICAgCgogICAgICAgIGNpcmNsZV9tYXJrZXJfZDQ0ZTMzZjM3OTg4NDdmZjhjZDc1ZTQ4OWE1OGUwYjcuYmluZFBvcHVwKHBvcHVwXzI3MTQzODZlOTYxNTQxZGM4ODcwZjg5NjUxMDczYmNjKQogICAgICAgIDsKCiAgICAgICAgCiAgICAKICAgIAogICAgICAgICAgICB2YXIgY2lyY2xlX21hcmtlcl8yZjU4NmM2OGZkYmU0MTc4OTZjZWMxMTI0NDhjM2EwZiA9IEwuY2lyY2xlTWFya2VyKAogICAgICAgICAgICAgICAgWzQzLjc4MTYzNzUsIC03OS4zMDQzMDIxXSwKICAgICAgICAgICAgICAgIHsiYnViYmxpbmdNb3VzZUV2ZW50cyI6IHRydWUsICJjb2xvciI6ICJibHVlIiwgImRhc2hBcnJheSI6IG51bGwsICJkYXNoT2Zmc2V0IjogbnVsbCwgImZpbGwiOiB0cnVlLCAiZmlsbENvbG9yIjogIiMzMTg2Y2MiLCAiZmlsbE9wYWNpdHkiOiAwLjcsICJmaWxsUnVsZSI6ICJldmVub2RkIiwgImxpbmVDYXAiOiAicm91bmQiLCAibGluZUpvaW4iOiAicm91bmQiLCAib3BhY2l0eSI6IDEuMCwgInJhZGl1cyI6IDUsICJzdHJva2UiOiB0cnVlLCAid2VpZ2h0IjogM30KICAgICAgICAgICAgKS5hZGRUbyhtYXBfN2I5YTY5MzBhY2EwNDY1M2IyMzI1ZWQ0OTg5MzM0MWYpOwogICAgICAgIAogICAgCiAgICAgICAgdmFyIHBvcHVwX2YyYTllZWY3NTRiNDQyNjM4NmFkMGU1ZjViZGRlZmY4ID0gTC5wb3B1cCh7Im1heFdpZHRoIjogIjEwMCUifSk7CgogICAgICAgIAogICAgICAgICAgICB2YXIgaHRtbF9kZTQ0ZDA2MDIyZDg0YTBiYjdiMmU2MTEzOTY0ZDQzYiA9ICQoYDxkaXYgaWQ9Imh0bWxfZGU0NGQwNjAyMmQ4NGEwYmI3YjJlNjExMzk2NGQ0M2IiIHN0eWxlPSJ3aWR0aDogMTAwLjAlOyBoZWlnaHQ6IDEwMC4wJTsiPkNsYXJrcyBDb3JuZXJzLCBUYW0gTyYjMzk7U2hhbnRlciwgU3VsbGl2YW4sIFNjYXJib3JvdWdoPC9kaXY+YClbMF07CiAgICAgICAgICAgIHBvcHVwX2YyYTllZWY3NTRiNDQyNjM4NmFkMGU1ZjViZGRlZmY4LnNldENvbnRlbnQoaHRtbF9kZTQ0ZDA2MDIyZDg0YTBiYjdiMmU2MTEzOTY0ZDQzYik7CiAgICAgICAgCgogICAgICAgIGNpcmNsZV9tYXJrZXJfMmY1ODZjNjhmZGJlNDE3ODk2Y2VjMTEyNDQ4YzNhMGYuYmluZFBvcHVwKHBvcHVwX2YyYTllZWY3NTRiNDQyNjM4NmFkMGU1ZjViZGRlZmY4KQogICAgICAgIDsKCiAgICAgICAgCiAgICAKICAgIAogICAgICAgICAgICB2YXIgY2lyY2xlX21hcmtlcl8wZTU4ZDBkMTExMDg0YTI5OWU4N2EzN2VjODNhM2IzNCA9IEwuY2lyY2xlTWFya2VyKAogICAgICAgICAgICAgICAgWzQzLjY4OTU3NDMsIC03OS4zODMxNTk5MDAwMDAwMV0sCiAgICAgICAgICAgICAgICB7ImJ1YmJsaW5nTW91c2VFdmVudHMiOiB0cnVlLCAiY29sb3IiOiAiYmx1ZSIsICJkYXNoQXJyYXkiOiBudWxsLCAiZGFzaE9mZnNldCI6IG51bGwsICJmaWxsIjogdHJ1ZSwgImZpbGxDb2xvciI6ICIjMzE4NmNjIiwgImZpbGxPcGFjaXR5IjogMC43LCAiZmlsbFJ1bGUiOiAiZXZlbm9kZCIsICJsaW5lQ2FwIjogInJvdW5kIiwgImxpbmVKb2luIjogInJvdW5kIiwgIm9wYWNpdHkiOiAxLjAsICJyYWRpdXMiOiA1LCAic3Ryb2tlIjogdHJ1ZSwgIndlaWdodCI6IDN9CiAgICAgICAgICAgICkuYWRkVG8obWFwXzdiOWE2OTMwYWNhMDQ2NTNiMjMyNWVkNDk4OTMzNDFmKTsKICAgICAgICAKICAgIAogICAgICAgIHZhciBwb3B1cF9hZGYxNTNiN2VjMGQ0Zjc1YjRmYjk4MGU3ZjQ5YmQ5OSA9IEwucG9wdXAoeyJtYXhXaWR0aCI6ICIxMDAlIn0pOwoKICAgICAgICAKICAgICAgICAgICAgdmFyIGh0bWxfODNjYzI1ZGM2N2UyNGQ4Zjk5MGJjZmM1MWUyOWEwNTIgPSAkKGA8ZGl2IGlkPSJodG1sXzgzY2MyNWRjNjdlMjRkOGY5OTBiY2ZjNTFlMjlhMDUyIiBzdHlsZT0id2lkdGg6IDEwMC4wJTsgaGVpZ2h0OiAxMDAuMCU7Ij5Nb29yZSBQYXJrLCBTdW1tZXJoaWxsIEVhc3QsIENlbnRyYWwgVG9yb250bzwvZGl2PmApWzBdOwogICAgICAgICAgICBwb3B1cF9hZGYxNTNiN2VjMGQ0Zjc1YjRmYjk4MGU3ZjQ5YmQ5OS5zZXRDb250ZW50KGh0bWxfODNjYzI1ZGM2N2UyNGQ4Zjk5MGJjZmM1MWUyOWEwNTIpOwogICAgICAgIAoKICAgICAgICBjaXJjbGVfbWFya2VyXzBlNThkMGQxMTEwODRhMjk5ZTg3YTM3ZWM4M2EzYjM0LmJpbmRQb3B1cChwb3B1cF9hZGYxNTNiN2VjMGQ0Zjc1YjRmYjk4MGU3ZjQ5YmQ5OSkKICAgICAgICA7CgogICAgICAgIAogICAgCiAgICAKICAgICAgICAgICAgdmFyIGNpcmNsZV9tYXJrZXJfYzJmYjg1MDk5ZjVkNDg1ZGJlMTRhMzIxMjJlZDIxN2MgPSBMLmNpcmNsZU1hcmtlcigKICAgICAgICAgICAgICAgIFs0My42NTMyMDU3LCAtNzkuNDAwMDQ5M10sCiAgICAgICAgICAgICAgICB7ImJ1YmJsaW5nTW91c2VFdmVudHMiOiB0cnVlLCAiY29sb3IiOiAiYmx1ZSIsICJkYXNoQXJyYXkiOiBudWxsLCAiZGFzaE9mZnNldCI6IG51bGwsICJmaWxsIjogdHJ1ZSwgImZpbGxDb2xvciI6ICIjMzE4NmNjIiwgImZpbGxPcGFjaXR5IjogMC43LCAiZmlsbFJ1bGUiOiAiZXZlbm9kZCIsICJsaW5lQ2FwIjogInJvdW5kIiwgImxpbmVKb2luIjogInJvdW5kIiwgIm9wYWNpdHkiOiAxLjAsICJyYWRpdXMiOiA1LCAic3Ryb2tlIjogdHJ1ZSwgIndlaWdodCI6IDN9CiAgICAgICAgICAgICkuYWRkVG8obWFwXzdiOWE2OTMwYWNhMDQ2NTNiMjMyNWVkNDk4OTMzNDFmKTsKICAgICAgICAKICAgIAogICAgICAgIHZhciBwb3B1cF8yMjMyMTY4Y2M2MmU0ZDk4YTU5MjMwODMwNmU5MjgwYyA9IEwucG9wdXAoeyJtYXhXaWR0aCI6ICIxMDAlIn0pOwoKICAgICAgICAKICAgICAgICAgICAgdmFyIGh0bWxfNGYzNTJlYTE0OGM1NGE4ZTgyODExNTNjYzkwMTdjZDMgPSAkKGA8ZGl2IGlkPSJodG1sXzRmMzUyZWExNDhjNTRhOGU4MjgxMTUzY2M5MDE3Y2QzIiBzdHlsZT0id2lkdGg6IDEwMC4wJTsgaGVpZ2h0OiAxMDAuMCU7Ij5LZW5zaW5ndG9uIE1hcmtldCwgQ2hpbmF0b3duLCBHcmFuZ2UgUGFyaywgRG93bnRvd24gVG9yb250bzwvZGl2PmApWzBdOwogICAgICAgICAgICBwb3B1cF8yMjMyMTY4Y2M2MmU0ZDk4YTU5MjMwODMwNmU5MjgwYy5zZXRDb250ZW50KGh0bWxfNGYzNTJlYTE0OGM1NGE4ZTgyODExNTNjYzkwMTdjZDMpOwogICAgICAgIAoKICAgICAgICBjaXJjbGVfbWFya2VyX2MyZmI4NTA5OWY1ZDQ4NWRiZTE0YTMyMTIyZWQyMTdjLmJpbmRQb3B1cChwb3B1cF8yMjMyMTY4Y2M2MmU0ZDk4YTU5MjMwODMwNmU5MjgwYykKICAgICAgICA7CgogICAgICAgIAogICAgCiAgICAKICAgICAgICAgICAgdmFyIGNpcmNsZV9tYXJrZXJfODFiZGRlMTk3YWUxNDI0OTg2MjgxZDNjNzlhM2Y2ZGYgPSBMLmNpcmNsZU1hcmtlcigKICAgICAgICAgICAgICAgIFs0My44MTUyNTIyLCAtNzkuMjg0NTc3Ml0sCiAgICAgICAgICAgICAgICB7ImJ1YmJsaW5nTW91c2VFdmVudHMiOiB0cnVlLCAiY29sb3IiOiAiYmx1ZSIsICJkYXNoQXJyYXkiOiBudWxsLCAiZGFzaE9mZnNldCI6IG51bGwsICJmaWxsIjogdHJ1ZSwgImZpbGxDb2xvciI6ICIjMzE4NmNjIiwgImZpbGxPcGFjaXR5IjogMC43LCAiZmlsbFJ1bGUiOiAiZXZlbm9kZCIsICJsaW5lQ2FwIjogInJvdW5kIiwgImxpbmVKb2luIjogInJvdW5kIiwgIm9wYWNpdHkiOiAxLjAsICJyYWRpdXMiOiA1LCAic3Ryb2tlIjogdHJ1ZSwgIndlaWdodCI6IDN9CiAgICAgICAgICAgICkuYWRkVG8obWFwXzdiOWE2OTMwYWNhMDQ2NTNiMjMyNWVkNDk4OTMzNDFmKTsKICAgICAgICAKICAgIAogICAgICAgIHZhciBwb3B1cF82MGJiMTVmMzc5YTI0ODc4YjFjNDFlZGE1Yjg4NmU5ZSA9IEwucG9wdXAoeyJtYXhXaWR0aCI6ICIxMDAlIn0pOwoKICAgICAgICAKICAgICAgICAgICAgdmFyIGh0bWxfZjAwMDc3M2Y4MGY0NDMxZDg5MGFjMjVlOGRlNmM3ZDcgPSAkKGA8ZGl2IGlkPSJodG1sX2YwMDA3NzNmODBmNDQzMWQ4OTBhYzI1ZThkZTZjN2Q3IiBzdHlsZT0id2lkdGg6IDEwMC4wJTsgaGVpZ2h0OiAxMDAuMCU7Ij5NaWxsaWtlbiwgQWdpbmNvdXJ0IE5vcnRoLCBTdGVlbGVzIEVhc3QsIEwmIzM5O0Ftb3JlYXV4IEVhc3QsIFNjYXJib3JvdWdoPC9kaXY+YClbMF07CiAgICAgICAgICAgIHBvcHVwXzYwYmIxNWYzNzlhMjQ4NzhiMWM0MWVkYTViODg2ZTllLnNldENvbnRlbnQoaHRtbF9mMDAwNzczZjgwZjQ0MzFkODkwYWMyNWU4ZGU2YzdkNyk7CiAgICAgICAgCgogICAgICAgIGNpcmNsZV9tYXJrZXJfODFiZGRlMTk3YWUxNDI0OTg2MjgxZDNjNzlhM2Y2ZGYuYmluZFBvcHVwKHBvcHVwXzYwYmIxNWYzNzlhMjQ4NzhiMWM0MWVkYTViODg2ZTllKQogICAgICAgIDsKCiAgICAgICAgCiAgICAKICAgIAogICAgICAgICAgICB2YXIgY2lyY2xlX21hcmtlcl80YzJlYWI5ZjZmMjY0MjgxYmEyYzhlNDc1YTY1N2NmYyA9IEwuY2lyY2xlTWFya2VyKAogICAgICAgICAgICAgICAgWzQzLjY4NjQxMjI5OTk5OTk5LCAtNzkuNDAwMDQ5M10sCiAgICAgICAgICAgICAgICB7ImJ1YmJsaW5nTW91c2VFdmVudHMiOiB0cnVlLCAiY29sb3IiOiAiYmx1ZSIsICJkYXNoQXJyYXkiOiBudWxsLCAiZGFzaE9mZnNldCI6IG51bGwsICJmaWxsIjogdHJ1ZSwgImZpbGxDb2xvciI6ICIjMzE4NmNjIiwgImZpbGxPcGFjaXR5IjogMC43LCAiZmlsbFJ1bGUiOiAiZXZlbm9kZCIsICJsaW5lQ2FwIjogInJvdW5kIiwgImxpbmVKb2luIjogInJvdW5kIiwgIm9wYWNpdHkiOiAxLjAsICJyYWRpdXMiOiA1LCAic3Ryb2tlIjogdHJ1ZSwgIndlaWdodCI6IDN9CiAgICAgICAgICAgICkuYWRkVG8obWFwXzdiOWE2OTMwYWNhMDQ2NTNiMjMyNWVkNDk4OTMzNDFmKTsKICAgICAgICAKICAgIAogICAgICAgIHZhciBwb3B1cF85MjYwYWVmNzZhNmY0MTljYmYwODVkMTMxZWQ0ODUxZCA9IEwucG9wdXAoeyJtYXhXaWR0aCI6ICIxMDAlIn0pOwoKICAgICAgICAKICAgICAgICAgICAgdmFyIGh0bWxfYzk4MTJlMjRlZThmNGE1Nzg2NzZkNjAzMTE3Y2JhYTQgPSAkKGA8ZGl2IGlkPSJodG1sX2M5ODEyZTI0ZWU4ZjRhNTc4Njc2ZDYwMzExN2NiYWE0IiBzdHlsZT0id2lkdGg6IDEwMC4wJTsgaGVpZ2h0OiAxMDAuMCU7Ij5TdW1tZXJoaWxsIFdlc3QsIFJhdGhuZWxseSwgU291dGggSGlsbCwgRm9yZXN0IEhpbGwgU0UsIERlZXIgUGFyaywgQ2VudHJhbCBUb3JvbnRvPC9kaXY+YClbMF07CiAgICAgICAgICAgIHBvcHVwXzkyNjBhZWY3NmE2ZjQxOWNiZjA4NWQxMzFlZDQ4NTFkLnNldENvbnRlbnQoaHRtbF9jOTgxMmUyNGVlOGY0YTU3ODY3NmQ2MDMxMTdjYmFhNCk7CiAgICAgICAgCgogICAgICAgIGNpcmNsZV9tYXJrZXJfNGMyZWFiOWY2ZjI2NDI4MWJhMmM4ZTQ3NWE2NTdjZmMuYmluZFBvcHVwKHBvcHVwXzkyNjBhZWY3NmE2ZjQxOWNiZjA4NWQxMzFlZDQ4NTFkKQogICAgICAgIDsKCiAgICAgICAgCiAgICAKICAgIAogICAgICAgICAgICB2YXIgY2lyY2xlX21hcmtlcl9iODRiNTY2NDc3NTk0NDVmYWRjYTY3MDkyYWU3MjRjMSA9IEwuY2lyY2xlTWFya2VyKAogICAgICAgICAgICAgICAgWzQzLjYyODk0NjcsIC03OS4zOTQ0MTk5XSwKICAgICAgICAgICAgICAgIHsiYnViYmxpbmdNb3VzZUV2ZW50cyI6IHRydWUsICJjb2xvciI6ICJibHVlIiwgImRhc2hBcnJheSI6IG51bGwsICJkYXNoT2Zmc2V0IjogbnVsbCwgImZpbGwiOiB0cnVlLCAiZmlsbENvbG9yIjogIiMzMTg2Y2MiLCAiZmlsbE9wYWNpdHkiOiAwLjcsICJmaWxsUnVsZSI6ICJldmVub2RkIiwgImxpbmVDYXAiOiAicm91bmQiLCAibGluZUpvaW4iOiAicm91bmQiLCAib3BhY2l0eSI6IDEuMCwgInJhZGl1cyI6IDUsICJzdHJva2UiOiB0cnVlLCAid2VpZ2h0IjogM30KICAgICAgICAgICAgKS5hZGRUbyhtYXBfN2I5YTY5MzBhY2EwNDY1M2IyMzI1ZWQ0OTg5MzM0MWYpOwogICAgICAgIAogICAgCiAgICAgICAgdmFyIHBvcHVwXzljYjg3NDgyMjhhNTRiOTNhNTU5OTZmM2FkNDY2YzViID0gTC5wb3B1cCh7Im1heFdpZHRoIjogIjEwMCUifSk7CgogICAgICAgIAogICAgICAgICAgICB2YXIgaHRtbF80MGYyYTZjOTVjYTk0ZTA0YTgyNDA5MWU5N2NjOTM3NyA9ICQoYDxkaXYgaWQ9Imh0bWxfNDBmMmE2Yzk1Y2E5NGUwNGE4MjQwOTFlOTdjYzkzNzciIHN0eWxlPSJ3aWR0aDogMTAwLjAlOyBoZWlnaHQ6IDEwMC4wJTsiPkNOIFRvd2VyLCBLaW5nIGFuZCBTcGFkaW5hLCBSYWlsd2F5IExhbmRzLCBIYXJib3VyZnJvbnQgV2VzdCwgQmF0aHVyc3QgUXVheSwgU291dGggTmlhZ2FyYSwgSXNsYW5kIGFpcnBvcnQsIERvd250b3duIFRvcm9udG88L2Rpdj5gKVswXTsKICAgICAgICAgICAgcG9wdXBfOWNiODc0ODIyOGE1NGI5M2E1NTk5NmYzYWQ0NjZjNWIuc2V0Q29udGVudChodG1sXzQwZjJhNmM5NWNhOTRlMDRhODI0MDkxZTk3Y2M5Mzc3KTsKICAgICAgICAKCiAgICAgICAgY2lyY2xlX21hcmtlcl9iODRiNTY2NDc3NTk0NDVmYWRjYTY3MDkyYWU3MjRjMS5iaW5kUG9wdXAocG9wdXBfOWNiODc0ODIyOGE1NGI5M2E1NTk5NmYzYWQ0NjZjNWIpCiAgICAgICAgOwoKICAgICAgICAKICAgIAogICAgCiAgICAgICAgICAgIHZhciBjaXJjbGVfbWFya2VyX2IzYzk2MDk4YWFlNTQ3MzY4MjJiNjg5MjhlZDNiNmQ0ID0gTC5jaXJjbGVNYXJrZXIoCiAgICAgICAgICAgICAgICBbNDMuNjA1NjQ2NiwgLTc5LjUwMTMyMDcwMDAwMDAxXSwKICAgICAgICAgICAgICAgIHsiYnViYmxpbmdNb3VzZUV2ZW50cyI6IHRydWUsICJjb2xvciI6ICJibHVlIiwgImRhc2hBcnJheSI6IG51bGwsICJkYXNoT2Zmc2V0IjogbnVsbCwgImZpbGwiOiB0cnVlLCAiZmlsbENvbG9yIjogIiMzMTg2Y2MiLCAiZmlsbE9wYWNpdHkiOiAwLjcsICJmaWxsUnVsZSI6ICJldmVub2RkIiwgImxpbmVDYXAiOiAicm91bmQiLCAibGluZUpvaW4iOiAicm91bmQiLCAib3BhY2l0eSI6IDEuMCwgInJhZGl1cyI6IDUsICJzdHJva2UiOiB0cnVlLCAid2VpZ2h0IjogM30KICAgICAgICAgICAgKS5hZGRUbyhtYXBfN2I5YTY5MzBhY2EwNDY1M2IyMzI1ZWQ0OTg5MzM0MWYpOwogICAgICAgIAogICAgCiAgICAgICAgdmFyIHBvcHVwX2E3ZTNmZDhmMDUxYzRkZGFhMzZlNDQ5ZjM3NmQyNDJkID0gTC5wb3B1cCh7Im1heFdpZHRoIjogIjEwMCUifSk7CgogICAgICAgIAogICAgICAgICAgICB2YXIgaHRtbF9jZTEwODI2NTI4OTA0YzNmOTZlZmRlOTBkZTM0YjY0OSA9ICQoYDxkaXYgaWQ9Imh0bWxfY2UxMDgyNjUyODkwNGMzZjk2ZWZkZTkwZGUzNGI2NDkiIHN0eWxlPSJ3aWR0aDogMTAwLjAlOyBoZWlnaHQ6IDEwMC4wJTsiPk5ldyBUb3JvbnRvLCBNaW1pY28gU291dGgsIEh1bWJlciBCYXkgU2hvcmVzLCBFdG9iaWNva2U8L2Rpdj5gKVswXTsKICAgICAgICAgICAgcG9wdXBfYTdlM2ZkOGYwNTFjNGRkYWEzNmU0NDlmMzc2ZDI0MmQuc2V0Q29udGVudChodG1sX2NlMTA4MjY1Mjg5MDRjM2Y5NmVmZGU5MGRlMzRiNjQ5KTsKICAgICAgICAKCiAgICAgICAgY2lyY2xlX21hcmtlcl9iM2M5NjA5OGFhZTU0NzM2ODIyYjY4OTI4ZWQzYjZkNC5iaW5kUG9wdXAocG9wdXBfYTdlM2ZkOGYwNTFjNGRkYWEzNmU0NDlmMzc2ZDI0MmQpCiAgICAgICAgOwoKICAgICAgICAKICAgIAogICAgCiAgICAgICAgICAgIHZhciBjaXJjbGVfbWFya2VyXzliMmFjZjYyNTZkZjQ3NGQ4M2U0YzBmYzA4MTBmNTc4ID0gTC5jaXJjbGVNYXJrZXIoCiAgICAgICAgICAgICAgICBbNDMuNzM5NDE2Mzk5OTk5OTk2LCAtNzkuNTg4NDM2OV0sCiAgICAgICAgICAgICAgICB7ImJ1YmJsaW5nTW91c2VFdmVudHMiOiB0cnVlLCAiY29sb3IiOiAiYmx1ZSIsICJkYXNoQXJyYXkiOiBudWxsLCAiZGFzaE9mZnNldCI6IG51bGwsICJmaWxsIjogdHJ1ZSwgImZpbGxDb2xvciI6ICIjMzE4NmNjIiwgImZpbGxPcGFjaXR5IjogMC43LCAiZmlsbFJ1bGUiOiAiZXZlbm9kZCIsICJsaW5lQ2FwIjogInJvdW5kIiwgImxpbmVKb2luIjogInJvdW5kIiwgIm9wYWNpdHkiOiAxLjAsICJyYWRpdXMiOiA1LCAic3Ryb2tlIjogdHJ1ZSwgIndlaWdodCI6IDN9CiAgICAgICAgICAgICkuYWRkVG8obWFwXzdiOWE2OTMwYWNhMDQ2NTNiMjMyNWVkNDk4OTMzNDFmKTsKICAgICAgICAKICAgIAogICAgICAgIHZhciBwb3B1cF83MTRkMDI0ZTUzMjc0ZmU1OGJhYmI4MWNmNzYzYTVkMSA9IEwucG9wdXAoeyJtYXhXaWR0aCI6ICIxMDAlIn0pOwoKICAgICAgICAKICAgICAgICAgICAgdmFyIGh0bWxfZjU1MjlhYTg2NDYyNDE2MDhjZmRiYTg1MWU2NTY4MjUgPSAkKGA8ZGl2IGlkPSJodG1sX2Y1NTI5YWE4NjQ2MjQxNjA4Y2ZkYmE4NTFlNjU2ODI1IiBzdHlsZT0id2lkdGg6IDEwMC4wJTsgaGVpZ2h0OiAxMDAuMCU7Ij5Tb3V0aCBTdGVlbGVzLCBTaWx2ZXJzdG9uZSwgSHVtYmVyZ2F0ZSwgSmFtZXN0b3duLCBNb3VudCBPbGl2ZSwgQmVhdW1vbmQgSGVpZ2h0cywgVGhpc3RsZXRvd24sIEFsYmlvbiBHYXJkZW5zLCBFdG9iaWNva2U8L2Rpdj5gKVswXTsKICAgICAgICAgICAgcG9wdXBfNzE0ZDAyNGU1MzI3NGZlNThiYWJiODFjZjc2M2E1ZDEuc2V0Q29udGVudChodG1sX2Y1NTI5YWE4NjQ2MjQxNjA4Y2ZkYmE4NTFlNjU2ODI1KTsKICAgICAgICAKCiAgICAgICAgY2lyY2xlX21hcmtlcl85YjJhY2Y2MjU2ZGY0NzRkODNlNGMwZmMwODEwZjU3OC5iaW5kUG9wdXAocG9wdXBfNzE0ZDAyNGU1MzI3NGZlNThiYWJiODFjZjc2M2E1ZDEpCiAgICAgICAgOwoKICAgICAgICAKICAgIAogICAgCiAgICAgICAgICAgIHZhciBjaXJjbGVfbWFya2VyX2YzY2Y4MDAzNjJiMzRmM2JhMmI5YTVhZDZmOWM1NTY3ID0gTC5jaXJjbGVNYXJrZXIoCiAgICAgICAgICAgICAgICBbNDMuNzk5NTI1MjAwMDAwMDA1LCAtNzkuMzE4Mzg4N10sCiAgICAgICAgICAgICAgICB7ImJ1YmJsaW5nTW91c2VFdmVudHMiOiB0cnVlLCAiY29sb3IiOiAiYmx1ZSIsICJkYXNoQXJyYXkiOiBudWxsLCAiZGFzaE9mZnNldCI6IG51bGwsICJmaWxsIjogdHJ1ZSwgImZpbGxDb2xvciI6ICIjMzE4NmNjIiwgImZpbGxPcGFjaXR5IjogMC43LCAiZmlsbFJ1bGUiOiAiZXZlbm9kZCIsICJsaW5lQ2FwIjogInJvdW5kIiwgImxpbmVKb2luIjogInJvdW5kIiwgIm9wYWNpdHkiOiAxLjAsICJyYWRpdXMiOiA1LCAic3Ryb2tlIjogdHJ1ZSwgIndlaWdodCI6IDN9CiAgICAgICAgICAgICkuYWRkVG8obWFwXzdiOWE2OTMwYWNhMDQ2NTNiMjMyNWVkNDk4OTMzNDFmKTsKICAgICAgICAKICAgIAogICAgICAgIHZhciBwb3B1cF9hYTY1OTE3YzBhNjY0YzQzYmQ0YjJmMWZjZGJjYjUwMiA9IEwucG9wdXAoeyJtYXhXaWR0aCI6ICIxMDAlIn0pOwoKICAgICAgICAKICAgICAgICAgICAgdmFyIGh0bWxfODc5YmM3ZTg1NWQxNDU4ODgyYjljMGE5OWUzZjE2YzcgPSAkKGA8ZGl2IGlkPSJodG1sXzg3OWJjN2U4NTVkMTQ1ODg4MmI5YzBhOTllM2YxNmM3IiBzdHlsZT0id2lkdGg6IDEwMC4wJTsgaGVpZ2h0OiAxMDAuMCU7Ij5TdGVlbGVzIFdlc3QsIEwmIzM5O0Ftb3JlYXV4IFdlc3QsIFNjYXJib3JvdWdoPC9kaXY+YClbMF07CiAgICAgICAgICAgIHBvcHVwX2FhNjU5MTdjMGE2NjRjNDNiZDRiMmYxZmNkYmNiNTAyLnNldENvbnRlbnQoaHRtbF84NzliYzdlODU1ZDE0NTg4ODJiOWMwYTk5ZTNmMTZjNyk7CiAgICAgICAgCgogICAgICAgIGNpcmNsZV9tYXJrZXJfZjNjZjgwMDM2MmIzNGYzYmEyYjlhNWFkNmY5YzU1NjcuYmluZFBvcHVwKHBvcHVwX2FhNjU5MTdjMGE2NjRjNDNiZDRiMmYxZmNkYmNiNTAyKQogICAgICAgIDsKCiAgICAgICAgCiAgICAKICAgIAogICAgICAgICAgICB2YXIgY2lyY2xlX21hcmtlcl8zOThhYzExNTFlNWE0ZDUxODI0NGE3MmMzMWVkYjgxMiA9IEwuY2lyY2xlTWFya2VyKAogICAgICAgICAgICAgICAgWzQzLjY3OTU2MjYsIC03OS4zNzc1Mjk0MDAwMDAwMV0sCiAgICAgICAgICAgICAgICB7ImJ1YmJsaW5nTW91c2VFdmVudHMiOiB0cnVlLCAiY29sb3IiOiAiYmx1ZSIsICJkYXNoQXJyYXkiOiBudWxsLCAiZGFzaE9mZnNldCI6IG51bGwsICJmaWxsIjogdHJ1ZSwgImZpbGxDb2xvciI6ICIjMzE4NmNjIiwgImZpbGxPcGFjaXR5IjogMC43LCAiZmlsbFJ1bGUiOiAiZXZlbm9kZCIsICJsaW5lQ2FwIjogInJvdW5kIiwgImxpbmVKb2luIjogInJvdW5kIiwgIm9wYWNpdHkiOiAxLjAsICJyYWRpdXMiOiA1LCAic3Ryb2tlIjogdHJ1ZSwgIndlaWdodCI6IDN9CiAgICAgICAgICAgICkuYWRkVG8obWFwXzdiOWE2OTMwYWNhMDQ2NTNiMjMyNWVkNDk4OTMzNDFmKTsKICAgICAgICAKICAgIAogICAgICAgIHZhciBwb3B1cF8yNTJmYTE3YTc4N2E0NDc0YTdjYzUxNWViODM4NjdmMCA9IEwucG9wdXAoeyJtYXhXaWR0aCI6ICIxMDAlIn0pOwoKICAgICAgICAKICAgICAgICAgICAgdmFyIGh0bWxfNTNhMjBjNmY3NmYyNDY0YmE3ZWFhMjY1OGM0ZWRiMjIgPSAkKGA8ZGl2IGlkPSJodG1sXzUzYTIwYzZmNzZmMjQ2NGJhN2VhYTI2NThjNGVkYjIyIiBzdHlsZT0id2lkdGg6IDEwMC4wJTsgaGVpZ2h0OiAxMDAuMCU7Ij5Sb3NlZGFsZSwgRG93bnRvd24gVG9yb250bzwvZGl2PmApWzBdOwogICAgICAgICAgICBwb3B1cF8yNTJmYTE3YTc4N2E0NDc0YTdjYzUxNWViODM4NjdmMC5zZXRDb250ZW50KGh0bWxfNTNhMjBjNmY3NmYyNDY0YmE3ZWFhMjY1OGM0ZWRiMjIpOwogICAgICAgIAoKICAgICAgICBjaXJjbGVfbWFya2VyXzM5OGFjMTE1MWU1YTRkNTE4MjQ0YTcyYzMxZWRiODEyLmJpbmRQb3B1cChwb3B1cF8yNTJmYTE3YTc4N2E0NDc0YTdjYzUxNWViODM4NjdmMCkKICAgICAgICA7CgogICAgICAgIAogICAgCiAgICAKICAgICAgICAgICAgdmFyIGNpcmNsZV9tYXJrZXJfMDVkYTkzNjk3ZGYyNGIwZmJhN2Q4MjI2ZTBhM2ZhNmUgPSBMLmNpcmNsZU1hcmtlcigKICAgICAgICAgICAgICAgIFs0My42NDY0MzUyLCAtNzkuMzc0ODQ1OTk5OTk5OTldLAogICAgICAgICAgICAgICAgeyJidWJibGluZ01vdXNlRXZlbnRzIjogdHJ1ZSwgImNvbG9yIjogImJsdWUiLCAiZGFzaEFycmF5IjogbnVsbCwgImRhc2hPZmZzZXQiOiBudWxsLCAiZmlsbCI6IHRydWUsICJmaWxsQ29sb3IiOiAiIzMxODZjYyIsICJmaWxsT3BhY2l0eSI6IDAuNywgImZpbGxSdWxlIjogImV2ZW5vZGQiLCAibGluZUNhcCI6ICJyb3VuZCIsICJsaW5lSm9pbiI6ICJyb3VuZCIsICJvcGFjaXR5IjogMS4wLCAicmFkaXVzIjogNSwgInN0cm9rZSI6IHRydWUsICJ3ZWlnaHQiOiAzfQogICAgICAgICAgICApLmFkZFRvKG1hcF83YjlhNjkzMGFjYTA0NjUzYjIzMjVlZDQ5ODkzMzQxZik7CiAgICAgICAgCiAgICAKICAgICAgICB2YXIgcG9wdXBfYmJlNzk4N2E3MjUzNGFlZWE1YzJlZGU5MDMwYWQ2OTggPSBMLnBvcHVwKHsibWF4V2lkdGgiOiAiMTAwJSJ9KTsKCiAgICAgICAgCiAgICAgICAgICAgIHZhciBodG1sXzc5NWI1YmQ3NGUwYzQ5YmVhZjRmZjdjZjRjNDhhMzY0ID0gJChgPGRpdiBpZD0iaHRtbF83OTViNWJkNzRlMGM0OWJlYWY0ZmY3Y2Y0YzQ4YTM2NCIgc3R5bGU9IndpZHRoOiAxMDAuMCU7IGhlaWdodDogMTAwLjAlOyI+U3RuIEEgUE8gQm94ZXMsIERvd250b3duIFRvcm9udG88L2Rpdj5gKVswXTsKICAgICAgICAgICAgcG9wdXBfYmJlNzk4N2E3MjUzNGFlZWE1YzJlZGU5MDMwYWQ2OTguc2V0Q29udGVudChodG1sXzc5NWI1YmQ3NGUwYzQ5YmVhZjRmZjdjZjRjNDhhMzY0KTsKICAgICAgICAKCiAgICAgICAgY2lyY2xlX21hcmtlcl8wNWRhOTM2OTdkZjI0YjBmYmE3ZDgyMjZlMGEzZmE2ZS5iaW5kUG9wdXAocG9wdXBfYmJlNzk4N2E3MjUzNGFlZWE1YzJlZGU5MDMwYWQ2OTgpCiAgICAgICAgOwoKICAgICAgICAKICAgIAogICAgCiAgICAgICAgICAgIHZhciBjaXJjbGVfbWFya2VyX2I0ZmFjMmE0NTIwYzRiNjJhYjM1Y2Q0NDdiNGE2YzllID0gTC5jaXJjbGVNYXJrZXIoCiAgICAgICAgICAgICAgICBbNDMuNjAyNDEzNzAwMDAwMDEsIC03OS41NDM0ODQwOTk5OTk5OV0sCiAgICAgICAgICAgICAgICB7ImJ1YmJsaW5nTW91c2VFdmVudHMiOiB0cnVlLCAiY29sb3IiOiAiYmx1ZSIsICJkYXNoQXJyYXkiOiBudWxsLCAiZGFzaE9mZnNldCI6IG51bGwsICJmaWxsIjogdHJ1ZSwgImZpbGxDb2xvciI6ICIjMzE4NmNjIiwgImZpbGxPcGFjaXR5IjogMC43LCAiZmlsbFJ1bGUiOiAiZXZlbm9kZCIsICJsaW5lQ2FwIjogInJvdW5kIiwgImxpbmVKb2luIjogInJvdW5kIiwgIm9wYWNpdHkiOiAxLjAsICJyYWRpdXMiOiA1LCAic3Ryb2tlIjogdHJ1ZSwgIndlaWdodCI6IDN9CiAgICAgICAgICAgICkuYWRkVG8obWFwXzdiOWE2OTMwYWNhMDQ2NTNiMjMyNWVkNDk4OTMzNDFmKTsKICAgICAgICAKICAgIAogICAgICAgIHZhciBwb3B1cF9iNjU3M2I0NzI2YjQ0Y2ZhODBiNDVhOTliN2NjOTY1NSA9IEwucG9wdXAoeyJtYXhXaWR0aCI6ICIxMDAlIn0pOwoKICAgICAgICAKICAgICAgICAgICAgdmFyIGh0bWxfODgyYmQ4ODY1OTliNGQwOGE3NzliMmMxZjI0ZTQ4MzkgPSAkKGA8ZGl2IGlkPSJodG1sXzg4MmJkODg2NTk5YjRkMDhhNzc5YjJjMWYyNGU0ODM5IiBzdHlsZT0id2lkdGg6IDEwMC4wJTsgaGVpZ2h0OiAxMDAuMCU7Ij5BbGRlcndvb2QsIExvbmcgQnJhbmNoLCBFdG9iaWNva2U8L2Rpdj5gKVswXTsKICAgICAgICAgICAgcG9wdXBfYjY1NzNiNDcyNmI0NGNmYTgwYjQ1YTk5YjdjYzk2NTUuc2V0Q29udGVudChodG1sXzg4MmJkODg2NTk5YjRkMDhhNzc5YjJjMWYyNGU0ODM5KTsKICAgICAgICAKCiAgICAgICAgY2lyY2xlX21hcmtlcl9iNGZhYzJhNDUyMGM0YjYyYWIzNWNkNDQ3YjRhNmM5ZS5iaW5kUG9wdXAocG9wdXBfYjY1NzNiNDcyNmI0NGNmYTgwYjQ1YTk5YjdjYzk2NTUpCiAgICAgICAgOwoKICAgICAgICAKICAgIAogICAgCiAgICAgICAgICAgIHZhciBjaXJjbGVfbWFya2VyX2M3NDNiZTdiZTEwODQ0MzBiMGM2YTE3MGFmNzc0YWRmID0gTC5jaXJjbGVNYXJrZXIoCiAgICAgICAgICAgICAgICBbNDMuNzA2NzQ4Mjk5OTk5OTk0LCAtNzkuNTk0MDU0NF0sCiAgICAgICAgICAgICAgICB7ImJ1YmJsaW5nTW91c2VFdmVudHMiOiB0cnVlLCAiY29sb3IiOiAiYmx1ZSIsICJkYXNoQXJyYXkiOiBudWxsLCAiZGFzaE9mZnNldCI6IG51bGwsICJmaWxsIjogdHJ1ZSwgImZpbGxDb2xvciI6ICIjMzE4NmNjIiwgImZpbGxPcGFjaXR5IjogMC43LCAiZmlsbFJ1bGUiOiAiZXZlbm9kZCIsICJsaW5lQ2FwIjogInJvdW5kIiwgImxpbmVKb2luIjogInJvdW5kIiwgIm9wYWNpdHkiOiAxLjAsICJyYWRpdXMiOiA1LCAic3Ryb2tlIjogdHJ1ZSwgIndlaWdodCI6IDN9CiAgICAgICAgICAgICkuYWRkVG8obWFwXzdiOWE2OTMwYWNhMDQ2NTNiMjMyNWVkNDk4OTMzNDFmKTsKICAgICAgICAKICAgIAogICAgICAgIHZhciBwb3B1cF83MGM5ZjkyYjY4YzI0YTFjODIxNTY4OTYxMTU5NzdmMyA9IEwucG9wdXAoeyJtYXhXaWR0aCI6ICIxMDAlIn0pOwoKICAgICAgICAKICAgICAgICAgICAgdmFyIGh0bWxfZjZiOGU0YzYzMGZlNGE2MGI0NTRjMDlhODg3OTYzMWIgPSAkKGA8ZGl2IGlkPSJodG1sX2Y2YjhlNGM2MzBmZTRhNjBiNDU0YzA5YTg4Nzk2MzFiIiBzdHlsZT0id2lkdGg6IDEwMC4wJTsgaGVpZ2h0OiAxMDAuMCU7Ij5Ob3J0aHdlc3QsIFdlc3QgSHVtYmVyIC0gQ2xhaXJ2aWxsZSwgRXRvYmljb2tlPC9kaXY+YClbMF07CiAgICAgICAgICAgIHBvcHVwXzcwYzlmOTJiNjhjMjRhMWM4MjE1Njg5NjExNTk3N2YzLnNldENvbnRlbnQoaHRtbF9mNmI4ZTRjNjMwZmU0YTYwYjQ1NGMwOWE4ODc5NjMxYik7CiAgICAgICAgCgogICAgICAgIGNpcmNsZV9tYXJrZXJfYzc0M2JlN2JlMTA4NDQzMGIwYzZhMTcwYWY3NzRhZGYuYmluZFBvcHVwKHBvcHVwXzcwYzlmOTJiNjhjMjRhMWM4MjE1Njg5NjExNTk3N2YzKQogICAgICAgIDsKCiAgICAgICAgCiAgICAKICAgIAogICAgICAgICAgICB2YXIgY2lyY2xlX21hcmtlcl9lYjM5Mjg1MTIyMTY0NmRiYTg4Y2VkY2EwYTlkOWIxNiA9IEwuY2lyY2xlTWFya2VyKAogICAgICAgICAgICAgICAgWzQzLjgzNjEyNDcwMDAwMDAwNiwgLTc5LjIwNTYzNjA5OTk5OTk5XSwKICAgICAgICAgICAgICAgIHsiYnViYmxpbmdNb3VzZUV2ZW50cyI6IHRydWUsICJjb2xvciI6ICJibHVlIiwgImRhc2hBcnJheSI6IG51bGwsICJkYXNoT2Zmc2V0IjogbnVsbCwgImZpbGwiOiB0cnVlLCAiZmlsbENvbG9yIjogIiMzMTg2Y2MiLCAiZmlsbE9wYWNpdHkiOiAwLjcsICJmaWxsUnVsZSI6ICJldmVub2RkIiwgImxpbmVDYXAiOiAicm91bmQiLCAibGluZUpvaW4iOiAicm91bmQiLCAib3BhY2l0eSI6IDEuMCwgInJhZGl1cyI6IDUsICJzdHJva2UiOiB0cnVlLCAid2VpZ2h0IjogM30KICAgICAgICAgICAgKS5hZGRUbyhtYXBfN2I5YTY5MzBhY2EwNDY1M2IyMzI1ZWQ0OTg5MzM0MWYpOwogICAgICAgIAogICAgCiAgICAgICAgdmFyIHBvcHVwX2VlYTA5YTIzNzljMzRlZDQ4ZWZlNzg4ZDgyYmFjZTMyID0gTC5wb3B1cCh7Im1heFdpZHRoIjogIjEwMCUifSk7CgogICAgICAgIAogICAgICAgICAgICB2YXIgaHRtbF84YjY2MWY2NWJhMjU0OThkYmIyNGVlOTVlMjMxMjc2ZiA9ICQoYDxkaXYgaWQ9Imh0bWxfOGI2NjFmNjViYTI1NDk4ZGJiMjRlZTk1ZTIzMTI3NmYiIHN0eWxlPSJ3aWR0aDogMTAwLjAlOyBoZWlnaHQ6IDEwMC4wJTsiPlVwcGVyIFJvdWdlLCBTY2FyYm9yb3VnaDwvZGl2PmApWzBdOwogICAgICAgICAgICBwb3B1cF9lZWEwOWEyMzc5YzM0ZWQ0OGVmZTc4OGQ4MmJhY2UzMi5zZXRDb250ZW50KGh0bWxfOGI2NjFmNjViYTI1NDk4ZGJiMjRlZTk1ZTIzMTI3NmYpOwogICAgICAgIAoKICAgICAgICBjaXJjbGVfbWFya2VyX2ViMzkyODUxMjIxNjQ2ZGJhODhjZWRjYTBhOWQ5YjE2LmJpbmRQb3B1cChwb3B1cF9lZWEwOWEyMzc5YzM0ZWQ0OGVmZTc4OGQ4MmJhY2UzMikKICAgICAgICA7CgogICAgICAgIAogICAgCiAgICAKICAgICAgICAgICAgdmFyIGNpcmNsZV9tYXJrZXJfOWVmY2ViOWMxZTZkNDg3NTgxYjgzMTA4OTczOTU2NzcgPSBMLmNpcmNsZU1hcmtlcigKICAgICAgICAgICAgICAgIFs0My42Njc5NjcsIC03OS4zNjc2NzUzXSwKICAgICAgICAgICAgICAgIHsiYnViYmxpbmdNb3VzZUV2ZW50cyI6IHRydWUsICJjb2xvciI6ICJibHVlIiwgImRhc2hBcnJheSI6IG51bGwsICJkYXNoT2Zmc2V0IjogbnVsbCwgImZpbGwiOiB0cnVlLCAiZmlsbENvbG9yIjogIiMzMTg2Y2MiLCAiZmlsbE9wYWNpdHkiOiAwLjcsICJmaWxsUnVsZSI6ICJldmVub2RkIiwgImxpbmVDYXAiOiAicm91bmQiLCAibGluZUpvaW4iOiAicm91bmQiLCAib3BhY2l0eSI6IDEuMCwgInJhZGl1cyI6IDUsICJzdHJva2UiOiB0cnVlLCAid2VpZ2h0IjogM30KICAgICAgICAgICAgKS5hZGRUbyhtYXBfN2I5YTY5MzBhY2EwNDY1M2IyMzI1ZWQ0OTg5MzM0MWYpOwogICAgICAgIAogICAgCiAgICAgICAgdmFyIHBvcHVwXzU0MDM0YmRjMjZkODRjZDY4OTBlNGM4N2UzNjQwZjMwID0gTC5wb3B1cCh7Im1heFdpZHRoIjogIjEwMCUifSk7CgogICAgICAgIAogICAgICAgICAgICB2YXIgaHRtbF82NmRkMDc4YTBmZTg0NmU3YjM5OWI1OTY4ZGU3MjUxZCA9ICQoYDxkaXYgaWQ9Imh0bWxfNjZkZDA3OGEwZmU4NDZlN2IzOTliNTk2OGRlNzI1MWQiIHN0eWxlPSJ3aWR0aDogMTAwLjAlOyBoZWlnaHQ6IDEwMC4wJTsiPlN0LiBKYW1lcyBUb3duLCBDYWJiYWdldG93biwgRG93bnRvd24gVG9yb250bzwvZGl2PmApWzBdOwogICAgICAgICAgICBwb3B1cF81NDAzNGJkYzI2ZDg0Y2Q2ODkwZTRjODdlMzY0MGYzMC5zZXRDb250ZW50KGh0bWxfNjZkZDA3OGEwZmU4NDZlN2IzOTliNTk2OGRlNzI1MWQpOwogICAgICAgIAoKICAgICAgICBjaXJjbGVfbWFya2VyXzllZmNlYjljMWU2ZDQ4NzU4MWI4MzEwODk3Mzk1Njc3LmJpbmRQb3B1cChwb3B1cF81NDAzNGJkYzI2ZDg0Y2Q2ODkwZTRjODdlMzY0MGYzMCkKICAgICAgICA7CgogICAgICAgIAogICAgCiAgICAKICAgICAgICAgICAgdmFyIGNpcmNsZV9tYXJrZXJfZDEzZWQ0ZGY2YzRkNDQzZjhkMmRiM2Q2ZTY3ZDM3MGUgPSBMLmNpcmNsZU1hcmtlcigKICAgICAgICAgICAgICAgIFs0My42NDg0MjkyLCAtNzkuMzgyMjgwMl0sCiAgICAgICAgICAgICAgICB7ImJ1YmJsaW5nTW91c2VFdmVudHMiOiB0cnVlLCAiY29sb3IiOiAiYmx1ZSIsICJkYXNoQXJyYXkiOiBudWxsLCAiZGFzaE9mZnNldCI6IG51bGwsICJmaWxsIjogdHJ1ZSwgImZpbGxDb2xvciI6ICIjMzE4NmNjIiwgImZpbGxPcGFjaXR5IjogMC43LCAiZmlsbFJ1bGUiOiAiZXZlbm9kZCIsICJsaW5lQ2FwIjogInJvdW5kIiwgImxpbmVKb2luIjogInJvdW5kIiwgIm9wYWNpdHkiOiAxLjAsICJyYWRpdXMiOiA1LCAic3Ryb2tlIjogdHJ1ZSwgIndlaWdodCI6IDN9CiAgICAgICAgICAgICkuYWRkVG8obWFwXzdiOWE2OTMwYWNhMDQ2NTNiMjMyNWVkNDk4OTMzNDFmKTsKICAgICAgICAKICAgIAogICAgICAgIHZhciBwb3B1cF8zOGVhYTI1YWMyMDY0ODkwYmI1ZTU4Y2M3OGY0MTdmMyA9IEwucG9wdXAoeyJtYXhXaWR0aCI6ICIxMDAlIn0pOwoKICAgICAgICAKICAgICAgICAgICAgdmFyIGh0bWxfNTU4MTExM2YwZDA4NDJiNjg0M2FkNjAzYzFjZGMzZTQgPSAkKGA8ZGl2IGlkPSJodG1sXzU1ODExMTNmMGQwODQyYjY4NDNhZDYwM2MxY2RjM2U0IiBzdHlsZT0id2lkdGg6IDEwMC4wJTsgaGVpZ2h0OiAxMDAuMCU7Ij5GaXJzdCBDYW5hZGlhbiBQbGFjZSwgVW5kZXJncm91bmQgY2l0eSwgRG93bnRvd24gVG9yb250bzwvZGl2PmApWzBdOwogICAgICAgICAgICBwb3B1cF8zOGVhYTI1YWMyMDY0ODkwYmI1ZTU4Y2M3OGY0MTdmMy5zZXRDb250ZW50KGh0bWxfNTU4MTExM2YwZDA4NDJiNjg0M2FkNjAzYzFjZGMzZTQpOwogICAgICAgIAoKICAgICAgICBjaXJjbGVfbWFya2VyX2QxM2VkNGRmNmM0ZDQ0M2Y4ZDJkYjNkNmU2N2QzNzBlLmJpbmRQb3B1cChwb3B1cF8zOGVhYTI1YWMyMDY0ODkwYmI1ZTU4Y2M3OGY0MTdmMykKICAgICAgICA7CgogICAgICAgIAogICAgCiAgICAKICAgICAgICAgICAgdmFyIGNpcmNsZV9tYXJrZXJfM2JmZGFmMjFhZDU2NGJjZWE3N2ZjM2UyNjJjZDc3ODQgPSBMLmNpcmNsZU1hcmtlcigKICAgICAgICAgICAgICAgIFs0My42NTM2NTM2MDAwMDAwMDUsIC03OS41MDY5NDM2XSwKICAgICAgICAgICAgICAgIHsiYnViYmxpbmdNb3VzZUV2ZW50cyI6IHRydWUsICJjb2xvciI6ICJibHVlIiwgImRhc2hBcnJheSI6IG51bGwsICJkYXNoT2Zmc2V0IjogbnVsbCwgImZpbGwiOiB0cnVlLCAiZmlsbENvbG9yIjogIiMzMTg2Y2MiLCAiZmlsbE9wYWNpdHkiOiAwLjcsICJmaWxsUnVsZSI6ICJldmVub2RkIiwgImxpbmVDYXAiOiAicm91bmQiLCAibGluZUpvaW4iOiAicm91bmQiLCAib3BhY2l0eSI6IDEuMCwgInJhZGl1cyI6IDUsICJzdHJva2UiOiB0cnVlLCAid2VpZ2h0IjogM30KICAgICAgICAgICAgKS5hZGRUbyhtYXBfN2I5YTY5MzBhY2EwNDY1M2IyMzI1ZWQ0OTg5MzM0MWYpOwogICAgICAgIAogICAgCiAgICAgICAgdmFyIHBvcHVwXzM4MjY0NWU3YzNjYTQyNDA5ZDI1MGJmMmJlOTgyYzUwID0gTC5wb3B1cCh7Im1heFdpZHRoIjogIjEwMCUifSk7CgogICAgICAgIAogICAgICAgICAgICB2YXIgaHRtbF80ZDc1NzliNDQ5Mzg0NjkxYWMyYTMxODYxMGI2NjNjNSA9ICQoYDxkaXYgaWQ9Imh0bWxfNGQ3NTc5YjQ0OTM4NDY5MWFjMmEzMTg2MTBiNjYzYzUiIHN0eWxlPSJ3aWR0aDogMTAwLjAlOyBoZWlnaHQ6IDEwMC4wJTsiPlRoZSBLaW5nc3dheSwgTW9udGdvbWVyeSBSb2FkLCBPbGQgTWlsbCBOb3J0aCwgRXRvYmljb2tlPC9kaXY+YClbMF07CiAgICAgICAgICAgIHBvcHVwXzM4MjY0NWU3YzNjYTQyNDA5ZDI1MGJmMmJlOTgyYzUwLnNldENvbnRlbnQoaHRtbF80ZDc1NzliNDQ5Mzg0NjkxYWMyYTMxODYxMGI2NjNjNSk7CiAgICAgICAgCgogICAgICAgIGNpcmNsZV9tYXJrZXJfM2JmZGFmMjFhZDU2NGJjZWE3N2ZjM2UyNjJjZDc3ODQuYmluZFBvcHVwKHBvcHVwXzM4MjY0NWU3YzNjYTQyNDA5ZDI1MGJmMmJlOTgyYzUwKQogICAgICAgIDsKCiAgICAgICAgCiAgICAKICAgIAogICAgICAgICAgICB2YXIgY2lyY2xlX21hcmtlcl8wNWNlZTMwOGU2ZWY0NjZiYWI3ZTE2OTk5YzM1MWFjMyA9IEwuY2lyY2xlTWFya2VyKAogICAgICAgICAgICAgICAgWzQzLjY2NTg1OTksIC03OS4zODMxNTk5MDAwMDAwMV0sCiAgICAgICAgICAgICAgICB7ImJ1YmJsaW5nTW91c2VFdmVudHMiOiB0cnVlLCAiY29sb3IiOiAiYmx1ZSIsICJkYXNoQXJyYXkiOiBudWxsLCAiZGFzaE9mZnNldCI6IG51bGwsICJmaWxsIjogdHJ1ZSwgImZpbGxDb2xvciI6ICIjMzE4NmNjIiwgImZpbGxPcGFjaXR5IjogMC43LCAiZmlsbFJ1bGUiOiAiZXZlbm9kZCIsICJsaW5lQ2FwIjogInJvdW5kIiwgImxpbmVKb2luIjogInJvdW5kIiwgIm9wYWNpdHkiOiAxLjAsICJyYWRpdXMiOiA1LCAic3Ryb2tlIjogdHJ1ZSwgIndlaWdodCI6IDN9CiAgICAgICAgICAgICkuYWRkVG8obWFwXzdiOWE2OTMwYWNhMDQ2NTNiMjMyNWVkNDk4OTMzNDFmKTsKICAgICAgICAKICAgIAogICAgICAgIHZhciBwb3B1cF83NGM5MDRjMjYzOGE0N2VjYTNlNzE3YjhlODM5MmI5YSA9IEwucG9wdXAoeyJtYXhXaWR0aCI6ICIxMDAlIn0pOwoKICAgICAgICAKICAgICAgICAgICAgdmFyIGh0bWxfMGI4NGZlYTg1ODM2NDUzNzg0YTEwMGQwMjkxOTE0YmQgPSAkKGA8ZGl2IGlkPSJodG1sXzBiODRmZWE4NTgzNjQ1Mzc4NGExMDBkMDI5MTkxNGJkIiBzdHlsZT0id2lkdGg6IDEwMC4wJTsgaGVpZ2h0OiAxMDAuMCU7Ij5DaHVyY2ggYW5kIFdlbGxlc2xleSwgRG93bnRvd24gVG9yb250bzwvZGl2PmApWzBdOwogICAgICAgICAgICBwb3B1cF83NGM5MDRjMjYzOGE0N2VjYTNlNzE3YjhlODM5MmI5YS5zZXRDb250ZW50KGh0bWxfMGI4NGZlYTg1ODM2NDUzNzg0YTEwMGQwMjkxOTE0YmQpOwogICAgICAgIAoKICAgICAgICBjaXJjbGVfbWFya2VyXzA1Y2VlMzA4ZTZlZjQ2NmJhYjdlMTY5OTljMzUxYWMzLmJpbmRQb3B1cChwb3B1cF83NGM5MDRjMjYzOGE0N2VjYTNlNzE3YjhlODM5MmI5YSkKICAgICAgICA7CgogICAgICAgIAogICAgCiAgICAKICAgICAgICAgICAgdmFyIGNpcmNsZV9tYXJrZXJfMzE3MWRjY2I2ODlmNDcwY2JhZTI0YzUyNmQ0ZDRmM2EgPSBMLmNpcmNsZU1hcmtlcigKICAgICAgICAgICAgICAgIFs0My42NjI3NDM5LCAtNzkuMzIxNTU4XSwKICAgICAgICAgICAgICAgIHsiYnViYmxpbmdNb3VzZUV2ZW50cyI6IHRydWUsICJjb2xvciI6ICJibHVlIiwgImRhc2hBcnJheSI6IG51bGwsICJkYXNoT2Zmc2V0IjogbnVsbCwgImZpbGwiOiB0cnVlLCAiZmlsbENvbG9yIjogIiMzMTg2Y2MiLCAiZmlsbE9wYWNpdHkiOiAwLjcsICJmaWxsUnVsZSI6ICJldmVub2RkIiwgImxpbmVDYXAiOiAicm91bmQiLCAibGluZUpvaW4iOiAicm91bmQiLCAib3BhY2l0eSI6IDEuMCwgInJhZGl1cyI6IDUsICJzdHJva2UiOiB0cnVlLCAid2VpZ2h0IjogM30KICAgICAgICAgICAgKS5hZGRUbyhtYXBfN2I5YTY5MzBhY2EwNDY1M2IyMzI1ZWQ0OTg5MzM0MWYpOwogICAgICAgIAogICAgCiAgICAgICAgdmFyIHBvcHVwXzE0OGEyMGQxYzZkZDRlNDNiNzFmMmQ5ZWM1OTlhN2ZlID0gTC5wb3B1cCh7Im1heFdpZHRoIjogIjEwMCUifSk7CgogICAgICAgIAogICAgICAgICAgICB2YXIgaHRtbF9hMjg3OTlmYzZkMDE0NGQ3ODQzYTdkYmExMTM1MTcwNSA9ICQoYDxkaXYgaWQ9Imh0bWxfYTI4Nzk5ZmM2ZDAxNDRkNzg0M2E3ZGJhMTEzNTE3MDUiIHN0eWxlPSJ3aWR0aDogMTAwLjAlOyBoZWlnaHQ6IDEwMC4wJTsiPkJ1c2luZXNzIHJlcGx5IG1haWwgUHJvY2Vzc2luZyBDZW50cmUsIFNvdXRoIENlbnRyYWwgTGV0dGVyIFByb2Nlc3NpbmcgUGxhbnQgVG9yb250bywgRWFzdCBUb3JvbnRvPC9kaXY+YClbMF07CiAgICAgICAgICAgIHBvcHVwXzE0OGEyMGQxYzZkZDRlNDNiNzFmMmQ5ZWM1OTlhN2ZlLnNldENvbnRlbnQoaHRtbF9hMjg3OTlmYzZkMDE0NGQ3ODQzYTdkYmExMTM1MTcwNSk7CiAgICAgICAgCgogICAgICAgIGNpcmNsZV9tYXJrZXJfMzE3MWRjY2I2ODlmNDcwY2JhZTI0YzUyNmQ0ZDRmM2EuYmluZFBvcHVwKHBvcHVwXzE0OGEyMGQxYzZkZDRlNDNiNzFmMmQ5ZWM1OTlhN2ZlKQogICAgICAgIDsKCiAgICAgICAgCiAgICAKICAgIAogICAgICAgICAgICB2YXIgY2lyY2xlX21hcmtlcl8zZmE0YWU5M2Y1MTM0MGVjOTJiYjBmMTIwZmFlZjY3NiA9IEwuY2lyY2xlTWFya2VyKAogICAgICAgICAgICAgICAgWzQzLjYzNjI1NzksIC03OS40OTg1MDkwOTk5OTk5OV0sCiAgICAgICAgICAgICAgICB7ImJ1YmJsaW5nTW91c2VFdmVudHMiOiB0cnVlLCAiY29sb3IiOiAiYmx1ZSIsICJkYXNoQXJyYXkiOiBudWxsLCAiZGFzaE9mZnNldCI6IG51bGwsICJmaWxsIjogdHJ1ZSwgImZpbGxDb2xvciI6ICIjMzE4NmNjIiwgImZpbGxPcGFjaXR5IjogMC43LCAiZmlsbFJ1bGUiOiAiZXZlbm9kZCIsICJsaW5lQ2FwIjogInJvdW5kIiwgImxpbmVKb2luIjogInJvdW5kIiwgIm9wYWNpdHkiOiAxLjAsICJyYWRpdXMiOiA1LCAic3Ryb2tlIjogdHJ1ZSwgIndlaWdodCI6IDN9CiAgICAgICAgICAgICkuYWRkVG8obWFwXzdiOWE2OTMwYWNhMDQ2NTNiMjMyNWVkNDk4OTMzNDFmKTsKICAgICAgICAKICAgIAogICAgICAgIHZhciBwb3B1cF81OTEyMjg5YzFhNzc0ZWI0OGQ0MWFhOTEyOTE5Y2QwMyA9IEwucG9wdXAoeyJtYXhXaWR0aCI6ICIxMDAlIn0pOwoKICAgICAgICAKICAgICAgICAgICAgdmFyIGh0bWxfZTZjOGQ2NTlhZGY4NDZlZDlhMjRkMjAzN2RjMDFjZWUgPSAkKGA8ZGl2IGlkPSJodG1sX2U2YzhkNjU5YWRmODQ2ZWQ5YTI0ZDIwMzdkYzAxY2VlIiBzdHlsZT0id2lkdGg6IDEwMC4wJTsgaGVpZ2h0OiAxMDAuMCU7Ij5PbGQgTWlsbCBTb3V0aCwgS2luZyYjMzk7cyBNaWxsIFBhcmssIFN1bm55bGVhLCBIdW1iZXIgQmF5LCBNaW1pY28gTkUsIFRoZSBRdWVlbnN3YXkgRWFzdCwgUm95YWwgWW9yayBTb3V0aCBFYXN0LCBLaW5nc3dheSBQYXJrIFNvdXRoIEVhc3QsIEV0b2JpY29rZTwvZGl2PmApWzBdOwogICAgICAgICAgICBwb3B1cF81OTEyMjg5YzFhNzc0ZWI0OGQ0MWFhOTEyOTE5Y2QwMy5zZXRDb250ZW50KGh0bWxfZTZjOGQ2NTlhZGY4NDZlZDlhMjRkMjAzN2RjMDFjZWUpOwogICAgICAgIAoKICAgICAgICBjaXJjbGVfbWFya2VyXzNmYTRhZTkzZjUxMzQwZWM5MmJiMGYxMjBmYWVmNjc2LmJpbmRQb3B1cChwb3B1cF81OTEyMjg5YzFhNzc0ZWI0OGQ0MWFhOTEyOTE5Y2QwMykKICAgICAgICA7CgogICAgICAgIAogICAgCiAgICAKICAgICAgICAgICAgdmFyIGNpcmNsZV9tYXJrZXJfNmZhZTMyYThhOTk2NGQwMjlhNjVkNDhjNGRiYTJkY2QgPSBMLmNpcmNsZU1hcmtlcigKICAgICAgICAgICAgICAgIFs0My42Mjg4NDA4LCAtNzkuNTIwOTk5NDAwMDAwMDFdLAogICAgICAgICAgICAgICAgeyJidWJibGluZ01vdXNlRXZlbnRzIjogdHJ1ZSwgImNvbG9yIjogImJsdWUiLCAiZGFzaEFycmF5IjogbnVsbCwgImRhc2hPZmZzZXQiOiBudWxsLCAiZmlsbCI6IHRydWUsICJmaWxsQ29sb3IiOiAiIzMxODZjYyIsICJmaWxsT3BhY2l0eSI6IDAuNywgImZpbGxSdWxlIjogImV2ZW5vZGQiLCAibGluZUNhcCI6ICJyb3VuZCIsICJsaW5lSm9pbiI6ICJyb3VuZCIsICJvcGFjaXR5IjogMS4wLCAicmFkaXVzIjogNSwgInN0cm9rZSI6IHRydWUsICJ3ZWlnaHQiOiAzfQogICAgICAgICAgICApLmFkZFRvKG1hcF83YjlhNjkzMGFjYTA0NjUzYjIzMjVlZDQ5ODkzMzQxZik7CiAgICAgICAgCiAgICAKICAgICAgICB2YXIgcG9wdXBfMDA2OWI5NjIwZTFjNDQwN2FmNjUwNmE1ZTAxYjdjODAgPSBMLnBvcHVwKHsibWF4V2lkdGgiOiAiMTAwJSJ9KTsKCiAgICAgICAgCiAgICAgICAgICAgIHZhciBodG1sXzlhNzZkMmEzYjA4MTQ5NDg5NzdiYjdkMDhmOWE4Njc4ID0gJChgPGRpdiBpZD0iaHRtbF85YTc2ZDJhM2IwODE0OTQ4OTc3YmI3ZDA4ZjlhODY3OCIgc3R5bGU9IndpZHRoOiAxMDAuMCU7IGhlaWdodDogMTAwLjAlOyI+TWltaWNvIE5XLCBUaGUgUXVlZW5zd2F5IFdlc3QsIFNvdXRoIG9mIEJsb29yLCBLaW5nc3dheSBQYXJrIFNvdXRoIFdlc3QsIFJveWFsIFlvcmsgU291dGggV2VzdCwgRXRvYmljb2tlPC9kaXY+YClbMF07CiAgICAgICAgICAgIHBvcHVwXzAwNjliOTYyMGUxYzQ0MDdhZjY1MDZhNWUwMWI3YzgwLnNldENvbnRlbnQoaHRtbF85YTc2ZDJhM2IwODE0OTQ4OTc3YmI3ZDA4ZjlhODY3OCk7CiAgICAgICAgCgogICAgICAgIGNpcmNsZV9tYXJrZXJfNmZhZTMyYThhOTk2NGQwMjlhNjVkNDhjNGRiYTJkY2QuYmluZFBvcHVwKHBvcHVwXzAwNjliOTYyMGUxYzQ0MDdhZjY1MDZhNWUwMWI3YzgwKQogICAgICAgIDsKCiAgICAgICAgCiAgICAKPC9zY3JpcHQ+ onload=\"this.contentDocument.open();this.contentDocument.write(atob(this.getAttribute('data-html')));this.contentDocument.close();\" allowfullscreen webkitallowfullscreen mozallowfullscreen></iframe></div></div>"
      ],
      "text/plain": [
       "<folium.folium.Map at 0x11b3e6b50>"
      ]
     },
     "execution_count": 183,
     "metadata": {},
     "output_type": "execute_result"
    }
   ],
   "source": [
    "# create map of New York using latitude and longitude values\n",
    "map_toronto = folium.Map(location=[43.753259, -79.329656], zoom_start=10)\n",
    "\n",
    "# add markers to map\n",
    "for lat, lng, borough, neighborhood in zip(df['Latitude'], df['Longitude'], df['Borough'], df['Neighborhood']):\n",
    "    label = '{}, {}'.format(neighborhood, borough)\n",
    "    label = folium.Popup(label, parse_html=True)\n",
    "    folium.CircleMarker(\n",
    "        [lat, lng],\n",
    "        radius=5,\n",
    "        popup=label,\n",
    "        color='blue',\n",
    "        fill=True,\n",
    "        fill_color='#3186cc',\n",
    "        fill_opacity=0.7,\n",
    "        parse_html=False).add_to(map_toronto)  \n",
    "    \n",
    "map_toronto"
   ]
  },
  {
   "cell_type": "markdown",
   "metadata": {},
   "source": [
    "The question is now how to do these neighborhoods cluster. To explore this question we will use data from Foursquare."
   ]
  },
  {
   "cell_type": "markdown",
   "metadata": {},
   "source": [
    "## Generate Venue Data for Neighborhoods"
   ]
  },
  {
   "cell_type": "markdown",
   "metadata": {},
   "source": [
    "We set our credentials for the Foursquare API."
   ]
  },
  {
   "cell_type": "code",
   "execution_count": 195,
   "metadata": {},
   "outputs": [
    {
     "name": "stdout",
     "output_type": "stream",
     "text": [
      "Your credentails:\n",
      "CLIENT_ID: CLIENT_ID\n",
      "CLIENT_SECRET:CLIEND_SECRET\n"
     ]
    }
   ],
   "source": [
    "CLIENT_ID = 'CLIENT_ID' # your Foursquare ID\n",
    "CLIENT_SECRET = 'CLIEND_SECRET' # your Foursquare Secret\n",
    "VERSION = '20180605' # Foursquare API version\n",
    "\n",
    "print('Your credentails:')\n",
    "print('CLIENT_ID: ' + CLIENT_ID)\n",
    "print('CLIENT_SECRET:' + CLIENT_SECRET)"
   ]
  },
  {
   "cell_type": "markdown",
   "metadata": {},
   "source": [
    "Define a function to get the top 100 venues with 500 meteres of neighborhood center. Write the output to a new DataFrame nearby_venues."
   ]
  },
  {
   "cell_type": "code",
   "execution_count": 185,
   "metadata": {},
   "outputs": [],
   "source": [
    "def getNearbyVenues(names, latitudes, longitudes, radius=500):\n",
    "    \n",
    "    LIMIT = 100\n",
    "    venues_list=[]\n",
    "    for name, lat, lng in zip(names, latitudes, longitudes):\n",
    "        print(name)\n",
    "            \n",
    "        # create the API request URL\n",
    "        url = 'https://api.foursquare.com/v2/venues/explore?&client_id={}&client_secret={}&v={}&ll={},{}&radius={}&limit={}'.format(\n",
    "            CLIENT_ID, \n",
    "            CLIENT_SECRET, \n",
    "            VERSION, \n",
    "            lat, \n",
    "            lng, \n",
    "            radius, \n",
    "            LIMIT)\n",
    "            \n",
    "        # make the GET request\n",
    "        results = requests.get(url).json()[\"response\"]['groups'][0]['items']\n",
    "        \n",
    "        # return only relevant information for each nearby venue\n",
    "        venues_list.append([(\n",
    "            name, \n",
    "            lat, \n",
    "            lng, \n",
    "            v['venue']['name'], \n",
    "            v['venue']['location']['lat'], \n",
    "            v['venue']['location']['lng'],  \n",
    "            v['venue']['categories'][0]['name']) for v in results])\n",
    "\n",
    "    nearby_venues = pd.DataFrame([item for venue_list in venues_list for item in venue_list])\n",
    "    nearby_venues.columns = ['Neighborhood', \n",
    "                  'Neighborhood Latitude', \n",
    "                  'Neighborhood Longitude', \n",
    "                  'Venue', \n",
    "                  'Venue Latitude', \n",
    "                  'Venue Longitude', \n",
    "                  'Venue Category']\n",
    "    \n",
    "    return(nearby_venues)"
   ]
  },
  {
   "cell_type": "markdown",
   "metadata": {},
   "source": [
    "Execute the above function."
   ]
  },
  {
   "cell_type": "code",
   "execution_count": 189,
   "metadata": {},
   "outputs": [
    {
     "name": "stdout",
     "output_type": "stream",
     "text": [
      "Parkwoods\n",
      "Victoria Village\n",
      "Regent Park, Harbourfront\n",
      "Lawrence Manor, Lawrence Heights\n",
      "Queen's Park, Ontario Provincial Government\n",
      "Islington Avenue, Humber Valley Village\n",
      "Malvern, Rouge\n",
      "Don Mills\n",
      "Parkview Hill, Woodbine Gardens\n",
      "Garden District, Ryerson\n",
      "Glencairn\n",
      "West Deane Park, Princess Gardens, Martin Grove, Islington, Cloverdale\n",
      "Rouge Hill, Port Union, Highland Creek\n",
      "Don Mills\n",
      "Woodbine Heights\n",
      "St. James Town\n",
      "Humewood-Cedarvale\n",
      "Eringate, Bloordale Gardens, Old Burnhamthorpe, Markland Wood\n",
      "Guildwood, Morningside, West Hill\n",
      "The Beaches\n",
      "Berczy Park\n",
      "Caledonia-Fairbanks\n",
      "Woburn\n",
      "Leaside\n",
      "Central Bay Street\n",
      "Christie\n",
      "Cedarbrae\n",
      "Hillcrest Village\n",
      "Bathurst Manor, Wilson Heights, Downsview North\n",
      "Thorncliffe Park\n",
      "Richmond, Adelaide, King\n",
      "Dufferin, Dovercourt Village\n",
      "Scarborough Village\n",
      "Fairview, Henry Farm, Oriole\n",
      "Northwood Park, York University\n",
      "East Toronto, Broadview North (Old East York)\n",
      "Harbourfront East, Union Station, Toronto Islands\n",
      "Little Portugal, Trinity\n",
      "Kennedy Park, Ionview, East Birchmount Park\n",
      "Bayview Village\n",
      "Downsview\n",
      "The Danforth West, Riverdale\n",
      "Toronto Dominion Centre, Design Exchange\n",
      "Brockton, Parkdale Village, Exhibition Place\n",
      "Golden Mile, Clairlea, Oakridge\n",
      "York Mills, Silver Hills\n",
      "Downsview\n",
      "India Bazaar, The Beaches West\n",
      "Commerce Court, Victoria Hotel\n",
      "North Park, Maple Leaf Park, Upwood Park\n",
      "Humber Summit\n",
      "Cliffside, Cliffcrest, Scarborough Village West\n",
      "Willowdale, Newtonbrook\n",
      "Downsview\n",
      "Studio District\n",
      "Bedford Park, Lawrence Manor East\n",
      "Del Ray, Mount Dennis, Keelsdale and Silverthorn\n",
      "Humberlea, Emery\n",
      "Birch Cliff, Cliffside West\n",
      "Willowdale, Willowdale East\n",
      "Downsview\n",
      "Lawrence Park\n",
      "Roselawn\n",
      "Runnymede, The Junction North\n",
      "Weston\n",
      "Dorset Park, Wexford Heights, Scarborough Town Centre\n",
      "York Mills West\n",
      "Davisville North\n",
      "Forest Hill North & West, Forest Hill Road Park\n",
      "High Park, The Junction South\n",
      "Westmount\n",
      "Wexford, Maryvale\n",
      "Willowdale, Willowdale West\n",
      "North Toronto West, Lawrence Park\n",
      "The Annex, North Midtown, Yorkville\n",
      "Parkdale, Roncesvalles\n",
      "Canada Post Gateway Processing Centre\n",
      "Kingsview Village, St. Phillips, Martin Grove Gardens, Richview Gardens\n",
      "Agincourt\n",
      "Davisville\n",
      "University of Toronto, Harbord\n",
      "Runnymede, Swansea\n",
      "Clarks Corners, Tam O'Shanter, Sullivan\n",
      "Moore Park, Summerhill East\n",
      "Kensington Market, Chinatown, Grange Park\n",
      "Milliken, Agincourt North, Steeles East, L'Amoreaux East\n",
      "Summerhill West, Rathnelly, South Hill, Forest Hill SE, Deer Park\n",
      "CN Tower, King and Spadina, Railway Lands, Harbourfront West, Bathurst Quay, South Niagara, Island airport\n",
      "New Toronto, Mimico South, Humber Bay Shores\n",
      "South Steeles, Silverstone, Humbergate, Jamestown, Mount Olive, Beaumond Heights, Thistletown, Albion Gardens\n",
      "Steeles West, L'Amoreaux West\n",
      "Rosedale\n",
      "Stn A PO Boxes\n",
      "Alderwood, Long Branch\n",
      "Northwest, West Humber - Clairville\n",
      "Upper Rouge\n",
      "St. James Town, Cabbagetown\n",
      "First Canadian Place, Underground city\n",
      "The Kingsway, Montgomery Road, Old Mill North\n",
      "Church and Wellesley\n",
      "Business reply mail Processing Centre, South Central Letter Processing Plant Toronto\n",
      "Old Mill South, King's Mill Park, Sunnylea, Humber Bay, Mimico NE, The Queensway East, Royal York South East, Kingsway Park South East\n",
      "Mimico NW, The Queensway West, South of Bloor, Kingsway Park South West, Royal York South West\n"
     ]
    }
   ],
   "source": [
    "toronto_venues = getNearbyVenues(names=df['Neighborhood'],\n",
    "                                   latitudes=df['Latitude'],\n",
    "                                   longitudes=df['Longitude']\n",
    "                                  )"
   ]
  },
  {
   "cell_type": "markdown",
   "metadata": {},
   "source": [
    "Sanity check the DataFrame"
   ]
  },
  {
   "cell_type": "code",
   "execution_count": 190,
   "metadata": {},
   "outputs": [
    {
     "name": "stdout",
     "output_type": "stream",
     "text": [
      "(2132, 7)\n"
     ]
    },
    {
     "data": {
      "text/html": [
       "<div>\n",
       "<style scoped>\n",
       "    .dataframe tbody tr th:only-of-type {\n",
       "        vertical-align: middle;\n",
       "    }\n",
       "\n",
       "    .dataframe tbody tr th {\n",
       "        vertical-align: top;\n",
       "    }\n",
       "\n",
       "    .dataframe thead th {\n",
       "        text-align: right;\n",
       "    }\n",
       "</style>\n",
       "<table border=\"1\" class=\"dataframe\">\n",
       "  <thead>\n",
       "    <tr style=\"text-align: right;\">\n",
       "      <th></th>\n",
       "      <th>Neighborhood</th>\n",
       "      <th>Neighborhood Latitude</th>\n",
       "      <th>Neighborhood Longitude</th>\n",
       "      <th>Venue</th>\n",
       "      <th>Venue Latitude</th>\n",
       "      <th>Venue Longitude</th>\n",
       "      <th>Venue Category</th>\n",
       "    </tr>\n",
       "  </thead>\n",
       "  <tbody>\n",
       "    <tr>\n",
       "      <th>0</th>\n",
       "      <td>Parkwoods</td>\n",
       "      <td>43.753259</td>\n",
       "      <td>-79.329656</td>\n",
       "      <td>Brookbanks Park</td>\n",
       "      <td>43.751976</td>\n",
       "      <td>-79.332140</td>\n",
       "      <td>Park</td>\n",
       "    </tr>\n",
       "    <tr>\n",
       "      <th>1</th>\n",
       "      <td>Parkwoods</td>\n",
       "      <td>43.753259</td>\n",
       "      <td>-79.329656</td>\n",
       "      <td>649 Variety</td>\n",
       "      <td>43.754513</td>\n",
       "      <td>-79.331942</td>\n",
       "      <td>Convenience Store</td>\n",
       "    </tr>\n",
       "    <tr>\n",
       "      <th>2</th>\n",
       "      <td>Parkwoods</td>\n",
       "      <td>43.753259</td>\n",
       "      <td>-79.329656</td>\n",
       "      <td>TTC stop #8380</td>\n",
       "      <td>43.752672</td>\n",
       "      <td>-79.326351</td>\n",
       "      <td>Bus Stop</td>\n",
       "    </tr>\n",
       "    <tr>\n",
       "      <th>3</th>\n",
       "      <td>Parkwoods</td>\n",
       "      <td>43.753259</td>\n",
       "      <td>-79.329656</td>\n",
       "      <td>Variety Store</td>\n",
       "      <td>43.751974</td>\n",
       "      <td>-79.333114</td>\n",
       "      <td>Food &amp; Drink Shop</td>\n",
       "    </tr>\n",
       "    <tr>\n",
       "      <th>4</th>\n",
       "      <td>Victoria Village</td>\n",
       "      <td>43.725882</td>\n",
       "      <td>-79.315572</td>\n",
       "      <td>Victoria Village Arena</td>\n",
       "      <td>43.723481</td>\n",
       "      <td>-79.315635</td>\n",
       "      <td>Hockey Arena</td>\n",
       "    </tr>\n",
       "  </tbody>\n",
       "</table>\n",
       "</div>"
      ],
      "text/plain": [
       "       Neighborhood  Neighborhood Latitude  Neighborhood Longitude  \\\n",
       "0         Parkwoods              43.753259              -79.329656   \n",
       "1         Parkwoods              43.753259              -79.329656   \n",
       "2         Parkwoods              43.753259              -79.329656   \n",
       "3         Parkwoods              43.753259              -79.329656   \n",
       "4  Victoria Village              43.725882              -79.315572   \n",
       "\n",
       "                    Venue  Venue Latitude  Venue Longitude     Venue Category  \n",
       "0         Brookbanks Park       43.751976       -79.332140               Park  \n",
       "1             649 Variety       43.754513       -79.331942  Convenience Store  \n",
       "2          TTC stop #8380       43.752672       -79.326351           Bus Stop  \n",
       "3           Variety Store       43.751974       -79.333114  Food & Drink Shop  \n",
       "4  Victoria Village Arena       43.723481       -79.315635       Hockey Arena  "
      ]
     },
     "execution_count": 190,
     "metadata": {},
     "output_type": "execute_result"
    }
   ],
   "source": [
    "print(toronto_venues.shape)\n",
    "toronto_venues.head()"
   ]
  },
  {
   "cell_type": "markdown",
   "metadata": {},
   "source": [
    "Confirm the number of venues per neighborhood."
   ]
  },
  {
   "cell_type": "code",
   "execution_count": 191,
   "metadata": {},
   "outputs": [
    {
     "data": {
      "text/html": [
       "<div>\n",
       "<style scoped>\n",
       "    .dataframe tbody tr th:only-of-type {\n",
       "        vertical-align: middle;\n",
       "    }\n",
       "\n",
       "    .dataframe tbody tr th {\n",
       "        vertical-align: top;\n",
       "    }\n",
       "\n",
       "    .dataframe thead th {\n",
       "        text-align: right;\n",
       "    }\n",
       "</style>\n",
       "<table border=\"1\" class=\"dataframe\">\n",
       "  <thead>\n",
       "    <tr style=\"text-align: right;\">\n",
       "      <th></th>\n",
       "      <th>Neighborhood Latitude</th>\n",
       "      <th>Neighborhood Longitude</th>\n",
       "      <th>Venue</th>\n",
       "      <th>Venue Latitude</th>\n",
       "      <th>Venue Longitude</th>\n",
       "      <th>Venue Category</th>\n",
       "    </tr>\n",
       "    <tr>\n",
       "      <th>Neighborhood</th>\n",
       "      <th></th>\n",
       "      <th></th>\n",
       "      <th></th>\n",
       "      <th></th>\n",
       "      <th></th>\n",
       "      <th></th>\n",
       "    </tr>\n",
       "  </thead>\n",
       "  <tbody>\n",
       "    <tr>\n",
       "      <th>Agincourt</th>\n",
       "      <td>4</td>\n",
       "      <td>4</td>\n",
       "      <td>4</td>\n",
       "      <td>4</td>\n",
       "      <td>4</td>\n",
       "      <td>4</td>\n",
       "    </tr>\n",
       "    <tr>\n",
       "      <th>Alderwood, Long Branch</th>\n",
       "      <td>10</td>\n",
       "      <td>10</td>\n",
       "      <td>10</td>\n",
       "      <td>10</td>\n",
       "      <td>10</td>\n",
       "      <td>10</td>\n",
       "    </tr>\n",
       "    <tr>\n",
       "      <th>Bathurst Manor, Wilson Heights, Downsview North</th>\n",
       "      <td>23</td>\n",
       "      <td>23</td>\n",
       "      <td>23</td>\n",
       "      <td>23</td>\n",
       "      <td>23</td>\n",
       "      <td>23</td>\n",
       "    </tr>\n",
       "    <tr>\n",
       "      <th>Bayview Village</th>\n",
       "      <td>4</td>\n",
       "      <td>4</td>\n",
       "      <td>4</td>\n",
       "      <td>4</td>\n",
       "      <td>4</td>\n",
       "      <td>4</td>\n",
       "    </tr>\n",
       "    <tr>\n",
       "      <th>Bedford Park, Lawrence Manor East</th>\n",
       "      <td>23</td>\n",
       "      <td>23</td>\n",
       "      <td>23</td>\n",
       "      <td>23</td>\n",
       "      <td>23</td>\n",
       "      <td>23</td>\n",
       "    </tr>\n",
       "    <tr>\n",
       "      <th>...</th>\n",
       "      <td>...</td>\n",
       "      <td>...</td>\n",
       "      <td>...</td>\n",
       "      <td>...</td>\n",
       "      <td>...</td>\n",
       "      <td>...</td>\n",
       "    </tr>\n",
       "    <tr>\n",
       "      <th>Willowdale, Willowdale East</th>\n",
       "      <td>34</td>\n",
       "      <td>34</td>\n",
       "      <td>34</td>\n",
       "      <td>34</td>\n",
       "      <td>34</td>\n",
       "      <td>34</td>\n",
       "    </tr>\n",
       "    <tr>\n",
       "      <th>Willowdale, Willowdale West</th>\n",
       "      <td>6</td>\n",
       "      <td>6</td>\n",
       "      <td>6</td>\n",
       "      <td>6</td>\n",
       "      <td>6</td>\n",
       "      <td>6</td>\n",
       "    </tr>\n",
       "    <tr>\n",
       "      <th>Woburn</th>\n",
       "      <td>5</td>\n",
       "      <td>5</td>\n",
       "      <td>5</td>\n",
       "      <td>5</td>\n",
       "      <td>5</td>\n",
       "      <td>5</td>\n",
       "    </tr>\n",
       "    <tr>\n",
       "      <th>Woodbine Heights</th>\n",
       "      <td>10</td>\n",
       "      <td>10</td>\n",
       "      <td>10</td>\n",
       "      <td>10</td>\n",
       "      <td>10</td>\n",
       "      <td>10</td>\n",
       "    </tr>\n",
       "    <tr>\n",
       "      <th>York Mills West</th>\n",
       "      <td>4</td>\n",
       "      <td>4</td>\n",
       "      <td>4</td>\n",
       "      <td>4</td>\n",
       "      <td>4</td>\n",
       "      <td>4</td>\n",
       "    </tr>\n",
       "  </tbody>\n",
       "</table>\n",
       "<p>94 rows × 6 columns</p>\n",
       "</div>"
      ],
      "text/plain": [
       "                                                 Neighborhood Latitude  \\\n",
       "Neighborhood                                                             \n",
       "Agincourt                                                            4   \n",
       "Alderwood, Long Branch                                              10   \n",
       "Bathurst Manor, Wilson Heights, Downsview North                     23   \n",
       "Bayview Village                                                      4   \n",
       "Bedford Park, Lawrence Manor East                                   23   \n",
       "...                                                                ...   \n",
       "Willowdale, Willowdale East                                         34   \n",
       "Willowdale, Willowdale West                                          6   \n",
       "Woburn                                                               5   \n",
       "Woodbine Heights                                                    10   \n",
       "York Mills West                                                      4   \n",
       "\n",
       "                                                 Neighborhood Longitude  \\\n",
       "Neighborhood                                                              \n",
       "Agincourt                                                             4   \n",
       "Alderwood, Long Branch                                               10   \n",
       "Bathurst Manor, Wilson Heights, Downsview North                      23   \n",
       "Bayview Village                                                       4   \n",
       "Bedford Park, Lawrence Manor East                                    23   \n",
       "...                                                                 ...   \n",
       "Willowdale, Willowdale East                                          34   \n",
       "Willowdale, Willowdale West                                           6   \n",
       "Woburn                                                                5   \n",
       "Woodbine Heights                                                     10   \n",
       "York Mills West                                                       4   \n",
       "\n",
       "                                                 Venue  Venue Latitude  \\\n",
       "Neighborhood                                                             \n",
       "Agincourt                                            4               4   \n",
       "Alderwood, Long Branch                              10              10   \n",
       "Bathurst Manor, Wilson Heights, Downsview North     23              23   \n",
       "Bayview Village                                      4               4   \n",
       "Bedford Park, Lawrence Manor East                   23              23   \n",
       "...                                                ...             ...   \n",
       "Willowdale, Willowdale East                         34              34   \n",
       "Willowdale, Willowdale West                          6               6   \n",
       "Woburn                                               5               5   \n",
       "Woodbine Heights                                    10              10   \n",
       "York Mills West                                      4               4   \n",
       "\n",
       "                                                 Venue Longitude  \\\n",
       "Neighborhood                                                       \n",
       "Agincourt                                                      4   \n",
       "Alderwood, Long Branch                                        10   \n",
       "Bathurst Manor, Wilson Heights, Downsview North               23   \n",
       "Bayview Village                                                4   \n",
       "Bedford Park, Lawrence Manor East                             23   \n",
       "...                                                          ...   \n",
       "Willowdale, Willowdale East                                   34   \n",
       "Willowdale, Willowdale West                                    6   \n",
       "Woburn                                                         5   \n",
       "Woodbine Heights                                              10   \n",
       "York Mills West                                                4   \n",
       "\n",
       "                                                 Venue Category  \n",
       "Neighborhood                                                     \n",
       "Agincourt                                                     4  \n",
       "Alderwood, Long Branch                                       10  \n",
       "Bathurst Manor, Wilson Heights, Downsview North              23  \n",
       "Bayview Village                                               4  \n",
       "Bedford Park, Lawrence Manor East                            23  \n",
       "...                                                         ...  \n",
       "Willowdale, Willowdale East                                  34  \n",
       "Willowdale, Willowdale West                                   6  \n",
       "Woburn                                                        5  \n",
       "Woodbine Heights                                             10  \n",
       "York Mills West                                               4  \n",
       "\n",
       "[94 rows x 6 columns]"
      ]
     },
     "execution_count": 191,
     "metadata": {},
     "output_type": "execute_result"
    }
   ],
   "source": [
    "toronto_venues.groupby('Neighborhood').count()"
   ]
  },
  {
   "cell_type": "markdown",
   "metadata": {},
   "source": [
    "Check how many unique venue categories."
   ]
  },
  {
   "cell_type": "code",
   "execution_count": 193,
   "metadata": {},
   "outputs": [
    {
     "name": "stdout",
     "output_type": "stream",
     "text": [
      "There are 271 uniques categories.\n"
     ]
    }
   ],
   "source": [
    "print('There are {} uniques categories.'.format(len(toronto_venues['Venue Category'].unique())))"
   ]
  },
  {
   "cell_type": "markdown",
   "metadata": {},
   "source": [
    "Cache data locally to avoid hammering the API."
   ]
  },
  {
   "cell_type": "code",
   "execution_count": 194,
   "metadata": {},
   "outputs": [],
   "source": [
    "toronto_venues.to_csv('toronto_venues.csv', encoding='utf-8', index = False)"
   ]
  },
  {
   "cell_type": "markdown",
   "metadata": {},
   "source": [
    "## Cluster Neighborhoods on Venue Data"
   ]
  },
  {
   "cell_type": "code",
   "execution_count": null,
   "metadata": {},
   "outputs": [],
   "source": []
  }
 ],
 "metadata": {
  "celltoolbar": "Raw Cell Format",
  "kernelspec": {
   "display_name": "Python 3",
   "language": "python",
   "name": "python3"
  },
  "language_info": {
   "codemirror_mode": {
    "name": "ipython",
    "version": 3
   },
   "file_extension": ".py",
   "mimetype": "text/x-python",
   "name": "python",
   "nbconvert_exporter": "python",
   "pygments_lexer": "ipython3",
   "version": "3.7.4"
  }
 },
 "nbformat": 4,
 "nbformat_minor": 4
}
